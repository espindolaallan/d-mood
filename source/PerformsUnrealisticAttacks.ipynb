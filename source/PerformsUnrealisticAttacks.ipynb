{
 "cells": [
  {
   "cell_type": "markdown",
   "metadata": {},
   "source": [
    "# Functions"
   ]
  },
  {
   "cell_type": "code",
   "execution_count": 31,
   "metadata": {},
   "outputs": [],
   "source": [
    "# Standard library imports\n",
    "import numpy as np\n",
    "import pandas as pd\n",
    "\n",
    "# PyTorch related imports\n",
    "import torch\n",
    "import torch.nn as nn\n",
    "import torch.optim as optim\n",
    "from torch.utils.data import DataLoader, TensorDataset\n",
    "from torch.nn import BCEWithLogitsLoss\n",
    "\n",
    "# Sklearn related imports\n",
    "from sklearn.base import BaseEstimator\n",
    "from sklearn.inspection import permutation_importance\n",
    "from sklearn.metrics import f1_score, roc_auc_score\n",
    "from sklearn.model_selection import train_test_split\n",
    "\n",
    "# Adversarial attack related imports\n",
    "from art.attacks.evasion import FastGradientMethod, ProjectedGradientDescent\n",
    "from art.estimators.classification import PyTorchClassifier\n",
    "\n",
    "# Data visualization imports\n",
    "import matplotlib.pyplot as plt\n",
    "\n",
    "# Other imports\n",
    "import eagerpy as ep\n",
    "from icecream import ic\n",
    "from my_operations import XDecode\n",
    "\n",
    "# Custom module imports (if these are custom modules)\n",
    "from EspPipeML import esp_utilities\n",
    "\n",
    "\n",
    "from sklearn.model_selection import StratifiedShuffleSplit\n",
    "from fastai.tabular.all import *\n",
    "\n",
    "class MLP(nn.Module):\n",
    "    def __init__(self, input_dim):\n",
    "        super(MLP, self).__init__()\n",
    "        self.fc1 = nn.Linear(input_dim, 100)  # First hidden layer with 100 neurons\n",
    "        self.fc2 = nn.Linear(100, 100)       # Second hidden layer with 100 neurons\n",
    "        self.fc3 = nn.Linear(100, 100)       # Third hidden layer with 100 neurons\n",
    "        self.fc4 = nn.Linear(100, 1)         # Output layer\n",
    "\n",
    "    def forward(self, x):\n",
    "        x = torch.relu(self.fc1(x))         # Activation for first hidden layer\n",
    "        x = torch.relu(self.fc2(x))         # Activation for second hidden layer\n",
    "        x = torch.relu(self.fc3(x))         # Activation for third hidden layer\n",
    "        x = self.fc4(x)                      # Output layer\n",
    "        return x\n",
    "\n",
    "\n",
    "def predict_with_custom_threshold(model, X, threshold=0.4, return_type='pd.Series'):\n",
    "    \"\"\"\n",
    "    Predict labels for input data using a custom classification threshold.\n",
    "\n",
    "    Parameters:\n",
    "    model (nn.Module): Trained model for prediction.\n",
    "    X (pd.DataFrame): Input features.\n",
    "    threshold (float): Custom threshold for classification.\n",
    "    return_type (str): Type of the returned variable. Options: 'pd.Series', 'ep_tensor', 'float_tensor'.\n",
    "\n",
    "    Returns:\n",
    "    pd.Series or torch.Tensor or eagerpy.tensor.pytorch.PyTorchTensor or original type: Predicted labels.\n",
    "    \"\"\"\n",
    "    model.eval()  # Set the model to evaluation mode\n",
    "    with torch.no_grad():\n",
    "        X_tensor = torch.tensor(X.values, dtype=torch.float32).to('cuda')\n",
    "        outputs = model(X_tensor)\n",
    "\n",
    "        # specific case when the model is from fastai\n",
    "        if len(outputs.shape) > 1:\n",
    "            outputs = outputs[:, 1]\n",
    "\n",
    "        probabilities = torch.sigmoid(outputs)\n",
    "        predictions = (probabilities > threshold).float()  # Apply custom threshold\n",
    "        \n",
    "        if return_type == 'ep_tensor':\n",
    "            return ep.astensor(predictions.numpy().flatten())\n",
    "        elif return_type == 'float_tensor':\n",
    "            return predictions\n",
    "        else:\n",
    "            return pd.Series(predictions.cpu().numpy().flatten())\n",
    "\n",
    "def predict_with_precomputed_outputs(outputs, threshold=0.4, return_type='pd.Series'):\n",
    "    \"\"\"\n",
    "    Predict labels using precomputed model outputs and a custom classification threshold.\n",
    "\n",
    "    Parameters:\n",
    "    outputs (np.ndarray): Precomputed outputs from the model, expected in numpy array format.\n",
    "    threshold (float): Custom threshold for classification.\n",
    "    return_type (str): Type of the returned variable. Options: 'pd.Series', 'ep_tensor', 'float_tensor'.\n",
    "\n",
    "    Returns:\n",
    "    pd.Series or torch.Tensor or eagerpy.tensor.pytorch.PyTorchTensor or original type: Predicted labels.\n",
    "    \"\"\"\n",
    "    # Convert numpy array to torch tensor and apply sigmoid\n",
    "    outputs_tensor = torch.from_numpy(outputs).float()\n",
    "    probabilities = torch.sigmoid(outputs_tensor)\n",
    "    \n",
    "    # Apply custom threshold\n",
    "    predictions = (probabilities > threshold).float()\n",
    "    \n",
    "    # Return in the desired format\n",
    "    if return_type == 'ep_tensor':\n",
    "        return ep.astensor(predictions.numpy().flatten())\n",
    "    elif return_type == 'float_tensor':\n",
    "        return predictions\n",
    "    else:\n",
    "        return pd.Series(predictions.numpy().flatten())\n",
    "\n",
    "def model_evaluation(datasets, model=None, threshold=0.3, detected_attacks_only=False):\n",
    "    \"\"\"\n",
    "    Evaluate the model on given datasets with an option to focus on detected network attacks.\n",
    "\n",
    "    Parameters:\n",
    "    datasets (dict): Datasets for evaluation, structured by evasion attack and epsilon values.\n",
    "    model (nn.Module): The model to be evaluated. If None, precomputed confidences are used.\n",
    "    threshold (float): Threshold for classification.\n",
    "    detected_attacks_only (bool): If True, evaluates only on detected network attacks.\n",
    "\n",
    "    Returns:\n",
    "    dict: Evasion rates for each attack type and epsilon value.\n",
    "    \"\"\"\n",
    "    if model is None:\n",
    "        results = {}\n",
    "        for attack_type in datasets:\n",
    "            evasion_rates = {}\n",
    "            for epsilon in datasets[attack_type]:\n",
    "                df = datasets[attack_type][epsilon].copy(deep=True)\n",
    "                clean_confidence = df['cleanConfidence'].to_numpy()\n",
    "                clean_predictions = predict_with_precomputed_outputs(clean_confidence, threshold=threshold)\n",
    "                df['cleanPred'] = clean_predictions\n",
    "\n",
    "                if detected_attacks_only:\n",
    "                    df = df[df['cleanPred'] == 1]\n",
    "\n",
    "                adv_confidence = df['advConfidence'].to_numpy()\n",
    "                adv_predictions = predict_with_precomputed_outputs(adv_confidence, threshold=threshold)\n",
    "                evasion_rate = compute_evasion_rate(np.ones(len(adv_predictions)), adv_predictions)\n",
    "                evasion_rates[epsilon] = evasion_rate\n",
    "            results[attack_type] = evasion_rates\n",
    "        return results\n",
    "\n",
    "    else:\n",
    "        # Implement model evaluation using attack data\n",
    "        pass\n",
    "\n",
    "def train_mlp(X_train, Y_train, model, num_epochs=100, learning_rate=0.001, batch_size=32, patience=5, val_ratio=0.2):\n",
    "    \"\"\"\n",
    "    Train a multi-layer perceptron (MLP) model with early stopping.\n",
    "\n",
    "    Parameters:\n",
    "    X_train (numpy.ndarray): Training features.\n",
    "    Y_train (numpy.ndarray): Training labels.\n",
    "    model (nn.Module): MLP model to be trained.\n",
    "    num_epochs (int): Number of epochs for training.\n",
    "    learning_rate (float): Learning rate for the optimizer.\n",
    "    batch_size (int): Batch size for data loading.\n",
    "    patience (int): Number of epochs to wait for improvement before stopping.\n",
    "    val_ratio (float): Ratio of training data to be used as validation data.\n",
    "\n",
    "    Returns:\n",
    "    None\n",
    "    \"\"\"\n",
    "    # Splitting training data into training and validation sets\n",
    "    X_train, X_val, Y_train, Y_val = train_test_split(X_train, Y_train, test_size=val_ratio, stratify=Y_train)\n",
    "\n",
    "    # Convert data to PyTorch tensors\n",
    "    X_train = torch.tensor(X_train, dtype=torch.float32).to('cuda')\n",
    "    Y_train = torch.tensor(Y_train, dtype=torch.float32).to('cuda')\n",
    "    X_val = torch.tensor(X_val, dtype=torch.float32).to('cuda')\n",
    "    Y_val = torch.tensor(Y_val, dtype=torch.float32).to('cuda')\n",
    "\n",
    "    # Reshape Y if necessary\n",
    "    Y_train = Y_train.view(Y_train.shape[0], 1)\n",
    "    Y_val = Y_val.view(Y_val.shape[0], 1)\n",
    "\n",
    "    # Create datasets and data loaders\n",
    "    train_dataset = TensorDataset(X_train, Y_train)\n",
    "    train_loader = DataLoader(train_dataset, batch_size=batch_size, shuffle=True)\n",
    "    val_dataset = TensorDataset(X_val, Y_val)\n",
    "    val_loader = DataLoader(val_dataset, batch_size=batch_size, shuffle=False)\n",
    "\n",
    "    # Define loss function and optimizer\n",
    "    criterion = nn.BCEWithLogitsLoss()\n",
    "    optimizer = optim.Adam(model.parameters(), lr=learning_rate)\n",
    "\n",
    "    # Early stopping variables\n",
    "    best_loss = float('inf')\n",
    "    epochs_no_improve = 0\n",
    "\n",
    "    # Training loop\n",
    "    for epoch in range(num_epochs):\n",
    "        model.train()\n",
    "        for inputs, targets in train_loader:\n",
    "            # Forward pass\n",
    "            outputs = model(inputs)\n",
    "            loss = criterion(outputs, targets)\n",
    "\n",
    "            # Backward pass and optimize\n",
    "            optimizer.zero_grad()\n",
    "            loss.backward()\n",
    "            optimizer.step()\n",
    "\n",
    "        # Validation phase\n",
    "        model.eval()\n",
    "        val_loss = 0\n",
    "        with torch.no_grad():\n",
    "            for inputs, targets in val_loader:\n",
    "                outputs = model(inputs)\n",
    "                val_loss += criterion(outputs, targets).item()\n",
    "\n",
    "        val_loss /= len(val_loader)\n",
    "\n",
    "        print(f'Epoch [{epoch+1}/{num_epochs}], Training Loss: {loss.item():.4f}, Validation Loss: {val_loss:.4f}')\n",
    "\n",
    "        # Check for early stopping\n",
    "        if val_loss < best_loss:\n",
    "            best_loss = val_loss\n",
    "            epochs_no_improve = 0\n",
    "        else:\n",
    "            epochs_no_improve += 1\n",
    "            if epochs_no_improve == patience:\n",
    "                print(\"Early stopping triggered\")\n",
    "                break\n",
    "\n",
    "    print(\"Training complete!\")\n",
    "\n",
    "\n",
    "def get_network_attacks(datasetloader, network_attack, model=None, threshold=0.4, clip_range=False, feature_set=None):\n",
    "    \"\"\"\n",
    "    Retrieves network attacks from a dataset loader based on the specified network attack category.\n",
    "    \n",
    "    Parameters:\n",
    "        datasetloader (DatasetLoader): The dataset loader object.\n",
    "        network_attack (str): The network attack category to filter the attacks.\n",
    "        model (object, optional): The machine learning model used for prediction. Defaults to None.\n",
    "        threshold (float, optional): The threshold value for prediction. Defaults to 0.4.\n",
    "        clip_range (bool, optional): Whether to clip the values to 0 and 1. Defaults to False.\n",
    "        feature_set (list, optional): The list of features to include in the selected attacks. Defaults to None.\n",
    "    \n",
    "    Returns:\n",
    "        dict: A dictionary containing the selected network attacks.\n",
    "            - 'X' (DataFrame): The features of the selected attacks.\n",
    "            - 'y' (Series): The labels of the selected attacks.\n",
    "    \"\"\"\n",
    "    # Filter the dataframe to select rows where the label is 1\n",
    "    f = datasetloader.get_full_test_set()\n",
    "    filtered_df = f.loc[f['label'] == 1]\n",
    "    \n",
    "\n",
    "\n",
    "    # Filter the dataframe to select rows according to network_attack variable e.g. 'DoS'\n",
    "    filtered_df = filtered_df.loc[filtered_df['attackCategory'] == network_attack]\n",
    "\n",
    "\n",
    "    # Clip the values to 0 and 1\n",
    "    if clip_range:\n",
    "        filtered_df = filtered_df.drop('attackCategory', axis=1).clip(lower=0, upper=1)\n",
    "    else:\n",
    "        filtered_df = filtered_df.drop('attackCategory', axis=1)\n",
    "\n",
    "\n",
    "    # Resetting the index\n",
    "    filtered_df.reset_index(drop=True, inplace=True)\n",
    "\n",
    "    # Create a dictionary to store the selected attacks\n",
    "    selected_attacks = {}\n",
    "    if feature_set is None:\n",
    "        selected_attacks['X'] = filtered_df.drop('label', axis=1)\n",
    "    else:\n",
    "        selected_attacks['X'] = filtered_df[feature_set]\n",
    "    selected_attacks['y'] = filtered_df['label']\n",
    "    \n",
    "    # Return successfully predicted attacks if model is not None\n",
    "    if model is not None:\n",
    "        y_pred = predict_with_custom_threshold(model, selected_attacks['X'], threshold=threshold)\n",
    "\n",
    "        # Ensure y_pred is a Series and align with selected_attacks['y']\n",
    "        y_pred = pd.Series(y_pred).reset_index(drop=True)\n",
    "\n",
    "        # Filtering where predictions match the actual labels\n",
    "        selected_attacks['X'] = selected_attacks['X'][y_pred == selected_attacks['y']]\n",
    "        selected_attacks['y'] = selected_attacks['y'][y_pred == selected_attacks['y']]\n",
    "\n",
    "    return selected_attacks\n",
    "\n",
    "\n",
    "def compute_evasion_rate(y_true, y_pred):\n",
    "    \"\"\"\n",
    "    Computes the evasion rate for a given set of predictions.\n",
    "    \n",
    "    Parameters:\n",
    "        y_true (Series): The true labels.\n",
    "        y_pred (Series): The predicted labels.\n",
    "    \n",
    "    Returns:\n",
    "        float: The evasion rate.\n",
    "    \"\"\"\n",
    "    # Compute the number of attacks that were successfully evaded\n",
    "    num_attacks_evaded = ((y_true == 1) & (y_pred == 0)).sum()\n",
    "    \n",
    "    # Compute the number of attacks\n",
    "    num_attacks = (y_true == 1).sum()\n",
    "    \n",
    "    # Compute the evasion rate\n",
    "    evasion_rate = num_attacks_evaded / num_attacks\n",
    "    \n",
    "    return evasion_rate\n",
    "\n",
    "\n",
    "class PyTorchToSklearnWrapper(BaseEstimator):\n",
    "    def __init__(self, model):\n",
    "        self.model = model\n",
    "\n",
    "    def fit(self, X, y):\n",
    "        pass\n",
    "\n",
    "    def predict(self, X):\n",
    "        # Using the custom prediction function\n",
    "        return predict_with_custom_threshold(self.model, X, threshold=0.4, return_type='pd.Series')\n",
    "\n",
    "    def score(self, X, y):\n",
    "        predictions = self.predict(X)\n",
    "        # Use 'macro' as an example; you can also try 'micro' or 'weighted'\n",
    "        return f1_score(y, predictions, average='macro')\n",
    "\n",
    "# Assuming `model` is your trained PyTorch model\n",
    "\n",
    "\n",
    "def compute_feature_importance(model, dataset_loader, n_repeats=5, random_state=42, attack_types=None):\n",
    "    \"\"\"\n",
    "    Compute the feature permutation importance for a PyTorch model, with an option to focus on specific network attack types.\n",
    "\n",
    "    Parameters:\n",
    "    model (PyTorch model): Trained PyTorch model.\n",
    "    dataset_loader (DatasetLoader): An instance of DatasetLoader containing the dataset.\n",
    "    n_repeats (int): Number of times to permute a feature.\n",
    "    random_state (int): Random state for reproducibility.\n",
    "    attack_types (list, optional): List of network attack types to include in the analysis.\n",
    "\n",
    "    Returns:\n",
    "    pd.DataFrame: DataFrame with feature names and their importance rankings.\n",
    "    \"\"\"\n",
    "    np.random.seed(random_state)  # For reproducibility\n",
    "\n",
    "    # Create an instance of the wrapper with the trained model\n",
    "    model_wrapper = PyTorchToSklearnWrapper(model)\n",
    "\n",
    "    # Extract test dataset\n",
    "    X_test, y_test, y_test_multiclass = dataset_loader.X_test, dataset_loader.y_test, dataset_loader.y_test_multiclass\n",
    "\n",
    "    if attack_types is not None:\n",
    "        # Reset index to ensure alignment\n",
    "        X_test = X_test.reset_index(drop=True)\n",
    "        y_test = y_test.reset_index(drop=True)\n",
    "        y_test_multiclass = y_test_multiclass.reset_index(drop=True)\n",
    "\n",
    "        # Select instances based on the specified attack types\n",
    "        attack_indices = y_test_multiclass.isin(attack_types)\n",
    "        normal_indices = ~attack_indices\n",
    "\n",
    "        # Balance the dataset with equal number of normal traffic instances\n",
    "        normal_samples = np.random.choice(X_test[normal_indices].index, sum(attack_indices), replace=False)\n",
    "        selected_indices = np.concatenate([np.where(attack_indices)[0], normal_samples])\n",
    "\n",
    "        X_test_selected = X_test.iloc[selected_indices]\n",
    "        y_test_selected = y_test.iloc[selected_indices]\n",
    "    else:\n",
    "        X_test_selected = X_test\n",
    "        y_test_selected = y_test\n",
    "\n",
    "    # Calculate permutation importance on the selected test set\n",
    "    result = permutation_importance(\n",
    "        model_wrapper, X_test_selected, y_test_selected, \n",
    "        n_repeats=n_repeats, random_state=random_state\n",
    "    )\n",
    "\n",
    "    # Create a DataFrame with feature names and importances\n",
    "    importance_df = pd.DataFrame({\n",
    "        'Feature': X_test_selected.columns,\n",
    "        'Importance': result.importances_mean\n",
    "    })\n",
    "\n",
    "    # Sort the DataFrame by importance\n",
    "    importance_df.sort_values(by='Importance', ascending=False, inplace=True)\n",
    "    importance_df.reset_index(drop=True, inplace=True)\n",
    "\n",
    "    return importance_df\n",
    "\n",
    "\n",
    "def perform_incremental_adversarial_attacks(model, dataloader, nw_attack_name='DoS', epsilon=0.4, norm=2, pred_threshold=0.4):\n",
    "\n",
    "    selected_attacks = get_network_attacks(dataloader, network_attack=nw_attack_name, model=None, threshold=None)\n",
    "    x_selected_attacks = selected_attacks['X'].to_numpy().astype(np.float32)\n",
    "    y_selected_attacks = selected_attacks['y'].to_numpy().astype(np.float32)\n",
    "    #y_selected_attacks = y_selected_attacks.reshape(-1, 1)\n",
    "\n",
    "    n_features = x_selected_attacks.shape[1]\n",
    "    feature_perturb_order = compute_feature_importance(model, dataloader, attack_types=['DoS'])['Feature'].tolist()\n",
    "    \n",
    "    classifier = PyTorchClassifier(\n",
    "        model=model,\n",
    "        clip_values=(0, 1),\n",
    "        loss=nn.BCEWithLogitsLoss(),\n",
    "        optimizer=optim.Adam(model.parameters(), lr=0.001),\n",
    "        input_shape=(n_features,),\n",
    "        nb_classes=2,\n",
    "    )\n",
    "\n",
    "    attacks = {\n",
    "        'FGSM': FastGradientMethod(estimator=classifier, eps=epsilon, norm=norm),\n",
    "        'PGD': ProjectedGradientDescent(estimator=classifier, eps=epsilon, verbose=True, norm=norm),\n",
    "    }\n",
    "    # selecting features to be perturbed\n",
    "    mask = np.zeros(n_features, dtype=np.float32)\n",
    "\n",
    "    results = {attack: {} for attack in attacks}\n",
    "    evasion_rates = {attack: {} for attack in attacks}\n",
    "\n",
    "    for feature, ttl_perturbed_features in zip(feature_perturb_order, range(1, n_features+1)):\n",
    "        feature_pos = selected_attacks['X'].columns.get_loc(feature)\n",
    "        mask[feature_pos] = 1\n",
    "\n",
    "        # Step 6: Generate adversarial evasion attacks\n",
    "        for attack_name, attack in attacks.items():\n",
    "\n",
    "            adv = attack.generate(x=x_selected_attacks, mask=mask)\n",
    "\n",
    "            # Step 7: Evaluate the ART classifier on adversarial evasion attacks\n",
    "            predictions_confidense = classifier.predict(adv)\n",
    "            predicted_classes = (predictions_confidense > pred_threshold).astype(int).ravel()\n",
    "\n",
    "            evasion_rate = compute_evasion_rate(y_selected_attacks, predicted_classes)\n",
    "            print(\"{} Evasion Rate on adversarial examples with {} features: {}%\".format(attack_name, ttl_perturbed_features, evasion_rate))\n",
    "\n",
    "            results[attack_name][ttl_perturbed_features] = adv\n",
    "            evasion_rates[attack_name][ttl_perturbed_features] = evasion_rate\n",
    "\n",
    "    return results, evasion_rates\n",
    "\n",
    "def to_one_hot(targets, n_classes=2, dtype=torch.float32):\n",
    "    \"\"\"\n",
    "    Convert targets to one-hot encoding.\n",
    "\n",
    "    Parameters:\n",
    "    targets (pandas.core.series.Series): Array of target labels.\n",
    "    n_classes (int): Number of classes.\n",
    "\n",
    "    Returns:\n",
    "    np array: One-hot encoded targets.\n",
    "    \"\"\"\n",
    "    targets = np.array(targets.astype(int))\n",
    "    one_hot_targets = np.eye(n_classes)[targets]\n",
    "    return one_hot_targets.astype(np.float32)\n",
    "\n",
    "def perform_target_feature_adversarial_attacks(model, dataloader, target_features, nw_attack_name='DoS', epsilons=[0.3, 0.7, 1.0], norm=2, pred_threshold=0.4, fastai_model=False, loss=nn.BCEWithLogitsLoss(), device='cuda', feature_set=None):\n",
    "    selected_attacks = get_network_attacks(dataloader, network_attack=nw_attack_name, model=None, threshold=None, feature_set=feature_set)\n",
    "    features = selected_attacks['X'].columns.tolist()\n",
    "    x_selected_attacks = selected_attacks['X'].to_numpy().astype(np.float32)\n",
    "    model.to(device)\n",
    "\n",
    "    y_selected_attacks = selected_attacks['y'].to_numpy().astype(np.float32)\n",
    "    \n",
    "\n",
    "    #y_selected_attacks = y_selected_attacks.reshape(-1, 1)\n",
    "\n",
    "    n_features = x_selected_attacks.shape[1]\n",
    "\n",
    "    classifier = PyTorchClassifier(\n",
    "        model=model,\n",
    "        clip_values=(0, 1),\n",
    "        loss=loss,\n",
    "        optimizer=optim.Adam(model.parameters(), lr=0.001),\n",
    "        input_shape=(n_features,),\n",
    "        nb_classes=2,\n",
    "    )\n",
    "\n",
    "    # selecting features to be perturbed\n",
    "    mask = np.zeros(n_features, dtype=np.float32)\n",
    "    for feature in target_features:\n",
    "        mask[selected_attacks['X'].columns.get_loc(feature)] = 1\n",
    "\n",
    "    #results = {attack: {} for attack in attacks}\n",
    "    results = {attack: {epsilon: {} for epsilon in epsilons} for attack in ['FGSM', 'PGD']}\n",
    "    evasion_rates = {attack: {epsilon: {} for epsilon in epsilons} for attack in ['FGSM', 'PGD']}\n",
    "    y_logits = classifier.predict(x_selected_attacks)\n",
    "\n",
    "    if fastai_model:\n",
    "                y_logits = y_logits[: , 1:2]\n",
    "    \n",
    "    y_logits_tensor = torch.from_numpy(y_logits).float()\n",
    "    y_conf = torch.sigmoid(y_logits_tensor).numpy()\n",
    "    max_iter = 30\n",
    "    eps_steps = [x/max_iter for x in epsilons]\n",
    "    for epsilon, eps_step in zip(epsilons, eps_steps):\n",
    "        attacks = {\n",
    "            #'FGSM': FastGradientMethod(estimator=classifier, eps=epsilon, norm=norm, num_random_init=0),\n",
    "            'FGSM': FastGradientMethod(estimator=classifier, eps=epsilon, norm=norm, num_random_init=0, minimal=True, eps_step=eps_step),\n",
    "            'PGD': ProjectedGradientDescent(estimator=classifier, eps=epsilon, verbose=True, norm=norm, eps_step=eps_step, num_random_init=0, max_iter=max_iter),\n",
    "            # 'PGD': ProjectedGradientDescentWithLogging(estimator=classifier, eps=epsilon, verbose=True, norm=norm, eps_step=eps_step, num_random_init=0, max_iter=max_iter),\n",
    "        }\n",
    "\n",
    "        # Step 6: Generate adversarial evasion attacks\n",
    "        for attack_name, attack in attacks.items():\n",
    "\n",
    "            adv = attack.generate(x=x_selected_attacks, mask=mask)\n",
    "\n",
    "            # Step 7: Evaluate the ART classifier on adversarial evasion attacks\n",
    "            \n",
    "            logits_adv = classifier.predict(adv)\n",
    "\n",
    "            if fastai_model:\n",
    "                logits_adv = logits_adv[: , 1:2]\n",
    "            \n",
    "            y_conf_adv = torch.sigmoid(torch.from_numpy(logits_adv)).numpy()\n",
    "                \n",
    "            # return predictions_confidense_adv\n",
    "            \n",
    "            predicted_classes_adv = (y_conf_adv > pred_threshold).astype(int).ravel()\n",
    "\n",
    "            \n",
    "            evasion_rate = compute_evasion_rate(y_selected_attacks, predicted_classes_adv)\n",
    "            print(\"{} Evasion Rate on adversarial examples with {} epsilon: {}%\".format(attack_name, epsilon, evasion_rate))\n",
    "\n",
    "            df_adv = pd.DataFrame(adv, columns=features)\n",
    "            df_adv['advConfidence'] = y_conf_adv\n",
    "            df_adv['cleanConfidence'] = y_conf\n",
    "\n",
    "            results[attack_name][epsilon] = df_adv\n",
    "            evasion_rates[attack_name][epsilon] = evasion_rate\n",
    "\n",
    "    return results, evasion_rates\n",
    "\n",
    "\n",
    "def plot_evasion_rates(dict1, dict2, names, figsize=(8, 6)):\n",
    "    \"\"\"\n",
    "    Função ajustada para plotar os evasion rates de dois dicionários.\n",
    "    \n",
    "    :param dict1: Primeiro dicionário com os dados de evasion rates.\n",
    "    :param dict2: Segundo dicionário com os dados de evasion rates.\n",
    "    :param names: Lista com dois elementos, nomes para os conjuntos de dados.\n",
    "    \"\"\"\n",
    "    # Verificando se a lista de nomes tem dois elementos\n",
    "    if len(names) != 2:\n",
    "        raise ValueError(\"A lista de nomes deve conter exatamente dois elementos.\")\n",
    "\n",
    "    # Desempacotando os nomes\n",
    "    name1, name2 = names\n",
    "\n",
    "    # Obtendo os valores de epsilon (assumindo que são os mesmos para FGSM e PGD)\n",
    "    epsilons = list(dict1['FGSM'].keys())\n",
    "\n",
    "    # Plotando os dados do primeiro dicionário\n",
    "    plt.figure(figsize=figsize)\n",
    "    plt.plot(epsilons, list(dict1['FGSM'].values()), label=f'FGSM_{name1}')\n",
    "    plt.plot(epsilons, list(dict1['PGD'].values()), label=f'PGD_{name1}')\n",
    "\n",
    "    # Plotando os dados do segundo dicionário\n",
    "    plt.plot(epsilons, list(dict2['FGSM'].values()), label=f'FGSM_{name2}', linestyle='--')\n",
    "    plt.plot(epsilons, list(dict2['PGD'].values()), label=f'PGD_{name2}', linestyle='--')\n",
    "\n",
    "    # Configurações do gráfico\n",
    "    plt.xticks(epsilons)  # Ajuste para mostrar todos os valores de epsilon no eixo x\n",
    "    plt.xticks(rotation=90)  # Rotacionando os valores do eixo x\n",
    "    plt.xlabel('Epsilon')\n",
    "    plt.ylabel('Evasion Rate')\n",
    "    plt.title('Evasion Rates for FGSM and PGD Attacks')\n",
    "    plt.legend()\n",
    "    plt.grid(True)\n",
    "    plt.show()\n",
    "\n",
    "\n",
    "def plot_evasion_rates_features(evasion_dict):\n",
    "    \"\"\"\n",
    "    Função para plotar os evasion rates com o número de features perturbadas no eixo x.\n",
    "    \n",
    "    :param evasion_dict: Dicionário com os dados de evasion rates.\n",
    "    \"\"\"\n",
    "    # Plotando os dados\n",
    "    plt.plot(list(evasion_dict['FGSM'].keys()), list(evasion_dict['FGSM'].values()), label='FGSM')\n",
    "    plt.plot(list(evasion_dict['PGD'].keys()), list(evasion_dict['PGD'].values()), label='PGD')\n",
    "\n",
    "    # Configurações do gráfico\n",
    "    plt.xlabel('Number of Features Perturbed')\n",
    "    plt.ylabel('Evasion Rate')\n",
    "    plt.title('Evasion Rates for FGSM and PGD Attacks by Feature Count')\n",
    "    plt.legend()\n",
    "    plt.grid(True)\n",
    "    plt.show()\n",
    "\n",
    "\n",
    "def f1_score_binary(inputs, targets):\n",
    "    # Move tensors to CPU and convert to numpy arrays\n",
    "    inputs = inputs.argmax(dim=1).cpu().numpy()\n",
    "    targets = targets.cpu().numpy()\n",
    "    return f1_score(targets, inputs, average='binary', zero_division=0)\n",
    "\n",
    "def stratified_splitter(df, target, valid_pct=0.2):\n",
    "    stratified_split = StratifiedShuffleSplit(n_splits=1, test_size=valid_pct, random_state=42)\n",
    "    for train_index, valid_index in stratified_split.split(df, df[target]):\n",
    "        return list(train_index), list(valid_index)\n",
    "\n",
    "def predict_with_custom_threshold_deep(model, X, threshold=0.5, device='cpu'):\n",
    "\n",
    "    X_tensor = torch.tensor(X.values, dtype=torch.float32).to(device)\n",
    "\n",
    "    with torch.no_grad():\n",
    "        model.eval()\n",
    "        preds = model(X_tensor)[:, 1]\n",
    "\n",
    "    probs = torch.sigmoid(preds)\n",
    "    predictions = (probs > threshold).float()\n",
    "\n",
    "    return pd.Series(predictions.cpu().numpy().flatten())\n",
    "\n",
    "def predict_with_custom_threshold_deep(model, X, threshold=0.5, device='cpu'):\n",
    "    # Criar um tensor vazio para dados categóricos\n",
    "    cat_tensor = torch.tensor([], dtype=torch.int64).reshape(0, 0).to(device)\n",
    "\n",
    "    # Converter as features contínuas para tensor\n",
    "    cont_tensor = torch.tensor(X.values, dtype=torch.float32).to(device)\n",
    "\n",
    "    with torch.no_grad():\n",
    "        model.eval()\n",
    "        # Passar ambos os tensores (categórico e contínuo) para o modelo\n",
    "        preds = model(cat_tensor, cont_tensor)[:, 1]\n",
    "\n",
    "    probs = torch.sigmoid(preds)\n",
    "    predictions = (probs > threshold).float()\n",
    "\n",
    "    return pd.Series(predictions.cpu().numpy().flatten())\n",
    "\n",
    "# Wrapper para adaptar o modelo FastAI ao ART\n",
    "class FastAIARTWrapper(torch.nn.Module):\n",
    "    def __init__(self, fastai_model):\n",
    "        super(FastAIARTWrapper, self).__init__()\n",
    "        self.fastai_model = fastai_model.model\n",
    "\n",
    "    def forward(self, x):\n",
    "        # x é o tensor de entrada esperado pelo ART\n",
    "        # x corresponde ao cont_tensor, enquanto cat_tensor é um tensor vazio\n",
    "        device = next(self.fastai_model.parameters()).device\n",
    "        cat_tensor = torch.tensor([], dtype=torch.int64).reshape(0, 0).to(device)\n",
    "        cont_tensor = x.to(device)\n",
    "\n",
    "        # Passar os tensores pelo modelo FastAI\n",
    "        preds = self.fastai_model(cat_tensor, cont_tensor)\n",
    "\n",
    "        return preds#[:, 1] # return the probabilities of the second class\n",
    "    \n",
    "def get_ga_best_hyperparameters_and_features(clf_name, metric, data_loader, get_metrics=False, specific_solution=None):\n",
    "    \"\"\"\n",
    "    Get the best hyperparameters and features selected by the genetic algorithm for a given classifier and metric.\n",
    "    \"\"\"\n",
    "    # Load the results from the genetic algorithm\n",
    "    results = esp_utilities.load_from_pickle(f'../results/nsga2/feature_selection/unsw-nb15_{clf_name}_{metric}_performance_tracker.pkl')\n",
    "\n",
    "    if specific_solution is None:                            \n",
    "        best_result = min(results.best_result_per_generation)\n",
    "        best_gen_id = results.best_result_per_generation.index(best_result)\n",
    "    else:\n",
    "        best_gen_id = specific_solution    \n",
    "    \n",
    "    if clf_name in ['rf', 'xgb', 'mlp', 'td']:\n",
    "        n_hp = 2\n",
    "    else:\n",
    "        n_hp = 1\n",
    "\n",
    "    xdecode = XDecode(\n",
    "        results.best_per_generation[best_gen_id],\n",
    "        n_hp=n_hp, \n",
    "        clf_name=clf_name, \n",
    "        feature_names=data_loader.X_train.columns.tolist(), \n",
    "        eval=True\n",
    "    )\n",
    "\n",
    "    best_hyperparameters_and_features = {'selected_features_names':  xdecode.selected_feature_names}\n",
    "    \n",
    "\n",
    "    if clf_name in ['dt', 'rf', 'xgb']:\n",
    "        threshold = 0.5\n",
    "        best_hyperparameters_and_features['max_depth'] = int(xdecode.max_depth)\n",
    "\n",
    "        if clf_name in ['rf', 'xgb']:\n",
    "            best_hyperparameters_and_features['n_estimators'] = int(xdecode.n_estimators)\n",
    "    \n",
    "    if clf_name in ['mlp', 'td']:\n",
    "        threshold = 0.3\n",
    "        best_hyperparameters_and_features['n_neurons'] = int(xdecode.n_neurons)\n",
    "        best_hyperparameters_and_features['n_layers'] = int(xdecode.n_layers)\n",
    "\n",
    "\n",
    "\n",
    "\n",
    "    if get_metrics:\n",
    "        metrics = {}\n",
    "        prob = results.best_y_pred_per_generation[0]\n",
    "        y_pred = np.where(prob > threshold, 1, 0)\n",
    "        metrics['attackwise_accuracy'] = esp_utilities.compute_attackwise_accuracy(results.y_true['label'], y_pred, results.y_multi_class['attackCategory'])\n",
    "        metrics['f1_score'] = f1_score(results.y_true['label'], y_pred, average='weighted')\n",
    "        metrics['auc'] = roc_auc_score(results.y_true['label'], prob)\n",
    "        metrics['best_gen'] = best_gen_id\n",
    "        best_hyperparameters_and_features['metrics'] = metrics\n",
    "        # fig, auc_score = plot_roc_curve(results.y_true['label'], prob, title=f'ROC Curve for {clf_name.upper()} - {metric.upper()}')\n",
    "    return best_hyperparameters_and_features\n",
    "\n",
    "from art.summary_writer import SummaryWriter\n",
    "\n",
    "import logging\n",
    "logger = logging.getLogger(__name__)\n",
    "\n",
    "class ProjectedGradientDescentWithLogging(ProjectedGradientDescent):\n",
    "    \"\"\"\n",
    "    Extended Projected Gradient Descent with logging for the number of iterations.\n",
    "    \"\"\"\n",
    "\n",
    "    def __init__(\n",
    "        self,\n",
    "        estimator: Union[\"CLASSIFIER_LOSS_GRADIENTS_TYPE\", \"OBJECT_DETECTOR_TYPE\"],\n",
    "        norm: Union[int, float, str] = np.inf,\n",
    "        eps: Union[int, float, np.ndarray] = 0.3,\n",
    "        eps_step: Union[int, float, np.ndarray] = 0.1,\n",
    "        decay: Optional[float] = None,\n",
    "        max_iter: int = 100,\n",
    "        targeted: bool = False,\n",
    "        num_random_init: int = 0,\n",
    "        batch_size: int = 32,\n",
    "        random_eps: bool = False,\n",
    "        summary_writer: Union[str, bool, SummaryWriter] = False,\n",
    "        verbose: bool = True,\n",
    "    ):\n",
    "        super().__init__(\n",
    "            estimator=estimator,\n",
    "            norm=norm,\n",
    "            eps=eps,\n",
    "            eps_step=eps_step,\n",
    "            decay=decay,\n",
    "            max_iter=max_iter,\n",
    "            targeted=targeted,\n",
    "            num_random_init=num_random_init,\n",
    "            batch_size=batch_size,\n",
    "            random_eps=random_eps,\n",
    "            summary_writer=summary_writer,\n",
    "            verbose=verbose,\n",
    "        )\n",
    "        self.iteration_count = 0\n",
    "\n",
    "    def generate(self, x: np.ndarray, y: Optional[np.ndarray] = None, **kwargs) -> np.ndarray:\n",
    "        self.iteration_count = 0\n",
    "        logger.info(\"Creating adversarial samples.\")\n",
    "        adv_x = super().generate(x=x, y=y, **kwargs)\n",
    "        logger.info(f\"Total number of iterations: {self.iteration_count}\")\n",
    "        return adv_x\n",
    "\n",
    "    def _generate_batch(self, x_batch: np.ndarray, y_batch: np.ndarray) -> np.ndarray:\n",
    "        for i in range(self.max_iter):\n",
    "            self.iteration_count += 1\n",
    "            logger.info(f\"Iteration {self.iteration_count}/{self.max_iter}\")\n",
    "            # Perform one iteration of the attack\n",
    "            x_batch = self._attack._generate_batch(x_batch, y_batch)\n",
    "        return x_batch"
   ]
  },
  {
   "cell_type": "markdown",
   "metadata": {},
   "source": [
    "## Loading variables"
   ]
  },
  {
   "cell_type": "code",
   "execution_count": 2,
   "metadata": {},
   "outputs": [],
   "source": [
    "esp_utilities.fix_seeds(42)\n",
    "unsw_nb15 = esp_utilities.DatasetLoader('unsw-nb15', scale_data=True, scale_on_full_dataset=False)\n",
    "time_based_features = ['activeTimeMaxMilliseconds', 'activeTimeMeanMilliseconds', 'interPacketTimeMillisecondsStdev', 'interPacketTimeSecondsStdev', 'idleMeanMilliseconds', 'interPacketTimeSecondsSumFwd', 'interPacketTimeMillisecondsMax', 'idleMaxMilliseconds', 'interPacketTimeSecondsMax', 'activeTimeStdMilliseconds', 'interPacketTimeMillisecondsSum', 'interPacketTimeSecondsMean', 'interPacketTimeSecondsStdevFwd', 'flowDurationMilliseconds', 'idleStdMilliseconds', 'interPacketTimeMillisecondsSumFwd', 'interPacketTimeSecondsMaxFwd', 'interPacketTimeSecondsMeanFwd', 'interPacketTimeSecondsMaxBwd', 'interPacketTimeSecondsStdevBwd', 'interPacketTimeSecondsMeanBwd', 'interPacketTimeMilliseconds', 'bwdJitterMilliseconds', 'interPacketTimeSecondsSumBwd']\n",
    "volume_based_features = ['minimumIpTotalLength', 'minimumIpTotalLengthFwd', 'minimumIpTotalLengthBwd', 'bwdBytesAvg', 'fwdBytesAvg', 'ipTotalLengthMeanBwd', 'ipTotalLengthMeanFwd', 'packetLenAvg', 'ipTotalLengthMean', 'maximumIpTotalLengthFwd', 'maximumIpTotalLength', 'maximumIpTotalLengthBwd', 'ipTotalLengthStdevBwd', 'octetTotalCountFwd', 'ipTotalLengthFwd', 'ipTotalLengthBwd', 'octetTotalCountBwd', 'packetLen', 'ipTotalLength', 'octetTotalCount', 'ipTotalLengthStdevFwd', 'bwdBytesPerMicroseconds', 'ipTotalLengthVar', 'ipTotalLengthStdev', 'flowBytesByMicroseconds']\n",
    "mixed_features = list(set(time_based_features+volume_based_features))\n"
   ]
  },
  {
   "cell_type": "code",
   "execution_count": 3,
   "metadata": {},
   "outputs": [],
   "source": [
    "DEVICE = 'cuda:0'\n",
    "LAYERS = [100,100]\n",
    "THRESHOLD_LIMIAR = 0.3"
   ]
  },
  {
   "cell_type": "markdown",
   "metadata": {},
   "source": [
    "# Preparing models"
   ]
  },
  {
   "cell_type": "markdown",
   "metadata": {},
   "source": [
    "### Train MLP model and save it"
   ]
  },
  {
   "cell_type": "code",
   "execution_count": 4,
   "metadata": {},
   "outputs": [],
   "source": [
    "def train_mlp_model_and_save_it(data_loader, input_dim, num_layers=3, num_neuron=100, device=DEVICE, ga=False, feature_set=None):\n",
    "    # Load the dataset\n",
    "    unsw_nb15 = data_loader\n",
    "\n",
    "    # Create an instance of the MLP model\n",
    "    if ga:\n",
    "        model = esp_utilities.MLP(\n",
    "        input_dim=input_dim, \n",
    "        num_neurons=num_neuron, \n",
    "        num_layers=num_layers\n",
    "        )\n",
    "    else:\n",
    "        model = MLP(input_dim)\n",
    "    \n",
    "    model.to(device)\n",
    "    model.to(device)\n",
    "\n",
    "    # Train the MLP model\n",
    "    if feature_set is None:\n",
    "        train_mlp(unsw_nb15.X_train.to_numpy(), unsw_nb15.y_train.to_numpy(), model)\n",
    "    else:\n",
    "        train_mlp(unsw_nb15.X_train[feature_set].to_numpy(), unsw_nb15.y_train.to_numpy(), model)\n",
    "\n",
    "    # Save the trained model\n",
    "    if ga:\n",
    "        torch.save(model.state_dict(), 'models/mlp_pytorch_ga_usnw-nb15.pth')\n",
    "    else:\n",
    "        torch.save(model.state_dict(), 'models/mlp_pytorch_default_usnw-nb15.pth')\n",
    "    return model\n",
    "\n",
    "# model = train_mlp_model_and_save_it(data_loader=unsw_nb15, input_dim = unsw_nb15.X_train.shape[1])\n",
    "# mlp_ga_inf = get_ga_best_hyperparameters_and_features('mlp', 'auc', data_loader=unsw_nb15, get_metrics=True)\n",
    "# mlp_ga_layer = mlp_ga_inf['n_layers']\n",
    "# mlp_ga_neuron = mlp_ga_inf['n_neurons']\n",
    "# mlp_ga_feature_set = mlp_ga_inf['selected_features_names']\n",
    "# mlp_ga_input_dim = len(mlp_ga_feature_set)\n",
    "# train_mlp_model_and_save_it(data_loader=unsw_nb15, num_layers=mlp_ga_layer, num_neuron=mlp_ga_neuron, device=DEVICE, ga=True, input_dim=mlp_ga_input_dim, feature_set=mlp_ga_feature_set)"
   ]
  },
  {
   "cell_type": "markdown",
   "metadata": {},
   "source": [
    "### Load trained MLP model"
   ]
  },
  {
   "cell_type": "code",
   "execution_count": 5,
   "metadata": {},
   "outputs": [
    {
     "name": "stdout",
     "output_type": "stream",
     "text": [
      "Carregando modelo de: /mnt/nvme1n1/aespindola/quinta_data_dump/Playground0108/source/models/mlp_pytorch_ga_usnw-nb15.pth\n"
     ]
    }
   ],
   "source": [
    "def load_trained_mlp_model(input_dim, num_layers=3, num_neuron=100, device=DEVICE, ga=False):\n",
    "    # Create an instance of the MLP model\n",
    "    if ga:\n",
    "        model = esp_utilities.MLP(\n",
    "        input_dim=input_dim, \n",
    "        num_neurons=num_neuron, \n",
    "        num_layers=num_layers\n",
    "        )\n",
    "    else:\n",
    "        model = MLP(input_dim)\n",
    "    \n",
    "    # model.to(device)\n",
    "\n",
    "    # Load the pre-trained model weights\n",
    "    if ga:\n",
    "        model.load_state_dict(torch.load('models/mlp_pytorch_ga_usnw-nb15.pth'))\n",
    "    else:\n",
    "        model.load_state_dict(torch.load('models/mlp_pytorch_default_usnw-nb15.pth'))\n",
    "\n",
    "    # Set the model to evaluation mode\n",
    "    model.eval()\n",
    "    model.to(device)\n",
    "\n",
    "    return model\n",
    "\n",
    "# No feature selection\n",
    "mlp_model = load_trained_mlp_model(input_dim=unsw_nb15.X_train.shape[1], device=DEVICE)\n",
    "\n",
    "\n",
    "# Feature selection (GA)\n",
    "mlp_ga_inf = get_ga_best_hyperparameters_and_features('mlp', 'auc', data_loader=unsw_nb15, get_metrics=True)\n",
    "mlp_ga_layer = mlp_ga_inf['n_layers']\n",
    "mlp_ga_neuron = mlp_ga_inf['n_neurons']\n",
    "mlp_ga_feature_set = mlp_ga_inf['selected_features_names']\n",
    "mlp_ga_input_dim = len(mlp_ga_feature_set)\n",
    "mlp_ga_model = esp_utilities.load_trained_mlp_model(input_dim=mlp_ga_input_dim, device=DEVICE, ga=True, num_layers=mlp_ga_layer, num_neuron=mlp_ga_neuron)"
   ]
  },
  {
   "cell_type": "code",
   "execution_count": 6,
   "metadata": {},
   "outputs": [],
   "source": [
    "# mlp_model = esp_utilities.load_trained_mlp_model(input_dim=unsw_nb15.X_train.shape[1], device=DEVICE)\n",
    "# mlp_ga_model = esp_utilities.load_trained_mlp_model(input_dim=mlp_ga_input_dim, device=DEVICE, ga=True, num_layers=mlp_ga_layer, num_neuron=mlp_ga_neuron)"
   ]
  },
  {
   "cell_type": "markdown",
   "metadata": {},
   "source": [
    "### Train Tabular Deep Model and save it "
   ]
  },
  {
   "cell_type": "code",
   "execution_count": 6,
   "metadata": {},
   "outputs": [],
   "source": [
    "def train_tabular_deep_model_and_save_it(loader = None, layers=LAYERS, device=DEVICE, n_layers=None, ga=False, feature_set=None):\n",
    "    # Load the dataset\n",
    "    if loader is None:\n",
    "        unsw_nb15 = esp_utilities.DatasetLoader('unsw-nb15', scale_data=True, scale_on_full_dataset=False)\n",
    "    else:\n",
    "        unsw_nb15 = loader\n",
    "\n",
    "    # Combine the features and target variable into single DataFrames for training and testing\n",
    "    if feature_set is None:\n",
    "        train_df = pd.concat([unsw_nb15.X_train, unsw_nb15.y_train], axis=1)\n",
    "        test_df = pd.concat([unsw_nb15.X_test, unsw_nb15.y_test], axis=1)\n",
    "        # Define your continuous and categorical features\n",
    "        # Since all your features are numerical, you will only have continuous features\n",
    "        cont_names = unsw_nb15.X_train.columns.tolist()  # Assuming X_train is a DataFrame\n",
    "    else:\n",
    "        train_df = pd.concat([unsw_nb15.X_train[feature_set], unsw_nb15.y_train], axis=1)\n",
    "        test_df = pd.concat([unsw_nb15.X_test[feature_set], unsw_nb15.y_test], axis=1)\n",
    "        cont_names = feature_set\n",
    "\n",
    "    train_df['label'] = train_df['label'].astype(float)\n",
    "    test_df['label'] = test_df['label'].astype(float)\n",
    "\n",
    "\n",
    "\n",
    "    \n",
    "    cat_names = []  # No categorical data in your case\n",
    "\n",
    "    # Define your target variable\n",
    "    y_name = 'label'  # Replace 'target' with the name of your target variable in y_train\n",
    "\n",
    "    # Define preprocessing steps using TabularPandas (if any)\n",
    "    procs = []  # No additional preprocessing needed as the data is already normalized\n",
    "\n",
    "\n",
    "    splits = stratified_splitter(train_df, y_name, valid_pct=0.2)\n",
    "    to = TabularPandas(train_df, \n",
    "                    procs=procs, \n",
    "                    cat_names=cat_names, \n",
    "                    cont_names=cont_names, \n",
    "                    y_names=y_name, \n",
    "                    splits=splits, \n",
    "                    y_block=CategoryBlock())  # Use CategoryBlock for classification tasks\n",
    "\n",
    "\n",
    "    # Create DataLoaders with specified device\n",
    "    dls = to.dataloaders(bs=256, device=torch.device(device))\n",
    "\n",
    "\n",
    "    # Create and move the model to the specified device\n",
    "    learn = tabular_learner(dls, layers=layers, metrics=f1_score_binary)\n",
    "    # learn = tabular_learner(dls, layers=layers, metrics=f1_score_binary, y_range=(0,1), n_out=1, loss_func=BCEWithLogitsLoss())\n",
    "    learn.model.to(torch.device(device))\n",
    "\n",
    "\n",
    "     # Train the model\n",
    "    learn.fit_one_cycle(100, 0.001, cbs=[EarlyStoppingCallback(monitor='valid_loss', min_delta=0, patience=5)])\n",
    "    learn.model_dir = 'models'\n",
    "    if ga:\n",
    "        learn.save('deep_'+str(n_layers)+'_fastai_ga_usnw-nb15')\n",
    "    else:\n",
    "        learn.save('deep_'+str(n_layers)+'_fastai_default_usnw-nb15')\n",
    "    return learn, test_df\n",
    "\n",
    "# Baseline model without feature selection\n",
    "# tabular_model, d = train_tabular_deep_model_and_save_it(loader=unsw_nb15, device=DEVICE, n_layers='5_512', layers=[512]*5)\n",
    "\n",
    "# Baseline model with feature selection\n",
    "# td_ga_inf = get_ga_best_hyperparameters_and_features('td', 'auc', data_loader=unsw_nb15, get_metrics=True)\n",
    "# td_ga_layer = td_ga_inf['n_layers']\n",
    "# td_ga_neuron = td_ga_inf['n_neurons']\n",
    "# n_layer_name = str(td_ga_layer) + '_' + str(td_ga_neuron) # e.g. '5_512'\n",
    "# td_ga_feature_set = td_ga_inf['selected_features_names']\n",
    "# # train_tabular_deep_model_and_save_it(loader=unsw_nb15, device=DEVICE, n_layers=n_layer_name, layers=[td_ga_neuron]*td_ga_layer, ga=True, feature_set=td_ga_feature_set)\n",
    "# ic(td_ga_layer, td_ga_neuron, n_layer_name)"
   ]
  },
  {
   "cell_type": "markdown",
   "metadata": {},
   "source": [
    "### Load trained Tabular Deep Model"
   ]
  },
  {
   "cell_type": "code",
   "execution_count": 7,
   "metadata": {},
   "outputs": [],
   "source": [
    "\n",
    "def load_trained_tabular_deep_model(loader, layers, path='deep_fastai_default_usnw-nb15', device=DEVICE, feature_set=None):\n",
    "    train_df = pd.concat([loader.X_train, loader.y_train], axis=1)\n",
    "\n",
    "    # Define continuous and categorical columns\n",
    "    if feature_set is None:\n",
    "        cont_names = loader.X_train.columns.tolist()  # All features are continuous\n",
    "    else:\n",
    "        cont_names = feature_set\n",
    "    cat_names = []  # Empty list for categorical features, as we only have continuous features\n",
    "\n",
    "    # Define the target variable\n",
    "    y_name = 'label'\n",
    "\n",
    "    # Create TabularPandas object\n",
    "    procs = [] \n",
    "    splits = stratified_splitter(train_df, y_name, valid_pct=0.2)  # Split data for training and validation\n",
    "    to = TabularPandas(train_df, procs=procs, cat_names=cat_names, cont_names=cont_names, y_names=y_name, splits=splits, y_block=CategoryBlock())\n",
    "\n",
    "    # Create DataLoaders\n",
    "    dls = to.dataloaders(bs=256, device=torch.device(device))\n",
    "\n",
    "    # Create Learner and load the model\n",
    "    learn = tabular_learner(dls, layers=layers, metrics=f1_score_binary)\n",
    "    learn.load(path)  # Load the saved model\n",
    "\n",
    "    return learn\n",
    "\n",
    "# Baseline model without feature selection\n",
    "tabular_model = load_trained_tabular_deep_model(loader=unsw_nb15, layers=[512]*5, path='deep_5_512_fastai_default_usnw-nb15', device=DEVICE)\n",
    "wrapped_tabular_model = FastAIARTWrapper(tabular_model)\n",
    "\n",
    "\n",
    "\n",
    "\n",
    "# Baseline model with feature selection\n",
    "td_ga_inf = get_ga_best_hyperparameters_and_features('td', 'auc', data_loader=unsw_nb15, get_metrics=True)\n",
    "# td_ga_inf = get_ga_best_hyperparameters_and_features('td', 'auc', data_loader=unsw_nb15, get_metrics=True, specific_solution=8)\n",
    "td_ga_layer = td_ga_inf['n_layers']\n",
    "td_ga_neuron = td_ga_inf['n_neurons']\n",
    "n_layer_name = str(td_ga_layer) + '_' + str(td_ga_neuron) # e.g. '5_512'\n",
    "td_ga_feature_set = td_ga_inf['selected_features_names']\n",
    "# td_ga_input_dim = len(td_ga_feature_set)\n",
    "tabular_ga_model = load_trained_tabular_deep_model(loader=unsw_nb15, layers=[td_ga_neuron]*td_ga_layer, path='deep_' + n_layer_name + '_fastai_ga_usnw-nb15', device=DEVICE,  feature_set=td_ga_feature_set)\n",
    "wrapped_tabular_ga_model = FastAIARTWrapper(tabular_ga_model)"
   ]
  },
  {
   "cell_type": "markdown",
   "metadata": {},
   "source": [
    "# Adversarial Evasion"
   ]
  },
  {
   "cell_type": "code",
   "execution_count": 26,
   "metadata": {},
   "outputs": [],
   "source": [
    "# def run_evasion_attacks(model, nw_attacks, eps, data_loader=unsw_nb15, device=DEVICE, fastai_model=False, ga=False, threshold_limiar=THRESHOLD_LIMIAR, extra_mark=None):\n",
    "def run_evasion_attacks(model, nw_attacks, eps, data_loader=unsw_nb15, device=DEVICE, fastai_model=False, ga=False, threshold_limiar=THRESHOLD_LIMIAR, extra_mark=None, feature_set=None):\n",
    "    for features_based, feature_set_name in zip([time_based_features, volume_based_features, mixed_features], \n",
    "                                            ['time_based_features', 'volume_based_features', 'mixed_features']):\n",
    "        if feature_set is not None:\n",
    "            # Intersect the selected features with the current feature set\n",
    "            features_based = list(set(features_based) & set(feature_set))\n",
    "            \n",
    "        for nw_attack in nw_attacks:\n",
    "            ic(fastai_model, feature_set_name, nw_attack)\n",
    "            if fastai_model:\n",
    "                if ga:\n",
    "                    # path = '../datasets/unrealistic_attacks/unsw-nb15_tabular_deep_ga_fastai_adv_exp_target_' + nw_attack + '_' + feature_set_name + extra_mark +'.pkl'\n",
    "                    path = '../datasets/unrealistic_attacks/unsw-nb15_tabular_deep_ga_fastai_adv_exp_target_' + nw_attack + '_' + feature_set_name + '.pkl'\n",
    "                else:\n",
    "                    path = '../datasets/unrealistic_attacks/unsw-nb15_tabular_deep_5_512_fastai_adv_exp_target_' + nw_attack + '_' + feature_set_name + '.pkl'\n",
    "                loss = nn.CrossEntropyLoss()\n",
    "            else:\n",
    "                if ga:\n",
    "                    path = '../datasets/unrealistic_attacks/unsw-nb15_mlp_ga_adv_exp_target_' + nw_attack + '_' + feature_set_name + '.pkl'\n",
    "                else:\n",
    "                    path = '../datasets/unrealistic_attacks/unsw-nb15_mlp_adv_exp_target_' + nw_attack + '_' + feature_set_name + '.pkl'\n",
    "                loss = nn.BCEWithLogitsLoss()\n",
    "            \n",
    "            adv_exp_target_volume, evasion_rates_volume = perform_target_feature_adversarial_attacks(\n",
    "                model, \n",
    "                data_loader, \n",
    "                target_features=features_based, \n",
    "                nw_attack_name=nw_attack, \n",
    "                epsilons=eps, \n",
    "                norm=np.inf, \n",
    "                pred_threshold=threshold_limiar,\n",
    "                fastai_model=fastai_model,\n",
    "                device=device,\n",
    "                loss=loss,\n",
    "                feature_set=feature_set,\n",
    "                )\n",
    "            \n",
    "            esp_utilities.save_to_pickle(adv_exp_target_volume, path)"
   ]
  },
  {
   "cell_type": "markdown",
   "metadata": {},
   "source": [
    "### Variables"
   ]
  },
  {
   "cell_type": "code",
   "execution_count": 10,
   "metadata": {},
   "outputs": [],
   "source": [
    "# extra_mark = '_ep0_2to1'\n",
    "# nw_attacks =['DoS']\n",
    "# eps = [0.2, 0.3, 0.4, 0.5, 0.6, 0.7, 0.8, 0.9, 1.0]\n",
    "# run_evasion_attacks(model=mlp_model, nw_attacks=nw_attacks, eps=eps, fastai_model=False, extra_mark=extra_mark)"
   ]
  },
  {
   "cell_type": "code",
   "execution_count": 11,
   "metadata": {},
   "outputs": [],
   "source": [
    "# nw_attacks =['DoS', 'Exploits', 'Fuzzers', 'Reconnaissance', 'Generic', 'Shellcode', 'Analysis', 'Backdoors', 'Worms']\n",
    "nw_attacks =['DoS']\n",
    "eps = [0.00001, 0.0001, 0.001, 0.005, 0.01, 0.02, 0.03, 0.04, 0.05, 0.06, 0.07, 0.08, 0.09, 0.1]"
   ]
  },
  {
   "cell_type": "markdown",
   "metadata": {},
   "source": [
    "### Crafting Adversarial Evasion for MLP Model and Tabular Deep Model using DoS Attacks"
   ]
  },
  {
   "cell_type": "code",
   "execution_count": 32,
   "metadata": {},
   "outputs": [
    {
     "name": "stderr",
     "output_type": "stream",
     "text": [
      "ic| fastai_model: False\n",
      "    feature_set_name: 'time_based_features'\n",
      "    nw_attack: 'DoS'\n"
     ]
    },
    {
     "name": "stdout",
     "output_type": "stream",
     "text": [
      "FGSM Evasion Rate on adversarial examples with 1e-05 epsilon: 0.03018027141989062%\n"
     ]
    },
    {
     "name": "stderr",
     "output_type": "stream",
     "text": [
      "                                                                \r"
     ]
    },
    {
     "name": "stdout",
     "output_type": "stream",
     "text": [
      "PGD Evasion Rate on adversarial examples with 1e-05 epsilon: 0.03018027141989062%\n",
      "FGSM Evasion Rate on adversarial examples with 0.0001 epsilon: 0.032813449463236784%\n"
     ]
    },
    {
     "name": "stderr",
     "output_type": "stream",
     "text": [
      "                                                                \r"
     ]
    },
    {
     "name": "stdout",
     "output_type": "stream",
     "text": [
      "PGD Evasion Rate on adversarial examples with 0.0001 epsilon: 0.033218553777597734%\n",
      "FGSM Evasion Rate on adversarial examples with 0.001 epsilon: 0.3609479440956046%\n"
     ]
    },
    {
     "name": "stderr",
     "output_type": "stream",
     "text": [
      "                                                                \r"
     ]
    },
    {
     "name": "stdout",
     "output_type": "stream",
     "text": [
      "PGD Evasion Rate on adversarial examples with 0.001 epsilon: 0.36155560056714603%\n",
      "FGSM Evasion Rate on adversarial examples with 0.005 epsilon: 0.43244885558031193%\n"
     ]
    },
    {
     "name": "stderr",
     "output_type": "stream",
     "text": [
      "                                                                \r"
     ]
    },
    {
     "name": "stdout",
     "output_type": "stream",
     "text": [
      "PGD Evasion Rate on adversarial examples with 0.005 epsilon: 0.4660725136722706%\n",
      "FGSM Evasion Rate on adversarial examples with 0.01 epsilon: 0.46809803524407534%\n"
     ]
    },
    {
     "name": "stderr",
     "output_type": "stream",
     "text": [
      "                                                                \r"
     ]
    },
    {
     "name": "stdout",
     "output_type": "stream",
     "text": [
      "PGD Evasion Rate on adversarial examples with 0.01 epsilon: 0.5215718047397204%\n",
      "FGSM Evasion Rate on adversarial examples with 0.02 epsilon: 0.4620214705286611%\n"
     ]
    },
    {
     "name": "stderr",
     "output_type": "stream",
     "text": [
      "                                                                \r"
     ]
    },
    {
     "name": "stdout",
     "output_type": "stream",
     "text": [
      "PGD Evasion Rate on adversarial examples with 0.02 epsilon: 0.5681588008912295%\n",
      "FGSM Evasion Rate on adversarial examples with 0.03 epsilon: 0.46424954425764636%\n"
     ]
    },
    {
     "name": "stderr",
     "output_type": "stream",
     "text": [
      "                                                                \r"
     ]
    },
    {
     "name": "stdout",
     "output_type": "stream",
     "text": [
      "PGD Evasion Rate on adversarial examples with 0.03 epsilon: 0.5748430220781852%\n",
      "FGSM Evasion Rate on adversarial examples with 0.04 epsilon: 0.48713793801903993%\n"
     ]
    },
    {
     "name": "stderr",
     "output_type": "stream",
     "text": [
      "                                                                \r"
     ]
    },
    {
     "name": "stdout",
     "output_type": "stream",
     "text": [
      "PGD Evasion Rate on adversarial examples with 0.04 epsilon: 0.5857808385659308%\n",
      "FGSM Evasion Rate on adversarial examples with 0.05 epsilon: 0.5169131051245696%\n"
     ]
    },
    {
     "name": "stderr",
     "output_type": "stream",
     "text": [
      "                                                                \r"
     ]
    },
    {
     "name": "stdout",
     "output_type": "stream",
     "text": [
      "PGD Evasion Rate on adversarial examples with 0.05 epsilon: 0.5896293295523597%\n",
      "FGSM Evasion Rate on adversarial examples with 0.06 epsilon: 0.5393963945716022%\n"
     ]
    },
    {
     "name": "stderr",
     "output_type": "stream",
     "text": [
      "                                                                \r"
     ]
    },
    {
     "name": "stdout",
     "output_type": "stream",
     "text": [
      "PGD Evasion Rate on adversarial examples with 0.06 epsilon: 0.5965161028964958%\n",
      "FGSM Evasion Rate on adversarial examples with 0.07 epsilon: 0.5610694753899129%\n"
     ]
    },
    {
     "name": "stderr",
     "output_type": "stream",
     "text": [
      "                                                                \r"
     ]
    },
    {
     "name": "stdout",
     "output_type": "stream",
     "text": [
      "PGD Evasion Rate on adversarial examples with 0.07 epsilon: 0.5959084464249544%\n",
      "FGSM Evasion Rate on adversarial examples with 0.08 epsilon: 0.6007696981972858%\n"
     ]
    },
    {
     "name": "stderr",
     "output_type": "stream",
     "text": [
      "                                                                \r"
     ]
    },
    {
     "name": "stdout",
     "output_type": "stream",
     "text": [
      "PGD Evasion Rate on adversarial examples with 0.08 epsilon: 0.6019850111403686%\n",
      "FGSM Evasion Rate on adversarial examples with 0.09 epsilon: 0.6139355884140166%\n"
     ]
    },
    {
     "name": "stderr",
     "output_type": "stream",
     "text": [
      "                                                                \r"
     ]
    },
    {
     "name": "stdout",
     "output_type": "stream",
     "text": [
      "PGD Evasion Rate on adversarial examples with 0.09 epsilon: 0.6074539193842414%\n",
      "FGSM Evasion Rate on adversarial examples with 0.1 epsilon: 0.6173789750860846%\n"
     ]
    },
    {
     "name": "stderr",
     "output_type": "stream",
     "text": [
      "ic                                                              | fastai_model: False\n",
      "    feature_set_name: 'volume_based_features'\n",
      "    nw_attack: 'DoS'\n"
     ]
    },
    {
     "name": "stdout",
     "output_type": "stream",
     "text": [
      "PGD Evasion Rate on adversarial examples with 0.1 epsilon: 0.6117075146850314%\n",
      "FGSM Evasion Rate on adversarial examples with 1e-05 epsilon: 0.03018027141989062%\n"
     ]
    },
    {
     "name": "stderr",
     "output_type": "stream",
     "text": [
      "                                                                \r"
     ]
    },
    {
     "name": "stdout",
     "output_type": "stream",
     "text": [
      "PGD Evasion Rate on adversarial examples with 1e-05 epsilon: 0.03018027141989062%\n",
      "FGSM Evasion Rate on adversarial examples with 0.0001 epsilon: 0.030990480048612518%\n"
     ]
    },
    {
     "name": "stderr",
     "output_type": "stream",
     "text": [
      "                                                                \r"
     ]
    },
    {
     "name": "stdout",
     "output_type": "stream",
     "text": [
      "PGD Evasion Rate on adversarial examples with 0.0001 epsilon: 0.030990480048612518%\n",
      "FGSM Evasion Rate on adversarial examples with 0.001 epsilon: 0.05246100870974276%\n"
     ]
    },
    {
     "name": "stderr",
     "output_type": "stream",
     "text": [
      "                                                                \r"
     ]
    },
    {
     "name": "stdout",
     "output_type": "stream",
     "text": [
      "PGD Evasion Rate on adversarial examples with 0.001 epsilon: 0.05529673891026939%\n",
      "FGSM Evasion Rate on adversarial examples with 0.005 epsilon: 0.5517520761596111%\n"
     ]
    },
    {
     "name": "stderr",
     "output_type": "stream",
     "text": [
      "                                                                \r"
     ]
    },
    {
     "name": "stdout",
     "output_type": "stream",
     "text": [
      "PGD Evasion Rate on adversarial examples with 0.005 epsilon: 0.5383836337856999%\n",
      "FGSM Evasion Rate on adversarial examples with 0.01 epsilon: 0.6426979947336439%\n"
     ]
    },
    {
     "name": "stderr",
     "output_type": "stream",
     "text": [
      "                                                                \r"
     ]
    },
    {
     "name": "stdout",
     "output_type": "stream",
     "text": [
      "PGD Evasion Rate on adversarial examples with 0.01 epsilon: 0.6216325703868746%\n",
      "FGSM Evasion Rate on adversarial examples with 0.02 epsilon: 0.673485922625076%\n"
     ]
    },
    {
     "name": "stderr",
     "output_type": "stream",
     "text": [
      "                                                                \r"
     ]
    },
    {
     "name": "stdout",
     "output_type": "stream",
     "text": [
      "PGD Evasion Rate on adversarial examples with 0.02 epsilon: 0.673080818310715%\n",
      "FGSM Evasion Rate on adversarial examples with 0.03 epsilon: 0.6643710755519546%\n"
     ]
    },
    {
     "name": "stderr",
     "output_type": "stream",
     "text": [
      "                                                                \r"
     ]
    },
    {
     "name": "stdout",
     "output_type": "stream",
     "text": [
      "PGD Evasion Rate on adversarial examples with 0.03 epsilon: 0.6977921814867328%\n",
      "FGSM Evasion Rate on adversarial examples with 0.04 epsilon: 0.6665991492809399%\n"
     ]
    },
    {
     "name": "stderr",
     "output_type": "stream",
     "text": [
      "                                                                \r"
     ]
    },
    {
     "name": "stdout",
     "output_type": "stream",
     "text": [
      "PGD Evasion Rate on adversarial examples with 0.04 epsilon: 0.728175005063804%\n",
      "FGSM Evasion Rate on adversarial examples with 0.05 epsilon: 0.661535345351428%\n"
     ]
    },
    {
     "name": "stderr",
     "output_type": "stream",
     "text": [
      "                                                                \r"
     ]
    },
    {
     "name": "stdout",
     "output_type": "stream",
     "text": [
      "PGD Evasion Rate on adversarial examples with 0.05 epsilon: 0.7457970427385051%\n",
      "FGSM Evasion Rate on adversarial examples with 0.06 epsilon: 0.7127810411180879%\n"
     ]
    },
    {
     "name": "stderr",
     "output_type": "stream",
     "text": [
      "                                                                \r"
     ]
    },
    {
     "name": "stdout",
     "output_type": "stream",
     "text": [
      "PGD Evasion Rate on adversarial examples with 0.06 epsilon: 0.7690905408142596%\n",
      "FGSM Evasion Rate on adversarial examples with 0.07 epsilon: 0.720072918776585%\n"
     ]
    },
    {
     "name": "stderr",
     "output_type": "stream",
     "text": [
      "                                                                \r"
     ]
    },
    {
     "name": "stdout",
     "output_type": "stream",
     "text": [
      "PGD Evasion Rate on adversarial examples with 0.07 epsilon: 0.7899534130038485%\n",
      "FGSM Evasion Rate on adversarial examples with 0.08 epsilon: 0.7227060968199311%\n"
     ]
    },
    {
     "name": "stderr",
     "output_type": "stream",
     "text": [
      "                                                                \r"
     ]
    },
    {
     "name": "stdout",
     "output_type": "stream",
     "text": [
      "PGD Evasion Rate on adversarial examples with 0.08 epsilon: 0.8065626898926473%\n",
      "FGSM Evasion Rate on adversarial examples with 0.09 epsilon: 0.7220984403483897%\n"
     ]
    },
    {
     "name": "stderr",
     "output_type": "stream",
     "text": [
      "                                                                \r"
     ]
    },
    {
     "name": "stdout",
     "output_type": "stream",
     "text": [
      "PGD Evasion Rate on adversarial examples with 0.09 epsilon: 0.8160826412801296%\n",
      "FGSM Evasion Rate on adversarial examples with 0.1 epsilon: 0.7227060968199311%\n"
     ]
    },
    {
     "name": "stderr",
     "output_type": "stream",
     "text": [
      "ic                                                              | fastai_model: False\n",
      "    feature_set_name: 'mixed_features'\n",
      "    nw_attack: 'DoS'\n"
     ]
    },
    {
     "name": "stdout",
     "output_type": "stream",
     "text": [
      "PGD Evasion Rate on adversarial examples with 0.1 epsilon: 0.8191209236378367%\n",
      "FGSM Evasion Rate on adversarial examples with 1e-05 epsilon: 0.03018027141989062%\n"
     ]
    },
    {
     "name": "stderr",
     "output_type": "stream",
     "text": [
      "                                                                \r"
     ]
    },
    {
     "name": "stdout",
     "output_type": "stream",
     "text": [
      "PGD Evasion Rate on adversarial examples with 1e-05 epsilon: 0.03018027141989062%\n",
      "FGSM Evasion Rate on adversarial examples with 0.0001 epsilon: 0.03362365809195868%\n"
     ]
    },
    {
     "name": "stderr",
     "output_type": "stream",
     "text": [
      "                                                                \r"
     ]
    },
    {
     "name": "stdout",
     "output_type": "stream",
     "text": [
      "PGD Evasion Rate on adversarial examples with 0.0001 epsilon: 0.03402876240631963%\n",
      "FGSM Evasion Rate on adversarial examples with 0.001 epsilon: 0.38201336844237394%\n"
     ]
    },
    {
     "name": "stderr",
     "output_type": "stream",
     "text": [
      "                                                                \r"
     ]
    },
    {
     "name": "stdout",
     "output_type": "stream",
     "text": [
      "PGD Evasion Rate on adversarial examples with 0.001 epsilon: 0.39052055904395383%\n",
      "FGSM Evasion Rate on adversarial examples with 0.005 epsilon: 0.5746404699210047%\n"
     ]
    },
    {
     "name": "stderr",
     "output_type": "stream",
     "text": [
      "                                                                \r"
     ]
    },
    {
     "name": "stdout",
     "output_type": "stream",
     "text": [
      "PGD Evasion Rate on adversarial examples with 0.005 epsilon: 0.6025926676119101%\n",
      "FGSM Evasion Rate on adversarial examples with 0.01 epsilon: 0.641887786104922%\n"
     ]
    },
    {
     "name": "stderr",
     "output_type": "stream",
     "text": [
      "                                                                \r"
     ]
    },
    {
     "name": "stdout",
     "output_type": "stream",
     "text": [
      "PGD Evasion Rate on adversarial examples with 0.01 epsilon: 0.6536358112213895%\n",
      "FGSM Evasion Rate on adversarial examples with 0.02 epsilon: 0.6420903382621025%\n"
     ]
    },
    {
     "name": "stderr",
     "output_type": "stream",
     "text": [
      "                                                                \r"
     ]
    },
    {
     "name": "stdout",
     "output_type": "stream",
     "text": [
      "PGD Evasion Rate on adversarial examples with 0.02 epsilon: 0.6771318614543245%\n",
      "FGSM Evasion Rate on adversarial examples with 0.03 epsilon: 0.6586996151509014%\n"
     ]
    },
    {
     "name": "stderr",
     "output_type": "stream",
     "text": [
      "                                                                \r"
     ]
    },
    {
     "name": "stdout",
     "output_type": "stream",
     "text": [
      "PGD Evasion Rate on adversarial examples with 0.03 epsilon: 0.6929309297144015%\n",
      "FGSM Evasion Rate on adversarial examples with 0.04 epsilon: 0.6613327931942475%\n"
     ]
    },
    {
     "name": "stderr",
     "output_type": "stream",
     "text": [
      "                                                                \r"
     ]
    },
    {
     "name": "stdout",
     "output_type": "stream",
     "text": [
      "PGD Evasion Rate on adversarial examples with 0.04 epsilon: 0.7146040105327122%\n",
      "FGSM Evasion Rate on adversarial examples with 0.05 epsilon: 0.6753088920397002%\n"
     ]
    },
    {
     "name": "stderr",
     "output_type": "stream",
     "text": [
      "                                                                \r"
     ]
    },
    {
     "name": "stdout",
     "output_type": "stream",
     "text": [
      "PGD Evasion Rate on adversarial examples with 0.05 epsilon: 0.7328337046789548%\n",
      "FGSM Evasion Rate on adversarial examples with 0.06 epsilon: 0.6657889406522179%\n"
     ]
    },
    {
     "name": "stderr",
     "output_type": "stream",
     "text": [
      "                                                                \r"
     ]
    },
    {
     "name": "stdout",
     "output_type": "stream",
     "text": [
      "PGD Evasion Rate on adversarial examples with 0.06 epsilon: 0.7569374113834312%\n",
      "FGSM Evasion Rate on adversarial examples with 0.07 epsilon: 0.6584970629937209%\n"
     ]
    },
    {
     "name": "stderr",
     "output_type": "stream",
     "text": [
      "                                                                \r"
     ]
    },
    {
     "name": "stdout",
     "output_type": "stream",
     "text": [
      "PGD Evasion Rate on adversarial examples with 0.07 epsilon: 0.7721288231719667%\n",
      "FGSM Evasion Rate on adversarial examples with 0.08 epsilon: 0.6291270002025522%\n"
     ]
    },
    {
     "name": "stderr",
     "output_type": "stream",
     "text": [
      "                                                                \r"
     ]
    },
    {
     "name": "stdout",
     "output_type": "stream",
     "text": [
      "PGD Evasion Rate on adversarial examples with 0.08 epsilon: 0.7885355479035852%\n",
      "FGSM Evasion Rate on adversarial examples with 0.09 epsilon: 0.6173789750860846%\n"
     ]
    },
    {
     "name": "stderr",
     "output_type": "stream",
     "text": [
      "                                                                \r"
     ]
    },
    {
     "name": "stdout",
     "output_type": "stream",
     "text": [
      "PGD Evasion Rate on adversarial examples with 0.09 epsilon: 0.8035244075349403%\n",
      "FGSM Evasion Rate on adversarial examples with 0.1 epsilon: 0.61109985821349%\n"
     ]
    },
    {
     "name": "stderr",
     "output_type": "stream",
     "text": [
      "                                                                \r"
     ]
    },
    {
     "name": "stdout",
     "output_type": "stream",
     "text": [
      "PGD Evasion Rate on adversarial examples with 0.1 epsilon: 0.8142596718655054%\n"
     ]
    }
   ],
   "source": [
    "run_evasion_attacks(model=mlp_model, nw_attacks=nw_attacks, eps=eps, fastai_model=False) #18m 46s"
   ]
  },
  {
   "cell_type": "code",
   "execution_count": 33,
   "metadata": {},
   "outputs": [
    {
     "name": "stderr",
     "output_type": "stream",
     "text": [
      "ic| fastai_model: False\n",
      "    feature_set_name: 'time_based_features'\n",
      "    nw_attack: 'DoS'\n"
     ]
    },
    {
     "name": "stdout",
     "output_type": "stream",
     "text": [
      "FGSM Evasion Rate on adversarial examples with 1e-05 epsilon: 0.01843224630342313%\n"
     ]
    },
    {
     "name": "stderr",
     "output_type": "stream",
     "text": [
      "                                                                \r"
     ]
    },
    {
     "name": "stdout",
     "output_type": "stream",
     "text": [
      "PGD Evasion Rate on adversarial examples with 1e-05 epsilon: 0.01843224630342313%\n",
      "FGSM Evasion Rate on adversarial examples with 0.0001 epsilon: 0.020255215718047396%\n"
     ]
    },
    {
     "name": "stderr",
     "output_type": "stream",
     "text": [
      "                                                                \r"
     ]
    },
    {
     "name": "stdout",
     "output_type": "stream",
     "text": [
      "PGD Evasion Rate on adversarial examples with 0.0001 epsilon: 0.020255215718047396%\n",
      "FGSM Evasion Rate on adversarial examples with 0.001 epsilon: 0.09580717034636418%\n"
     ]
    },
    {
     "name": "stderr",
     "output_type": "stream",
     "text": [
      "                                                                \r"
     ]
    },
    {
     "name": "stdout",
     "output_type": "stream",
     "text": [
      "PGD Evasion Rate on adversarial examples with 0.001 epsilon: 0.14766052258456552%\n",
      "FGSM Evasion Rate on adversarial examples with 0.005 epsilon: 0.6846262912700021%\n"
     ]
    },
    {
     "name": "stderr",
     "output_type": "stream",
     "text": [
      "                                                                \r"
     ]
    },
    {
     "name": "stdout",
     "output_type": "stream",
     "text": [
      "PGD Evasion Rate on adversarial examples with 0.005 epsilon: 0.7352643305651205%\n",
      "FGSM Evasion Rate on adversarial examples with 0.01 epsilon: 0.7336439133076768%\n"
     ]
    },
    {
     "name": "stderr",
     "output_type": "stream",
     "text": [
      "                                                                \r"
     ]
    },
    {
     "name": "stdout",
     "output_type": "stream",
     "text": [
      "PGD Evasion Rate on adversarial examples with 0.01 epsilon: 0.8021065424346769%\n",
      "FGSM Evasion Rate on adversarial examples with 0.02 epsilon: 0.7062993720883127%\n"
     ]
    },
    {
     "name": "stderr",
     "output_type": "stream",
     "text": [
      "                                                                \r"
     ]
    },
    {
     "name": "stdout",
     "output_type": "stream",
     "text": [
      "PGD Evasion Rate on adversarial examples with 0.02 epsilon: 0.8543649989872392%\n",
      "FGSM Evasion Rate on adversarial examples with 0.03 epsilon: 0.7293903180068868%\n"
     ]
    },
    {
     "name": "stderr",
     "output_type": "stream",
     "text": [
      "                                                                \r"
     ]
    },
    {
     "name": "stdout",
     "output_type": "stream",
     "text": [
      "PGD Evasion Rate on adversarial examples with 0.03 epsilon: 0.8719870366619404%\n",
      "FGSM Evasion Rate on adversarial examples with 0.04 epsilon: 0.7425562082236176%\n"
     ]
    },
    {
     "name": "stderr",
     "output_type": "stream",
     "text": [
      "                                                                \r"
     ]
    },
    {
     "name": "stdout",
     "output_type": "stream",
     "text": [
      "PGD Evasion Rate on adversarial examples with 0.04 epsilon: 0.8794814664776179%\n",
      "FGSM Evasion Rate on adversarial examples with 0.05 epsilon: 0.7502531901964756%\n"
     ]
    },
    {
     "name": "stderr",
     "output_type": "stream",
     "text": [
      "                                                                \r"
     ]
    },
    {
     "name": "stdout",
     "output_type": "stream",
     "text": [
      "PGD Evasion Rate on adversarial examples with 0.05 epsilon: 0.8851529268786713%\n",
      "FGSM Evasion Rate on adversarial examples with 0.06 epsilon: 0.754709337654446%\n"
     ]
    },
    {
     "name": "stderr",
     "output_type": "stream",
     "text": [
      "                                                                \r"
     ]
    },
    {
     "name": "stdout",
     "output_type": "stream",
     "text": [
      "PGD Evasion Rate on adversarial examples with 0.06 epsilon: 0.8898116264938222%\n",
      "FGSM Evasion Rate on adversarial examples with 0.07 epsilon: 0.7605833502126798%\n"
     ]
    },
    {
     "name": "stderr",
     "output_type": "stream",
     "text": [
      "                                                                \r"
     ]
    },
    {
     "name": "stdout",
     "output_type": "stream",
     "text": [
      "PGD Evasion Rate on adversarial examples with 0.07 epsilon: 0.8918371480656269%\n",
      "FGSM Evasion Rate on adversarial examples with 0.08 epsilon: 0.7652420498278306%\n"
     ]
    },
    {
     "name": "stderr",
     "output_type": "stream",
     "text": [
      "                                                                \r"
     ]
    },
    {
     "name": "stdout",
     "output_type": "stream",
     "text": [
      "PGD Evasion Rate on adversarial examples with 0.08 epsilon: 0.898723921409763%\n",
      "FGSM Evasion Rate on adversarial examples with 0.09 epsilon: 0.7678752278711768%\n"
     ]
    },
    {
     "name": "stderr",
     "output_type": "stream",
     "text": [
      "                                                                \r"
     ]
    },
    {
     "name": "stdout",
     "output_type": "stream",
     "text": [
      "PGD Evasion Rate on adversarial examples with 0.09 epsilon: 0.9050030382823577%\n",
      "FGSM Evasion Rate on adversarial examples with 0.1 epsilon: 0.7676726757139963%\n"
     ]
    },
    {
     "name": "stderr",
     "output_type": "stream",
     "text": [
      "ic                                                              | fastai_model: False\n",
      "    feature_set_name: 'volume_based_features'\n",
      "    nw_attack: 'DoS'\n"
     ]
    },
    {
     "name": "stdout",
     "output_type": "stream",
     "text": [
      "PGD Evasion Rate on adversarial examples with 0.1 epsilon: 0.9037877253392749%\n",
      "FGSM Evasion Rate on adversarial examples with 1e-05 epsilon: 0.01843224630342313%\n"
     ]
    },
    {
     "name": "stderr",
     "output_type": "stream",
     "text": [
      "                                                                \r"
     ]
    },
    {
     "name": "stdout",
     "output_type": "stream",
     "text": [
      "PGD Evasion Rate on adversarial examples with 1e-05 epsilon: 0.01843224630342313%\n",
      "FGSM Evasion Rate on adversarial examples with 0.0001 epsilon: 0.01985011140368645%\n"
     ]
    },
    {
     "name": "stderr",
     "output_type": "stream",
     "text": [
      "                                                                \r"
     ]
    },
    {
     "name": "stdout",
     "output_type": "stream",
     "text": [
      "PGD Evasion Rate on adversarial examples with 0.0001 epsilon: 0.01985011140368645%\n",
      "FGSM Evasion Rate on adversarial examples with 0.001 epsilon: 0.07980554992910674%\n"
     ]
    },
    {
     "name": "stderr",
     "output_type": "stream",
     "text": [
      "                                                                \r"
     ]
    },
    {
     "name": "stdout",
     "output_type": "stream",
     "text": [
      "PGD Evasion Rate on adversarial examples with 0.001 epsilon: 0.13206400648166902%\n",
      "FGSM Evasion Rate on adversarial examples with 0.005 epsilon: 0.8673283370467896%\n"
     ]
    },
    {
     "name": "stderr",
     "output_type": "stream",
     "text": [
      "                                                                \r"
     ]
    },
    {
     "name": "stdout",
     "output_type": "stream",
     "text": [
      "PGD Evasion Rate on adversarial examples with 0.005 epsilon: 0.8403889001417865%\n",
      "FGSM Evasion Rate on adversarial examples with 0.01 epsilon: 0.8946728782661535%\n"
     ]
    },
    {
     "name": "stderr",
     "output_type": "stream",
     "text": [
      "                                                                \r"
     ]
    },
    {
     "name": "stdout",
     "output_type": "stream",
     "text": [
      "PGD Evasion Rate on adversarial examples with 0.01 epsilon: 0.9039902774964553%\n",
      "FGSM Evasion Rate on adversarial examples with 0.02 epsilon: 0.879886570791979%\n"
     ]
    },
    {
     "name": "stderr",
     "output_type": "stream",
     "text": [
      "                                                                \r"
     ]
    },
    {
     "name": "stdout",
     "output_type": "stream",
     "text": [
      "PGD Evasion Rate on adversarial examples with 0.02 epsilon: 0.9426777395179259%\n",
      "FGSM Evasion Rate on adversarial examples with 0.03 epsilon: 0.9679967591654851%\n"
     ]
    },
    {
     "name": "stderr",
     "output_type": "stream",
     "text": [
      "                                                                \r"
     ]
    },
    {
     "name": "stdout",
     "output_type": "stream",
     "text": [
      "PGD Evasion Rate on adversarial examples with 0.03 epsilon: 0.9665788940652218%\n",
      "FGSM Evasion Rate on adversarial examples with 0.04 epsilon: 0.9706299372088313%\n"
     ]
    },
    {
     "name": "stderr",
     "output_type": "stream",
     "text": [
      "                                                                \r"
     ]
    },
    {
     "name": "stdout",
     "output_type": "stream",
     "text": [
      "PGD Evasion Rate on adversarial examples with 0.04 epsilon: 0.976503949767065%\n",
      "FGSM Evasion Rate on adversarial examples with 0.05 epsilon: 0.9722503544662751%\n"
     ]
    },
    {
     "name": "stderr",
     "output_type": "stream",
     "text": [
      "                                                                \r"
     ]
    },
    {
     "name": "stdout",
     "output_type": "stream",
     "text": [
      "PGD Evasion Rate on adversarial examples with 0.05 epsilon: 0.9769090540814259%\n",
      "FGSM Evasion Rate on adversarial examples with 0.06 epsilon: 0.9748835325096212%\n"
     ]
    },
    {
     "name": "stderr",
     "output_type": "stream",
     "text": [
      "                                                                \r"
     ]
    },
    {
     "name": "stdout",
     "output_type": "stream",
     "text": [
      "PGD Evasion Rate on adversarial examples with 0.06 epsilon: 0.9823779623252987%\n",
      "FGSM Evasion Rate on adversarial examples with 0.07 epsilon: 0.9771116062386065%\n"
     ]
    },
    {
     "name": "stderr",
     "output_type": "stream",
     "text": [
      "                                                                \r"
     ]
    },
    {
     "name": "stdout",
     "output_type": "stream",
     "text": [
      "PGD Evasion Rate on adversarial examples with 0.07 epsilon: 0.9854162446830059%\n",
      "FGSM Evasion Rate on adversarial examples with 0.08 epsilon: 0.9769090540814259%\n"
     ]
    },
    {
     "name": "stderr",
     "output_type": "stream",
     "text": [
      "                                                                \r"
     ]
    },
    {
     "name": "stdout",
     "output_type": "stream",
     "text": [
      "PGD Evasion Rate on adversarial examples with 0.08 epsilon: 0.9864290054689082%\n",
      "FGSM Evasion Rate on adversarial examples with 0.09 epsilon: 0.9779218148673283%\n"
     ]
    },
    {
     "name": "stderr",
     "output_type": "stream",
     "text": [
      "                                                                \r"
     ]
    },
    {
     "name": "stdout",
     "output_type": "stream",
     "text": [
      "PGD Evasion Rate on adversarial examples with 0.09 epsilon: 0.9870366619404497%\n",
      "FGSM Evasion Rate on adversarial examples with 0.1 epsilon: 0.976503949767065%\n"
     ]
    },
    {
     "name": "stderr",
     "output_type": "stream",
     "text": [
      "ic                                                              | fastai_model: False\n",
      "    feature_set_name: 'mixed_features'\n",
      "    nw_attack: 'DoS'\n"
     ]
    },
    {
     "name": "stdout",
     "output_type": "stream",
     "text": [
      "PGD Evasion Rate on adversarial examples with 0.1 epsilon: 0.9872392140976302%\n",
      "FGSM Evasion Rate on adversarial examples with 1e-05 epsilon: 0.01843224630342313%\n"
     ]
    },
    {
     "name": "stderr",
     "output_type": "stream",
     "text": [
      "                                                                \r"
     ]
    },
    {
     "name": "stdout",
     "output_type": "stream",
     "text": [
      "PGD Evasion Rate on adversarial examples with 1e-05 epsilon: 0.01843224630342313%\n",
      "FGSM Evasion Rate on adversarial examples with 0.0001 epsilon: 0.022685841604213084%\n"
     ]
    },
    {
     "name": "stderr",
     "output_type": "stream",
     "text": [
      "                                                                \r"
     ]
    },
    {
     "name": "stdout",
     "output_type": "stream",
     "text": [
      "PGD Evasion Rate on adversarial examples with 0.0001 epsilon: 0.022685841604213084%\n",
      "FGSM Evasion Rate on adversarial examples with 0.001 epsilon: 0.21895888191209237%\n"
     ]
    },
    {
     "name": "stderr",
     "output_type": "stream",
     "text": [
      "                                                                \r"
     ]
    },
    {
     "name": "stdout",
     "output_type": "stream",
     "text": [
      "PGD Evasion Rate on adversarial examples with 0.001 epsilon: 0.3090945918574033%\n",
      "FGSM Evasion Rate on adversarial examples with 0.005 epsilon: 0.8701640672473162%\n"
     ]
    },
    {
     "name": "stderr",
     "output_type": "stream",
     "text": [
      "                                                                \r"
     ]
    },
    {
     "name": "stdout",
     "output_type": "stream",
     "text": [
      "PGD Evasion Rate on adversarial examples with 0.005 epsilon: 0.9060157990682601%\n",
      "FGSM Evasion Rate on adversarial examples with 0.01 epsilon: 0.9108770508405915%\n"
     ]
    },
    {
     "name": "stderr",
     "output_type": "stream",
     "text": [
      "                                                                \r"
     ]
    },
    {
     "name": "stdout",
     "output_type": "stream",
     "text": [
      "PGD Evasion Rate on adversarial examples with 0.01 epsilon: 0.9309297144014583%\n",
      "FGSM Evasion Rate on adversarial examples with 0.02 epsilon: 0.8930524610087097%\n"
     ]
    },
    {
     "name": "stderr",
     "output_type": "stream",
     "text": [
      "                                                                \r"
     ]
    },
    {
     "name": "stdout",
     "output_type": "stream",
     "text": [
      "PGD Evasion Rate on adversarial examples with 0.02 epsilon: 0.9681993113226656%\n",
      "FGSM Evasion Rate on adversarial examples with 0.03 epsilon: 0.8693538586185943%\n"
     ]
    },
    {
     "name": "stderr",
     "output_type": "stream",
     "text": [
      "                                                                \r"
     ]
    },
    {
     "name": "stdout",
     "output_type": "stream",
     "text": [
      "PGD Evasion Rate on adversarial examples with 0.03 epsilon: 0.9777192627101479%\n",
      "FGSM Evasion Rate on adversarial examples with 0.04 epsilon: 0.8721895888191209%\n"
     ]
    },
    {
     "name": "stderr",
     "output_type": "stream",
     "text": [
      "                                                                \r"
     ]
    },
    {
     "name": "stdout",
     "output_type": "stream",
     "text": [
      "PGD Evasion Rate on adversarial examples with 0.04 epsilon: 0.9813652015393964%\n",
      "FGSM Evasion Rate on adversarial examples with 0.05 epsilon: 0.8831274053068665%\n"
     ]
    },
    {
     "name": "stderr",
     "output_type": "stream",
     "text": [
      "                                                                \r"
     ]
    },
    {
     "name": "stdout",
     "output_type": "stream",
     "text": [
      "PGD Evasion Rate on adversarial examples with 0.05 epsilon: 0.9852136925258254%\n",
      "FGSM Evasion Rate on adversarial examples with 0.06 epsilon: 0.8845452704071298%\n"
     ]
    },
    {
     "name": "stderr",
     "output_type": "stream",
     "text": [
      "                                                                \r"
     ]
    },
    {
     "name": "stdout",
     "output_type": "stream",
     "text": [
      "PGD Evasion Rate on adversarial examples with 0.06 epsilon: 0.9898723921409763%\n",
      "FGSM Evasion Rate on adversarial examples with 0.07 epsilon: 0.8849503747214907%\n"
     ]
    },
    {
     "name": "stderr",
     "output_type": "stream",
     "text": [
      "                                                                \r"
     ]
    },
    {
     "name": "stdout",
     "output_type": "stream",
     "text": [
      "PGD Evasion Rate on adversarial examples with 0.07 epsilon: 0.9898723921409763%\n",
      "FGSM Evasion Rate on adversarial examples with 0.08 epsilon: 0.8857605833502127%\n"
     ]
    },
    {
     "name": "stderr",
     "output_type": "stream",
     "text": [
      "                                                                \r"
     ]
    },
    {
     "name": "stdout",
     "output_type": "stream",
     "text": [
      "PGD Evasion Rate on adversarial examples with 0.08 epsilon: 0.9904800486125177%\n",
      "FGSM Evasion Rate on adversarial examples with 0.09 epsilon: 0.8979137127810412%\n"
     ]
    },
    {
     "name": "stderr",
     "output_type": "stream",
     "text": [
      "                                                                \r"
     ]
    },
    {
     "name": "stdout",
     "output_type": "stream",
     "text": [
      "PGD Evasion Rate on adversarial examples with 0.09 epsilon: 0.9902774964553372%\n",
      "FGSM Evasion Rate on adversarial examples with 0.1 epsilon: 0.9096617378975086%\n"
     ]
    },
    {
     "name": "stderr",
     "output_type": "stream",
     "text": [
      "                                                                \r"
     ]
    },
    {
     "name": "stdout",
     "output_type": "stream",
     "text": [
      "PGD Evasion Rate on adversarial examples with 0.1 epsilon: 0.9912902572412396%\n"
     ]
    }
   ],
   "source": [
    "# MLP GA (with feature selection)\n",
    "run_evasion_attacks(model=mlp_ga_model, nw_attacks=nw_attacks, eps=eps, fastai_model=False, ga=True, feature_set=mlp_ga_feature_set) # 13m 30s "
   ]
  },
  {
   "cell_type": "code",
   "execution_count": 34,
   "metadata": {},
   "outputs": [
    {
     "name": "stderr",
     "output_type": "stream",
     "text": [
      "ic| fastai_model: True\n",
      "    feature_set_name: 'time_based_features'\n",
      "    nw_attack: 'DoS'\n"
     ]
    },
    {
     "name": "stdout",
     "output_type": "stream",
     "text": [
      "FGSM Evasion Rate on adversarial examples with 1e-05 epsilon: 0.0435487137938019%\n"
     ]
    },
    {
     "name": "stderr",
     "output_type": "stream",
     "text": [
      "                                                                \r"
     ]
    },
    {
     "name": "stdout",
     "output_type": "stream",
     "text": [
      "PGD Evasion Rate on adversarial examples with 1e-05 epsilon: 0.0435487137938019%\n",
      "FGSM Evasion Rate on adversarial examples with 0.0001 epsilon: 0.038079805549929104%\n"
     ]
    },
    {
     "name": "stderr",
     "output_type": "stream",
     "text": [
      "                                                                \r"
     ]
    },
    {
     "name": "stdout",
     "output_type": "stream",
     "text": [
      "PGD Evasion Rate on adversarial examples with 0.0001 epsilon: 0.038079805549929104%\n",
      "FGSM Evasion Rate on adversarial examples with 0.001 epsilon: 0.02349605023293498%\n"
     ]
    },
    {
     "name": "stderr",
     "output_type": "stream",
     "text": [
      "                                                                \r"
     ]
    },
    {
     "name": "stdout",
     "output_type": "stream",
     "text": [
      "PGD Evasion Rate on adversarial examples with 0.001 epsilon: 0.3593275268381608%\n",
      "FGSM Evasion Rate on adversarial examples with 0.005 epsilon: 0.03159813652015394%\n"
     ]
    },
    {
     "name": "stderr",
     "output_type": "stream",
     "text": [
      "                                                                \r"
     ]
    },
    {
     "name": "stdout",
     "output_type": "stream",
     "text": [
      "PGD Evasion Rate on adversarial examples with 0.005 epsilon: 0.529471338869759%\n",
      "FGSM Evasion Rate on adversarial examples with 0.01 epsilon: 0.1338869758962933%\n"
     ]
    },
    {
     "name": "stderr",
     "output_type": "stream",
     "text": [
      "                                                                \r"
     ]
    },
    {
     "name": "stdout",
     "output_type": "stream",
     "text": [
      "PGD Evasion Rate on adversarial examples with 0.01 epsilon: 0.5284585780838565%\n",
      "FGSM Evasion Rate on adversarial examples with 0.02 epsilon: 0.25015191411788534%\n"
     ]
    },
    {
     "name": "stderr",
     "output_type": "stream",
     "text": [
      "                                                                \r"
     ]
    },
    {
     "name": "stdout",
     "output_type": "stream",
     "text": [
      "PGD Evasion Rate on adversarial examples with 0.02 epsilon: 0.5343325906420904%\n",
      "FGSM Evasion Rate on adversarial examples with 0.03 epsilon: 0.3252987644318412%\n"
     ]
    },
    {
     "name": "stderr",
     "output_type": "stream",
     "text": [
      "                                                                \r"
     ]
    },
    {
     "name": "stdout",
     "output_type": "stream",
     "text": [
      "PGD Evasion Rate on adversarial examples with 0.03 epsilon: 0.544865302815475%\n",
      "FGSM Evasion Rate on adversarial examples with 0.04 epsilon: 0.3534535142799271%\n"
     ]
    },
    {
     "name": "stderr",
     "output_type": "stream",
     "text": [
      "                                                                \r"
     ]
    },
    {
     "name": "stdout",
     "output_type": "stream",
     "text": [
      "PGD Evasion Rate on adversarial examples with 0.04 epsilon: 0.5477010330160016%\n",
      "FGSM Evasion Rate on adversarial examples with 0.05 epsilon: 0.3874822766862467%\n"
     ]
    },
    {
     "name": "stderr",
     "output_type": "stream",
     "text": [
      "                                                                \r"
     ]
    },
    {
     "name": "stdout",
     "output_type": "stream",
     "text": [
      "PGD Evasion Rate on adversarial examples with 0.05 epsilon: 0.5483086894875431%\n",
      "FGSM Evasion Rate on adversarial examples with 0.06 epsilon: 0.4494632367834717%\n"
     ]
    },
    {
     "name": "stderr",
     "output_type": "stream",
     "text": [
      "                                                                \r"
     ]
    },
    {
     "name": "stdout",
     "output_type": "stream",
     "text": [
      "PGD Evasion Rate on adversarial examples with 0.06 epsilon: 0.5466882722300993%\n",
      "FGSM Evasion Rate on adversarial examples with 0.07 epsilon: 0.4814664776179866%\n"
     ]
    },
    {
     "name": "stderr",
     "output_type": "stream",
     "text": [
      "                                                                \r"
     ]
    },
    {
     "name": "stdout",
     "output_type": "stream",
     "text": [
      "PGD Evasion Rate on adversarial examples with 0.07 epsilon: 0.5466882722300993%\n",
      "FGSM Evasion Rate on adversarial examples with 0.08 epsilon: 0.5003038282357707%\n"
     ]
    },
    {
     "name": "stderr",
     "output_type": "stream",
     "text": [
      "                                                                \r"
     ]
    },
    {
     "name": "stdout",
     "output_type": "stream",
     "text": [
      "PGD Evasion Rate on adversarial examples with 0.08 epsilon: 0.5470933765444602%\n",
      "FGSM Evasion Rate on adversarial examples with 0.09 epsilon: 0.5122544055094187%\n"
     ]
    },
    {
     "name": "stderr",
     "output_type": "stream",
     "text": [
      "                                                                \r"
     ]
    },
    {
     "name": "stdout",
     "output_type": "stream",
     "text": [
      "PGD Evasion Rate on adversarial examples with 0.09 epsilon: 0.5468908243872798%\n",
      "FGSM Evasion Rate on adversarial examples with 0.1 epsilon: 0.5248126392546081%\n"
     ]
    },
    {
     "name": "stderr",
     "output_type": "stream",
     "text": [
      "ic                                                              | fastai_model: True\n",
      "    feature_set_name: 'volume_based_features'\n",
      "    nw_attack: 'DoS'\n"
     ]
    },
    {
     "name": "stdout",
     "output_type": "stream",
     "text": [
      "PGD Evasion Rate on adversarial examples with 0.1 epsilon: 0.5464857200729187%\n",
      "FGSM Evasion Rate on adversarial examples with 1e-05 epsilon: 0.044561474579704274%\n"
     ]
    },
    {
     "name": "stderr",
     "output_type": "stream",
     "text": [
      "                                                                \r"
     ]
    },
    {
     "name": "stdout",
     "output_type": "stream",
     "text": [
      "PGD Evasion Rate on adversarial examples with 1e-05 epsilon: 0.044561474579704274%\n",
      "FGSM Evasion Rate on adversarial examples with 0.0001 epsilon: 0.04091553575045574%\n"
     ]
    },
    {
     "name": "stderr",
     "output_type": "stream",
     "text": [
      "                                                                \r"
     ]
    },
    {
     "name": "stdout",
     "output_type": "stream",
     "text": [
      "PGD Evasion Rate on adversarial examples with 0.0001 epsilon: 0.04091553575045574%\n",
      "FGSM Evasion Rate on adversarial examples with 0.001 epsilon: 0.03180068867733441%\n"
     ]
    },
    {
     "name": "stderr",
     "output_type": "stream",
     "text": [
      "                                                                \r"
     ]
    },
    {
     "name": "stdout",
     "output_type": "stream",
     "text": [
      "PGD Evasion Rate on adversarial examples with 0.001 epsilon: 0.20660320032408344%\n",
      "FGSM Evasion Rate on adversarial examples with 0.005 epsilon: 0.030382823577071096%\n"
     ]
    },
    {
     "name": "stderr",
     "output_type": "stream",
     "text": [
      "                                                                \r"
     ]
    },
    {
     "name": "stdout",
     "output_type": "stream",
     "text": [
      "PGD Evasion Rate on adversarial examples with 0.005 epsilon: 0.44926068462629126%\n",
      "FGSM Evasion Rate on adversarial examples with 0.01 epsilon: 0.04840996556613328%\n"
     ]
    },
    {
     "name": "stderr",
     "output_type": "stream",
     "text": [
      "                                                                \r"
     ]
    },
    {
     "name": "stdout",
     "output_type": "stream",
     "text": [
      "PGD Evasion Rate on adversarial examples with 0.01 epsilon: 0.45959084464249544%\n",
      "FGSM Evasion Rate on adversarial examples with 0.02 epsilon: 0.14198906218351226%\n"
     ]
    },
    {
     "name": "stderr",
     "output_type": "stream",
     "text": [
      "                                                                \r"
     ]
    },
    {
     "name": "stdout",
     "output_type": "stream",
     "text": [
      "PGD Evasion Rate on adversarial examples with 0.02 epsilon: 0.5130646141381405%\n",
      "FGSM Evasion Rate on adversarial examples with 0.03 epsilon: 0.2489366011748025%\n"
     ]
    },
    {
     "name": "stderr",
     "output_type": "stream",
     "text": [
      "                                                                \r"
     ]
    },
    {
     "name": "stdout",
     "output_type": "stream",
     "text": [
      "PGD Evasion Rate on adversarial examples with 0.03 epsilon: 0.5296738910269394%\n",
      "FGSM Evasion Rate on adversarial examples with 0.04 epsilon: 0.2892444804537168%\n"
     ]
    },
    {
     "name": "stderr",
     "output_type": "stream",
     "text": [
      "                                                                \r"
     ]
    },
    {
     "name": "stdout",
     "output_type": "stream",
     "text": [
      "PGD Evasion Rate on adversarial examples with 0.04 epsilon: 0.529471338869759%\n",
      "FGSM Evasion Rate on adversarial examples with 0.05 epsilon: 0.3344136115049625%\n"
     ]
    },
    {
     "name": "stderr",
     "output_type": "stream",
     "text": [
      "                                                                \r"
     ]
    },
    {
     "name": "stdout",
     "output_type": "stream",
     "text": [
      "PGD Evasion Rate on adversarial examples with 0.05 epsilon: 0.5323070690702856%\n",
      "FGSM Evasion Rate on adversarial examples with 0.06 epsilon: 0.3751265950982378%\n"
     ]
    },
    {
     "name": "stderr",
     "output_type": "stream",
     "text": [
      "                                                                \r"
     ]
    },
    {
     "name": "stdout",
     "output_type": "stream",
     "text": [
      "PGD Evasion Rate on adversarial examples with 0.06 epsilon: 0.5323070690702856%\n",
      "FGSM Evasion Rate on adversarial examples with 0.07 epsilon: 0.4022685841604213%\n"
     ]
    },
    {
     "name": "stderr",
     "output_type": "stream",
     "text": [
      "                                                                \r"
     ]
    },
    {
     "name": "stdout",
     "output_type": "stream",
     "text": [
      "PGD Evasion Rate on adversarial examples with 0.07 epsilon: 0.5314968604415637%\n",
      "FGSM Evasion Rate on adversarial examples with 0.08 epsilon: 0.4178651002633178%\n"
     ]
    },
    {
     "name": "stderr",
     "output_type": "stream",
     "text": [
      "                                                                \r"
     ]
    },
    {
     "name": "stdout",
     "output_type": "stream",
     "text": [
      "PGD Evasion Rate on adversarial examples with 0.08 epsilon: 0.5308892039700223%\n",
      "FGSM Evasion Rate on adversarial examples with 0.09 epsilon: 0.4342718249949362%\n"
     ]
    },
    {
     "name": "stderr",
     "output_type": "stream",
     "text": [
      "                                                                \r"
     ]
    },
    {
     "name": "stdout",
     "output_type": "stream",
     "text": [
      "PGD Evasion Rate on adversarial examples with 0.09 epsilon: 0.5268381608264128%\n",
      "FGSM Evasion Rate on adversarial examples with 0.1 epsilon: 0.4419688069677942%\n"
     ]
    },
    {
     "name": "stderr",
     "output_type": "stream",
     "text": [
      "ic                                                              | fastai_model: True\n",
      "    feature_set_name: 'mixed_features'\n",
      "    nw_attack: 'DoS'\n"
     ]
    },
    {
     "name": "stdout",
     "output_type": "stream",
     "text": [
      "PGD Evasion Rate on adversarial examples with 0.1 epsilon: 0.5199513874822767%\n",
      "FGSM Evasion Rate on adversarial examples with 1e-05 epsilon: 0.04334616163662143%\n"
     ]
    },
    {
     "name": "stderr",
     "output_type": "stream",
     "text": [
      "                                                                \r"
     ]
    },
    {
     "name": "stdout",
     "output_type": "stream",
     "text": [
      "PGD Evasion Rate on adversarial examples with 1e-05 epsilon: 0.04314360947944096%\n",
      "FGSM Evasion Rate on adversarial examples with 0.0001 epsilon: 0.03706704476402674%\n"
     ]
    },
    {
     "name": "stderr",
     "output_type": "stream",
     "text": [
      "                                                                \r"
     ]
    },
    {
     "name": "stdout",
     "output_type": "stream",
     "text": [
      "PGD Evasion Rate on adversarial examples with 0.0001 epsilon: 0.03726959692120721%\n",
      "FGSM Evasion Rate on adversarial examples with 0.001 epsilon: 0.019647559246505974%\n"
     ]
    },
    {
     "name": "stderr",
     "output_type": "stream",
     "text": [
      "                                                                \r"
     ]
    },
    {
     "name": "stdout",
     "output_type": "stream",
     "text": [
      "PGD Evasion Rate on adversarial examples with 0.001 epsilon: 0.46181891837148065%\n",
      "FGSM Evasion Rate on adversarial examples with 0.005 epsilon: 0.0544865302815475%\n"
     ]
    },
    {
     "name": "stderr",
     "output_type": "stream",
     "text": [
      "                                                                \r"
     ]
    },
    {
     "name": "stdout",
     "output_type": "stream",
     "text": [
      "PGD Evasion Rate on adversarial examples with 0.005 epsilon: 0.529471338869759%\n",
      "FGSM Evasion Rate on adversarial examples with 0.01 epsilon: 0.21186955641077576%\n"
     ]
    },
    {
     "name": "stderr",
     "output_type": "stream",
     "text": [
      "                                                                \r"
     ]
    },
    {
     "name": "stdout",
     "output_type": "stream",
     "text": [
      "PGD Evasion Rate on adversarial examples with 0.01 epsilon: 0.5288636823982176%\n",
      "FGSM Evasion Rate on adversarial examples with 0.02 epsilon: 0.3127405306866518%\n"
     ]
    },
    {
     "name": "stderr",
     "output_type": "stream",
     "text": [
      "                                                                \r"
     ]
    },
    {
     "name": "stdout",
     "output_type": "stream",
     "text": [
      "PGD Evasion Rate on adversarial examples with 0.02 epsilon: 0.5385861859428803%\n",
      "FGSM Evasion Rate on adversarial examples with 0.03 epsilon: 0.3828235770710958%\n"
     ]
    },
    {
     "name": "stderr",
     "output_type": "stream",
     "text": [
      "                                                                \r"
     ]
    },
    {
     "name": "stdout",
     "output_type": "stream",
     "text": [
      "PGD Evasion Rate on adversarial examples with 0.03 epsilon: 0.544460198501114%\n",
      "FGSM Evasion Rate on adversarial examples with 0.04 epsilon: 0.43244885558031193%\n"
     ]
    },
    {
     "name": "stderr",
     "output_type": "stream",
     "text": [
      "                                                                \r"
     ]
    },
    {
     "name": "stdout",
     "output_type": "stream",
     "text": [
      "PGD Evasion Rate on adversarial examples with 0.04 epsilon: 0.5460806157585578%\n",
      "FGSM Evasion Rate on adversarial examples with 0.05 epsilon: 0.466680170143812%\n"
     ]
    },
    {
     "name": "stderr",
     "output_type": "stream",
     "text": [
      "                                                                \r"
     ]
    },
    {
     "name": "stdout",
     "output_type": "stream",
     "text": [
      "PGD Evasion Rate on adversarial examples with 0.05 epsilon: 0.5460806157585578%\n",
      "FGSM Evasion Rate on adversarial examples with 0.06 epsilon: 0.4919991897913713%\n"
     ]
    },
    {
     "name": "stderr",
     "output_type": "stream",
     "text": [
      "                                                                \r"
     ]
    },
    {
     "name": "stdout",
     "output_type": "stream",
     "text": [
      "PGD Evasion Rate on adversarial examples with 0.06 epsilon: 0.5460806157585578%\n",
      "FGSM Evasion Rate on adversarial examples with 0.07 epsilon: 0.5122544055094187%\n"
     ]
    },
    {
     "name": "stderr",
     "output_type": "stream",
     "text": [
      "                                                                \r"
     ]
    },
    {
     "name": "stdout",
     "output_type": "stream",
     "text": [
      "PGD Evasion Rate on adversarial examples with 0.07 epsilon: 0.5460806157585578%\n",
      "FGSM Evasion Rate on adversarial examples with 0.08 epsilon: 0.5260279521976909%\n"
     ]
    },
    {
     "name": "stderr",
     "output_type": "stream",
     "text": [
      "                                                                \r"
     ]
    },
    {
     "name": "stdout",
     "output_type": "stream",
     "text": [
      "PGD Evasion Rate on adversarial examples with 0.08 epsilon: 0.5460806157585578%\n",
      "FGSM Evasion Rate on adversarial examples with 0.09 epsilon: 0.5369657686854366%\n"
     ]
    },
    {
     "name": "stderr",
     "output_type": "stream",
     "text": [
      "                                                                \r"
     ]
    },
    {
     "name": "stdout",
     "output_type": "stream",
     "text": [
      "PGD Evasion Rate on adversarial examples with 0.09 epsilon: 0.5460806157585578%\n",
      "FGSM Evasion Rate on adversarial examples with 0.1 epsilon: 0.5442576463439336%\n"
     ]
    },
    {
     "name": "stderr",
     "output_type": "stream",
     "text": [
      "                                                                \r"
     ]
    },
    {
     "name": "stdout",
     "output_type": "stream",
     "text": [
      "PGD Evasion Rate on adversarial examples with 0.1 epsilon: 0.5460806157585578%\n"
     ]
    }
   ],
   "source": [
    "run_evasion_attacks(model=wrapped_tabular_model, nw_attacks=nw_attacks, eps=eps, fastai_model=True)"
   ]
  },
  {
   "cell_type": "code",
   "execution_count": 35,
   "metadata": {},
   "outputs": [
    {
     "name": "stderr",
     "output_type": "stream",
     "text": [
      "ic| fastai_model: True\n",
      "    feature_set_name: 'time_based_features'\n",
      "    nw_attack: 'DoS'\n"
     ]
    },
    {
     "name": "stdout",
     "output_type": "stream",
     "text": [
      "FGSM Evasion Rate on adversarial examples with 1e-05 epsilon: 0.0016204172574437918%\n"
     ]
    },
    {
     "name": "stderr",
     "output_type": "stream",
     "text": [
      "                                                                \r"
     ]
    },
    {
     "name": "stdout",
     "output_type": "stream",
     "text": [
      "PGD Evasion Rate on adversarial examples with 1e-05 epsilon: 0.0016204172574437918%\n",
      "FGSM Evasion Rate on adversarial examples with 0.0001 epsilon: 0.0010127607859023698%\n"
     ]
    },
    {
     "name": "stderr",
     "output_type": "stream",
     "text": [
      "                                                                \r"
     ]
    },
    {
     "name": "stdout",
     "output_type": "stream",
     "text": [
      "PGD Evasion Rate on adversarial examples with 0.0001 epsilon: 0.0010127607859023698%\n",
      "FGSM Evasion Rate on adversarial examples with 0.001 epsilon: 0.0012153129430828439%\n"
     ]
    },
    {
     "name": "stderr",
     "output_type": "stream",
     "text": [
      "                                                                \r"
     ]
    },
    {
     "name": "stdout",
     "output_type": "stream",
     "text": [
      "PGD Evasion Rate on adversarial examples with 0.001 epsilon: 0.1409763013976099%\n",
      "FGSM Evasion Rate on adversarial examples with 0.005 epsilon: 0.027141989062183514%\n"
     ]
    },
    {
     "name": "stderr",
     "output_type": "stream",
     "text": [
      "                                                                \r"
     ]
    },
    {
     "name": "stdout",
     "output_type": "stream",
     "text": [
      "PGD Evasion Rate on adversarial examples with 0.005 epsilon: 0.3400850719060158%\n",
      "FGSM Evasion Rate on adversarial examples with 0.01 epsilon: 0.04678954830868949%\n"
     ]
    },
    {
     "name": "stderr",
     "output_type": "stream",
     "text": [
      "                                                                \r"
     ]
    },
    {
     "name": "stdout",
     "output_type": "stream",
     "text": [
      "PGD Evasion Rate on adversarial examples with 0.01 epsilon: 0.3763419080413206%\n",
      "FGSM Evasion Rate on adversarial examples with 0.02 epsilon: 0.09013570994531092%\n"
     ]
    },
    {
     "name": "stderr",
     "output_type": "stream",
     "text": [
      "                                                                \r"
     ]
    },
    {
     "name": "stdout",
     "output_type": "stream",
     "text": [
      "PGD Evasion Rate on adversarial examples with 0.02 epsilon: 0.4693133481871582%\n",
      "FGSM Evasion Rate on adversarial examples with 0.03 epsilon: 0.15677536965768685%\n"
     ]
    },
    {
     "name": "stderr",
     "output_type": "stream",
     "text": [
      "                                                                \r"
     ]
    },
    {
     "name": "stdout",
     "output_type": "stream",
     "text": [
      "PGD Evasion Rate on adversarial examples with 0.03 epsilon: 0.5276483694551347%\n",
      "FGSM Evasion Rate on adversarial examples with 0.04 epsilon: 0.16872594693133483%\n"
     ]
    },
    {
     "name": "stderr",
     "output_type": "stream",
     "text": [
      "                                                                \r"
     ]
    },
    {
     "name": "stdout",
     "output_type": "stream",
     "text": [
      "PGD Evasion Rate on adversarial examples with 0.04 epsilon: 0.5375734251569779%\n",
      "FGSM Evasion Rate on adversarial examples with 0.05 epsilon: 0.1820943893052461%\n"
     ]
    },
    {
     "name": "stderr",
     "output_type": "stream",
     "text": [
      "                                                                \r"
     ]
    },
    {
     "name": "stdout",
     "output_type": "stream",
     "text": [
      "PGD Evasion Rate on adversarial examples with 0.05 epsilon: 0.5377759773141584%\n",
      "FGSM Evasion Rate on adversarial examples with 0.06 epsilon: 0.20741340895280536%\n"
     ]
    },
    {
     "name": "stderr",
     "output_type": "stream",
     "text": [
      "                                                                \r"
     ]
    },
    {
     "name": "stdout",
     "output_type": "stream",
     "text": [
      "PGD Evasion Rate on adversarial examples with 0.06 epsilon: 0.5436499898723921%\n",
      "FGSM Evasion Rate on adversarial examples with 0.07 epsilon: 0.23698602390115456%\n"
     ]
    },
    {
     "name": "stderr",
     "output_type": "stream",
     "text": [
      "                                                                \r"
     ]
    },
    {
     "name": "stdout",
     "output_type": "stream",
     "text": [
      "PGD Evasion Rate on adversarial examples with 0.07 epsilon: 0.5456755114441969%\n",
      "FGSM Evasion Rate on adversarial examples with 0.08 epsilon: 0.2560259266761191%\n"
     ]
    },
    {
     "name": "stderr",
     "output_type": "stream",
     "text": [
      "                                                                \r"
     ]
    },
    {
     "name": "stdout",
     "output_type": "stream",
     "text": [
      "PGD Evasion Rate on adversarial examples with 0.08 epsilon: 0.5537775977314159%\n",
      "FGSM Evasion Rate on adversarial examples with 0.09 epsilon: 0.2744581729795422%\n"
     ]
    },
    {
     "name": "stderr",
     "output_type": "stream",
     "text": [
      "                                                                \r"
     ]
    },
    {
     "name": "stdout",
     "output_type": "stream",
     "text": [
      "PGD Evasion Rate on adversarial examples with 0.09 epsilon: 0.5511444196880697%\n",
      "FGSM Evasion Rate on adversarial examples with 0.1 epsilon: 0.28276281142394166%\n"
     ]
    },
    {
     "name": "stderr",
     "output_type": "stream",
     "text": [
      "ic                                                              | fastai_model: True\n",
      "    feature_set_name: 'volume_based_features'\n",
      "    nw_attack: 'DoS'\n"
     ]
    },
    {
     "name": "stdout",
     "output_type": "stream",
     "text": [
      "PGD Evasion Rate on adversarial examples with 0.1 epsilon: 0.5472959287016407%\n",
      "FGSM Evasion Rate on adversarial examples with 1e-05 epsilon: 0.0020255215718047396%\n"
     ]
    },
    {
     "name": "stderr",
     "output_type": "stream",
     "text": [
      "                                                                \r"
     ]
    },
    {
     "name": "stdout",
     "output_type": "stream",
     "text": [
      "PGD Evasion Rate on adversarial examples with 1e-05 epsilon: 0.0020255215718047396%\n",
      "FGSM Evasion Rate on adversarial examples with 0.0001 epsilon: 0.0014178651002633178%\n"
     ]
    },
    {
     "name": "stderr",
     "output_type": "stream",
     "text": [
      "                                                                \r"
     ]
    },
    {
     "name": "stdout",
     "output_type": "stream",
     "text": [
      "PGD Evasion Rate on adversarial examples with 0.0001 epsilon: 0.0012153129430828439%\n",
      "FGSM Evasion Rate on adversarial examples with 0.001 epsilon: 0.0006076564715414219%\n"
     ]
    },
    {
     "name": "stderr",
     "output_type": "stream",
     "text": [
      "                                                                \r"
     ]
    },
    {
     "name": "stdout",
     "output_type": "stream",
     "text": [
      "PGD Evasion Rate on adversarial examples with 0.001 epsilon: 0.004456147457970428%\n",
      "FGSM Evasion Rate on adversarial examples with 0.005 epsilon: 0.004051043143609479%\n"
     ]
    },
    {
     "name": "stderr",
     "output_type": "stream",
     "text": [
      "                                                                \r"
     ]
    },
    {
     "name": "stdout",
     "output_type": "stream",
     "text": [
      "PGD Evasion Rate on adversarial examples with 0.005 epsilon: 0.3176017824589832%\n",
      "FGSM Evasion Rate on adversarial examples with 0.01 epsilon: 0.05306866518128418%\n"
     ]
    },
    {
     "name": "stderr",
     "output_type": "stream",
     "text": [
      "                                                                \r"
     ]
    },
    {
     "name": "stdout",
     "output_type": "stream",
     "text": [
      "PGD Evasion Rate on adversarial examples with 0.01 epsilon: 0.36661940449665786%\n",
      "FGSM Evasion Rate on adversarial examples with 0.02 epsilon: 0.08628721895888192%\n"
     ]
    },
    {
     "name": "stderr",
     "output_type": "stream",
     "text": [
      "                                                                \r"
     ]
    },
    {
     "name": "stdout",
     "output_type": "stream",
     "text": [
      "PGD Evasion Rate on adversarial examples with 0.02 epsilon: 0.4014583755316994%\n",
      "FGSM Evasion Rate on adversarial examples with 0.03 epsilon: 0.12193639862264533%\n"
     ]
    },
    {
     "name": "stderr",
     "output_type": "stream",
     "text": [
      "                                                                \r"
     ]
    },
    {
     "name": "stdout",
     "output_type": "stream",
     "text": [
      "PGD Evasion Rate on adversarial examples with 0.03 epsilon: 0.4606036054283978%\n",
      "FGSM Evasion Rate on adversarial examples with 0.04 epsilon: 0.16953615556005672%\n"
     ]
    },
    {
     "name": "stderr",
     "output_type": "stream",
     "text": [
      "                                                                \r"
     ]
    },
    {
     "name": "stdout",
     "output_type": "stream",
     "text": [
      "PGD Evasion Rate on adversarial examples with 0.04 epsilon: 0.4668827223009925%\n",
      "FGSM Evasion Rate on adversarial examples with 0.05 epsilon: 0.19404496657889406%\n"
     ]
    },
    {
     "name": "stderr",
     "output_type": "stream",
     "text": [
      "                                                                \r"
     ]
    },
    {
     "name": "stdout",
     "output_type": "stream",
     "text": [
      "PGD Evasion Rate on adversarial examples with 0.05 epsilon: 0.4792384038890014%\n",
      "FGSM Evasion Rate on adversarial examples with 0.06 epsilon: 0.19890621835122543%\n"
     ]
    },
    {
     "name": "stderr",
     "output_type": "stream",
     "text": [
      "                                                                \r"
     ]
    },
    {
     "name": "stdout",
     "output_type": "stream",
     "text": [
      "PGD Evasion Rate on adversarial examples with 0.06 epsilon: 0.490176220376747%\n",
      "FGSM Evasion Rate on adversarial examples with 0.07 epsilon: 0.24448045371683208%\n"
     ]
    },
    {
     "name": "stderr",
     "output_type": "stream",
     "text": [
      "                                                                \r"
     ]
    },
    {
     "name": "stdout",
     "output_type": "stream",
     "text": [
      "PGD Evasion Rate on adversarial examples with 0.07 epsilon: 0.48835325096212273%\n",
      "FGSM Evasion Rate on adversarial examples with 0.08 epsilon: 0.284180676524205%\n"
     ]
    },
    {
     "name": "stderr",
     "output_type": "stream",
     "text": [
      "                                                                \r"
     ]
    },
    {
     "name": "stdout",
     "output_type": "stream",
     "text": [
      "PGD Evasion Rate on adversarial examples with 0.08 epsilon: 0.4996961717642293%\n",
      "FGSM Evasion Rate on adversarial examples with 0.09 epsilon: 0.27769900749442983%\n"
     ]
    },
    {
     "name": "stderr",
     "output_type": "stream",
     "text": [
      "                                                                \r"
     ]
    },
    {
     "name": "stdout",
     "output_type": "stream",
     "text": [
      "PGD Evasion Rate on adversarial examples with 0.09 epsilon: 0.5165080008102086%\n",
      "FGSM Evasion Rate on adversarial examples with 0.1 epsilon: 0.25865910471946524%\n"
     ]
    },
    {
     "name": "stderr",
     "output_type": "stream",
     "text": [
      "ic                                                              | fastai_model: True\n",
      "    feature_set_name: 'mixed_features'\n",
      "    nw_attack: 'DoS'\n"
     ]
    },
    {
     "name": "stdout",
     "output_type": "stream",
     "text": [
      "PGD Evasion Rate on adversarial examples with 0.1 epsilon: 0.5244075349402472%\n",
      "FGSM Evasion Rate on adversarial examples with 1e-05 epsilon: 0.0016204172574437918%\n"
     ]
    },
    {
     "name": "stderr",
     "output_type": "stream",
     "text": [
      "                                                                \r"
     ]
    },
    {
     "name": "stdout",
     "output_type": "stream",
     "text": [
      "PGD Evasion Rate on adversarial examples with 1e-05 epsilon: 0.0016204172574437918%\n",
      "FGSM Evasion Rate on adversarial examples with 0.0001 epsilon: 0.0010127607859023698%\n"
     ]
    },
    {
     "name": "stderr",
     "output_type": "stream",
     "text": [
      "                                                                \r"
     ]
    },
    {
     "name": "stdout",
     "output_type": "stream",
     "text": [
      "PGD Evasion Rate on adversarial examples with 0.0001 epsilon: 0.0010127607859023698%\n",
      "FGSM Evasion Rate on adversarial examples with 0.001 epsilon: 0.0012153129430828439%\n"
     ]
    },
    {
     "name": "stderr",
     "output_type": "stream",
     "text": [
      "                                                                \r"
     ]
    },
    {
     "name": "stdout",
     "output_type": "stream",
     "text": [
      "PGD Evasion Rate on adversarial examples with 0.001 epsilon: 0.18533522382013368%\n",
      "FGSM Evasion Rate on adversarial examples with 0.005 epsilon: 0.05387887381000608%\n"
     ]
    },
    {
     "name": "stderr",
     "output_type": "stream",
     "text": [
      "                                                                \r"
     ]
    },
    {
     "name": "stdout",
     "output_type": "stream",
     "text": [
      "PGD Evasion Rate on adversarial examples with 0.005 epsilon: 0.36621430018229695%\n",
      "FGSM Evasion Rate on adversarial examples with 0.01 epsilon: 0.07696981972858011%\n"
     ]
    },
    {
     "name": "stderr",
     "output_type": "stream",
     "text": [
      "                                                                \r"
     ]
    },
    {
     "name": "stdout",
     "output_type": "stream",
     "text": [
      "PGD Evasion Rate on adversarial examples with 0.01 epsilon: 0.41361150496252785%\n",
      "FGSM Evasion Rate on adversarial examples with 0.02 epsilon: 0.13895077982580514%\n"
     ]
    },
    {
     "name": "stderr",
     "output_type": "stream",
     "text": [
      "                                                                \r"
     ]
    },
    {
     "name": "stdout",
     "output_type": "stream",
     "text": [
      "PGD Evasion Rate on adversarial examples with 0.02 epsilon: 0.5110390925663358%\n",
      "FGSM Evasion Rate on adversarial examples with 0.03 epsilon: 0.21814867328337048%\n"
     ]
    },
    {
     "name": "stderr",
     "output_type": "stream",
     "text": [
      "                                                                \r"
     ]
    },
    {
     "name": "stdout",
     "output_type": "stream",
     "text": [
      "PGD Evasion Rate on adversarial examples with 0.03 epsilon: 0.5590439538181081%\n",
      "FGSM Evasion Rate on adversarial examples with 0.04 epsilon: 0.2540004051043144%\n"
     ]
    },
    {
     "name": "stderr",
     "output_type": "stream",
     "text": [
      "                                                                \r"
     ]
    },
    {
     "name": "stdout",
     "output_type": "stream",
     "text": [
      "PGD Evasion Rate on adversarial examples with 0.04 epsilon: 0.5618796840186348%\n",
      "FGSM Evasion Rate on adversarial examples with 0.05 epsilon: 0.27283775572209845%\n"
     ]
    },
    {
     "name": "stderr",
     "output_type": "stream",
     "text": [
      "                                                                \r"
     ]
    },
    {
     "name": "stdout",
     "output_type": "stream",
     "text": [
      "PGD Evasion Rate on adversarial examples with 0.05 epsilon: 0.5637026534332591%\n",
      "FGSM Evasion Rate on adversarial examples with 0.06 epsilon: 0.33117277699007497%\n"
     ]
    },
    {
     "name": "stderr",
     "output_type": "stream",
     "text": [
      "                                                                \r"
     ]
    },
    {
     "name": "stdout",
     "output_type": "stream",
     "text": [
      "PGD Evasion Rate on adversarial examples with 0.06 epsilon: 0.5643103099048005%\n",
      "FGSM Evasion Rate on adversarial examples with 0.07 epsilon: 0.38869758962932954%\n"
     ]
    },
    {
     "name": "stderr",
     "output_type": "stream",
     "text": [
      "                                                                \r"
     ]
    },
    {
     "name": "stdout",
     "output_type": "stream",
     "text": [
      "PGD Evasion Rate on adversarial examples with 0.07 epsilon: 0.5647154142191614%\n",
      "FGSM Evasion Rate on adversarial examples with 0.08 epsilon: 0.42353656066437106%\n"
     ]
    },
    {
     "name": "stderr",
     "output_type": "stream",
     "text": [
      "                                                                \r"
     ]
    },
    {
     "name": "stdout",
     "output_type": "stream",
     "text": [
      "PGD Evasion Rate on adversarial examples with 0.08 epsilon: 0.5645128620619809%\n",
      "FGSM Evasion Rate on adversarial examples with 0.09 epsilon: 0.43933562892444805%\n"
     ]
    },
    {
     "name": "stderr",
     "output_type": "stream",
     "text": [
      "                                                                \r"
     ]
    },
    {
     "name": "stdout",
     "output_type": "stream",
     "text": [
      "PGD Evasion Rate on adversarial examples with 0.09 epsilon: 0.5647154142191614%\n",
      "FGSM Evasion Rate on adversarial examples with 0.1 epsilon: 0.4466275065829451%\n"
     ]
    },
    {
     "name": "stderr",
     "output_type": "stream",
     "text": [
      "                                                                \r"
     ]
    },
    {
     "name": "stdout",
     "output_type": "stream",
     "text": [
      "PGD Evasion Rate on adversarial examples with 0.1 epsilon: 0.5651205185335224%\n"
     ]
    }
   ],
   "source": [
    "# Tabular deep GA (with feature selection)\n",
    "run_evasion_attacks(model=wrapped_tabular_ga_model, nw_attacks=nw_attacks, eps=eps, fastai_model=True, ga=True, feature_set=td_ga_feature_set) # 54 minutes"
   ]
  },
  {
   "cell_type": "markdown",
   "metadata": {},
   "source": [
    "### Crafting Adversarial Evasion for MLP Model and Tabular Deep Model using all remaining Attacks"
   ]
  },
  {
   "cell_type": "code",
   "execution_count": 8,
   "metadata": {},
   "outputs": [],
   "source": [
    "nw_attacks =['Exploits', 'Fuzzers', 'Reconnaissance', 'Generic', 'Shellcode', 'Analysis', 'Backdoors', 'Worms']"
   ]
  },
  {
   "cell_type": "code",
   "execution_count": 12,
   "metadata": {},
   "outputs": [
    {
     "name": "stderr",
     "output_type": "stream",
     "text": [
      "ic| fastai_model: False\n",
      "    feature_set_name: 'time_based_features'\n",
      "    nw_attack: 'DoS'\n"
     ]
    },
    {
     "name": "stdout",
     "output_type": "stream",
     "text": [
      "FGSM Evasion Rate on adversarial examples with 1e-05 epsilon: 0.03018027141989062%\n"
     ]
    },
    {
     "name": "stderr",
     "output_type": "stream",
     "text": [
      "                                                                \r"
     ]
    },
    {
     "name": "stdout",
     "output_type": "stream",
     "text": [
      "PGD Evasion Rate on adversarial examples with 1e-05 epsilon: 0.03018027141989062%\n",
      "FGSM Evasion Rate on adversarial examples with 0.0001 epsilon: 0.03018027141989062%\n"
     ]
    },
    {
     "name": "stderr",
     "output_type": "stream",
     "text": [
      "                                                                \r"
     ]
    },
    {
     "name": "stdout",
     "output_type": "stream",
     "text": [
      "PGD Evasion Rate on adversarial examples with 0.0001 epsilon: 0.03018027141989062%\n",
      "FGSM Evasion Rate on adversarial examples with 0.001 epsilon: 0.03018027141989062%\n"
     ]
    },
    {
     "name": "stderr",
     "output_type": "stream",
     "text": [
      "                                                                \r"
     ]
    },
    {
     "name": "stdout",
     "output_type": "stream",
     "text": [
      "PGD Evasion Rate on adversarial examples with 0.001 epsilon: 0.038890014178651004%\n",
      "FGSM Evasion Rate on adversarial examples with 0.005 epsilon: 0.03018027141989062%\n"
     ]
    },
    {
     "name": "stderr",
     "output_type": "stream",
     "text": [
      "                                                                \r"
     ]
    },
    {
     "name": "stdout",
     "output_type": "stream",
     "text": [
      "PGD Evasion Rate on adversarial examples with 0.005 epsilon: 0.3718857605833502%\n",
      "FGSM Evasion Rate on adversarial examples with 0.01 epsilon: 0.03018027141989062%\n"
     ]
    },
    {
     "name": "stderr",
     "output_type": "stream",
     "text": [
      "                                                                \r"
     ]
    },
    {
     "name": "stdout",
     "output_type": "stream",
     "text": [
      "PGD Evasion Rate on adversarial examples with 0.01 epsilon: 0.4452096414826818%\n",
      "FGSM Evasion Rate on adversarial examples with 0.02 epsilon: 0.03018027141989062%\n"
     ]
    },
    {
     "name": "stderr",
     "output_type": "stream",
     "text": [
      "                                                                \r"
     ]
    },
    {
     "name": "stdout",
     "output_type": "stream",
     "text": [
      "PGD Evasion Rate on adversarial examples with 0.02 epsilon: 0.5219769090540815%\n",
      "FGSM Evasion Rate on adversarial examples with 0.03 epsilon: 0.03018027141989062%\n"
     ]
    },
    {
     "name": "stderr",
     "output_type": "stream",
     "text": [
      "                                                                \r"
     ]
    },
    {
     "name": "stdout",
     "output_type": "stream",
     "text": [
      "PGD Evasion Rate on adversarial examples with 0.03 epsilon: 0.5592465059752887%\n",
      "FGSM Evasion Rate on adversarial examples with 0.04 epsilon: 0.03018027141989062%\n"
     ]
    },
    {
     "name": "stderr",
     "output_type": "stream",
     "text": [
      "                                                                \r"
     ]
    },
    {
     "name": "stdout",
     "output_type": "stream",
     "text": [
      "PGD Evasion Rate on adversarial examples with 0.04 epsilon: 0.5955033421105935%\n",
      "FGSM Evasion Rate on adversarial examples with 0.05 epsilon: 0.03018027141989062%\n"
     ]
    },
    {
     "name": "stderr",
     "output_type": "stream",
     "text": [
      "                                                                \r"
     ]
    },
    {
     "name": "stdout",
     "output_type": "stream",
     "text": [
      "PGD Evasion Rate on adversarial examples with 0.05 epsilon: 0.6242657484302208%\n",
      "FGSM Evasion Rate on adversarial examples with 0.06 epsilon: 0.03018027141989062%\n"
     ]
    },
    {
     "name": "stderr",
     "output_type": "stream",
     "text": [
      "                                                                \r"
     ]
    },
    {
     "name": "stdout",
     "output_type": "stream",
     "text": [
      "PGD Evasion Rate on adversarial examples with 0.06 epsilon: 0.642292890419283%\n",
      "FGSM Evasion Rate on adversarial examples with 0.07 epsilon: 0.03018027141989062%\n"
     ]
    },
    {
     "name": "stderr",
     "output_type": "stream",
     "text": [
      "                                                                \r"
     ]
    },
    {
     "name": "stdout",
     "output_type": "stream",
     "text": [
      "PGD Evasion Rate on adversarial examples with 0.07 epsilon: 0.6528256025926676%\n",
      "FGSM Evasion Rate on adversarial examples with 0.08 epsilon: 0.03018027141989062%\n"
     ]
    },
    {
     "name": "stderr",
     "output_type": "stream",
     "text": [
      "                                                                \r"
     ]
    },
    {
     "name": "stdout",
     "output_type": "stream",
     "text": [
      "PGD Evasion Rate on adversarial examples with 0.08 epsilon: 0.6651812841806766%\n",
      "FGSM Evasion Rate on adversarial examples with 0.09 epsilon: 0.03018027141989062%\n"
     ]
    },
    {
     "name": "stderr",
     "output_type": "stream",
     "text": [
      "                                                                \r"
     ]
    },
    {
     "name": "stdout",
     "output_type": "stream",
     "text": [
      "PGD Evasion Rate on adversarial examples with 0.09 epsilon: 0.6793599351833097%\n",
      "FGSM Evasion Rate on adversarial examples with 0.1 epsilon: 0.03018027141989062%\n"
     ]
    },
    {
     "name": "stderr",
     "output_type": "stream",
     "text": [
      "ic                                                              | fastai_model: False\n",
      "    feature_set_name: 'volume_based_features'\n",
      "    nw_attack: 'DoS'\n"
     ]
    },
    {
     "name": "stdout",
     "output_type": "stream",
     "text": [
      "PGD Evasion Rate on adversarial examples with 0.1 epsilon: 0.6809803524407535%\n",
      "FGSM Evasion Rate on adversarial examples with 1e-05 epsilon: 0.03018027141989062%\n"
     ]
    },
    {
     "name": "stderr",
     "output_type": "stream",
     "text": [
      "                                                                \r"
     ]
    },
    {
     "name": "stdout",
     "output_type": "stream",
     "text": [
      "PGD Evasion Rate on adversarial examples with 1e-05 epsilon: 0.03018027141989062%\n",
      "FGSM Evasion Rate on adversarial examples with 0.0001 epsilon: 0.03018027141989062%\n"
     ]
    },
    {
     "name": "stderr",
     "output_type": "stream",
     "text": [
      "                                                                \r"
     ]
    },
    {
     "name": "stdout",
     "output_type": "stream",
     "text": [
      "PGD Evasion Rate on adversarial examples with 0.0001 epsilon: 0.03018027141989062%\n",
      "FGSM Evasion Rate on adversarial examples with 0.001 epsilon: 0.03018027141989062%\n"
     ]
    },
    {
     "name": "stderr",
     "output_type": "stream",
     "text": [
      "                                                                \r"
     ]
    },
    {
     "name": "stdout",
     "output_type": "stream",
     "text": [
      "PGD Evasion Rate on adversarial examples with 0.001 epsilon: 0.0342313145635001%\n",
      "FGSM Evasion Rate on adversarial examples with 0.005 epsilon: 0.03018027141989062%\n"
     ]
    },
    {
     "name": "stderr",
     "output_type": "stream",
     "text": [
      "                                                                \r"
     ]
    },
    {
     "name": "stdout",
     "output_type": "stream",
     "text": [
      "PGD Evasion Rate on adversarial examples with 0.005 epsilon: 0.38241847275673485%\n",
      "FGSM Evasion Rate on adversarial examples with 0.01 epsilon: 0.03018027141989062%\n"
     ]
    },
    {
     "name": "stderr",
     "output_type": "stream",
     "text": [
      "                                                                \r"
     ]
    },
    {
     "name": "stdout",
     "output_type": "stream",
     "text": [
      "PGD Evasion Rate on adversarial examples with 0.01 epsilon: 0.46546485720072917%\n",
      "FGSM Evasion Rate on adversarial examples with 0.02 epsilon: 0.03018027141989062%\n"
     ]
    },
    {
     "name": "stderr",
     "output_type": "stream",
     "text": [
      "                                                                \r"
     ]
    },
    {
     "name": "stdout",
     "output_type": "stream",
     "text": [
      "PGD Evasion Rate on adversarial examples with 0.02 epsilon: 0.5801093781648775%\n",
      "FGSM Evasion Rate on adversarial examples with 0.03 epsilon: 0.03018027141989062%\n"
     ]
    },
    {
     "name": "stderr",
     "output_type": "stream",
     "text": [
      "                                                                \r"
     ]
    },
    {
     "name": "stdout",
     "output_type": "stream",
     "text": [
      "PGD Evasion Rate on adversarial examples with 0.03 epsilon: 0.634190804132064%\n",
      "FGSM Evasion Rate on adversarial examples with 0.04 epsilon: 0.03018027141989062%\n"
     ]
    },
    {
     "name": "stderr",
     "output_type": "stream",
     "text": [
      "                                                                \r"
     ]
    },
    {
     "name": "stdout",
     "output_type": "stream",
     "text": [
      "PGD Evasion Rate on adversarial examples with 0.04 epsilon: 0.6489771116062386%\n",
      "FGSM Evasion Rate on adversarial examples with 0.05 epsilon: 0.03018027141989062%\n"
     ]
    },
    {
     "name": "stderr",
     "output_type": "stream",
     "text": [
      "                                                                \r"
     ]
    },
    {
     "name": "stdout",
     "output_type": "stream",
     "text": [
      "PGD Evasion Rate on adversarial examples with 0.05 epsilon: 0.64533117277699%\n",
      "FGSM Evasion Rate on adversarial examples with 0.06 epsilon: 0.03018027141989062%\n"
     ]
    },
    {
     "name": "stderr",
     "output_type": "stream",
     "text": [
      "                                                                \r"
     ]
    },
    {
     "name": "stdout",
     "output_type": "stream",
     "text": [
      "PGD Evasion Rate on adversarial examples with 0.06 epsilon: 0.6279116872594693%\n",
      "FGSM Evasion Rate on adversarial examples with 0.07 epsilon: 0.03018027141989062%\n"
     ]
    },
    {
     "name": "stderr",
     "output_type": "stream",
     "text": [
      "                                                                \r"
     ]
    },
    {
     "name": "stdout",
     "output_type": "stream",
     "text": [
      "PGD Evasion Rate on adversarial examples with 0.07 epsilon: 0.6370265343325906%\n",
      "FGSM Evasion Rate on adversarial examples with 0.08 epsilon: 0.03018027141989062%\n"
     ]
    },
    {
     "name": "stderr",
     "output_type": "stream",
     "text": [
      "                                                                \r"
     ]
    },
    {
     "name": "stdout",
     "output_type": "stream",
     "text": [
      "PGD Evasion Rate on adversarial examples with 0.08 epsilon: 0.6139355884140166%\n",
      "FGSM Evasion Rate on adversarial examples with 0.09 epsilon: 0.03018027141989062%\n"
     ]
    },
    {
     "name": "stderr",
     "output_type": "stream",
     "text": [
      "                                                                \r"
     ]
    },
    {
     "name": "stdout",
     "output_type": "stream",
     "text": [
      "PGD Evasion Rate on adversarial examples with 0.09 epsilon: 0.6433056512051853%\n",
      "FGSM Evasion Rate on adversarial examples with 0.1 epsilon: 0.03018027141989062%\n"
     ]
    },
    {
     "name": "stderr",
     "output_type": "stream",
     "text": [
      "ic                                                              | fastai_model: False\n",
      "    feature_set_name: 'mixed_features'\n",
      "    nw_attack: 'DoS'\n"
     ]
    },
    {
     "name": "stdout",
     "output_type": "stream",
     "text": [
      "PGD Evasion Rate on adversarial examples with 0.1 epsilon: 0.6554587806360138%\n",
      "FGSM Evasion Rate on adversarial examples with 1e-05 epsilon: 0.03018027141989062%\n"
     ]
    },
    {
     "name": "stderr",
     "output_type": "stream",
     "text": [
      "                                                                \r"
     ]
    },
    {
     "name": "stdout",
     "output_type": "stream",
     "text": [
      "PGD Evasion Rate on adversarial examples with 1e-05 epsilon: 0.03018027141989062%\n",
      "FGSM Evasion Rate on adversarial examples with 0.0001 epsilon: 0.03018027141989062%\n"
     ]
    },
    {
     "name": "stderr",
     "output_type": "stream",
     "text": [
      "                                                                \r"
     ]
    },
    {
     "name": "stdout",
     "output_type": "stream",
     "text": [
      "PGD Evasion Rate on adversarial examples with 0.0001 epsilon: 0.03018027141989062%\n",
      "FGSM Evasion Rate on adversarial examples with 0.001 epsilon: 0.03018027141989062%\n"
     ]
    },
    {
     "name": "stderr",
     "output_type": "stream",
     "text": [
      "                                                                \r"
     ]
    },
    {
     "name": "stdout",
     "output_type": "stream",
     "text": [
      "PGD Evasion Rate on adversarial examples with 0.001 epsilon: 0.03990277496455337%\n",
      "FGSM Evasion Rate on adversarial examples with 0.005 epsilon: 0.03018027141989062%\n"
     ]
    },
    {
     "name": "stderr",
     "output_type": "stream",
     "text": [
      "                                                                \r"
     ]
    },
    {
     "name": "stdout",
     "output_type": "stream",
     "text": [
      "PGD Evasion Rate on adversarial examples with 0.005 epsilon: 0.4101681182904598%\n",
      "FGSM Evasion Rate on adversarial examples with 0.01 epsilon: 0.03018027141989062%\n"
     ]
    },
    {
     "name": "stderr",
     "output_type": "stream",
     "text": [
      "                                                                \r"
     ]
    },
    {
     "name": "stdout",
     "output_type": "stream",
     "text": [
      "PGD Evasion Rate on adversarial examples with 0.01 epsilon: 0.5395989467287826%\n",
      "FGSM Evasion Rate on adversarial examples with 0.02 epsilon: 0.03018027141989062%\n"
     ]
    },
    {
     "name": "stderr",
     "output_type": "stream",
     "text": [
      "                                                                \r"
     ]
    },
    {
     "name": "stdout",
     "output_type": "stream",
     "text": [
      "PGD Evasion Rate on adversarial examples with 0.02 epsilon: 0.6443184119910877%\n",
      "FGSM Evasion Rate on adversarial examples with 0.03 epsilon: 0.03018027141989062%\n"
     ]
    },
    {
     "name": "stderr",
     "output_type": "stream",
     "text": [
      "                                                                \r"
     ]
    },
    {
     "name": "stdout",
     "output_type": "stream",
     "text": [
      "PGD Evasion Rate on adversarial examples with 0.03 epsilon: 0.6753088920397002%\n",
      "FGSM Evasion Rate on adversarial examples with 0.04 epsilon: 0.03018027141989062%\n"
     ]
    },
    {
     "name": "stderr",
     "output_type": "stream",
     "text": [
      "                                                                \r"
     ]
    },
    {
     "name": "stdout",
     "output_type": "stream",
     "text": [
      "PGD Evasion Rate on adversarial examples with 0.04 epsilon: 0.6635608669232327%\n",
      "FGSM Evasion Rate on adversarial examples with 0.05 epsilon: 0.03018027141989062%\n"
     ]
    },
    {
     "name": "stderr",
     "output_type": "stream",
     "text": [
      "                                                                \r"
     ]
    },
    {
     "name": "stdout",
     "output_type": "stream",
     "text": [
      "PGD Evasion Rate on adversarial examples with 0.05 epsilon: 0.6447235163054487%\n",
      "FGSM Evasion Rate on adversarial examples with 0.06 epsilon: 0.03018027141989062%\n"
     ]
    },
    {
     "name": "stderr",
     "output_type": "stream",
     "text": [
      "                                                                \r"
     ]
    },
    {
     "name": "stdout",
     "output_type": "stream",
     "text": [
      "PGD Evasion Rate on adversarial examples with 0.06 epsilon: 0.6254810613733036%\n",
      "FGSM Evasion Rate on adversarial examples with 0.07 epsilon: 0.03018027141989062%\n"
     ]
    },
    {
     "name": "stderr",
     "output_type": "stream",
     "text": [
      "                                                                \r"
     ]
    },
    {
     "name": "stdout",
     "output_type": "stream",
     "text": [
      "PGD Evasion Rate on adversarial examples with 0.07 epsilon: 0.6129228276281142%\n",
      "FGSM Evasion Rate on adversarial examples with 0.08 epsilon: 0.03018027141989062%\n"
     ]
    },
    {
     "name": "stderr",
     "output_type": "stream",
     "text": [
      "                                                                \r"
     ]
    },
    {
     "name": "stdout",
     "output_type": "stream",
     "text": [
      "PGD Evasion Rate on adversarial examples with 0.08 epsilon: 0.6305448653028155%\n",
      "FGSM Evasion Rate on adversarial examples with 0.09 epsilon: 0.03018027141989062%\n"
     ]
    },
    {
     "name": "stderr",
     "output_type": "stream",
     "text": [
      "                                                                \r"
     ]
    },
    {
     "name": "stdout",
     "output_type": "stream",
     "text": [
      "PGD Evasion Rate on adversarial examples with 0.09 epsilon: 0.646141381405712%\n",
      "FGSM Evasion Rate on adversarial examples with 0.1 epsilon: 0.03018027141989062%\n"
     ]
    },
    {
     "name": "stderr",
     "output_type": "stream",
     "text": [
      "                                                                "
     ]
    },
    {
     "name": "stdout",
     "output_type": "stream",
     "text": [
      "PGD Evasion Rate on adversarial examples with 0.1 epsilon: 0.6724731618391736%\n"
     ]
    },
    {
     "name": "stderr",
     "output_type": "stream",
     "text": [
      "\r"
     ]
    }
   ],
   "source": [
    "run_evasion_attacks(model=mlp_model, nw_attacks=nw_attacks, eps=eps, fastai_model=False) # 946 minutes"
   ]
  },
  {
   "cell_type": "code",
   "execution_count": null,
   "metadata": {},
   "outputs": [],
   "source": [
    "# MLP GA (with feature selection)\n",
    "run_evasion_attacks(model=mlp_ga_model, nw_attacks=nw_attacks, eps=eps, fastai_model=False, ga=True) # 251 minutes"
   ]
  },
  {
   "cell_type": "code",
   "execution_count": null,
   "metadata": {},
   "outputs": [
    {
     "name": "stderr",
     "output_type": "stream",
     "text": [
      "ic| fastai_model: True\n",
      "    feature_set_name: 'time_based_features'\n",
      "    nw_attack: 'Exploits'\n"
     ]
    },
    {
     "name": "stdout",
     "output_type": "stream",
     "text": [
      "FGSM Evasion Rate on adversarial examples with 1e-05 epsilon: 0.03299997347269013%\n"
     ]
    },
    {
     "name": "stderr",
     "output_type": "stream",
     "text": [
      "                                                                  \r"
     ]
    },
    {
     "name": "stdout",
     "output_type": "stream",
     "text": [
      "PGD Evasion Rate on adversarial examples with 1e-05 epsilon: 0.03310608271215216%\n",
      "FGSM Evasion Rate on adversarial examples with 0.0001 epsilon: 0.030108496697349923%\n"
     ]
    },
    {
     "name": "stderr",
     "output_type": "stream",
     "text": [
      "                                                                   \r"
     ]
    },
    {
     "name": "stdout",
     "output_type": "stream",
     "text": [
      "PGD Evasion Rate on adversarial examples with 0.0001 epsilon: 0.031355280261028726%\n",
      "FGSM Evasion Rate on adversarial examples with 0.001 epsilon: 0.08706263097859246%\n"
     ]
    },
    {
     "name": "stderr",
     "output_type": "stream",
     "text": [
      "                                                                  \r"
     ]
    },
    {
     "name": "stdout",
     "output_type": "stream",
     "text": [
      "PGD Evasion Rate on adversarial examples with 0.001 epsilon: 0.13112449266519882%\n",
      "FGSM Evasion Rate on adversarial examples with 0.005 epsilon: 0.8037774889248481%\n"
     ]
    },
    {
     "name": "stderr",
     "output_type": "stream",
     "text": [
      "                                                                  \r"
     ]
    },
    {
     "name": "stdout",
     "output_type": "stream",
     "text": [
      "PGD Evasion Rate on adversarial examples with 0.005 epsilon: 0.5456667639334695%\n",
      "FGSM Evasion Rate on adversarial examples with 0.01 epsilon: 0.880176141337507%\n"
     ]
    },
    {
     "name": "stderr",
     "output_type": "stream",
     "text": [
      "                                                                  \r"
     ]
    },
    {
     "name": "stdout",
     "output_type": "stream",
     "text": [
      "PGD Evasion Rate on adversarial examples with 0.01 epsilon: 0.5868902034644666%\n",
      "FGSM Evasion Rate on adversarial examples with 0.02 epsilon: 0.9143963710640104%\n"
     ]
    },
    {
     "name": "stderr",
     "output_type": "stream",
     "text": [
      "                                                                  \r"
     ]
    },
    {
     "name": "stdout",
     "output_type": "stream",
     "text": [
      "PGD Evasion Rate on adversarial examples with 0.02 epsilon: 0.9365997294214393%\n",
      "FGSM Evasion Rate on adversarial examples with 0.03 epsilon: 0.9177653394169297%\n"
     ]
    },
    {
     "name": "stderr",
     "output_type": "stream",
     "text": [
      "                                                                  \r"
     ]
    },
    {
     "name": "stdout",
     "output_type": "stream",
     "text": [
      "PGD Evasion Rate on adversarial examples with 0.03 epsilon: 0.9580868504124996%\n",
      "FGSM Evasion Rate on adversarial examples with 0.04 epsilon: 0.9217444358967557%\n"
     ]
    },
    {
     "name": "stderr",
     "output_type": "stream",
     "text": [
      "                                                                  \r"
     ]
    },
    {
     "name": "stdout",
     "output_type": "stream",
     "text": [
      "PGD Evasion Rate on adversarial examples with 0.04 epsilon: 0.9612701275963604%\n",
      "FGSM Evasion Rate on adversarial examples with 0.05 epsilon: 0.9267315701514709%\n"
     ]
    },
    {
     "name": "stderr",
     "output_type": "stream",
     "text": [
      "                                                                  \r"
     ]
    },
    {
     "name": "stdout",
     "output_type": "stream",
     "text": [
      "PGD Evasion Rate on adversarial examples with 0.05 epsilon: 0.9843223598694857%\n",
      "FGSM Evasion Rate on adversarial examples with 0.06 epsilon: 0.9362283470833223%\n"
     ]
    },
    {
     "name": "stderr",
     "output_type": "stream",
     "text": [
      "                                                                  \r"
     ]
    },
    {
     "name": "stdout",
     "output_type": "stream",
     "text": [
      "PGD Evasion Rate on adversarial examples with 0.06 epsilon: 0.9942701010690506%\n",
      "FGSM Evasion Rate on adversarial examples with 0.07 epsilon: 0.9499429662837892%\n"
     ]
    },
    {
     "name": "stderr",
     "output_type": "stream",
     "text": [
      "                                                                  \r"
     ]
    },
    {
     "name": "stdout",
     "output_type": "stream",
     "text": [
      "PGD Evasion Rate on adversarial examples with 0.07 epsilon: 0.9972676870838528%\n",
      "FGSM Evasion Rate on adversarial examples with 0.08 epsilon: 0.9617476191739396%\n"
     ]
    },
    {
     "name": "stderr",
     "output_type": "stream",
     "text": [
      "                                                                  \r"
     ]
    },
    {
     "name": "stdout",
     "output_type": "stream",
     "text": [
      "PGD Evasion Rate on adversarial examples with 0.08 epsilon: 0.9979839244502215%\n",
      "FGSM Evasion Rate on adversarial examples with 0.09 epsilon: 0.9684059739501817%\n"
     ]
    },
    {
     "name": "stderr",
     "output_type": "stream",
     "text": [
      "                                                                  \r"
     ]
    },
    {
     "name": "stdout",
     "output_type": "stream",
     "text": [
      "PGD Evasion Rate on adversarial examples with 0.09 epsilon: 0.998010451760087%\n",
      "FGSM Evasion Rate on adversarial examples with 0.1 epsilon: 0.9735257447542245%\n"
     ]
    },
    {
     "name": "stderr",
     "output_type": "stream",
     "text": [
      "                                                                  \r"
     ]
    },
    {
     "name": "stdout",
     "output_type": "stream",
     "text": [
      "PGD Evasion Rate on adversarial examples with 0.1 epsilon: 0.9979839244502215%\n"
     ]
    },
    {
     "name": "stderr",
     "output_type": "stream",
     "text": [
      "ic| fastai_model: True\n",
      "    feature_set_name: 'time_based_features'\n",
      "    nw_attack: 'Fuzzers'\n"
     ]
    },
    {
     "name": "stdout",
     "output_type": "stream",
     "text": [
      "FGSM Evasion Rate on adversarial examples with 1e-05 epsilon: 0.06973684210526315%\n"
     ]
    },
    {
     "name": "stderr",
     "output_type": "stream",
     "text": [
      "                                                                \r"
     ]
    },
    {
     "name": "stdout",
     "output_type": "stream",
     "text": [
      "PGD Evasion Rate on adversarial examples with 1e-05 epsilon: 0.0698421052631579%\n",
      "FGSM Evasion Rate on adversarial examples with 0.0001 epsilon: 0.06347368421052632%\n"
     ]
    },
    {
     "name": "stderr",
     "output_type": "stream",
     "text": [
      "                                                                \r"
     ]
    },
    {
     "name": "stdout",
     "output_type": "stream",
     "text": [
      "PGD Evasion Rate on adversarial examples with 0.0001 epsilon: 0.06578947368421052%\n",
      "FGSM Evasion Rate on adversarial examples with 0.001 epsilon: 0.21073684210526317%\n"
     ]
    },
    {
     "name": "stderr",
     "output_type": "stream",
     "text": [
      "                                                                \r"
     ]
    },
    {
     "name": "stdout",
     "output_type": "stream",
     "text": [
      "PGD Evasion Rate on adversarial examples with 0.001 epsilon: 0.24084210526315789%\n",
      "FGSM Evasion Rate on adversarial examples with 0.005 epsilon: 0.6348421052631579%\n"
     ]
    },
    {
     "name": "stderr",
     "output_type": "stream",
     "text": [
      "                                                                \r"
     ]
    },
    {
     "name": "stdout",
     "output_type": "stream",
     "text": [
      "PGD Evasion Rate on adversarial examples with 0.005 epsilon: 0.5586315789473684%\n",
      "FGSM Evasion Rate on adversarial examples with 0.01 epsilon: 0.6944210526315789%\n"
     ]
    },
    {
     "name": "stderr",
     "output_type": "stream",
     "text": [
      "                                                                \r"
     ]
    },
    {
     "name": "stdout",
     "output_type": "stream",
     "text": [
      "PGD Evasion Rate on adversarial examples with 0.01 epsilon: 0.58%\n",
      "FGSM Evasion Rate on adversarial examples with 0.02 epsilon: 0.699%\n"
     ]
    },
    {
     "name": "stderr",
     "output_type": "stream",
     "text": [
      "                                                                \r"
     ]
    },
    {
     "name": "stdout",
     "output_type": "stream",
     "text": [
      "PGD Evasion Rate on adversarial examples with 0.02 epsilon: 0.7642105263157895%\n",
      "FGSM Evasion Rate on adversarial examples with 0.03 epsilon: 0.7030526315789474%\n"
     ]
    },
    {
     "name": "stderr",
     "output_type": "stream",
     "text": [
      "                                                                \r"
     ]
    },
    {
     "name": "stdout",
     "output_type": "stream",
     "text": [
      "PGD Evasion Rate on adversarial examples with 0.03 epsilon: 0.8092105263157895%\n",
      "FGSM Evasion Rate on adversarial examples with 0.04 epsilon: 0.7168947368421053%\n"
     ]
    },
    {
     "name": "stderr",
     "output_type": "stream",
     "text": [
      "                                                                \r"
     ]
    },
    {
     "name": "stdout",
     "output_type": "stream",
     "text": [
      "PGD Evasion Rate on adversarial examples with 0.04 epsilon: 0.8620526315789474%\n",
      "FGSM Evasion Rate on adversarial examples with 0.05 epsilon: 0.7533157894736842%\n"
     ]
    },
    {
     "name": "stderr",
     "output_type": "stream",
     "text": [
      "                                                                \r"
     ]
    },
    {
     "name": "stdout",
     "output_type": "stream",
     "text": [
      "PGD Evasion Rate on adversarial examples with 0.05 epsilon: 0.9013684210526316%\n",
      "FGSM Evasion Rate on adversarial examples with 0.06 epsilon: 0.7721052631578947%\n"
     ]
    },
    {
     "name": "stderr",
     "output_type": "stream",
     "text": [
      "                                                                \r"
     ]
    },
    {
     "name": "stdout",
     "output_type": "stream",
     "text": [
      "PGD Evasion Rate on adversarial examples with 0.06 epsilon: 0.9471578947368421%\n",
      "FGSM Evasion Rate on adversarial examples with 0.07 epsilon: 0.8141578947368421%\n"
     ]
    },
    {
     "name": "stderr",
     "output_type": "stream",
     "text": [
      "                                                                \r"
     ]
    },
    {
     "name": "stdout",
     "output_type": "stream",
     "text": [
      "PGD Evasion Rate on adversarial examples with 0.07 epsilon: 0.9590526315789474%\n",
      "FGSM Evasion Rate on adversarial examples with 0.08 epsilon: 0.8402631578947368%\n"
     ]
    },
    {
     "name": "stderr",
     "output_type": "stream",
     "text": [
      "                                                                \r"
     ]
    },
    {
     "name": "stdout",
     "output_type": "stream",
     "text": [
      "PGD Evasion Rate on adversarial examples with 0.08 epsilon: 0.9755789473684211%\n",
      "FGSM Evasion Rate on adversarial examples with 0.09 epsilon: 0.8695263157894737%\n"
     ]
    },
    {
     "name": "stderr",
     "output_type": "stream",
     "text": [
      "                                                                \r"
     ]
    },
    {
     "name": "stdout",
     "output_type": "stream",
     "text": [
      "PGD Evasion Rate on adversarial examples with 0.09 epsilon: 0.9787894736842105%\n",
      "FGSM Evasion Rate on adversarial examples with 0.1 epsilon: 0.8846842105263157%\n"
     ]
    },
    {
     "name": "stderr",
     "output_type": "stream",
     "text": [
      "ic                                                              | fastai_model: True\n",
      "    feature_set_name: 'time_based_features'\n",
      "    nw_attack: 'Reconnaissance'\n"
     ]
    },
    {
     "name": "stdout",
     "output_type": "stream",
     "text": [
      "PGD Evasion Rate on adversarial examples with 0.1 epsilon: 0.9783157894736842%\n",
      "FGSM Evasion Rate on adversarial examples with 1e-05 epsilon: 0.019161466115847764%\n"
     ]
    },
    {
     "name": "stderr",
     "output_type": "stream",
     "text": [
      "                                                                \r"
     ]
    },
    {
     "name": "stdout",
     "output_type": "stream",
     "text": [
      "PGD Evasion Rate on adversarial examples with 1e-05 epsilon: 0.0192493627494067%\n",
      "FGSM Evasion Rate on adversarial examples with 0.0001 epsilon: 0.01854618968093522%\n"
     ]
    },
    {
     "name": "stderr",
     "output_type": "stream",
     "text": [
      "                                                                \r"
     ]
    },
    {
     "name": "stdout",
     "output_type": "stream",
     "text": [
      "PGD Evasion Rate on adversarial examples with 0.0001 epsilon: 0.018809879581612024%\n",
      "FGSM Evasion Rate on adversarial examples with 0.001 epsilon: 0.3204711259558759%\n"
     ]
    },
    {
     "name": "stderr",
     "output_type": "stream",
     "text": [
      "                                                                \r"
     ]
    },
    {
     "name": "stdout",
     "output_type": "stream",
     "text": [
      "PGD Evasion Rate on adversarial examples with 0.001 epsilon: 0.32196536872637777%\n",
      "FGSM Evasion Rate on adversarial examples with 0.005 epsilon: 0.6395359057748088%\n"
     ]
    },
    {
     "name": "stderr",
     "output_type": "stream",
     "text": [
      "                                                                \r"
     ]
    },
    {
     "name": "stdout",
     "output_type": "stream",
     "text": [
      "PGD Evasion Rate on adversarial examples with 0.005 epsilon: 0.5484749934077525%\n",
      "FGSM Evasion Rate on adversarial examples with 0.01 epsilon: 0.6695086578184055%\n"
     ]
    },
    {
     "name": "stderr",
     "output_type": "stream",
     "text": [
      "                                                                \r"
     ]
    },
    {
     "name": "stdout",
     "output_type": "stream",
     "text": [
      "PGD Evasion Rate on adversarial examples with 0.01 epsilon: 0.5669332864551287%\n",
      "FGSM Evasion Rate on adversarial examples with 0.02 epsilon: 0.6713544871231432%\n"
     ]
    },
    {
     "name": "stderr",
     "output_type": "stream",
     "text": [
      "                                                                \r"
     ]
    },
    {
     "name": "stdout",
     "output_type": "stream",
     "text": [
      "PGD Evasion Rate on adversarial examples with 0.02 epsilon: 0.6712665904895843%\n",
      "FGSM Evasion Rate on adversarial examples with 0.03 epsilon: 0.6718818669244968%\n"
     ]
    },
    {
     "name": "stderr",
     "output_type": "stream",
     "text": [
      "                                                                \r"
     ]
    },
    {
     "name": "stdout",
     "output_type": "stream",
     "text": [
      "PGD Evasion Rate on adversarial examples with 0.03 epsilon: 0.7288388854706864%\n",
      "FGSM Evasion Rate on adversarial examples with 0.04 epsilon: 0.6723213500922914%\n"
     ]
    },
    {
     "name": "stderr",
     "output_type": "stream",
     "text": [
      "                                                                \r"
     ]
    },
    {
     "name": "stdout",
     "output_type": "stream",
     "text": [
      "PGD Evasion Rate on adversarial examples with 0.04 epsilon: 0.870791948668366%\n",
      "FGSM Evasion Rate on adversarial examples with 0.05 epsilon: 0.6748703524655005%\n"
     ]
    },
    {
     "name": "stderr",
     "output_type": "stream",
     "text": [
      "                                                                \r"
     ]
    },
    {
     "name": "stdout",
     "output_type": "stream",
     "text": [
      "PGD Evasion Rate on adversarial examples with 0.05 epsilon: 0.9646655533093083%\n",
      "FGSM Evasion Rate on adversarial examples with 0.06 epsilon: 0.6761009053353256%\n"
     ]
    },
    {
     "name": "stderr",
     "output_type": "stream",
     "text": [
      "                                                                \r"
     ]
    },
    {
     "name": "stdout",
     "output_type": "stream",
     "text": [
      "PGD Evasion Rate on adversarial examples with 0.06 epsilon: 0.9277489672145557%\n",
      "FGSM Evasion Rate on adversarial examples with 0.07 epsilon: 0.6623011338665729%\n"
     ]
    },
    {
     "name": "stderr",
     "output_type": "stream",
     "text": [
      "                                                                \r"
     ]
    },
    {
     "name": "stdout",
     "output_type": "stream",
     "text": [
      "PGD Evasion Rate on adversarial examples with 0.07 epsilon: 0.9548211303507076%\n",
      "FGSM Evasion Rate on adversarial examples with 0.08 epsilon: 0.6654654126746946%\n"
     ]
    },
    {
     "name": "stderr",
     "output_type": "stream",
     "text": [
      "                                                                \r"
     ]
    },
    {
     "name": "stdout",
     "output_type": "stream",
     "text": [
      "PGD Evasion Rate on adversarial examples with 0.08 epsilon: 0.9466467434297267%\n",
      "FGSM Evasion Rate on adversarial examples with 0.09 epsilon: 0.7376285488265799%\n"
     ]
    },
    {
     "name": "stderr",
     "output_type": "stream",
     "text": [
      "                                                                \r"
     ]
    },
    {
     "name": "stdout",
     "output_type": "stream",
     "text": [
      "PGD Evasion Rate on adversarial examples with 0.09 epsilon: 0.9558758899534148%\n",
      "FGSM Evasion Rate on adversarial examples with 0.1 epsilon: 0.7421991737716446%\n"
     ]
    },
    {
     "name": "stderr",
     "output_type": "stream",
     "text": [
      "ic                                                              | fastai_model: True\n",
      "    feature_set_name: 'time_based_features'\n",
      "    nw_attack: 'Generic'\n"
     ]
    },
    {
     "name": "stdout",
     "output_type": "stream",
     "text": [
      "PGD Evasion Rate on adversarial examples with 0.1 epsilon: 1.0%\n",
      "FGSM Evasion Rate on adversarial examples with 1e-05 epsilon: 0.032465150403521645%\n"
     ]
    },
    {
     "name": "stderr",
     "output_type": "stream",
     "text": [
      "                                                                \r"
     ]
    },
    {
     "name": "stdout",
     "output_type": "stream",
     "text": [
      "PGD Evasion Rate on adversarial examples with 1e-05 epsilon: 0.0326485693323551%\n",
      "FGSM Evasion Rate on adversarial examples with 0.0001 epsilon: 0.030814380044020543%\n"
     ]
    },
    {
     "name": "stderr",
     "output_type": "stream",
     "text": [
      "                                                                \r"
     ]
    },
    {
     "name": "stdout",
     "output_type": "stream",
     "text": [
      "PGD Evasion Rate on adversarial examples with 0.0001 epsilon: 0.03136463683052091%\n",
      "FGSM Evasion Rate on adversarial examples with 0.001 epsilon: 0.07887013939838591%\n"
     ]
    },
    {
     "name": "stderr",
     "output_type": "stream",
     "text": [
      "                                                                \r"
     ]
    },
    {
     "name": "stdout",
     "output_type": "stream",
     "text": [
      "PGD Evasion Rate on adversarial examples with 0.001 epsilon: 0.12655906089508437%\n",
      "FGSM Evasion Rate on adversarial examples with 0.005 epsilon: 0.6648936170212766%\n"
     ]
    },
    {
     "name": "stderr",
     "output_type": "stream",
     "text": [
      "                                                                \r"
     ]
    },
    {
     "name": "stdout",
     "output_type": "stream",
     "text": [
      "PGD Evasion Rate on adversarial examples with 0.005 epsilon: 0.4831254585473221%\n",
      "FGSM Evasion Rate on adversarial examples with 0.01 epsilon: 0.7432134996331622%\n"
     ]
    },
    {
     "name": "stderr",
     "output_type": "stream",
     "text": [
      "                                                                \r"
     ]
    },
    {
     "name": "stdout",
     "output_type": "stream",
     "text": [
      "PGD Evasion Rate on adversarial examples with 0.01 epsilon: 0.5166911225238444%\n",
      "FGSM Evasion Rate on adversarial examples with 0.02 epsilon: 0.8497798972853998%\n"
     ]
    },
    {
     "name": "stderr",
     "output_type": "stream",
     "text": [
      "                                                                \r"
     ]
    },
    {
     "name": "stdout",
     "output_type": "stream",
     "text": [
      "PGD Evasion Rate on adversarial examples with 0.02 epsilon: 0.8688554658840792%\n",
      "FGSM Evasion Rate on adversarial examples with 0.03 epsilon: 0.8560161408657373%\n"
     ]
    },
    {
     "name": "stderr",
     "output_type": "stream",
     "text": [
      "                                                                \r"
     ]
    },
    {
     "name": "stdout",
     "output_type": "stream",
     "text": [
      "PGD Evasion Rate on adversarial examples with 0.03 epsilon: 0.8851797505502568%\n",
      "FGSM Evasion Rate on adversarial examples with 0.04 epsilon: 0.861518708730741%\n"
     ]
    },
    {
     "name": "stderr",
     "output_type": "stream",
     "text": [
      "                                                                \r"
     ]
    },
    {
     "name": "stdout",
     "output_type": "stream",
     "text": [
      "PGD Evasion Rate on adversarial examples with 0.04 epsilon: 0.9163609684519443%\n",
      "FGSM Evasion Rate on adversarial examples with 0.05 epsilon: 0.8708730741012473%\n"
     ]
    },
    {
     "name": "stderr",
     "output_type": "stream",
     "text": [
      "                                                                \r"
     ]
    },
    {
     "name": "stdout",
     "output_type": "stream",
     "text": [
      "PGD Evasion Rate on adversarial examples with 0.05 epsilon: 0.9737710931768159%\n",
      "FGSM Evasion Rate on adversarial examples with 0.06 epsilon: 0.8893983859134262%\n"
     ]
    },
    {
     "name": "stderr",
     "output_type": "stream",
     "text": [
      "                                                                \r"
     ]
    },
    {
     "name": "stdout",
     "output_type": "stream",
     "text": [
      "PGD Evasion Rate on adversarial examples with 0.06 epsilon: 0.9809244314013206%\n",
      "FGSM Evasion Rate on adversarial examples with 0.07 epsilon: 0.9141599413059428%\n"
     ]
    },
    {
     "name": "stderr",
     "output_type": "stream",
     "text": [
      "                                                                \r"
     ]
    },
    {
     "name": "stdout",
     "output_type": "stream",
     "text": [
      "PGD Evasion Rate on adversarial examples with 0.07 epsilon: 0.9844093910491563%\n",
      "FGSM Evasion Rate on adversarial examples with 0.08 epsilon: 0.9391049156272927%\n"
     ]
    },
    {
     "name": "stderr",
     "output_type": "stream",
     "text": [
      "                                                                \r"
     ]
    },
    {
     "name": "stdout",
     "output_type": "stream",
     "text": [
      "PGD Evasion Rate on adversarial examples with 0.08 epsilon: 0.9847762289068231%\n",
      "FGSM Evasion Rate on adversarial examples with 0.09 epsilon: 0.9537784299339692%\n"
     ]
    },
    {
     "name": "stderr",
     "output_type": "stream",
     "text": [
      "                                                                \r"
     ]
    },
    {
     "name": "stdout",
     "output_type": "stream",
     "text": [
      "PGD Evasion Rate on adversarial examples with 0.09 epsilon: 0.987527512839325%\n",
      "FGSM Evasion Rate on adversarial examples with 0.1 epsilon: 0.962582538517975%\n"
     ]
    },
    {
     "name": "stderr",
     "output_type": "stream",
     "text": [
      "ic                                                              | fastai_model: True\n",
      "    feature_set_name: 'time_based_features'\n",
      "    nw_attack: 'Shellcode'\n"
     ]
    },
    {
     "name": "stdout",
     "output_type": "stream",
     "text": [
      "PGD Evasion Rate on adversarial examples with 0.1 epsilon: 0.987527512839325%\n",
      "FGSM Evasion Rate on adversarial examples with 1e-05 epsilon: 0.03361344537815126%\n"
     ]
    },
    {
     "name": "stderr",
     "output_type": "stream",
     "text": [
      "                                                              \r"
     ]
    },
    {
     "name": "stdout",
     "output_type": "stream",
     "text": [
      "PGD Evasion Rate on adversarial examples with 1e-05 epsilon: 0.03361344537815126%\n",
      "FGSM Evasion Rate on adversarial examples with 0.0001 epsilon: 0.031512605042016806%\n"
     ]
    },
    {
     "name": "stderr",
     "output_type": "stream",
     "text": [
      "                                                              \r"
     ]
    },
    {
     "name": "stdout",
     "output_type": "stream",
     "text": [
      "PGD Evasion Rate on adversarial examples with 0.0001 epsilon: 0.03221288515406162%\n",
      "FGSM Evasion Rate on adversarial examples with 0.001 epsilon: 0.14705882352941177%\n"
     ]
    },
    {
     "name": "stderr",
     "output_type": "stream",
     "text": [
      "                                                              \r"
     ]
    },
    {
     "name": "stdout",
     "output_type": "stream",
     "text": [
      "PGD Evasion Rate on adversarial examples with 0.001 epsilon: 0.20168067226890757%\n",
      "FGSM Evasion Rate on adversarial examples with 0.005 epsilon: 0.5399159663865546%\n"
     ]
    },
    {
     "name": "stderr",
     "output_type": "stream",
     "text": [
      "                                                              \r"
     ]
    },
    {
     "name": "stdout",
     "output_type": "stream",
     "text": [
      "PGD Evasion Rate on adversarial examples with 0.005 epsilon: 0.4852941176470588%\n",
      "FGSM Evasion Rate on adversarial examples with 0.01 epsilon: 0.5637254901960784%\n"
     ]
    },
    {
     "name": "stderr",
     "output_type": "stream",
     "text": [
      "                                                              \r"
     ]
    },
    {
     "name": "stdout",
     "output_type": "stream",
     "text": [
      "PGD Evasion Rate on adversarial examples with 0.01 epsilon: 0.5126050420168067%\n",
      "FGSM Evasion Rate on adversarial examples with 0.02 epsilon: 0.6050420168067226%\n"
     ]
    },
    {
     "name": "stderr",
     "output_type": "stream",
     "text": [
      "                                                              \r"
     ]
    },
    {
     "name": "stdout",
     "output_type": "stream",
     "text": [
      "PGD Evasion Rate on adversarial examples with 0.02 epsilon: 0.6904761904761905%\n",
      "FGSM Evasion Rate on adversarial examples with 0.03 epsilon: 0.623249299719888%\n"
     ]
    },
    {
     "name": "stderr",
     "output_type": "stream",
     "text": [
      "                                                              \r"
     ]
    },
    {
     "name": "stdout",
     "output_type": "stream",
     "text": [
      "PGD Evasion Rate on adversarial examples with 0.03 epsilon: 0.7668067226890757%\n",
      "FGSM Evasion Rate on adversarial examples with 0.04 epsilon: 0.665266106442577%\n"
     ]
    },
    {
     "name": "stderr",
     "output_type": "stream",
     "text": [
      "                                                              \r"
     ]
    },
    {
     "name": "stdout",
     "output_type": "stream",
     "text": [
      "PGD Evasion Rate on adversarial examples with 0.04 epsilon: 0.8403361344537815%\n",
      "FGSM Evasion Rate on adversarial examples with 0.05 epsilon: 0.6778711484593838%\n"
     ]
    },
    {
     "name": "stderr",
     "output_type": "stream",
     "text": [
      "                                                              \r"
     ]
    },
    {
     "name": "stdout",
     "output_type": "stream",
     "text": [
      "PGD Evasion Rate on adversarial examples with 0.05 epsilon: 0.9131652661064426%\n",
      "FGSM Evasion Rate on adversarial examples with 0.06 epsilon: 0.6953781512605042%\n"
     ]
    },
    {
     "name": "stderr",
     "output_type": "stream",
     "text": [
      "                                                              \r"
     ]
    },
    {
     "name": "stdout",
     "output_type": "stream",
     "text": [
      "PGD Evasion Rate on adversarial examples with 0.06 epsilon: 0.9362745098039216%\n",
      "FGSM Evasion Rate on adversarial examples with 0.07 epsilon: 0.7072829131652661%\n"
     ]
    },
    {
     "name": "stderr",
     "output_type": "stream",
     "text": [
      "                                                              \r"
     ]
    },
    {
     "name": "stdout",
     "output_type": "stream",
     "text": [
      "PGD Evasion Rate on adversarial examples with 0.07 epsilon: 0.9327731092436975%\n",
      "FGSM Evasion Rate on adversarial examples with 0.08 epsilon: 0.7317927170868347%\n"
     ]
    },
    {
     "name": "stderr",
     "output_type": "stream",
     "text": [
      "                                                              \r"
     ]
    },
    {
     "name": "stdout",
     "output_type": "stream",
     "text": [
      "PGD Evasion Rate on adversarial examples with 0.08 epsilon: 0.9432773109243697%\n",
      "FGSM Evasion Rate on adversarial examples with 0.09 epsilon: 0.7668067226890757%\n"
     ]
    },
    {
     "name": "stderr",
     "output_type": "stream",
     "text": [
      "                                                              \r"
     ]
    },
    {
     "name": "stdout",
     "output_type": "stream",
     "text": [
      "PGD Evasion Rate on adversarial examples with 0.09 epsilon: 0.9544817927170869%\n",
      "FGSM Evasion Rate on adversarial examples with 0.1 epsilon: 0.7899159663865546%\n"
     ]
    },
    {
     "name": "stderr",
     "output_type": "stream",
     "text": [
      "ic                                                            | fastai_model: True\n",
      "    feature_set_name: 'time_based_features'\n",
      "    nw_attack: 'Analysis'\n"
     ]
    },
    {
     "name": "stdout",
     "output_type": "stream",
     "text": [
      "PGD Evasion Rate on adversarial examples with 0.1 epsilon: 0.9502801120448179%\n",
      "FGSM Evasion Rate on adversarial examples with 1e-05 epsilon: 0.030344827586206897%\n"
     ]
    },
    {
     "name": "stderr",
     "output_type": "stream",
     "text": [
      "                                                              \r"
     ]
    },
    {
     "name": "stdout",
     "output_type": "stream",
     "text": [
      "PGD Evasion Rate on adversarial examples with 1e-05 epsilon: 0.030344827586206897%\n",
      "FGSM Evasion Rate on adversarial examples with 0.0001 epsilon: 0.030344827586206897%\n"
     ]
    },
    {
     "name": "stderr",
     "output_type": "stream",
     "text": [
      "                                                              \r"
     ]
    },
    {
     "name": "stdout",
     "output_type": "stream",
     "text": [
      "PGD Evasion Rate on adversarial examples with 0.0001 epsilon: 0.030344827586206897%\n",
      "FGSM Evasion Rate on adversarial examples with 0.001 epsilon: 0.05379310344827586%\n"
     ]
    },
    {
     "name": "stderr",
     "output_type": "stream",
     "text": [
      "                                                              \r"
     ]
    },
    {
     "name": "stdout",
     "output_type": "stream",
     "text": [
      "PGD Evasion Rate on adversarial examples with 0.001 epsilon: 0.12137931034482759%\n",
      "FGSM Evasion Rate on adversarial examples with 0.005 epsilon: 0.6993103448275862%\n"
     ]
    },
    {
     "name": "stderr",
     "output_type": "stream",
     "text": [
      "                                                              \r"
     ]
    },
    {
     "name": "stdout",
     "output_type": "stream",
     "text": [
      "PGD Evasion Rate on adversarial examples with 0.005 epsilon: 0.3503448275862069%\n",
      "FGSM Evasion Rate on adversarial examples with 0.01 epsilon: 0.7103448275862069%\n"
     ]
    },
    {
     "name": "stderr",
     "output_type": "stream",
     "text": [
      "                                                              \r"
     ]
    },
    {
     "name": "stdout",
     "output_type": "stream",
     "text": [
      "PGD Evasion Rate on adversarial examples with 0.01 epsilon: 0.4496551724137931%\n",
      "FGSM Evasion Rate on adversarial examples with 0.02 epsilon: 0.8096551724137931%\n"
     ]
    },
    {
     "name": "stderr",
     "output_type": "stream",
     "text": [
      "                                                              \r"
     ]
    },
    {
     "name": "stdout",
     "output_type": "stream",
     "text": [
      "PGD Evasion Rate on adversarial examples with 0.02 epsilon: 0.9944827586206897%\n",
      "FGSM Evasion Rate on adversarial examples with 0.03 epsilon: 0.8827586206896552%\n"
     ]
    },
    {
     "name": "stderr",
     "output_type": "stream",
     "text": [
      "                                                              \r"
     ]
    },
    {
     "name": "stdout",
     "output_type": "stream",
     "text": [
      "PGD Evasion Rate on adversarial examples with 0.03 epsilon: 1.0%\n",
      "FGSM Evasion Rate on adversarial examples with 0.04 epsilon: 0.9255172413793104%\n"
     ]
    },
    {
     "name": "stderr",
     "output_type": "stream",
     "text": [
      "                                                              \r"
     ]
    },
    {
     "name": "stdout",
     "output_type": "stream",
     "text": [
      "PGD Evasion Rate on adversarial examples with 0.04 epsilon: 1.0%\n",
      "FGSM Evasion Rate on adversarial examples with 0.05 epsilon: 0.9393103448275862%\n"
     ]
    },
    {
     "name": "stderr",
     "output_type": "stream",
     "text": [
      "                                                              \r"
     ]
    },
    {
     "name": "stdout",
     "output_type": "stream",
     "text": [
      "PGD Evasion Rate on adversarial examples with 0.05 epsilon: 1.0%\n",
      "FGSM Evasion Rate on adversarial examples with 0.06 epsilon: 0.9558620689655173%\n"
     ]
    },
    {
     "name": "stderr",
     "output_type": "stream",
     "text": [
      "                                                              \r"
     ]
    },
    {
     "name": "stdout",
     "output_type": "stream",
     "text": [
      "PGD Evasion Rate on adversarial examples with 0.06 epsilon: 1.0%\n",
      "FGSM Evasion Rate on adversarial examples with 0.07 epsilon: 0.9724137931034482%\n"
     ]
    },
    {
     "name": "stderr",
     "output_type": "stream",
     "text": [
      "                                                              \r"
     ]
    },
    {
     "name": "stdout",
     "output_type": "stream",
     "text": [
      "PGD Evasion Rate on adversarial examples with 0.07 epsilon: 1.0%\n",
      "FGSM Evasion Rate on adversarial examples with 0.08 epsilon: 0.9848275862068966%\n"
     ]
    },
    {
     "name": "stderr",
     "output_type": "stream",
     "text": [
      "                                                              \r"
     ]
    },
    {
     "name": "stdout",
     "output_type": "stream",
     "text": [
      "PGD Evasion Rate on adversarial examples with 0.08 epsilon: 1.0%\n",
      "FGSM Evasion Rate on adversarial examples with 0.09 epsilon: 0.9917241379310345%\n"
     ]
    },
    {
     "name": "stderr",
     "output_type": "stream",
     "text": [
      "                                                              \r"
     ]
    },
    {
     "name": "stdout",
     "output_type": "stream",
     "text": [
      "PGD Evasion Rate on adversarial examples with 0.09 epsilon: 1.0%\n",
      "FGSM Evasion Rate on adversarial examples with 0.1 epsilon: 0.9917241379310345%\n"
     ]
    },
    {
     "name": "stderr",
     "output_type": "stream",
     "text": [
      "ic                                                            | fastai_model: True\n",
      "    feature_set_name: 'time_based_features'\n",
      "    nw_attack: 'Backdoors'\n"
     ]
    },
    {
     "name": "stdout",
     "output_type": "stream",
     "text": [
      "PGD Evasion Rate on adversarial examples with 0.1 epsilon: 0.9986206896551724%\n",
      "FGSM Evasion Rate on adversarial examples with 1e-05 epsilon: 0.04081632653061224%\n"
     ]
    },
    {
     "name": "stderr",
     "output_type": "stream",
     "text": [
      "                                                              \r"
     ]
    },
    {
     "name": "stdout",
     "output_type": "stream",
     "text": [
      "PGD Evasion Rate on adversarial examples with 1e-05 epsilon: 0.04081632653061224%\n",
      "FGSM Evasion Rate on adversarial examples with 0.0001 epsilon: 0.024489795918367346%\n"
     ]
    },
    {
     "name": "stderr",
     "output_type": "stream",
     "text": [
      "                                                              \r"
     ]
    },
    {
     "name": "stdout",
     "output_type": "stream",
     "text": [
      "PGD Evasion Rate on adversarial examples with 0.0001 epsilon: 0.0326530612244898%\n",
      "FGSM Evasion Rate on adversarial examples with 0.001 epsilon: 0.2836734693877551%\n"
     ]
    },
    {
     "name": "stderr",
     "output_type": "stream",
     "text": [
      "                                                              \r"
     ]
    },
    {
     "name": "stdout",
     "output_type": "stream",
     "text": [
      "PGD Evasion Rate on adversarial examples with 0.001 epsilon: 0.3510204081632653%\n",
      "FGSM Evasion Rate on adversarial examples with 0.005 epsilon: 0.8489795918367347%\n"
     ]
    },
    {
     "name": "stderr",
     "output_type": "stream",
     "text": [
      "                                                              \r"
     ]
    },
    {
     "name": "stdout",
     "output_type": "stream",
     "text": [
      "PGD Evasion Rate on adversarial examples with 0.005 epsilon: 0.6408163265306123%\n",
      "FGSM Evasion Rate on adversarial examples with 0.01 epsilon: 0.9142857142857143%\n"
     ]
    },
    {
     "name": "stderr",
     "output_type": "stream",
     "text": [
      "                                                              \r"
     ]
    },
    {
     "name": "stdout",
     "output_type": "stream",
     "text": [
      "PGD Evasion Rate on adversarial examples with 0.01 epsilon: 0.6673469387755102%\n",
      "FGSM Evasion Rate on adversarial examples with 0.02 epsilon: 0.9693877551020408%\n"
     ]
    },
    {
     "name": "stderr",
     "output_type": "stream",
     "text": [
      "                                                              \r"
     ]
    },
    {
     "name": "stdout",
     "output_type": "stream",
     "text": [
      "PGD Evasion Rate on adversarial examples with 0.02 epsilon: 0.9979591836734694%\n",
      "FGSM Evasion Rate on adversarial examples with 0.03 epsilon: 0.9877551020408163%\n"
     ]
    },
    {
     "name": "stderr",
     "output_type": "stream",
     "text": [
      "                                                              \r"
     ]
    },
    {
     "name": "stdout",
     "output_type": "stream",
     "text": [
      "PGD Evasion Rate on adversarial examples with 0.03 epsilon: 0.9979591836734694%\n",
      "FGSM Evasion Rate on adversarial examples with 0.04 epsilon: 0.9877551020408163%\n"
     ]
    },
    {
     "name": "stderr",
     "output_type": "stream",
     "text": [
      "                                                              \r"
     ]
    },
    {
     "name": "stdout",
     "output_type": "stream",
     "text": [
      "PGD Evasion Rate on adversarial examples with 0.04 epsilon: 0.9979591836734694%\n",
      "FGSM Evasion Rate on adversarial examples with 0.05 epsilon: 0.9816326530612245%\n"
     ]
    },
    {
     "name": "stderr",
     "output_type": "stream",
     "text": [
      "                                                              \r"
     ]
    },
    {
     "name": "stdout",
     "output_type": "stream",
     "text": [
      "PGD Evasion Rate on adversarial examples with 0.05 epsilon: 0.9959183673469387%\n",
      "FGSM Evasion Rate on adversarial examples with 0.06 epsilon: 0.9836734693877551%\n"
     ]
    },
    {
     "name": "stderr",
     "output_type": "stream",
     "text": [
      "                                                              \r"
     ]
    },
    {
     "name": "stdout",
     "output_type": "stream",
     "text": [
      "PGD Evasion Rate on adversarial examples with 0.06 epsilon: 1.0%\n",
      "FGSM Evasion Rate on adversarial examples with 0.07 epsilon: 0.9877551020408163%\n"
     ]
    },
    {
     "name": "stderr",
     "output_type": "stream",
     "text": [
      "                                                              \r"
     ]
    },
    {
     "name": "stdout",
     "output_type": "stream",
     "text": [
      "PGD Evasion Rate on adversarial examples with 0.07 epsilon: 1.0%\n",
      "FGSM Evasion Rate on adversarial examples with 0.08 epsilon: 0.9959183673469387%\n"
     ]
    },
    {
     "name": "stderr",
     "output_type": "stream",
     "text": [
      "                                                              \r"
     ]
    },
    {
     "name": "stdout",
     "output_type": "stream",
     "text": [
      "PGD Evasion Rate on adversarial examples with 0.08 epsilon: 0.9979591836734694%\n",
      "FGSM Evasion Rate on adversarial examples with 0.09 epsilon: 0.9979591836734694%\n"
     ]
    },
    {
     "name": "stderr",
     "output_type": "stream",
     "text": [
      "                                                              \r"
     ]
    },
    {
     "name": "stdout",
     "output_type": "stream",
     "text": [
      "PGD Evasion Rate on adversarial examples with 0.09 epsilon: 1.0%\n",
      "FGSM Evasion Rate on adversarial examples with 0.1 epsilon: 0.9979591836734694%\n"
     ]
    },
    {
     "name": "stderr",
     "output_type": "stream",
     "text": [
      "ic                                                            | fastai_model: True\n",
      "    feature_set_name: 'time_based_features'\n",
      "    nw_attack: 'Worms'\n"
     ]
    },
    {
     "name": "stdout",
     "output_type": "stream",
     "text": [
      "PGD Evasion Rate on adversarial examples with 0.1 epsilon: 1.0%\n",
      "FGSM Evasion Rate on adversarial examples with 1e-05 epsilon: 0.015789473684210527%\n"
     ]
    },
    {
     "name": "stderr",
     "output_type": "stream",
     "text": [
      "                                                            \r"
     ]
    },
    {
     "name": "stdout",
     "output_type": "stream",
     "text": [
      "PGD Evasion Rate on adversarial examples with 1e-05 epsilon: 0.015789473684210527%\n",
      "FGSM Evasion Rate on adversarial examples with 0.0001 epsilon: 0.015789473684210527%\n"
     ]
    },
    {
     "name": "stderr",
     "output_type": "stream",
     "text": [
      "                                                            \r"
     ]
    },
    {
     "name": "stdout",
     "output_type": "stream",
     "text": [
      "PGD Evasion Rate on adversarial examples with 0.0001 epsilon: 0.015789473684210527%\n",
      "FGSM Evasion Rate on adversarial examples with 0.001 epsilon: 0.04736842105263158%\n"
     ]
    },
    {
     "name": "stderr",
     "output_type": "stream",
     "text": [
      "                                                            \r"
     ]
    },
    {
     "name": "stdout",
     "output_type": "stream",
     "text": [
      "PGD Evasion Rate on adversarial examples with 0.001 epsilon: 0.09473684210526316%\n",
      "FGSM Evasion Rate on adversarial examples with 0.005 epsilon: 0.7421052631578947%\n"
     ]
    },
    {
     "name": "stderr",
     "output_type": "stream",
     "text": [
      "                                                            \r"
     ]
    },
    {
     "name": "stdout",
     "output_type": "stream",
     "text": [
      "PGD Evasion Rate on adversarial examples with 0.005 epsilon: 0.6105263157894737%\n",
      "FGSM Evasion Rate on adversarial examples with 0.01 epsilon: 0.7842105263157895%\n"
     ]
    },
    {
     "name": "stderr",
     "output_type": "stream",
     "text": [
      "                                                            \r"
     ]
    },
    {
     "name": "stdout",
     "output_type": "stream",
     "text": [
      "PGD Evasion Rate on adversarial examples with 0.01 epsilon: 0.7315789473684211%\n",
      "FGSM Evasion Rate on adversarial examples with 0.02 epsilon: 0.8789473684210526%\n"
     ]
    },
    {
     "name": "stderr",
     "output_type": "stream",
     "text": [
      "                                                            \r"
     ]
    },
    {
     "name": "stdout",
     "output_type": "stream",
     "text": [
      "PGD Evasion Rate on adversarial examples with 0.02 epsilon: 0.9%\n",
      "FGSM Evasion Rate on adversarial examples with 0.03 epsilon: 0.8789473684210526%\n"
     ]
    },
    {
     "name": "stderr",
     "output_type": "stream",
     "text": [
      "                                                            \r"
     ]
    },
    {
     "name": "stdout",
     "output_type": "stream",
     "text": [
      "PGD Evasion Rate on adversarial examples with 0.03 epsilon: 0.9368421052631579%\n",
      "FGSM Evasion Rate on adversarial examples with 0.04 epsilon: 0.9157894736842105%\n"
     ]
    },
    {
     "name": "stderr",
     "output_type": "stream",
     "text": [
      "                                                            \r"
     ]
    },
    {
     "name": "stdout",
     "output_type": "stream",
     "text": [
      "PGD Evasion Rate on adversarial examples with 0.04 epsilon: 0.9473684210526315%\n",
      "FGSM Evasion Rate on adversarial examples with 0.05 epsilon: 0.9157894736842105%\n"
     ]
    },
    {
     "name": "stderr",
     "output_type": "stream",
     "text": [
      "                                                            \r"
     ]
    },
    {
     "name": "stdout",
     "output_type": "stream",
     "text": [
      "PGD Evasion Rate on adversarial examples with 0.05 epsilon: 0.9631578947368421%\n",
      "FGSM Evasion Rate on adversarial examples with 0.06 epsilon: 0.9263157894736842%\n"
     ]
    },
    {
     "name": "stderr",
     "output_type": "stream",
     "text": [
      "                                                            \r"
     ]
    },
    {
     "name": "stdout",
     "output_type": "stream",
     "text": [
      "PGD Evasion Rate on adversarial examples with 0.06 epsilon: 0.9789473684210527%\n",
      "FGSM Evasion Rate on adversarial examples with 0.07 epsilon: 0.9368421052631579%\n"
     ]
    },
    {
     "name": "stderr",
     "output_type": "stream",
     "text": [
      "                                                            \r"
     ]
    },
    {
     "name": "stdout",
     "output_type": "stream",
     "text": [
      "PGD Evasion Rate on adversarial examples with 0.07 epsilon: 0.9947368421052631%\n",
      "FGSM Evasion Rate on adversarial examples with 0.08 epsilon: 0.9526315789473684%\n"
     ]
    },
    {
     "name": "stderr",
     "output_type": "stream",
     "text": [
      "                                                            \r"
     ]
    },
    {
     "name": "stdout",
     "output_type": "stream",
     "text": [
      "PGD Evasion Rate on adversarial examples with 0.08 epsilon: 0.9947368421052631%\n",
      "FGSM Evasion Rate on adversarial examples with 0.09 epsilon: 0.9631578947368421%\n"
     ]
    },
    {
     "name": "stderr",
     "output_type": "stream",
     "text": [
      "                                                            \r"
     ]
    },
    {
     "name": "stdout",
     "output_type": "stream",
     "text": [
      "PGD Evasion Rate on adversarial examples with 0.09 epsilon: 0.9947368421052631%\n",
      "FGSM Evasion Rate on adversarial examples with 0.1 epsilon: 0.968421052631579%\n"
     ]
    },
    {
     "name": "stderr",
     "output_type": "stream",
     "text": [
      "ic                                                          | fastai_model: True\n",
      "    feature_set_name: 'volume_based_features'\n",
      "    nw_attack: 'Exploits'\n"
     ]
    },
    {
     "name": "stdout",
     "output_type": "stream",
     "text": [
      "PGD Evasion Rate on adversarial examples with 0.1 epsilon: 0.9947368421052631%\n",
      "FGSM Evasion Rate on adversarial examples with 1e-05 epsilon: 0.03323871926147969%\n"
     ]
    },
    {
     "name": "stderr",
     "output_type": "stream",
     "text": [
      "                                                                  \r"
     ]
    },
    {
     "name": "stdout",
     "output_type": "stream",
     "text": [
      "PGD Evasion Rate on adversarial examples with 1e-05 epsilon: 0.033371355810807225%\n",
      "FGSM Evasion Rate on adversarial examples with 0.0001 epsilon: 0.03177971721887683%\n"
     ]
    },
    {
     "name": "stderr",
     "output_type": "stream",
     "text": [
      "                                                                  \r"
     ]
    },
    {
     "name": "stdout",
     "output_type": "stream",
     "text": [
      "PGD Evasion Rate on adversarial examples with 0.0001 epsilon: 0.03241637265564899%\n",
      "FGSM Evasion Rate on adversarial examples with 0.001 epsilon: 0.02374194232962835%\n"
     ]
    },
    {
     "name": "stderr",
     "output_type": "stream",
     "text": [
      "                                                                  \r"
     ]
    },
    {
     "name": "stdout",
     "output_type": "stream",
     "text": [
      "PGD Evasion Rate on adversarial examples with 0.001 epsilon: 0.026262036766851474%\n",
      "FGSM Evasion Rate on adversarial examples with 0.005 epsilon: 0.22497811496936096%\n"
     ]
    },
    {
     "name": "stderr",
     "output_type": "stream",
     "text": [
      "                                                                  \r"
     ]
    },
    {
     "name": "stdout",
     "output_type": "stream",
     "text": [
      "PGD Evasion Rate on adversarial examples with 0.005 epsilon: 0.45425365413693397%\n",
      "FGSM Evasion Rate on adversarial examples with 0.01 epsilon: 0.2790672997851288%\n"
     ]
    },
    {
     "name": "stderr",
     "output_type": "stream",
     "text": [
      "                                                                  \r"
     ]
    },
    {
     "name": "stdout",
     "output_type": "stream",
     "text": [
      "PGD Evasion Rate on adversarial examples with 0.01 epsilon: 0.5291402498872589%\n",
      "FGSM Evasion Rate on adversarial examples with 0.02 epsilon: 0.30416213491789795%\n"
     ]
    },
    {
     "name": "stderr",
     "output_type": "stream",
     "text": [
      "                                                                  \r"
     ]
    },
    {
     "name": "stdout",
     "output_type": "stream",
     "text": [
      "PGD Evasion Rate on adversarial examples with 0.02 epsilon: 0.480754436692575%\n",
      "FGSM Evasion Rate on adversarial examples with 0.03 epsilon: 0.3089901053134202%\n"
     ]
    },
    {
     "name": "stderr",
     "output_type": "stream",
     "text": [
      "                                                                  \r"
     ]
    },
    {
     "name": "stdout",
     "output_type": "stream",
     "text": [
      "PGD Evasion Rate on adversarial examples with 0.03 epsilon: 0.38249728095073876%\n",
      "FGSM Evasion Rate on adversarial examples with 0.04 epsilon: 0.3076372125102793%\n"
     ]
    },
    {
     "name": "stderr",
     "output_type": "stream",
     "text": [
      "                                                                  \r"
     ]
    },
    {
     "name": "stdout",
     "output_type": "stream",
     "text": [
      "PGD Evasion Rate on adversarial examples with 0.04 epsilon: 0.8086319866302358%\n",
      "FGSM Evasion Rate on adversarial examples with 0.05 epsilon: 0.3113245085815847%\n"
     ]
    },
    {
     "name": "stderr",
     "output_type": "stream",
     "text": [
      "                                                                  \r"
     ]
    },
    {
     "name": "stdout",
     "output_type": "stream",
     "text": [
      "PGD Evasion Rate on adversarial examples with 0.05 epsilon: 0.8610764782343423%\n",
      "FGSM Evasion Rate on adversarial examples with 0.06 epsilon: 0.32655118444438547%\n"
     ]
    },
    {
     "name": "stderr",
     "output_type": "stream",
     "text": [
      "                                                                  \r"
     ]
    },
    {
     "name": "stdout",
     "output_type": "stream",
     "text": [
      "PGD Evasion Rate on adversarial examples with 0.06 epsilon: 0.902432554314667%\n",
      "FGSM Evasion Rate on adversarial examples with 0.07 epsilon: 0.3428920073215375%\n"
     ]
    },
    {
     "name": "stderr",
     "output_type": "stream",
     "text": [
      "                                                                  \r"
     ]
    },
    {
     "name": "stdout",
     "output_type": "stream",
     "text": [
      "PGD Evasion Rate on adversarial examples with 0.07 epsilon: 0.5984561105658275%\n",
      "FGSM Evasion Rate on adversarial examples with 0.08 epsilon: 0.3614345969175266%\n"
     ]
    },
    {
     "name": "stderr",
     "output_type": "stream",
     "text": [
      "                                                                  \r"
     ]
    },
    {
     "name": "stdout",
     "output_type": "stream",
     "text": [
      "PGD Evasion Rate on adversarial examples with 0.08 epsilon: 0.6020107700878053%\n",
      "FGSM Evasion Rate on adversarial examples with 0.09 epsilon: 0.3804812054009603%\n"
     ]
    },
    {
     "name": "stderr",
     "output_type": "stream",
     "text": [
      "                                                                  \r"
     ]
    },
    {
     "name": "stdout",
     "output_type": "stream",
     "text": [
      "PGD Evasion Rate on adversarial examples with 0.09 epsilon: 0.9399421704644932%\n",
      "FGSM Evasion Rate on adversarial examples with 0.1 epsilon: 0.4009072339974003%\n"
     ]
    },
    {
     "name": "stderr",
     "output_type": "stream",
     "text": [
      "                                                                  \r"
     ]
    },
    {
     "name": "stdout",
     "output_type": "stream",
     "text": [
      "PGD Evasion Rate on adversarial examples with 0.1 epsilon: 0.9432580841976815%\n"
     ]
    },
    {
     "name": "stderr",
     "output_type": "stream",
     "text": [
      "ic| fastai_model: True\n",
      "    feature_set_name: 'volume_based_features'\n",
      "    nw_attack: 'Fuzzers'\n"
     ]
    },
    {
     "name": "stdout",
     "output_type": "stream",
     "text": [
      "FGSM Evasion Rate on adversarial examples with 1e-05 epsilon: 0.0698421052631579%\n"
     ]
    },
    {
     "name": "stderr",
     "output_type": "stream",
     "text": [
      "                                                                \r"
     ]
    },
    {
     "name": "stdout",
     "output_type": "stream",
     "text": [
      "PGD Evasion Rate on adversarial examples with 1e-05 epsilon: 0.06989473684210526%\n",
      "FGSM Evasion Rate on adversarial examples with 0.0001 epsilon: 0.067%\n"
     ]
    },
    {
     "name": "stderr",
     "output_type": "stream",
     "text": [
      "                                                                \r"
     ]
    },
    {
     "name": "stdout",
     "output_type": "stream",
     "text": [
      "PGD Evasion Rate on adversarial examples with 0.0001 epsilon: 0.06805263157894736%\n",
      "FGSM Evasion Rate on adversarial examples with 0.001 epsilon: 0.05436842105263158%\n"
     ]
    },
    {
     "name": "stderr",
     "output_type": "stream",
     "text": [
      "                                                                \r"
     ]
    },
    {
     "name": "stdout",
     "output_type": "stream",
     "text": [
      "PGD Evasion Rate on adversarial examples with 0.001 epsilon: 0.056842105263157895%\n",
      "FGSM Evasion Rate on adversarial examples with 0.005 epsilon: 0.07931578947368421%\n"
     ]
    },
    {
     "name": "stderr",
     "output_type": "stream",
     "text": [
      "                                                                \r"
     ]
    },
    {
     "name": "stdout",
     "output_type": "stream",
     "text": [
      "PGD Evasion Rate on adversarial examples with 0.005 epsilon: 0.22773684210526315%\n",
      "FGSM Evasion Rate on adversarial examples with 0.01 epsilon: 0.08257894736842106%\n"
     ]
    },
    {
     "name": "stderr",
     "output_type": "stream",
     "text": [
      "                                                                \r"
     ]
    },
    {
     "name": "stdout",
     "output_type": "stream",
     "text": [
      "PGD Evasion Rate on adversarial examples with 0.01 epsilon: 0.37015789473684213%\n",
      "FGSM Evasion Rate on adversarial examples with 0.02 epsilon: 0.08447368421052631%\n"
     ]
    },
    {
     "name": "stderr",
     "output_type": "stream",
     "text": [
      "                                                                \r"
     ]
    },
    {
     "name": "stdout",
     "output_type": "stream",
     "text": [
      "PGD Evasion Rate on adversarial examples with 0.02 epsilon: 0.4698421052631579%\n",
      "FGSM Evasion Rate on adversarial examples with 0.03 epsilon: 0.08031578947368422%\n"
     ]
    },
    {
     "name": "stderr",
     "output_type": "stream",
     "text": [
      "                                                                \r"
     ]
    },
    {
     "name": "stdout",
     "output_type": "stream",
     "text": [
      "PGD Evasion Rate on adversarial examples with 0.03 epsilon: 0.4426842105263158%\n",
      "FGSM Evasion Rate on adversarial examples with 0.04 epsilon: 0.10547368421052632%\n"
     ]
    },
    {
     "name": "stderr",
     "output_type": "stream",
     "text": [
      "                                                                \r"
     ]
    },
    {
     "name": "stdout",
     "output_type": "stream",
     "text": [
      "PGD Evasion Rate on adversarial examples with 0.04 epsilon: 0.6774736842105263%\n",
      "FGSM Evasion Rate on adversarial examples with 0.05 epsilon: 0.14042105263157895%\n"
     ]
    },
    {
     "name": "stderr",
     "output_type": "stream",
     "text": [
      "                                                                \r"
     ]
    },
    {
     "name": "stdout",
     "output_type": "stream",
     "text": [
      "PGD Evasion Rate on adversarial examples with 0.05 epsilon: 0.759578947368421%\n",
      "FGSM Evasion Rate on adversarial examples with 0.06 epsilon: 0.2026315789473684%\n"
     ]
    },
    {
     "name": "stderr",
     "output_type": "stream",
     "text": [
      "                                                                \r"
     ]
    },
    {
     "name": "stdout",
     "output_type": "stream",
     "text": [
      "PGD Evasion Rate on adversarial examples with 0.06 epsilon: 0.7427894736842106%\n",
      "FGSM Evasion Rate on adversarial examples with 0.07 epsilon: 0.268%\n"
     ]
    },
    {
     "name": "stderr",
     "output_type": "stream",
     "text": [
      "                                                                \r"
     ]
    },
    {
     "name": "stdout",
     "output_type": "stream",
     "text": [
      "PGD Evasion Rate on adversarial examples with 0.07 epsilon: 0.6334736842105263%\n",
      "FGSM Evasion Rate on adversarial examples with 0.08 epsilon: 0.32342105263157894%\n"
     ]
    },
    {
     "name": "stderr",
     "output_type": "stream",
     "text": [
      "                                                                \r"
     ]
    },
    {
     "name": "stdout",
     "output_type": "stream",
     "text": [
      "PGD Evasion Rate on adversarial examples with 0.08 epsilon: 0.6524210526315789%\n",
      "FGSM Evasion Rate on adversarial examples with 0.09 epsilon: 0.36694736842105263%\n"
     ]
    },
    {
     "name": "stderr",
     "output_type": "stream",
     "text": [
      "                                                                \r"
     ]
    },
    {
     "name": "stdout",
     "output_type": "stream",
     "text": [
      "PGD Evasion Rate on adversarial examples with 0.09 epsilon: 0.7926315789473685%\n",
      "FGSM Evasion Rate on adversarial examples with 0.1 epsilon: 0.4044736842105263%\n"
     ]
    },
    {
     "name": "stderr",
     "output_type": "stream",
     "text": [
      "ic                                                              | fastai_model: True\n",
      "    feature_set_name: 'volume_based_features'\n",
      "    nw_attack: 'Reconnaissance'\n"
     ]
    },
    {
     "name": "stdout",
     "output_type": "stream",
     "text": [
      "PGD Evasion Rate on adversarial examples with 0.1 epsilon: 0.7915263157894736%\n",
      "FGSM Evasion Rate on adversarial examples with 1e-05 epsilon: 0.0192493627494067%\n"
     ]
    },
    {
     "name": "stderr",
     "output_type": "stream",
     "text": [
      "                                                                \r"
     ]
    },
    {
     "name": "stdout",
     "output_type": "stream",
     "text": [
      "PGD Evasion Rate on adversarial examples with 1e-05 epsilon: 0.0192493627494067%\n",
      "FGSM Evasion Rate on adversarial examples with 0.0001 epsilon: 0.01907356948228883%\n"
     ]
    },
    {
     "name": "stderr",
     "output_type": "stream",
     "text": [
      "                                                                \r"
     ]
    },
    {
     "name": "stdout",
     "output_type": "stream",
     "text": [
      "PGD Evasion Rate on adversarial examples with 0.0001 epsilon: 0.01907356948228883%\n",
      "FGSM Evasion Rate on adversarial examples with 0.001 epsilon: 0.017930913246022678%\n"
     ]
    },
    {
     "name": "stderr",
     "output_type": "stream",
     "text": [
      "                                                                \r"
     ]
    },
    {
     "name": "stdout",
     "output_type": "stream",
     "text": [
      "PGD Evasion Rate on adversarial examples with 0.001 epsilon: 0.017930913246022678%\n",
      "FGSM Evasion Rate on adversarial examples with 0.005 epsilon: 0.03700448272831151%\n"
     ]
    },
    {
     "name": "stderr",
     "output_type": "stream",
     "text": [
      "                                                                \r"
     ]
    },
    {
     "name": "stdout",
     "output_type": "stream",
     "text": [
      "PGD Evasion Rate on adversarial examples with 0.005 epsilon: 0.177639096422607%\n",
      "FGSM Evasion Rate on adversarial examples with 0.01 epsilon: 0.03375230728663092%\n"
     ]
    },
    {
     "name": "stderr",
     "output_type": "stream",
     "text": [
      "                                                                \r"
     ]
    },
    {
     "name": "stdout",
     "output_type": "stream",
     "text": [
      "PGD Evasion Rate on adversarial examples with 0.01 epsilon: 0.33532565702733585%\n",
      "FGSM Evasion Rate on adversarial examples with 0.02 epsilon: 0.06442823239869913%\n"
     ]
    },
    {
     "name": "stderr",
     "output_type": "stream",
     "text": [
      "                                                                \r"
     ]
    },
    {
     "name": "stdout",
     "output_type": "stream",
     "text": [
      "PGD Evasion Rate on adversarial examples with 0.02 epsilon: 0.4157510767337611%\n",
      "FGSM Evasion Rate on adversarial examples with 0.03 epsilon: 0.06943834051155841%\n"
     ]
    },
    {
     "name": "stderr",
     "output_type": "stream",
     "text": [
      "                                                                \r"
     ]
    },
    {
     "name": "stdout",
     "output_type": "stream",
     "text": [
      "PGD Evasion Rate on adversarial examples with 0.03 epsilon: 0.5170958952272128%\n",
      "FGSM Evasion Rate on adversarial examples with 0.04 epsilon: 0.18150654829920015%\n"
     ]
    },
    {
     "name": "stderr",
     "output_type": "stream",
     "text": [
      "                                                                \r"
     ]
    },
    {
     "name": "stdout",
     "output_type": "stream",
     "text": [
      "PGD Evasion Rate on adversarial examples with 0.04 epsilon: 0.7615364331546102%\n",
      "FGSM Evasion Rate on adversarial examples with 0.05 epsilon: 0.23020128329084996%\n"
     ]
    },
    {
     "name": "stderr",
     "output_type": "stream",
     "text": [
      "                                                                \r"
     ]
    },
    {
     "name": "stdout",
     "output_type": "stream",
     "text": [
      "PGD Evasion Rate on adversarial examples with 0.05 epsilon: 0.781840555506724%\n",
      "FGSM Evasion Rate on adversarial examples with 0.06 epsilon: 0.2846092994638305%\n"
     ]
    },
    {
     "name": "stderr",
     "output_type": "stream",
     "text": [
      "                                                                \r"
     ]
    },
    {
     "name": "stdout",
     "output_type": "stream",
     "text": [
      "PGD Evasion Rate on adversarial examples with 0.06 epsilon: 0.8729893645073393%\n",
      "FGSM Evasion Rate on adversarial examples with 0.07 epsilon: 0.31765843368199%\n"
     ]
    },
    {
     "name": "stderr",
     "output_type": "stream",
     "text": [
      "                                                                \r"
     ]
    },
    {
     "name": "stdout",
     "output_type": "stream",
     "text": [
      "PGD Evasion Rate on adversarial examples with 0.07 epsilon: 0.7702381998769448%\n",
      "FGSM Evasion Rate on adversarial examples with 0.08 epsilon: 0.376900764700712%\n"
     ]
    },
    {
     "name": "stderr",
     "output_type": "stream",
     "text": [
      "                                                                \r"
     ]
    },
    {
     "name": "stdout",
     "output_type": "stream",
     "text": [
      "PGD Evasion Rate on adversarial examples with 0.08 epsilon: 0.8107585479476136%\n",
      "FGSM Evasion Rate on adversarial examples with 0.09 epsilon: 0.41742111277138083%\n"
     ]
    },
    {
     "name": "stderr",
     "output_type": "stream",
     "text": [
      "                                                                \r"
     ]
    },
    {
     "name": "stdout",
     "output_type": "stream",
     "text": [
      "PGD Evasion Rate on adversarial examples with 0.09 epsilon: 0.8454777182033928%\n",
      "FGSM Evasion Rate on adversarial examples with 0.1 epsilon: 0.48404676100905336%\n"
     ]
    },
    {
     "name": "stderr",
     "output_type": "stream",
     "text": [
      "ic                                                              | fastai_model: True\n",
      "    feature_set_name: 'volume_based_features'\n",
      "    nw_attack: 'Generic'\n"
     ]
    },
    {
     "name": "stdout",
     "output_type": "stream",
     "text": [
      "PGD Evasion Rate on adversarial examples with 0.1 epsilon: 0.8968972488353696%\n",
      "FGSM Evasion Rate on adversarial examples with 1e-05 epsilon: 0.0326485693323551%\n"
     ]
    },
    {
     "name": "stderr",
     "output_type": "stream",
     "text": [
      "                                                                \r"
     ]
    },
    {
     "name": "stdout",
     "output_type": "stream",
     "text": [
      "PGD Evasion Rate on adversarial examples with 1e-05 epsilon: 0.0326485693323551%\n",
      "FGSM Evasion Rate on adversarial examples with 0.0001 epsilon: 0.03173147468818782%\n"
     ]
    },
    {
     "name": "stderr",
     "output_type": "stream",
     "text": [
      "                                                                \r"
     ]
    },
    {
     "name": "stdout",
     "output_type": "stream",
     "text": [
      "PGD Evasion Rate on adversarial examples with 0.0001 epsilon: 0.03209831254585473%\n",
      "FGSM Evasion Rate on adversarial examples with 0.001 epsilon: 0.026962582538517976%\n"
     ]
    },
    {
     "name": "stderr",
     "output_type": "stream",
     "text": [
      "                                                                \r"
     ]
    },
    {
     "name": "stdout",
     "output_type": "stream",
     "text": [
      "PGD Evasion Rate on adversarial examples with 0.001 epsilon: 0.028246515040352166%\n",
      "FGSM Evasion Rate on adversarial examples with 0.005 epsilon: 0.20212765957446807%\n"
     ]
    },
    {
     "name": "stderr",
     "output_type": "stream",
     "text": [
      "                                                                \r"
     ]
    },
    {
     "name": "stdout",
     "output_type": "stream",
     "text": [
      "PGD Evasion Rate on adversarial examples with 0.005 epsilon: 0.40939104915627295%\n",
      "FGSM Evasion Rate on adversarial examples with 0.01 epsilon: 0.2654071900220103%\n"
     ]
    },
    {
     "name": "stderr",
     "output_type": "stream",
     "text": [
      "                                                                \r"
     ]
    },
    {
     "name": "stdout",
     "output_type": "stream",
     "text": [
      "PGD Evasion Rate on adversarial examples with 0.01 epsilon: 0.5102714600146735%\n",
      "FGSM Evasion Rate on adversarial examples with 0.02 epsilon: 0.33290535583272196%\n"
     ]
    },
    {
     "name": "stderr",
     "output_type": "stream",
     "text": [
      "                                                                \r"
     ]
    },
    {
     "name": "stdout",
     "output_type": "stream",
     "text": [
      "PGD Evasion Rate on adversarial examples with 0.02 epsilon: 0.47010271460014674%\n",
      "FGSM Evasion Rate on adversarial examples with 0.03 epsilon: 0.34941305942773293%\n"
     ]
    },
    {
     "name": "stderr",
     "output_type": "stream",
     "text": [
      "                                                                \r"
     ]
    },
    {
     "name": "stdout",
     "output_type": "stream",
     "text": [
      "PGD Evasion Rate on adversarial examples with 0.03 epsilon: 0.3824284666177549%\n",
      "FGSM Evasion Rate on adversarial examples with 0.04 epsilon: 0.3549156272927366%\n"
     ]
    },
    {
     "name": "stderr",
     "output_type": "stream",
     "text": [
      "                                                                \r"
     ]
    },
    {
     "name": "stdout",
     "output_type": "stream",
     "text": [
      "PGD Evasion Rate on adversarial examples with 0.04 epsilon: 0.6843360234776229%\n",
      "FGSM Evasion Rate on adversarial examples with 0.05 epsilon: 0.3567498165810712%\n"
     ]
    },
    {
     "name": "stderr",
     "output_type": "stream",
     "text": [
      "                                                                \r"
     ]
    },
    {
     "name": "stdout",
     "output_type": "stream",
     "text": [
      "PGD Evasion Rate on adversarial examples with 0.05 epsilon: 0.7342259721203228%\n",
      "FGSM Evasion Rate on adversarial examples with 0.06 epsilon: 0.3611518708730741%\n"
     ]
    },
    {
     "name": "stderr",
     "output_type": "stream",
     "text": [
      "                                                                \r"
     ]
    },
    {
     "name": "stdout",
     "output_type": "stream",
     "text": [
      "PGD Evasion Rate on adversarial examples with 0.06 epsilon: 0.7798972853998533%\n",
      "FGSM Evasion Rate on adversarial examples with 0.07 epsilon: 0.3651870873074101%\n"
     ]
    },
    {
     "name": "stderr",
     "output_type": "stream",
     "text": [
      "                                                                \r"
     ]
    },
    {
     "name": "stdout",
     "output_type": "stream",
     "text": [
      "PGD Evasion Rate on adversarial examples with 0.07 epsilon: 0.5458547322083639%\n",
      "FGSM Evasion Rate on adversarial examples with 0.08 epsilon: 0.37710931768158473%\n"
     ]
    },
    {
     "name": "stderr",
     "output_type": "stream",
     "text": [
      "                                                                \r"
     ]
    },
    {
     "name": "stdout",
     "output_type": "stream",
     "text": [
      "PGD Evasion Rate on adversarial examples with 0.08 epsilon: 0.5645634629493764%\n",
      "FGSM Evasion Rate on adversarial examples with 0.09 epsilon: 0.3868305209097579%\n"
     ]
    },
    {
     "name": "stderr",
     "output_type": "stream",
     "text": [
      "                                                                \r"
     ]
    },
    {
     "name": "stdout",
     "output_type": "stream",
     "text": [
      "PGD Evasion Rate on adversarial examples with 0.09 epsilon: 0.8710564930300807%\n",
      "FGSM Evasion Rate on adversarial examples with 0.1 epsilon: 0.3976522377109318%\n"
     ]
    },
    {
     "name": "stderr",
     "output_type": "stream",
     "text": [
      "ic                                                              | fastai_model: True\n",
      "    feature_set_name: 'volume_based_features'\n",
      "    nw_attack: 'Shellcode'\n"
     ]
    },
    {
     "name": "stdout",
     "output_type": "stream",
     "text": [
      "PGD Evasion Rate on adversarial examples with 0.1 epsilon: 0.8681217901687455%\n",
      "FGSM Evasion Rate on adversarial examples with 1e-05 epsilon: 0.03361344537815126%\n"
     ]
    },
    {
     "name": "stderr",
     "output_type": "stream",
     "text": [
      "                                                              \r"
     ]
    },
    {
     "name": "stdout",
     "output_type": "stream",
     "text": [
      "PGD Evasion Rate on adversarial examples with 1e-05 epsilon: 0.03361344537815126%\n",
      "FGSM Evasion Rate on adversarial examples with 0.0001 epsilon: 0.032913165266106444%\n"
     ]
    },
    {
     "name": "stderr",
     "output_type": "stream",
     "text": [
      "                                                              \r"
     ]
    },
    {
     "name": "stdout",
     "output_type": "stream",
     "text": [
      "PGD Evasion Rate on adversarial examples with 0.0001 epsilon: 0.032913165266106444%\n",
      "FGSM Evasion Rate on adversarial examples with 0.001 epsilon: 0.029411764705882353%\n"
     ]
    },
    {
     "name": "stderr",
     "output_type": "stream",
     "text": [
      "                                                              \r"
     ]
    },
    {
     "name": "stdout",
     "output_type": "stream",
     "text": [
      "PGD Evasion Rate on adversarial examples with 0.001 epsilon: 0.029411764705882353%\n",
      "FGSM Evasion Rate on adversarial examples with 0.005 epsilon: 0.047619047619047616%\n"
     ]
    },
    {
     "name": "stderr",
     "output_type": "stream",
     "text": [
      "                                                              \r"
     ]
    },
    {
     "name": "stdout",
     "output_type": "stream",
     "text": [
      "PGD Evasion Rate on adversarial examples with 0.005 epsilon: 0.21708683473389356%\n",
      "FGSM Evasion Rate on adversarial examples with 0.01 epsilon: 0.04341736694677871%\n"
     ]
    },
    {
     "name": "stderr",
     "output_type": "stream",
     "text": [
      "                                                              \r"
     ]
    },
    {
     "name": "stdout",
     "output_type": "stream",
     "text": [
      "PGD Evasion Rate on adversarial examples with 0.01 epsilon: 0.2689075630252101%\n",
      "FGSM Evasion Rate on adversarial examples with 0.02 epsilon: 0.055322128851540614%\n"
     ]
    },
    {
     "name": "stderr",
     "output_type": "stream",
     "text": [
      "                                                              \r"
     ]
    },
    {
     "name": "stdout",
     "output_type": "stream",
     "text": [
      "PGD Evasion Rate on adversarial examples with 0.02 epsilon: 0.33473389355742295%\n",
      "FGSM Evasion Rate on adversarial examples with 0.03 epsilon: 0.07282913165266107%\n"
     ]
    },
    {
     "name": "stderr",
     "output_type": "stream",
     "text": [
      "                                                              \r"
     ]
    },
    {
     "name": "stdout",
     "output_type": "stream",
     "text": [
      "PGD Evasion Rate on adversarial examples with 0.03 epsilon: 0.38235294117647056%\n",
      "FGSM Evasion Rate on adversarial examples with 0.04 epsilon: 0.1057422969187675%\n"
     ]
    },
    {
     "name": "stderr",
     "output_type": "stream",
     "text": [
      "                                                              \r"
     ]
    },
    {
     "name": "stdout",
     "output_type": "stream",
     "text": [
      "PGD Evasion Rate on adversarial examples with 0.04 epsilon: 0.6183473389355743%\n",
      "FGSM Evasion Rate on adversarial examples with 0.05 epsilon: 0.13725490196078433%\n"
     ]
    },
    {
     "name": "stderr",
     "output_type": "stream",
     "text": [
      "                                                              \r"
     ]
    },
    {
     "name": "stdout",
     "output_type": "stream",
     "text": [
      "PGD Evasion Rate on adversarial examples with 0.05 epsilon: 0.6533613445378151%\n",
      "FGSM Evasion Rate on adversarial examples with 0.06 epsilon: 0.17436974789915966%\n"
     ]
    },
    {
     "name": "stderr",
     "output_type": "stream",
     "text": [
      "                                                              \r"
     ]
    },
    {
     "name": "stdout",
     "output_type": "stream",
     "text": [
      "PGD Evasion Rate on adversarial examples with 0.06 epsilon: 0.6764705882352942%\n",
      "FGSM Evasion Rate on adversarial examples with 0.07 epsilon: 0.21778711484593838%\n"
     ]
    },
    {
     "name": "stderr",
     "output_type": "stream",
     "text": [
      "                                                              \r"
     ]
    },
    {
     "name": "stdout",
     "output_type": "stream",
     "text": [
      "PGD Evasion Rate on adversarial examples with 0.07 epsilon: 0.6295518207282913%\n",
      "FGSM Evasion Rate on adversarial examples with 0.08 epsilon: 0.25630252100840334%\n"
     ]
    },
    {
     "name": "stderr",
     "output_type": "stream",
     "text": [
      "                                                              \r"
     ]
    },
    {
     "name": "stdout",
     "output_type": "stream",
     "text": [
      "PGD Evasion Rate on adversarial examples with 0.08 epsilon: 0.6687675070028011%\n",
      "FGSM Evasion Rate on adversarial examples with 0.09 epsilon: 0.32142857142857145%\n"
     ]
    },
    {
     "name": "stderr",
     "output_type": "stream",
     "text": [
      "                                                              \r"
     ]
    },
    {
     "name": "stdout",
     "output_type": "stream",
     "text": [
      "PGD Evasion Rate on adversarial examples with 0.09 epsilon: 0.7759103641456583%\n",
      "FGSM Evasion Rate on adversarial examples with 0.1 epsilon: 0.42366946778711484%\n"
     ]
    },
    {
     "name": "stderr",
     "output_type": "stream",
     "text": [
      "ic                                                            | fastai_model: True\n",
      "    feature_set_name: 'volume_based_features'\n",
      "    nw_attack: 'Analysis'\n"
     ]
    },
    {
     "name": "stdout",
     "output_type": "stream",
     "text": [
      "PGD Evasion Rate on adversarial examples with 0.1 epsilon: 0.8102240896358543%\n",
      "FGSM Evasion Rate on adversarial examples with 1e-05 epsilon: 0.030344827586206897%\n"
     ]
    },
    {
     "name": "stderr",
     "output_type": "stream",
     "text": [
      "                                                              \r"
     ]
    },
    {
     "name": "stdout",
     "output_type": "stream",
     "text": [
      "PGD Evasion Rate on adversarial examples with 1e-05 epsilon: 0.030344827586206897%\n",
      "FGSM Evasion Rate on adversarial examples with 0.0001 epsilon: 0.030344827586206897%\n"
     ]
    },
    {
     "name": "stderr",
     "output_type": "stream",
     "text": [
      "                                                              \r"
     ]
    },
    {
     "name": "stdout",
     "output_type": "stream",
     "text": [
      "PGD Evasion Rate on adversarial examples with 0.0001 epsilon: 0.030344827586206897%\n",
      "FGSM Evasion Rate on adversarial examples with 0.001 epsilon: 0.030344827586206897%\n"
     ]
    },
    {
     "name": "stderr",
     "output_type": "stream",
     "text": [
      "                                                              \r"
     ]
    },
    {
     "name": "stdout",
     "output_type": "stream",
     "text": [
      "PGD Evasion Rate on adversarial examples with 0.001 epsilon: 0.030344827586206897%\n",
      "FGSM Evasion Rate on adversarial examples with 0.005 epsilon: 0.08551724137931034%\n"
     ]
    },
    {
     "name": "stderr",
     "output_type": "stream",
     "text": [
      "                                                              \r"
     ]
    },
    {
     "name": "stdout",
     "output_type": "stream",
     "text": [
      "PGD Evasion Rate on adversarial examples with 0.005 epsilon: 0.2386206896551724%\n",
      "FGSM Evasion Rate on adversarial examples with 0.01 epsilon: 0.12413793103448276%\n"
     ]
    },
    {
     "name": "stderr",
     "output_type": "stream",
     "text": [
      "                                                              \r"
     ]
    },
    {
     "name": "stdout",
     "output_type": "stream",
     "text": [
      "PGD Evasion Rate on adversarial examples with 0.01 epsilon: 0.3213793103448276%\n",
      "FGSM Evasion Rate on adversarial examples with 0.02 epsilon: 0.2317241379310345%\n"
     ]
    },
    {
     "name": "stderr",
     "output_type": "stream",
     "text": [
      "                                                              \r"
     ]
    },
    {
     "name": "stdout",
     "output_type": "stream",
     "text": [
      "PGD Evasion Rate on adversarial examples with 0.02 epsilon: 0.3103448275862069%\n",
      "FGSM Evasion Rate on adversarial examples with 0.03 epsilon: 0.2772413793103448%\n"
     ]
    },
    {
     "name": "stderr",
     "output_type": "stream",
     "text": [
      "                                                              \r"
     ]
    },
    {
     "name": "stdout",
     "output_type": "stream",
     "text": [
      "PGD Evasion Rate on adversarial examples with 0.03 epsilon: 0.2910344827586207%\n",
      "FGSM Evasion Rate on adversarial examples with 0.04 epsilon: 0.28413793103448276%\n"
     ]
    },
    {
     "name": "stderr",
     "output_type": "stream",
     "text": [
      "                                                              \r"
     ]
    },
    {
     "name": "stdout",
     "output_type": "stream",
     "text": [
      "PGD Evasion Rate on adversarial examples with 0.04 epsilon: 0.72%\n",
      "FGSM Evasion Rate on adversarial examples with 0.05 epsilon: 0.29379310344827586%\n"
     ]
    },
    {
     "name": "stderr",
     "output_type": "stream",
     "text": [
      "                                                              \r"
     ]
    },
    {
     "name": "stdout",
     "output_type": "stream",
     "text": [
      "PGD Evasion Rate on adversarial examples with 0.05 epsilon: 0.8358620689655173%\n",
      "FGSM Evasion Rate on adversarial examples with 0.06 epsilon: 0.30896551724137933%\n"
     ]
    },
    {
     "name": "stderr",
     "output_type": "stream",
     "text": [
      "                                                              \r"
     ]
    },
    {
     "name": "stdout",
     "output_type": "stream",
     "text": [
      "PGD Evasion Rate on adversarial examples with 0.06 epsilon: 0.8234482758620689%\n",
      "FGSM Evasion Rate on adversarial examples with 0.07 epsilon: 0.3351724137931035%\n"
     ]
    },
    {
     "name": "stderr",
     "output_type": "stream",
     "text": [
      "                                                              \r"
     ]
    },
    {
     "name": "stdout",
     "output_type": "stream",
     "text": [
      "PGD Evasion Rate on adversarial examples with 0.07 epsilon: 0.46206896551724136%\n",
      "FGSM Evasion Rate on adversarial examples with 0.08 epsilon: 0.35724137931034483%\n"
     ]
    },
    {
     "name": "stderr",
     "output_type": "stream",
     "text": [
      "                                                              \r"
     ]
    },
    {
     "name": "stdout",
     "output_type": "stream",
     "text": [
      "PGD Evasion Rate on adversarial examples with 0.08 epsilon: 0.47172413793103446%\n",
      "FGSM Evasion Rate on adversarial examples with 0.09 epsilon: 0.3793103448275862%\n"
     ]
    },
    {
     "name": "stderr",
     "output_type": "stream",
     "text": [
      "                                                              \r"
     ]
    },
    {
     "name": "stdout",
     "output_type": "stream",
     "text": [
      "PGD Evasion Rate on adversarial examples with 0.09 epsilon: 0.7986206896551724%\n",
      "FGSM Evasion Rate on adversarial examples with 0.1 epsilon: 0.4%\n"
     ]
    },
    {
     "name": "stderr",
     "output_type": "stream",
     "text": [
      "ic                                                            | fastai_model: True\n",
      "    feature_set_name: 'volume_based_features'\n",
      "    nw_attack: 'Backdoors'\n"
     ]
    },
    {
     "name": "stdout",
     "output_type": "stream",
     "text": [
      "PGD Evasion Rate on adversarial examples with 0.1 epsilon: 0.8703448275862069%\n",
      "FGSM Evasion Rate on adversarial examples with 1e-05 epsilon: 0.04081632653061224%\n"
     ]
    },
    {
     "name": "stderr",
     "output_type": "stream",
     "text": [
      "                                                              \r"
     ]
    },
    {
     "name": "stdout",
     "output_type": "stream",
     "text": [
      "PGD Evasion Rate on adversarial examples with 1e-05 epsilon: 0.04081632653061224%\n",
      "FGSM Evasion Rate on adversarial examples with 0.0001 epsilon: 0.04081632653061224%\n"
     ]
    },
    {
     "name": "stderr",
     "output_type": "stream",
     "text": [
      "                                                              \r"
     ]
    },
    {
     "name": "stdout",
     "output_type": "stream",
     "text": [
      "PGD Evasion Rate on adversarial examples with 0.0001 epsilon: 0.04081632653061224%\n",
      "FGSM Evasion Rate on adversarial examples with 0.001 epsilon: 0.0163265306122449%\n"
     ]
    },
    {
     "name": "stderr",
     "output_type": "stream",
     "text": [
      "                                                              \r"
     ]
    },
    {
     "name": "stdout",
     "output_type": "stream",
     "text": [
      "PGD Evasion Rate on adversarial examples with 0.001 epsilon: 0.014285714285714285%\n",
      "FGSM Evasion Rate on adversarial examples with 0.005 epsilon: 0.08571428571428572%\n"
     ]
    },
    {
     "name": "stderr",
     "output_type": "stream",
     "text": [
      "                                                              \r"
     ]
    },
    {
     "name": "stdout",
     "output_type": "stream",
     "text": [
      "PGD Evasion Rate on adversarial examples with 0.005 epsilon: 0.29591836734693877%\n",
      "FGSM Evasion Rate on adversarial examples with 0.01 epsilon: 0.08571428571428572%\n"
     ]
    },
    {
     "name": "stderr",
     "output_type": "stream",
     "text": [
      "                                                              \r"
     ]
    },
    {
     "name": "stdout",
     "output_type": "stream",
     "text": [
      "PGD Evasion Rate on adversarial examples with 0.01 epsilon: 0.3979591836734694%\n",
      "FGSM Evasion Rate on adversarial examples with 0.02 epsilon: 0.07959183673469387%\n"
     ]
    },
    {
     "name": "stderr",
     "output_type": "stream",
     "text": [
      "                                                              \r"
     ]
    },
    {
     "name": "stdout",
     "output_type": "stream",
     "text": [
      "PGD Evasion Rate on adversarial examples with 0.02 epsilon: 0.39183673469387753%\n",
      "FGSM Evasion Rate on adversarial examples with 0.03 epsilon: 0.07755102040816327%\n"
     ]
    },
    {
     "name": "stderr",
     "output_type": "stream",
     "text": [
      "                                                              \r"
     ]
    },
    {
     "name": "stdout",
     "output_type": "stream",
     "text": [
      "PGD Evasion Rate on adversarial examples with 0.03 epsilon: 0.46122448979591835%\n",
      "FGSM Evasion Rate on adversarial examples with 0.04 epsilon: 0.09795918367346938%\n"
     ]
    },
    {
     "name": "stderr",
     "output_type": "stream",
     "text": [
      "                                                              \r"
     ]
    },
    {
     "name": "stdout",
     "output_type": "stream",
     "text": [
      "PGD Evasion Rate on adversarial examples with 0.04 epsilon: 0.8857142857142857%\n",
      "FGSM Evasion Rate on adversarial examples with 0.05 epsilon: 0.12244897959183673%\n"
     ]
    },
    {
     "name": "stderr",
     "output_type": "stream",
     "text": [
      "                                                              \r"
     ]
    },
    {
     "name": "stdout",
     "output_type": "stream",
     "text": [
      "PGD Evasion Rate on adversarial examples with 0.05 epsilon: 0.9122448979591836%\n",
      "FGSM Evasion Rate on adversarial examples with 0.06 epsilon: 0.14285714285714285%\n"
     ]
    },
    {
     "name": "stderr",
     "output_type": "stream",
     "text": [
      "                                                              \r"
     ]
    },
    {
     "name": "stdout",
     "output_type": "stream",
     "text": [
      "PGD Evasion Rate on adversarial examples with 0.06 epsilon: 0.9224489795918367%\n",
      "FGSM Evasion Rate on adversarial examples with 0.07 epsilon: 0.1836734693877551%\n"
     ]
    },
    {
     "name": "stderr",
     "output_type": "stream",
     "text": [
      "                                                              \r"
     ]
    },
    {
     "name": "stdout",
     "output_type": "stream",
     "text": [
      "PGD Evasion Rate on adversarial examples with 0.07 epsilon: 0.6489795918367347%\n",
      "FGSM Evasion Rate on adversarial examples with 0.08 epsilon: 0.22040816326530613%\n"
     ]
    },
    {
     "name": "stderr",
     "output_type": "stream",
     "text": [
      "                                                              \r"
     ]
    },
    {
     "name": "stdout",
     "output_type": "stream",
     "text": [
      "PGD Evasion Rate on adversarial examples with 0.08 epsilon: 0.6530612244897959%\n",
      "FGSM Evasion Rate on adversarial examples with 0.09 epsilon: 0.2510204081632653%\n"
     ]
    },
    {
     "name": "stderr",
     "output_type": "stream",
     "text": [
      "                                                              \r"
     ]
    },
    {
     "name": "stdout",
     "output_type": "stream",
     "text": [
      "PGD Evasion Rate on adversarial examples with 0.09 epsilon: 0.9673469387755103%\n",
      "FGSM Evasion Rate on adversarial examples with 0.1 epsilon: 0.2755102040816326%\n"
     ]
    },
    {
     "name": "stderr",
     "output_type": "stream",
     "text": [
      "ic                                                            | fastai_model: True\n",
      "    feature_set_name: 'volume_based_features'\n",
      "    nw_attack: 'Worms'\n"
     ]
    },
    {
     "name": "stdout",
     "output_type": "stream",
     "text": [
      "PGD Evasion Rate on adversarial examples with 0.1 epsilon: 0.9775510204081632%\n",
      "FGSM Evasion Rate on adversarial examples with 1e-05 epsilon: 0.015789473684210527%\n"
     ]
    },
    {
     "name": "stderr",
     "output_type": "stream",
     "text": [
      "                                                            \r"
     ]
    },
    {
     "name": "stdout",
     "output_type": "stream",
     "text": [
      "PGD Evasion Rate on adversarial examples with 1e-05 epsilon: 0.015789473684210527%\n",
      "FGSM Evasion Rate on adversarial examples with 0.0001 epsilon: 0.015789473684210527%\n"
     ]
    },
    {
     "name": "stderr",
     "output_type": "stream",
     "text": [
      "                                                            \r"
     ]
    },
    {
     "name": "stdout",
     "output_type": "stream",
     "text": [
      "PGD Evasion Rate on adversarial examples with 0.0001 epsilon: 0.015789473684210527%\n",
      "FGSM Evasion Rate on adversarial examples with 0.001 epsilon: 0.015789473684210527%\n"
     ]
    },
    {
     "name": "stderr",
     "output_type": "stream",
     "text": [
      "                                                            \r"
     ]
    },
    {
     "name": "stdout",
     "output_type": "stream",
     "text": [
      "PGD Evasion Rate on adversarial examples with 0.001 epsilon: 0.015789473684210527%\n",
      "FGSM Evasion Rate on adversarial examples with 0.005 epsilon: 0.17894736842105263%\n"
     ]
    },
    {
     "name": "stderr",
     "output_type": "stream",
     "text": [
      "                                                            \r"
     ]
    },
    {
     "name": "stdout",
     "output_type": "stream",
     "text": [
      "PGD Evasion Rate on adversarial examples with 0.005 epsilon: 0.38421052631578945%\n",
      "FGSM Evasion Rate on adversarial examples with 0.01 epsilon: 0.20526315789473684%\n"
     ]
    },
    {
     "name": "stderr",
     "output_type": "stream",
     "text": [
      "                                                            \r"
     ]
    },
    {
     "name": "stdout",
     "output_type": "stream",
     "text": [
      "PGD Evasion Rate on adversarial examples with 0.01 epsilon: 0.4263157894736842%\n",
      "FGSM Evasion Rate on adversarial examples with 0.02 epsilon: 0.22105263157894736%\n"
     ]
    },
    {
     "name": "stderr",
     "output_type": "stream",
     "text": [
      "                                                            \r"
     ]
    },
    {
     "name": "stdout",
     "output_type": "stream",
     "text": [
      "PGD Evasion Rate on adversarial examples with 0.02 epsilon: 0.5631578947368421%\n",
      "FGSM Evasion Rate on adversarial examples with 0.03 epsilon: 0.22105263157894736%\n"
     ]
    },
    {
     "name": "stderr",
     "output_type": "stream",
     "text": [
      "                                                            \r"
     ]
    },
    {
     "name": "stdout",
     "output_type": "stream",
     "text": [
      "PGD Evasion Rate on adversarial examples with 0.03 epsilon: 0.29473684210526313%\n",
      "FGSM Evasion Rate on adversarial examples with 0.04 epsilon: 0.22105263157894736%\n"
     ]
    },
    {
     "name": "stderr",
     "output_type": "stream",
     "text": [
      "                                                            \r"
     ]
    },
    {
     "name": "stdout",
     "output_type": "stream",
     "text": [
      "PGD Evasion Rate on adversarial examples with 0.04 epsilon: 0.7578947368421053%\n",
      "FGSM Evasion Rate on adversarial examples with 0.05 epsilon: 0.23157894736842105%\n"
     ]
    },
    {
     "name": "stderr",
     "output_type": "stream",
     "text": [
      "                                                            \r"
     ]
    },
    {
     "name": "stdout",
     "output_type": "stream",
     "text": [
      "PGD Evasion Rate on adversarial examples with 0.05 epsilon: 0.7578947368421053%\n",
      "FGSM Evasion Rate on adversarial examples with 0.06 epsilon: 0.23157894736842105%\n"
     ]
    },
    {
     "name": "stderr",
     "output_type": "stream",
     "text": [
      "                                                            \r"
     ]
    },
    {
     "name": "stdout",
     "output_type": "stream",
     "text": [
      "PGD Evasion Rate on adversarial examples with 0.06 epsilon: 0.8263157894736842%\n",
      "FGSM Evasion Rate on adversarial examples with 0.07 epsilon: 0.24210526315789474%\n"
     ]
    },
    {
     "name": "stderr",
     "output_type": "stream",
     "text": [
      "                                                            \r"
     ]
    },
    {
     "name": "stdout",
     "output_type": "stream",
     "text": [
      "PGD Evasion Rate on adversarial examples with 0.07 epsilon: 0.7578947368421053%\n",
      "FGSM Evasion Rate on adversarial examples with 0.08 epsilon: 0.25263157894736843%\n"
     ]
    },
    {
     "name": "stderr",
     "output_type": "stream",
     "text": [
      "                                                            \r"
     ]
    },
    {
     "name": "stdout",
     "output_type": "stream",
     "text": [
      "PGD Evasion Rate on adversarial examples with 0.08 epsilon: 0.7789473684210526%\n",
      "FGSM Evasion Rate on adversarial examples with 0.09 epsilon: 0.28421052631578947%\n"
     ]
    },
    {
     "name": "stderr",
     "output_type": "stream",
     "text": [
      "                                                            \r"
     ]
    },
    {
     "name": "stdout",
     "output_type": "stream",
     "text": [
      "PGD Evasion Rate on adversarial examples with 0.09 epsilon: 0.9052631578947369%\n",
      "FGSM Evasion Rate on adversarial examples with 0.1 epsilon: 0.35789473684210527%\n"
     ]
    },
    {
     "name": "stderr",
     "output_type": "stream",
     "text": [
      "ic                                                          | fastai_model: True\n",
      "    feature_set_name: 'mixed_features'\n",
      "    nw_attack: 'Exploits'\n"
     ]
    },
    {
     "name": "stdout",
     "output_type": "stream",
     "text": [
      "PGD Evasion Rate on adversarial examples with 0.1 epsilon: 0.8789473684210526%\n",
      "FGSM Evasion Rate on adversarial examples with 1e-05 epsilon: 0.032973446162824625%\n"
     ]
    },
    {
     "name": "stderr",
     "output_type": "stream",
     "text": [
      "                                                                  \r"
     ]
    },
    {
     "name": "stdout",
     "output_type": "stream",
     "text": [
      "PGD Evasion Rate on adversarial examples with 1e-05 epsilon: 0.033053028092421145%\n",
      "FGSM Evasion Rate on adversarial examples with 0.0001 epsilon: 0.029922805528291376%\n"
     ]
    },
    {
     "name": "stderr",
     "output_type": "stream",
     "text": [
      "                                                                  \r"
     ]
    },
    {
     "name": "stdout",
     "output_type": "stream",
     "text": [
      "PGD Evasion Rate on adversarial examples with 0.0001 epsilon: 0.03111653447223917%\n",
      "FGSM Evasion Rate on adversarial examples with 0.001 epsilon: 0.08942356155662254%\n"
     ]
    },
    {
     "name": "stderr",
     "output_type": "stream",
     "text": [
      "                                                                  \r"
     ]
    },
    {
     "name": "stdout",
     "output_type": "stream",
     "text": [
      "PGD Evasion Rate on adversarial examples with 0.001 epsilon: 0.1399580868504125%\n",
      "FGSM Evasion Rate on adversarial examples with 0.005 epsilon: 0.8084728227710428%\n"
     ]
    },
    {
     "name": "stderr",
     "output_type": "stream",
     "text": [
      "                                                                  \r"
     ]
    },
    {
     "name": "stdout",
     "output_type": "stream",
     "text": [
      "PGD Evasion Rate on adversarial examples with 0.005 epsilon: 0.579993102899435%\n",
      "FGSM Evasion Rate on adversarial examples with 0.01 epsilon: 0.8841817651271985%\n"
     ]
    },
    {
     "name": "stderr",
     "output_type": "stream",
     "text": [
      "                                                                  \r"
     ]
    },
    {
     "name": "stdout",
     "output_type": "stream",
     "text": [
      "PGD Evasion Rate on adversarial examples with 0.01 epsilon: 0.6060694484972279%\n",
      "FGSM Evasion Rate on adversarial examples with 0.02 epsilon: 0.9154839907684962%\n"
     ]
    },
    {
     "name": "stderr",
     "output_type": "stream",
     "text": [
      "                                                                  \r"
     ]
    },
    {
     "name": "stdout",
     "output_type": "stream",
     "text": [
      "PGD Evasion Rate on adversarial examples with 0.02 epsilon: 0.9424092102819853%\n",
      "FGSM Evasion Rate on adversarial examples with 0.03 epsilon: 0.9183224129241053%\n"
     ]
    },
    {
     "name": "stderr",
     "output_type": "stream",
     "text": [
      "                                                                  \r"
     ]
    },
    {
     "name": "stdout",
     "output_type": "stream",
     "text": [
      "PGD Evasion Rate on adversarial examples with 0.03 epsilon: 0.9577419953842481%\n",
      "FGSM Evasion Rate on adversarial examples with 0.04 epsilon: 0.9210281985303871%\n"
     ]
    },
    {
     "name": "stderr",
     "output_type": "stream",
     "text": [
      "                                                                  \r"
     ]
    },
    {
     "name": "stdout",
     "output_type": "stream",
     "text": [
      "PGD Evasion Rate on adversarial examples with 0.04 epsilon: 0.9704220494999602%\n",
      "FGSM Evasion Rate on adversarial examples with 0.05 epsilon: 0.92720906172905%\n"
     ]
    },
    {
     "name": "stderr",
     "output_type": "stream",
     "text": [
      "                                                                  \r"
     ]
    },
    {
     "name": "stdout",
     "output_type": "stream",
     "text": [
      "PGD Evasion Rate on adversarial examples with 0.05 epsilon: 0.9904766957582831%\n",
      "FGSM Evasion Rate on adversarial examples with 0.06 epsilon: 0.9376608218160596%\n"
     ]
    },
    {
     "name": "stderr",
     "output_type": "stream",
     "text": [
      "                                                                  \r"
     ]
    },
    {
     "name": "stdout",
     "output_type": "stream",
     "text": [
      "PGD Evasion Rate on adversarial examples with 0.06 epsilon: 0.9950924476748813%\n",
      "FGSM Evasion Rate on adversarial examples with 0.07 epsilon: 0.9511366952277369%\n"
     ]
    },
    {
     "name": "stderr",
     "output_type": "stream",
     "text": [
      "                                                                  \r"
     ]
    },
    {
     "name": "stdout",
     "output_type": "stream",
     "text": [
      "PGD Evasion Rate on adversarial examples with 0.07 epsilon: 0.9967371408865427%\n",
      "FGSM Evasion Rate on adversarial examples with 0.08 epsilon: 0.9607130540891848%\n"
     ]
    },
    {
     "name": "stderr",
     "output_type": "stream",
     "text": [
      "                                                                  \r"
     ]
    },
    {
     "name": "stdout",
     "output_type": "stream",
     "text": [
      "PGD Evasion Rate on adversarial examples with 0.08 epsilon: 0.9973207417035839%\n",
      "FGSM Evasion Rate on adversarial examples with 0.09 epsilon: 0.9672122450062339%\n"
     ]
    },
    {
     "name": "stderr",
     "output_type": "stream",
     "text": [
      "                                                                  \r"
     ]
    },
    {
     "name": "stdout",
     "output_type": "stream",
     "text": [
      "PGD Evasion Rate on adversarial examples with 0.09 epsilon: 0.9970554686049288%\n",
      "FGSM Evasion Rate on adversarial examples with 0.1 epsilon: 0.9724381250497387%\n"
     ]
    },
    {
     "name": "stderr",
     "output_type": "stream",
     "text": [
      "                                                                  \r"
     ]
    },
    {
     "name": "stdout",
     "output_type": "stream",
     "text": [
      "PGD Evasion Rate on adversarial examples with 0.1 epsilon: 0.9965249224076187%\n"
     ]
    },
    {
     "name": "stderr",
     "output_type": "stream",
     "text": [
      "ic| fastai_model: True\n",
      "    feature_set_name: 'mixed_features'\n",
      "    nw_attack: 'Fuzzers'\n"
     ]
    },
    {
     "name": "stdout",
     "output_type": "stream",
     "text": [
      "FGSM Evasion Rate on adversarial examples with 1e-05 epsilon: 0.06952631578947369%\n"
     ]
    },
    {
     "name": "stderr",
     "output_type": "stream",
     "text": [
      "                                                                \r"
     ]
    },
    {
     "name": "stdout",
     "output_type": "stream",
     "text": [
      "PGD Evasion Rate on adversarial examples with 1e-05 epsilon: 0.06978947368421053%\n",
      "FGSM Evasion Rate on adversarial examples with 0.0001 epsilon: 0.06326315789473684%\n"
     ]
    },
    {
     "name": "stderr",
     "output_type": "stream",
     "text": [
      "                                                                \r"
     ]
    },
    {
     "name": "stdout",
     "output_type": "stream",
     "text": [
      "PGD Evasion Rate on adversarial examples with 0.0001 epsilon: 0.06526315789473684%\n",
      "FGSM Evasion Rate on adversarial examples with 0.001 epsilon: 0.2083157894736842%\n"
     ]
    },
    {
     "name": "stderr",
     "output_type": "stream",
     "text": [
      "                                                                \r"
     ]
    },
    {
     "name": "stdout",
     "output_type": "stream",
     "text": [
      "PGD Evasion Rate on adversarial examples with 0.001 epsilon: 0.2401578947368421%\n",
      "FGSM Evasion Rate on adversarial examples with 0.005 epsilon: 0.637578947368421%\n"
     ]
    },
    {
     "name": "stderr",
     "output_type": "stream",
     "text": [
      "                                                                \r"
     ]
    },
    {
     "name": "stdout",
     "output_type": "stream",
     "text": [
      "PGD Evasion Rate on adversarial examples with 0.005 epsilon: 0.5733157894736842%\n",
      "FGSM Evasion Rate on adversarial examples with 0.01 epsilon: 0.7007368421052631%\n"
     ]
    },
    {
     "name": "stderr",
     "output_type": "stream",
     "text": [
      "                                                                \r"
     ]
    },
    {
     "name": "stdout",
     "output_type": "stream",
     "text": [
      "PGD Evasion Rate on adversarial examples with 0.01 epsilon: 0.613421052631579%\n",
      "FGSM Evasion Rate on adversarial examples with 0.02 epsilon: 0.7018421052631579%\n"
     ]
    },
    {
     "name": "stderr",
     "output_type": "stream",
     "text": [
      "                                                                \r"
     ]
    },
    {
     "name": "stdout",
     "output_type": "stream",
     "text": [
      "PGD Evasion Rate on adversarial examples with 0.02 epsilon: 0.759421052631579%\n",
      "FGSM Evasion Rate on adversarial examples with 0.03 epsilon: 0.7045789473684211%\n"
     ]
    },
    {
     "name": "stderr",
     "output_type": "stream",
     "text": [
      "                                                                \r"
     ]
    },
    {
     "name": "stdout",
     "output_type": "stream",
     "text": [
      "PGD Evasion Rate on adversarial examples with 0.03 epsilon: 0.8113157894736842%\n",
      "FGSM Evasion Rate on adversarial examples with 0.04 epsilon: 0.7133157894736842%\n"
     ]
    },
    {
     "name": "stderr",
     "output_type": "stream",
     "text": [
      "                                                                \r"
     ]
    },
    {
     "name": "stdout",
     "output_type": "stream",
     "text": [
      "PGD Evasion Rate on adversarial examples with 0.04 epsilon: 0.882%\n",
      "FGSM Evasion Rate on adversarial examples with 0.05 epsilon: 0.7506315789473684%\n"
     ]
    },
    {
     "name": "stderr",
     "output_type": "stream",
     "text": [
      "                                                                \r"
     ]
    },
    {
     "name": "stdout",
     "output_type": "stream",
     "text": [
      "PGD Evasion Rate on adversarial examples with 0.05 epsilon: 0.949%\n",
      "FGSM Evasion Rate on adversarial examples with 0.06 epsilon: 0.7887368421052632%\n"
     ]
    },
    {
     "name": "stderr",
     "output_type": "stream",
     "text": [
      "                                                                \r"
     ]
    },
    {
     "name": "stdout",
     "output_type": "stream",
     "text": [
      "PGD Evasion Rate on adversarial examples with 0.06 epsilon: 0.9662631578947368%\n",
      "FGSM Evasion Rate on adversarial examples with 0.07 epsilon: 0.8308947368421052%\n"
     ]
    },
    {
     "name": "stderr",
     "output_type": "stream",
     "text": [
      "                                                                \r"
     ]
    },
    {
     "name": "stdout",
     "output_type": "stream",
     "text": [
      "PGD Evasion Rate on adversarial examples with 0.07 epsilon: 0.9734736842105263%\n",
      "FGSM Evasion Rate on adversarial examples with 0.08 epsilon: 0.8494736842105263%\n"
     ]
    },
    {
     "name": "stderr",
     "output_type": "stream",
     "text": [
      "                                                                \r"
     ]
    },
    {
     "name": "stdout",
     "output_type": "stream",
     "text": [
      "PGD Evasion Rate on adversarial examples with 0.08 epsilon: 0.970421052631579%\n",
      "FGSM Evasion Rate on adversarial examples with 0.09 epsilon: 0.8678421052631579%\n"
     ]
    },
    {
     "name": "stderr",
     "output_type": "stream",
     "text": [
      "                                                                \r"
     ]
    },
    {
     "name": "stdout",
     "output_type": "stream",
     "text": [
      "PGD Evasion Rate on adversarial examples with 0.09 epsilon: 0.9721052631578947%\n",
      "FGSM Evasion Rate on adversarial examples with 0.1 epsilon: 0.8896315789473684%\n"
     ]
    },
    {
     "name": "stderr",
     "output_type": "stream",
     "text": [
      "ic                                                              | fastai_model: True\n",
      "    feature_set_name: 'mixed_features'\n",
      "    nw_attack: 'Reconnaissance'\n"
     ]
    },
    {
     "name": "stdout",
     "output_type": "stream",
     "text": [
      "PGD Evasion Rate on adversarial examples with 0.1 epsilon: 0.9746315789473684%\n",
      "FGSM Evasion Rate on adversarial examples with 1e-05 epsilon: 0.019161466115847764%\n"
     ]
    },
    {
     "name": "stderr",
     "output_type": "stream",
     "text": [
      "                                                                \r"
     ]
    },
    {
     "name": "stdout",
     "output_type": "stream",
     "text": [
      "PGD Evasion Rate on adversarial examples with 1e-05 epsilon: 0.0192493627494067%\n",
      "FGSM Evasion Rate on adversarial examples with 0.0001 epsilon: 0.01854618968093522%\n"
     ]
    },
    {
     "name": "stderr",
     "output_type": "stream",
     "text": [
      "                                                                \r"
     ]
    },
    {
     "name": "stdout",
     "output_type": "stream",
     "text": [
      "PGD Evasion Rate on adversarial examples with 0.0001 epsilon: 0.01872198294805309%\n",
      "FGSM Evasion Rate on adversarial examples with 0.001 epsilon: 0.3138788784389558%\n"
     ]
    },
    {
     "name": "stderr",
     "output_type": "stream",
     "text": [
      "                                                                \r"
     ]
    },
    {
     "name": "stdout",
     "output_type": "stream",
     "text": [
      "PGD Evasion Rate on adversarial examples with 0.001 epsilon: 0.32284433506196714%\n",
      "FGSM Evasion Rate on adversarial examples with 0.005 epsilon: 0.6386569394392195%\n"
     ]
    },
    {
     "name": "stderr",
     "output_type": "stream",
     "text": [
      "                                                                \r"
     ]
    },
    {
     "name": "stdout",
     "output_type": "stream",
     "text": [
      "PGD Evasion Rate on adversarial examples with 0.005 epsilon: 0.5494418563769008%\n",
      "FGSM Evasion Rate on adversarial examples with 0.01 epsilon: 0.6572910257537137%\n"
     ]
    },
    {
     "name": "stderr",
     "output_type": "stream",
     "text": [
      "                                                                \r"
     ]
    },
    {
     "name": "stdout",
     "output_type": "stream",
     "text": [
      "PGD Evasion Rate on adversarial examples with 0.01 epsilon: 0.5606047288388855%\n",
      "FGSM Evasion Rate on adversarial examples with 0.02 epsilon: 0.6786499077085347%\n"
     ]
    },
    {
     "name": "stderr",
     "output_type": "stream",
     "text": [
      "                                                                \r"
     ]
    },
    {
     "name": "stdout",
     "output_type": "stream",
     "text": [
      "PGD Evasion Rate on adversarial examples with 0.02 epsilon: 0.6811110134481849%\n",
      "FGSM Evasion Rate on adversarial examples with 0.03 epsilon: 0.7073921068823064%\n"
     ]
    },
    {
     "name": "stderr",
     "output_type": "stream",
     "text": [
      "                                                                \r"
     ]
    },
    {
     "name": "stdout",
     "output_type": "stream",
     "text": [
      "PGD Evasion Rate on adversarial examples with 0.03 epsilon: 0.816999208930298%\n",
      "FGSM Evasion Rate on adversarial examples with 0.04 epsilon: 0.7088863496528083%\n"
     ]
    },
    {
     "name": "stderr",
     "output_type": "stream",
     "text": [
      "                                                                \r"
     ]
    },
    {
     "name": "stdout",
     "output_type": "stream",
     "text": [
      "PGD Evasion Rate on adversarial examples with 0.04 epsilon: 0.8893381383493012%\n",
      "FGSM Evasion Rate on adversarial examples with 0.05 epsilon: 0.8115496176496441%\n"
     ]
    },
    {
     "name": "stderr",
     "output_type": "stream",
     "text": [
      "                                                                \r"
     ]
    },
    {
     "name": "stdout",
     "output_type": "stream",
     "text": [
      "PGD Evasion Rate on adversarial examples with 0.05 epsilon: 0.9507778852069966%\n",
      "FGSM Evasion Rate on adversarial examples with 0.06 epsilon: 0.7949371539070054%\n"
     ]
    },
    {
     "name": "stderr",
     "output_type": "stream",
     "text": [
      "                                                                \r"
     ]
    },
    {
     "name": "stdout",
     "output_type": "stream",
     "text": [
      "PGD Evasion Rate on adversarial examples with 0.06 epsilon: 0.9345170079985936%\n",
      "FGSM Evasion Rate on adversarial examples with 0.07 epsilon: 0.7952008438076822%\n"
     ]
    },
    {
     "name": "stderr",
     "output_type": "stream",
     "text": [
      "                                                                \r"
     ]
    },
    {
     "name": "stdout",
     "output_type": "stream",
     "text": [
      "PGD Evasion Rate on adversarial examples with 0.07 epsilon: 0.9902434736749582%\n",
      "FGSM Evasion Rate on adversarial examples with 0.08 epsilon: 0.7952887404412411%\n"
     ]
    },
    {
     "name": "stderr",
     "output_type": "stream",
     "text": [
      "                                                                \r"
     ]
    },
    {
     "name": "stdout",
     "output_type": "stream",
     "text": [
      "PGD Evasion Rate on adversarial examples with 0.08 epsilon: 0.9826843631888899%\n",
      "FGSM Evasion Rate on adversarial examples with 0.09 epsilon: 0.843895578799332%\n"
     ]
    },
    {
     "name": "stderr",
     "output_type": "stream",
     "text": [
      "                                                                \r"
     ]
    },
    {
     "name": "stdout",
     "output_type": "stream",
     "text": [
      "PGD Evasion Rate on adversarial examples with 0.09 epsilon: 0.982420673288213%\n",
      "FGSM Evasion Rate on adversarial examples with 0.1 epsilon: 0.8540915882921684%\n"
     ]
    },
    {
     "name": "stderr",
     "output_type": "stream",
     "text": [
      "ic                                                              | fastai_model: True\n",
      "    feature_set_name: 'mixed_features'\n",
      "    nw_attack: 'Generic'\n"
     ]
    },
    {
     "name": "stdout",
     "output_type": "stream",
     "text": [
      "PGD Evasion Rate on adversarial examples with 0.1 epsilon: 0.908499604465149%\n",
      "FGSM Evasion Rate on adversarial examples with 1e-05 epsilon: 0.032465150403521645%\n"
     ]
    },
    {
     "name": "stderr",
     "output_type": "stream",
     "text": [
      "                                                                \r"
     ]
    },
    {
     "name": "stdout",
     "output_type": "stream",
     "text": [
      "PGD Evasion Rate on adversarial examples with 1e-05 epsilon: 0.0326485693323551%\n",
      "FGSM Evasion Rate on adversarial examples with 0.0001 epsilon: 0.030264123257520176%\n"
     ]
    },
    {
     "name": "stderr",
     "output_type": "stream",
     "text": [
      "                                                                \r"
     ]
    },
    {
     "name": "stdout",
     "output_type": "stream",
     "text": [
      "PGD Evasion Rate on adversarial examples with 0.0001 epsilon: 0.030997798972854%\n",
      "FGSM Evasion Rate on adversarial examples with 0.001 epsilon: 0.08235509904622157%\n"
     ]
    },
    {
     "name": "stderr",
     "output_type": "stream",
     "text": [
      "                                                                \r"
     ]
    },
    {
     "name": "stdout",
     "output_type": "stream",
     "text": [
      "PGD Evasion Rate on adversarial examples with 0.001 epsilon: 0.13242846661775495%\n",
      "FGSM Evasion Rate on adversarial examples with 0.005 epsilon: 0.6863536316947909%\n"
     ]
    },
    {
     "name": "stderr",
     "output_type": "stream",
     "text": [
      "                                                                \r"
     ]
    },
    {
     "name": "stdout",
     "output_type": "stream",
     "text": [
      "PGD Evasion Rate on adversarial examples with 0.005 epsilon: 0.5183418928833455%\n",
      "FGSM Evasion Rate on adversarial examples with 0.01 epsilon: 0.7558694057226706%\n"
     ]
    },
    {
     "name": "stderr",
     "output_type": "stream",
     "text": [
      "                                                                \r"
     ]
    },
    {
     "name": "stdout",
     "output_type": "stream",
     "text": [
      "PGD Evasion Rate on adversarial examples with 0.01 epsilon: 0.5442039618488628%\n",
      "FGSM Evasion Rate on adversarial examples with 0.02 epsilon: 0.849046221570066%\n"
     ]
    },
    {
     "name": "stderr",
     "output_type": "stream",
     "text": [
      "                                                                \r"
     ]
    },
    {
     "name": "stdout",
     "output_type": "stream",
     "text": [
      "PGD Evasion Rate on adversarial examples with 0.02 epsilon: 0.8585840058694058%\n",
      "FGSM Evasion Rate on adversarial examples with 0.03 epsilon: 0.8547322083639032%\n"
     ]
    },
    {
     "name": "stderr",
     "output_type": "stream",
     "text": [
      "                                                                \r"
     ]
    },
    {
     "name": "stdout",
     "output_type": "stream",
     "text": [
      "PGD Evasion Rate on adversarial examples with 0.03 epsilon: 0.884446074834923%\n",
      "FGSM Evasion Rate on adversarial examples with 0.04 epsilon: 0.8640865737344093%\n"
     ]
    },
    {
     "name": "stderr",
     "output_type": "stream",
     "text": [
      "                                                                \r"
     ]
    },
    {
     "name": "stdout",
     "output_type": "stream",
     "text": [
      "PGD Evasion Rate on adversarial examples with 0.04 epsilon: 0.9213132795304475%\n",
      "FGSM Evasion Rate on adversarial examples with 0.05 epsilon: 0.8739911958914159%\n"
     ]
    },
    {
     "name": "stderr",
     "output_type": "stream",
     "text": [
      "                                                                \r"
     ]
    },
    {
     "name": "stdout",
     "output_type": "stream",
     "text": [
      "PGD Evasion Rate on adversarial examples with 0.05 epsilon: 0.9759721203228173%\n",
      "FGSM Evasion Rate on adversarial examples with 0.06 epsilon: 0.8910491562729274%\n"
     ]
    },
    {
     "name": "stderr",
     "output_type": "stream",
     "text": [
      "                                                                \r"
     ]
    },
    {
     "name": "stdout",
     "output_type": "stream",
     "text": [
      "PGD Evasion Rate on adversarial examples with 0.06 epsilon: 0.9805575935436537%\n",
      "FGSM Evasion Rate on adversarial examples with 0.07 epsilon: 0.9152604548789435%\n"
     ]
    },
    {
     "name": "stderr",
     "output_type": "stream",
     "text": [
      "                                                                \r"
     ]
    },
    {
     "name": "stdout",
     "output_type": "stream",
     "text": [
      "PGD Evasion Rate on adversarial examples with 0.07 epsilon: 0.9845928099779897%\n",
      "FGSM Evasion Rate on adversarial examples with 0.08 epsilon: 0.9378209831254586%\n"
     ]
    },
    {
     "name": "stderr",
     "output_type": "stream",
     "text": [
      "                                                                \r"
     ]
    },
    {
     "name": "stdout",
     "output_type": "stream",
     "text": [
      "PGD Evasion Rate on adversarial examples with 0.08 epsilon: 0.9836757153338225%\n",
      "FGSM Evasion Rate on adversarial examples with 0.09 epsilon: 0.9515774027879678%\n"
     ]
    },
    {
     "name": "stderr",
     "output_type": "stream",
     "text": [
      "                                                                \r"
     ]
    },
    {
     "name": "stdout",
     "output_type": "stream",
     "text": [
      "PGD Evasion Rate on adversarial examples with 0.09 epsilon: 0.9825752017608217%\n",
      "FGSM Evasion Rate on adversarial examples with 0.1 epsilon: 0.9572633895818048%\n"
     ]
    },
    {
     "name": "stderr",
     "output_type": "stream",
     "text": [
      "ic                                                              | fastai_model: True\n",
      "    feature_set_name: 'mixed_features'\n",
      "    nw_attack: 'Shellcode'\n"
     ]
    },
    {
     "name": "stdout",
     "output_type": "stream",
     "text": [
      "PGD Evasion Rate on adversarial examples with 0.1 epsilon: 0.9807410124724871%\n",
      "FGSM Evasion Rate on adversarial examples with 1e-05 epsilon: 0.03361344537815126%\n"
     ]
    },
    {
     "name": "stderr",
     "output_type": "stream",
     "text": [
      "                                                              \r"
     ]
    },
    {
     "name": "stdout",
     "output_type": "stream",
     "text": [
      "PGD Evasion Rate on adversarial examples with 1e-05 epsilon: 0.03361344537815126%\n",
      "FGSM Evasion Rate on adversarial examples with 0.0001 epsilon: 0.031512605042016806%\n"
     ]
    },
    {
     "name": "stderr",
     "output_type": "stream",
     "text": [
      "                                                              \r"
     ]
    },
    {
     "name": "stdout",
     "output_type": "stream",
     "text": [
      "PGD Evasion Rate on adversarial examples with 0.0001 epsilon: 0.03221288515406162%\n",
      "FGSM Evasion Rate on adversarial examples with 0.001 epsilon: 0.14215686274509803%\n"
     ]
    },
    {
     "name": "stderr",
     "output_type": "stream",
     "text": [
      "                                                              \r"
     ]
    },
    {
     "name": "stdout",
     "output_type": "stream",
     "text": [
      "PGD Evasion Rate on adversarial examples with 0.001 epsilon: 0.2030812324929972%\n",
      "FGSM Evasion Rate on adversarial examples with 0.005 epsilon: 0.5350140056022409%\n"
     ]
    },
    {
     "name": "stderr",
     "output_type": "stream",
     "text": [
      "                                                              \r"
     ]
    },
    {
     "name": "stdout",
     "output_type": "stream",
     "text": [
      "PGD Evasion Rate on adversarial examples with 0.005 epsilon: 0.48179271708683474%\n",
      "FGSM Evasion Rate on adversarial examples with 0.01 epsilon: 0.561624649859944%\n"
     ]
    },
    {
     "name": "stderr",
     "output_type": "stream",
     "text": [
      "                                                              \r"
     ]
    },
    {
     "name": "stdout",
     "output_type": "stream",
     "text": [
      "PGD Evasion Rate on adversarial examples with 0.01 epsilon: 0.5168067226890757%\n",
      "FGSM Evasion Rate on adversarial examples with 0.02 epsilon: 0.5756302521008403%\n"
     ]
    },
    {
     "name": "stderr",
     "output_type": "stream",
     "text": [
      "                                                              \r"
     ]
    },
    {
     "name": "stdout",
     "output_type": "stream",
     "text": [
      "PGD Evasion Rate on adversarial examples with 0.02 epsilon: 0.7149859943977591%\n",
      "FGSM Evasion Rate on adversarial examples with 0.03 epsilon: 0.6547619047619048%\n"
     ]
    },
    {
     "name": "stderr",
     "output_type": "stream",
     "text": [
      "                                                              \r"
     ]
    },
    {
     "name": "stdout",
     "output_type": "stream",
     "text": [
      "PGD Evasion Rate on adversarial examples with 0.03 epsilon: 0.7752100840336135%\n",
      "FGSM Evasion Rate on adversarial examples with 0.04 epsilon: 0.6932773109243697%\n"
     ]
    },
    {
     "name": "stderr",
     "output_type": "stream",
     "text": [
      "                                                              \r"
     ]
    },
    {
     "name": "stdout",
     "output_type": "stream",
     "text": [
      "PGD Evasion Rate on adversarial examples with 0.04 epsilon: 0.8550420168067226%\n",
      "FGSM Evasion Rate on adversarial examples with 0.05 epsilon: 0.726890756302521%\n"
     ]
    },
    {
     "name": "stderr",
     "output_type": "stream",
     "text": [
      "                                                              \r"
     ]
    },
    {
     "name": "stdout",
     "output_type": "stream",
     "text": [
      "PGD Evasion Rate on adversarial examples with 0.05 epsilon: 0.9355742296918768%\n",
      "FGSM Evasion Rate on adversarial examples with 0.06 epsilon: 0.7521008403361344%\n"
     ]
    },
    {
     "name": "stderr",
     "output_type": "stream",
     "text": [
      "                                                              \r"
     ]
    },
    {
     "name": "stdout",
     "output_type": "stream",
     "text": [
      "PGD Evasion Rate on adversarial examples with 0.06 epsilon: 0.9446778711484594%\n",
      "FGSM Evasion Rate on adversarial examples with 0.07 epsilon: 0.7780112044817927%\n"
     ]
    },
    {
     "name": "stderr",
     "output_type": "stream",
     "text": [
      "                                                              \r"
     ]
    },
    {
     "name": "stdout",
     "output_type": "stream",
     "text": [
      "PGD Evasion Rate on adversarial examples with 0.07 epsilon: 0.9502801120448179%\n",
      "FGSM Evasion Rate on adversarial examples with 0.08 epsilon: 0.803921568627451%\n"
     ]
    },
    {
     "name": "stderr",
     "output_type": "stream",
     "text": [
      "                                                              \r"
     ]
    },
    {
     "name": "stdout",
     "output_type": "stream",
     "text": [
      "PGD Evasion Rate on adversarial examples with 0.08 epsilon: 0.9446778711484594%\n",
      "FGSM Evasion Rate on adversarial examples with 0.09 epsilon: 0.8403361344537815%\n"
     ]
    },
    {
     "name": "stderr",
     "output_type": "stream",
     "text": [
      "                                                              \r"
     ]
    },
    {
     "name": "stdout",
     "output_type": "stream",
     "text": [
      "PGD Evasion Rate on adversarial examples with 0.09 epsilon: 0.9369747899159664%\n",
      "FGSM Evasion Rate on adversarial examples with 0.1 epsilon: 0.8585434173669467%\n"
     ]
    },
    {
     "name": "stderr",
     "output_type": "stream",
     "text": [
      "ic                                                            | fastai_model: True\n",
      "    feature_set_name: 'mixed_features'\n",
      "    nw_attack: 'Analysis'\n"
     ]
    },
    {
     "name": "stdout",
     "output_type": "stream",
     "text": [
      "PGD Evasion Rate on adversarial examples with 0.1 epsilon: 0.9341736694677871%\n",
      "FGSM Evasion Rate on adversarial examples with 1e-05 epsilon: 0.030344827586206897%\n"
     ]
    },
    {
     "name": "stderr",
     "output_type": "stream",
     "text": [
      "                                                              \r"
     ]
    },
    {
     "name": "stdout",
     "output_type": "stream",
     "text": [
      "PGD Evasion Rate on adversarial examples with 1e-05 epsilon: 0.030344827586206897%\n",
      "FGSM Evasion Rate on adversarial examples with 0.0001 epsilon: 0.030344827586206897%\n"
     ]
    },
    {
     "name": "stderr",
     "output_type": "stream",
     "text": [
      "                                                              \r"
     ]
    },
    {
     "name": "stdout",
     "output_type": "stream",
     "text": [
      "PGD Evasion Rate on adversarial examples with 0.0001 epsilon: 0.030344827586206897%\n",
      "FGSM Evasion Rate on adversarial examples with 0.001 epsilon: 0.05379310344827586%\n"
     ]
    },
    {
     "name": "stderr",
     "output_type": "stream",
     "text": [
      "                                                              \r"
     ]
    },
    {
     "name": "stdout",
     "output_type": "stream",
     "text": [
      "PGD Evasion Rate on adversarial examples with 0.001 epsilon: 0.12275862068965518%\n",
      "FGSM Evasion Rate on adversarial examples with 0.005 epsilon: 0.6951724137931035%\n"
     ]
    },
    {
     "name": "stderr",
     "output_type": "stream",
     "text": [
      "                                                              \r"
     ]
    },
    {
     "name": "stdout",
     "output_type": "stream",
     "text": [
      "PGD Evasion Rate on adversarial examples with 0.005 epsilon: 0.3448275862068966%\n",
      "FGSM Evasion Rate on adversarial examples with 0.01 epsilon: 0.7655172413793103%\n"
     ]
    },
    {
     "name": "stderr",
     "output_type": "stream",
     "text": [
      "                                                              \r"
     ]
    },
    {
     "name": "stdout",
     "output_type": "stream",
     "text": [
      "PGD Evasion Rate on adversarial examples with 0.01 epsilon: 0.4689655172413793%\n",
      "FGSM Evasion Rate on adversarial examples with 0.02 epsilon: 0.8593103448275862%\n"
     ]
    },
    {
     "name": "stderr",
     "output_type": "stream",
     "text": [
      "                                                              \r"
     ]
    },
    {
     "name": "stdout",
     "output_type": "stream",
     "text": [
      "PGD Evasion Rate on adversarial examples with 0.02 epsilon: 0.9572413793103448%\n",
      "FGSM Evasion Rate on adversarial examples with 0.03 epsilon: 0.903448275862069%\n"
     ]
    },
    {
     "name": "stderr",
     "output_type": "stream",
     "text": [
      "                                                              \r"
     ]
    },
    {
     "name": "stdout",
     "output_type": "stream",
     "text": [
      "PGD Evasion Rate on adversarial examples with 0.03 epsilon: 0.9986206896551724%\n",
      "FGSM Evasion Rate on adversarial examples with 0.04 epsilon: 0.9365517241379311%\n"
     ]
    },
    {
     "name": "stderr",
     "output_type": "stream",
     "text": [
      "                                                              \r"
     ]
    },
    {
     "name": "stdout",
     "output_type": "stream",
     "text": [
      "PGD Evasion Rate on adversarial examples with 0.04 epsilon: 1.0%\n",
      "FGSM Evasion Rate on adversarial examples with 0.05 epsilon: 0.953103448275862%\n"
     ]
    },
    {
     "name": "stderr",
     "output_type": "stream",
     "text": [
      "                                                              \r"
     ]
    },
    {
     "name": "stdout",
     "output_type": "stream",
     "text": [
      "PGD Evasion Rate on adversarial examples with 0.05 epsilon: 1.0%\n",
      "FGSM Evasion Rate on adversarial examples with 0.06 epsilon: 0.9655172413793104%\n"
     ]
    },
    {
     "name": "stderr",
     "output_type": "stream",
     "text": [
      "                                                              \r"
     ]
    },
    {
     "name": "stdout",
     "output_type": "stream",
     "text": [
      "PGD Evasion Rate on adversarial examples with 0.06 epsilon: 0.9972413793103448%\n",
      "FGSM Evasion Rate on adversarial examples with 0.07 epsilon: 0.9737931034482759%\n"
     ]
    },
    {
     "name": "stderr",
     "output_type": "stream",
     "text": [
      "                                                              \r"
     ]
    },
    {
     "name": "stdout",
     "output_type": "stream",
     "text": [
      "PGD Evasion Rate on adversarial examples with 0.07 epsilon: 0.9958620689655172%\n",
      "FGSM Evasion Rate on adversarial examples with 0.08 epsilon: 0.9875862068965517%\n"
     ]
    },
    {
     "name": "stderr",
     "output_type": "stream",
     "text": [
      "                                                              \r"
     ]
    },
    {
     "name": "stdout",
     "output_type": "stream",
     "text": [
      "PGD Evasion Rate on adversarial examples with 0.08 epsilon: 0.9958620689655172%\n",
      "FGSM Evasion Rate on adversarial examples with 0.09 epsilon: 0.993103448275862%\n"
     ]
    },
    {
     "name": "stderr",
     "output_type": "stream",
     "text": [
      "                                                              \r"
     ]
    },
    {
     "name": "stdout",
     "output_type": "stream",
     "text": [
      "PGD Evasion Rate on adversarial examples with 0.09 epsilon: 0.9944827586206897%\n",
      "FGSM Evasion Rate on adversarial examples with 0.1 epsilon: 0.9944827586206897%\n"
     ]
    },
    {
     "name": "stderr",
     "output_type": "stream",
     "text": [
      "ic                                                            | fastai_model: True\n",
      "    feature_set_name: 'mixed_features'\n",
      "    nw_attack: 'Backdoors'\n"
     ]
    },
    {
     "name": "stdout",
     "output_type": "stream",
     "text": [
      "PGD Evasion Rate on adversarial examples with 0.1 epsilon: 0.9944827586206897%\n",
      "FGSM Evasion Rate on adversarial examples with 1e-05 epsilon: 0.04081632653061224%\n"
     ]
    },
    {
     "name": "stderr",
     "output_type": "stream",
     "text": [
      "                                                              \r"
     ]
    },
    {
     "name": "stdout",
     "output_type": "stream",
     "text": [
      "PGD Evasion Rate on adversarial examples with 1e-05 epsilon: 0.04081632653061224%\n",
      "FGSM Evasion Rate on adversarial examples with 0.0001 epsilon: 0.024489795918367346%\n"
     ]
    },
    {
     "name": "stderr",
     "output_type": "stream",
     "text": [
      "                                                              \r"
     ]
    },
    {
     "name": "stdout",
     "output_type": "stream",
     "text": [
      "PGD Evasion Rate on adversarial examples with 0.0001 epsilon: 0.0326530612244898%\n",
      "FGSM Evasion Rate on adversarial examples with 0.001 epsilon: 0.2816326530612245%\n"
     ]
    },
    {
     "name": "stderr",
     "output_type": "stream",
     "text": [
      "                                                              \r"
     ]
    },
    {
     "name": "stdout",
     "output_type": "stream",
     "text": [
      "PGD Evasion Rate on adversarial examples with 0.001 epsilon: 0.35306122448979593%\n",
      "FGSM Evasion Rate on adversarial examples with 0.005 epsilon: 0.8673469387755102%\n"
     ]
    },
    {
     "name": "stderr",
     "output_type": "stream",
     "text": [
      "                                                              \r"
     ]
    },
    {
     "name": "stdout",
     "output_type": "stream",
     "text": [
      "PGD Evasion Rate on adversarial examples with 0.005 epsilon: 0.6673469387755102%\n",
      "FGSM Evasion Rate on adversarial examples with 0.01 epsilon: 0.9510204081632653%\n"
     ]
    },
    {
     "name": "stderr",
     "output_type": "stream",
     "text": [
      "                                                              \r"
     ]
    },
    {
     "name": "stdout",
     "output_type": "stream",
     "text": [
      "PGD Evasion Rate on adversarial examples with 0.01 epsilon: 0.6551020408163265%\n",
      "FGSM Evasion Rate on adversarial examples with 0.02 epsilon: 0.9714285714285714%\n"
     ]
    },
    {
     "name": "stderr",
     "output_type": "stream",
     "text": [
      "                                                              \r"
     ]
    },
    {
     "name": "stdout",
     "output_type": "stream",
     "text": [
      "PGD Evasion Rate on adversarial examples with 0.02 epsilon: 0.9918367346938776%\n",
      "FGSM Evasion Rate on adversarial examples with 0.03 epsilon: 0.9714285714285714%\n"
     ]
    },
    {
     "name": "stderr",
     "output_type": "stream",
     "text": [
      "                                                              \r"
     ]
    },
    {
     "name": "stdout",
     "output_type": "stream",
     "text": [
      "PGD Evasion Rate on adversarial examples with 0.03 epsilon: 0.9979591836734694%\n",
      "FGSM Evasion Rate on adversarial examples with 0.04 epsilon: 0.963265306122449%\n"
     ]
    },
    {
     "name": "stderr",
     "output_type": "stream",
     "text": [
      "                                                              \r"
     ]
    },
    {
     "name": "stdout",
     "output_type": "stream",
     "text": [
      "PGD Evasion Rate on adversarial examples with 0.04 epsilon: 0.9959183673469387%\n",
      "FGSM Evasion Rate on adversarial examples with 0.05 epsilon: 0.9591836734693877%\n"
     ]
    },
    {
     "name": "stderr",
     "output_type": "stream",
     "text": [
      "                                                              \r"
     ]
    },
    {
     "name": "stdout",
     "output_type": "stream",
     "text": [
      "PGD Evasion Rate on adversarial examples with 0.05 epsilon: 1.0%\n",
      "FGSM Evasion Rate on adversarial examples with 0.06 epsilon: 0.9591836734693877%\n"
     ]
    },
    {
     "name": "stderr",
     "output_type": "stream",
     "text": [
      "                                                              \r"
     ]
    },
    {
     "name": "stdout",
     "output_type": "stream",
     "text": [
      "PGD Evasion Rate on adversarial examples with 0.06 epsilon: 0.9979591836734694%\n",
      "FGSM Evasion Rate on adversarial examples with 0.07 epsilon: 0.9591836734693877%\n"
     ]
    },
    {
     "name": "stderr",
     "output_type": "stream",
     "text": [
      "                                                              \r"
     ]
    },
    {
     "name": "stdout",
     "output_type": "stream",
     "text": [
      "PGD Evasion Rate on adversarial examples with 0.07 epsilon: 1.0%\n",
      "FGSM Evasion Rate on adversarial examples with 0.08 epsilon: 0.963265306122449%\n"
     ]
    },
    {
     "name": "stderr",
     "output_type": "stream",
     "text": [
      "                                                              \r"
     ]
    },
    {
     "name": "stdout",
     "output_type": "stream",
     "text": [
      "PGD Evasion Rate on adversarial examples with 0.08 epsilon: 1.0%\n",
      "FGSM Evasion Rate on adversarial examples with 0.09 epsilon: 0.9653061224489796%\n"
     ]
    },
    {
     "name": "stderr",
     "output_type": "stream",
     "text": [
      "                                                              \r"
     ]
    },
    {
     "name": "stdout",
     "output_type": "stream",
     "text": [
      "PGD Evasion Rate on adversarial examples with 0.09 epsilon: 0.9959183673469387%\n",
      "FGSM Evasion Rate on adversarial examples with 0.1 epsilon: 0.9653061224489796%\n"
     ]
    },
    {
     "name": "stderr",
     "output_type": "stream",
     "text": [
      "ic                                                            | fastai_model: True\n",
      "    feature_set_name: 'mixed_features'\n",
      "    nw_attack: 'Worms'\n"
     ]
    },
    {
     "name": "stdout",
     "output_type": "stream",
     "text": [
      "PGD Evasion Rate on adversarial examples with 0.1 epsilon: 0.9979591836734694%\n",
      "FGSM Evasion Rate on adversarial examples with 1e-05 epsilon: 0.015789473684210527%\n"
     ]
    },
    {
     "name": "stderr",
     "output_type": "stream",
     "text": [
      "                                                            \r"
     ]
    },
    {
     "name": "stdout",
     "output_type": "stream",
     "text": [
      "PGD Evasion Rate on adversarial examples with 1e-05 epsilon: 0.015789473684210527%\n",
      "FGSM Evasion Rate on adversarial examples with 0.0001 epsilon: 0.015789473684210527%\n"
     ]
    },
    {
     "name": "stderr",
     "output_type": "stream",
     "text": [
      "                                                            \r"
     ]
    },
    {
     "name": "stdout",
     "output_type": "stream",
     "text": [
      "PGD Evasion Rate on adversarial examples with 0.0001 epsilon: 0.015789473684210527%\n",
      "FGSM Evasion Rate on adversarial examples with 0.001 epsilon: 0.05789473684210526%\n"
     ]
    },
    {
     "name": "stderr",
     "output_type": "stream",
     "text": [
      "                                                            \r"
     ]
    },
    {
     "name": "stdout",
     "output_type": "stream",
     "text": [
      "PGD Evasion Rate on adversarial examples with 0.001 epsilon: 0.09473684210526316%\n",
      "FGSM Evasion Rate on adversarial examples with 0.005 epsilon: 0.6842105263157895%\n"
     ]
    },
    {
     "name": "stderr",
     "output_type": "stream",
     "text": [
      "                                                            \r"
     ]
    },
    {
     "name": "stdout",
     "output_type": "stream",
     "text": [
      "PGD Evasion Rate on adversarial examples with 0.005 epsilon: 0.6684210526315789%\n",
      "FGSM Evasion Rate on adversarial examples with 0.01 epsilon: 0.8%\n"
     ]
    },
    {
     "name": "stderr",
     "output_type": "stream",
     "text": [
      "                                                            \r"
     ]
    },
    {
     "name": "stdout",
     "output_type": "stream",
     "text": [
      "PGD Evasion Rate on adversarial examples with 0.01 epsilon: 0.7368421052631579%\n",
      "FGSM Evasion Rate on adversarial examples with 0.02 epsilon: 0.8789473684210526%\n"
     ]
    },
    {
     "name": "stderr",
     "output_type": "stream",
     "text": [
      "                                                            \r"
     ]
    },
    {
     "name": "stdout",
     "output_type": "stream",
     "text": [
      "PGD Evasion Rate on adversarial examples with 0.02 epsilon: 0.8736842105263158%\n",
      "FGSM Evasion Rate on adversarial examples with 0.03 epsilon: 0.8894736842105263%\n"
     ]
    },
    {
     "name": "stderr",
     "output_type": "stream",
     "text": [
      "                                                            \r"
     ]
    },
    {
     "name": "stdout",
     "output_type": "stream",
     "text": [
      "PGD Evasion Rate on adversarial examples with 0.03 epsilon: 0.9315789473684211%\n",
      "FGSM Evasion Rate on adversarial examples with 0.04 epsilon: 0.9263157894736842%\n"
     ]
    },
    {
     "name": "stderr",
     "output_type": "stream",
     "text": [
      "                                                            \r"
     ]
    },
    {
     "name": "stdout",
     "output_type": "stream",
     "text": [
      "PGD Evasion Rate on adversarial examples with 0.04 epsilon: 0.9578947368421052%\n",
      "FGSM Evasion Rate on adversarial examples with 0.05 epsilon: 0.9315789473684211%\n"
     ]
    },
    {
     "name": "stderr",
     "output_type": "stream",
     "text": [
      "                                                            \r"
     ]
    },
    {
     "name": "stdout",
     "output_type": "stream",
     "text": [
      "PGD Evasion Rate on adversarial examples with 0.05 epsilon: 0.9736842105263158%\n",
      "FGSM Evasion Rate on adversarial examples with 0.06 epsilon: 0.9368421052631579%\n"
     ]
    },
    {
     "name": "stderr",
     "output_type": "stream",
     "text": [
      "                                                            \r"
     ]
    },
    {
     "name": "stdout",
     "output_type": "stream",
     "text": [
      "PGD Evasion Rate on adversarial examples with 0.06 epsilon: 0.9894736842105263%\n",
      "FGSM Evasion Rate on adversarial examples with 0.07 epsilon: 0.9368421052631579%\n"
     ]
    },
    {
     "name": "stderr",
     "output_type": "stream",
     "text": [
      "                                                            \r"
     ]
    },
    {
     "name": "stdout",
     "output_type": "stream",
     "text": [
      "PGD Evasion Rate on adversarial examples with 0.07 epsilon: 0.9947368421052631%\n",
      "FGSM Evasion Rate on adversarial examples with 0.08 epsilon: 0.9473684210526315%\n"
     ]
    },
    {
     "name": "stderr",
     "output_type": "stream",
     "text": [
      "                                                            \r"
     ]
    },
    {
     "name": "stdout",
     "output_type": "stream",
     "text": [
      "PGD Evasion Rate on adversarial examples with 0.08 epsilon: 0.9947368421052631%\n",
      "FGSM Evasion Rate on adversarial examples with 0.09 epsilon: 0.9578947368421052%\n"
     ]
    },
    {
     "name": "stderr",
     "output_type": "stream",
     "text": [
      "                                                            \r"
     ]
    },
    {
     "name": "stdout",
     "output_type": "stream",
     "text": [
      "PGD Evasion Rate on adversarial examples with 0.09 epsilon: 0.9947368421052631%\n",
      "FGSM Evasion Rate on adversarial examples with 0.1 epsilon: 0.968421052631579%\n"
     ]
    },
    {
     "name": "stderr",
     "output_type": "stream",
     "text": [
      "                                                            "
     ]
    },
    {
     "name": "stdout",
     "output_type": "stream",
     "text": [
      "PGD Evasion Rate on adversarial examples with 0.1 epsilon: 0.9894736842105263%\n"
     ]
    },
    {
     "name": "stderr",
     "output_type": "stream",
     "text": [
      "\r"
     ]
    }
   ],
   "source": [
    "run_evasion_attacks(model=wrapped_tabular_model, nw_attacks=nw_attacks, eps=eps, fastai_model=True)"
   ]
  },
  {
   "cell_type": "code",
   "execution_count": null,
   "metadata": {},
   "outputs": [
    {
     "name": "stderr",
     "output_type": "stream",
     "text": [
      "ic| fastai_model: True\n",
      "    feature_set_name: 'time_based_features'\n",
      "    nw_attack: 'Exploits'\n"
     ]
    },
    {
     "name": "stdout",
     "output_type": "stream",
     "text": [
      "FGSM Evasion Rate on adversarial examples with 1e-05 epsilon: 0.0034220229726503433%\n"
     ]
    },
    {
     "name": "stderr",
     "output_type": "stream",
     "text": [
      "                                                                  \r"
     ]
    },
    {
     "name": "stdout",
     "output_type": "stream",
     "text": [
      "PGD Evasion Rate on adversarial examples with 1e-05 epsilon: 0.0034220229726503433%\n",
      "FGSM Evasion Rate on adversarial examples with 0.0001 epsilon: 0.003289386423322811%\n"
     ]
    },
    {
     "name": "stderr",
     "output_type": "stream",
     "text": [
      "                                                                  \r"
     ]
    },
    {
     "name": "stdout",
     "output_type": "stream",
     "text": [
      "PGD Evasion Rate on adversarial examples with 0.0001 epsilon: 0.0033159137331883175%\n",
      "FGSM Evasion Rate on adversarial examples with 0.001 epsilon: 0.08295089794943895%\n"
     ]
    },
    {
     "name": "stderr",
     "output_type": "stream",
     "text": [
      "                                                                  \r"
     ]
    },
    {
     "name": "stdout",
     "output_type": "stream",
     "text": [
      "PGD Evasion Rate on adversarial examples with 0.001 epsilon: 0.08332228028755603%\n",
      "FGSM Evasion Rate on adversarial examples with 0.005 epsilon: 0.38156882510544604%\n"
     ]
    },
    {
     "name": "stderr",
     "output_type": "stream",
     "text": [
      "                                                                  \r"
     ]
    },
    {
     "name": "stdout",
     "output_type": "stream",
     "text": [
      "PGD Evasion Rate on adversarial examples with 0.005 epsilon: 0.44120221768310475%\n",
      "FGSM Evasion Rate on adversarial examples with 0.01 epsilon: 0.5515558267236119%\n"
     ]
    },
    {
     "name": "stderr",
     "output_type": "stream",
     "text": [
      "                                                                  \r"
     ]
    },
    {
     "name": "stdout",
     "output_type": "stream",
     "text": [
      "PGD Evasion Rate on adversarial examples with 0.01 epsilon: 0.6015863331299572%\n",
      "FGSM Evasion Rate on adversarial examples with 0.02 epsilon: 0.6114810197097912%\n"
     ]
    },
    {
     "name": "stderr",
     "output_type": "stream",
     "text": [
      "                                                                  \r"
     ]
    },
    {
     "name": "stdout",
     "output_type": "stream",
     "text": [
      "PGD Evasion Rate on adversarial examples with 0.02 epsilon: 0.6286176618829085%\n",
      "FGSM Evasion Rate on adversarial examples with 0.03 epsilon: 0.6244794015438895%\n"
     ]
    },
    {
     "name": "stderr",
     "output_type": "stream",
     "text": [
      "                                                                  \r"
     ]
    },
    {
     "name": "stdout",
     "output_type": "stream",
     "text": [
      "PGD Evasion Rate on adversarial examples with 0.03 epsilon: 0.9735787993739555%\n",
      "FGSM Evasion Rate on adversarial examples with 0.04 epsilon: 0.6305011008833594%\n"
     ]
    },
    {
     "name": "stderr",
     "output_type": "stream",
     "text": [
      "                                                                  \r"
     ]
    },
    {
     "name": "stdout",
     "output_type": "stream",
     "text": [
      "PGD Evasion Rate on adversarial examples with 0.04 epsilon: 0.9840305594609651%\n",
      "FGSM Evasion Rate on adversarial examples with 0.05 epsilon: 0.6330742499403136%\n"
     ]
    },
    {
     "name": "stderr",
     "output_type": "stream",
     "text": [
      "                                                                  \r"
     ]
    },
    {
     "name": "stdout",
     "output_type": "stream",
     "text": [
      "PGD Evasion Rate on adversarial examples with 0.05 epsilon: 0.9866037085179192%\n",
      "FGSM Evasion Rate on adversarial examples with 0.06 epsilon: 0.6355412897578057%\n"
     ]
    },
    {
     "name": "stderr",
     "output_type": "stream",
     "text": [
      "                                                                  \r"
     ]
    },
    {
     "name": "stdout",
     "output_type": "stream",
     "text": [
      "PGD Evasion Rate on adversarial examples with 0.06 epsilon: 0.9866832904475157%\n",
      "FGSM Evasion Rate on adversarial examples with 0.07 epsilon: 0.6371594556596015%\n"
     ]
    },
    {
     "name": "stderr",
     "output_type": "stream",
     "text": [
      "                                                                  \r"
     ]
    },
    {
     "name": "stdout",
     "output_type": "stream",
     "text": [
      "PGD Evasion Rate on adversarial examples with 0.07 epsilon: 0.9867628723771122%\n",
      "FGSM Evasion Rate on adversarial examples with 0.08 epsilon: 0.6383531846035494%\n"
     ]
    },
    {
     "name": "stderr",
     "output_type": "stream",
     "text": [
      "                                                                  \r"
     ]
    },
    {
     "name": "stdout",
     "output_type": "stream",
     "text": [
      "PGD Evasion Rate on adversarial examples with 0.08 epsilon: 0.9880892378703876%\n",
      "FGSM Evasion Rate on adversarial examples with 0.09 epsilon: 0.6390428946600525%\n"
     ]
    },
    {
     "name": "stderr",
     "output_type": "stream",
     "text": [
      "                                                                  \r"
     ]
    },
    {
     "name": "stdout",
     "output_type": "stream",
     "text": [
      "PGD Evasion Rate on adversarial examples with 0.09 epsilon: 0.9891238029551424%\n",
      "FGSM Evasion Rate on adversarial examples with 0.1 epsilon: 0.6400244051250763%\n"
     ]
    },
    {
     "name": "stderr",
     "output_type": "stream",
     "text": [
      "                                                                  \r"
     ]
    },
    {
     "name": "stdout",
     "output_type": "stream",
     "text": [
      "PGD Evasion Rate on adversarial examples with 0.1 epsilon: 0.9890707483354113%\n"
     ]
    },
    {
     "name": "stderr",
     "output_type": "stream",
     "text": [
      "ic| fastai_model: True\n",
      "    feature_set_name: 'time_based_features'\n",
      "    nw_attack: 'Fuzzers'\n"
     ]
    },
    {
     "name": "stdout",
     "output_type": "stream",
     "text": [
      "FGSM Evasion Rate on adversarial examples with 1e-05 epsilon: 0.031315789473684214%\n"
     ]
    },
    {
     "name": "stderr",
     "output_type": "stream",
     "text": [
      "                                                                \r"
     ]
    },
    {
     "name": "stdout",
     "output_type": "stream",
     "text": [
      "PGD Evasion Rate on adversarial examples with 1e-05 epsilon: 0.031315789473684214%\n",
      "FGSM Evasion Rate on adversarial examples with 0.0001 epsilon: 0.031210526315789473%\n"
     ]
    },
    {
     "name": "stderr",
     "output_type": "stream",
     "text": [
      "                                                                \r"
     ]
    },
    {
     "name": "stdout",
     "output_type": "stream",
     "text": [
      "PGD Evasion Rate on adversarial examples with 0.0001 epsilon: 0.031210526315789473%\n",
      "FGSM Evasion Rate on adversarial examples with 0.001 epsilon: 0.08478947368421053%\n"
     ]
    },
    {
     "name": "stderr",
     "output_type": "stream",
     "text": [
      "                                                                \r"
     ]
    },
    {
     "name": "stdout",
     "output_type": "stream",
     "text": [
      "PGD Evasion Rate on adversarial examples with 0.001 epsilon: 0.10505263157894737%\n",
      "FGSM Evasion Rate on adversarial examples with 0.005 epsilon: 0.5841578947368421%\n"
     ]
    },
    {
     "name": "stderr",
     "output_type": "stream",
     "text": [
      "                                                                \r"
     ]
    },
    {
     "name": "stdout",
     "output_type": "stream",
     "text": [
      "PGD Evasion Rate on adversarial examples with 0.005 epsilon: 0.6101578947368421%\n",
      "FGSM Evasion Rate on adversarial examples with 0.01 epsilon: 0.6630526315789473%\n"
     ]
    },
    {
     "name": "stderr",
     "output_type": "stream",
     "text": [
      "                                                                \r"
     ]
    },
    {
     "name": "stdout",
     "output_type": "stream",
     "text": [
      "PGD Evasion Rate on adversarial examples with 0.01 epsilon: 0.6714210526315789%\n",
      "FGSM Evasion Rate on adversarial examples with 0.02 epsilon: 0.6917894736842105%\n"
     ]
    },
    {
     "name": "stderr",
     "output_type": "stream",
     "text": [
      "                                                                \r"
     ]
    },
    {
     "name": "stdout",
     "output_type": "stream",
     "text": [
      "PGD Evasion Rate on adversarial examples with 0.02 epsilon: 0.6787368421052632%\n",
      "FGSM Evasion Rate on adversarial examples with 0.03 epsilon: 0.6915263157894737%\n"
     ]
    },
    {
     "name": "stderr",
     "output_type": "stream",
     "text": [
      "                                                                \r"
     ]
    },
    {
     "name": "stdout",
     "output_type": "stream",
     "text": [
      "PGD Evasion Rate on adversarial examples with 0.03 epsilon: 0.8197894736842105%\n",
      "FGSM Evasion Rate on adversarial examples with 0.04 epsilon: 0.6968947368421052%\n"
     ]
    },
    {
     "name": "stderr",
     "output_type": "stream",
     "text": [
      "                                                                \r"
     ]
    },
    {
     "name": "stdout",
     "output_type": "stream",
     "text": [
      "PGD Evasion Rate on adversarial examples with 0.04 epsilon: 0.8483684210526315%\n",
      "FGSM Evasion Rate on adversarial examples with 0.05 epsilon: 0.7058421052631579%\n"
     ]
    },
    {
     "name": "stderr",
     "output_type": "stream",
     "text": [
      "                                                                \r"
     ]
    },
    {
     "name": "stdout",
     "output_type": "stream",
     "text": [
      "PGD Evasion Rate on adversarial examples with 0.05 epsilon: 0.8746842105263158%\n",
      "FGSM Evasion Rate on adversarial examples with 0.06 epsilon: 0.7138947368421052%\n"
     ]
    },
    {
     "name": "stderr",
     "output_type": "stream",
     "text": [
      "                                                                \r"
     ]
    },
    {
     "name": "stdout",
     "output_type": "stream",
     "text": [
      "PGD Evasion Rate on adversarial examples with 0.06 epsilon: 0.883%\n",
      "FGSM Evasion Rate on adversarial examples with 0.07 epsilon: 0.718421052631579%\n"
     ]
    },
    {
     "name": "stderr",
     "output_type": "stream",
     "text": [
      "                                                                \r"
     ]
    },
    {
     "name": "stdout",
     "output_type": "stream",
     "text": [
      "PGD Evasion Rate on adversarial examples with 0.07 epsilon: 0.8932631578947369%\n",
      "FGSM Evasion Rate on adversarial examples with 0.08 epsilon: 0.7407368421052631%\n"
     ]
    },
    {
     "name": "stderr",
     "output_type": "stream",
     "text": [
      "                                                                \r"
     ]
    },
    {
     "name": "stdout",
     "output_type": "stream",
     "text": [
      "PGD Evasion Rate on adversarial examples with 0.08 epsilon: 0.9082105263157895%\n",
      "FGSM Evasion Rate on adversarial examples with 0.09 epsilon: 0.7446315789473684%\n"
     ]
    },
    {
     "name": "stderr",
     "output_type": "stream",
     "text": [
      "                                                                \r"
     ]
    },
    {
     "name": "stdout",
     "output_type": "stream",
     "text": [
      "PGD Evasion Rate on adversarial examples with 0.09 epsilon: 0.9136315789473685%\n",
      "FGSM Evasion Rate on adversarial examples with 0.1 epsilon: 0.7478947368421053%\n"
     ]
    },
    {
     "name": "stderr",
     "output_type": "stream",
     "text": [
      "ic                                                              | fastai_model: True\n",
      "    feature_set_name: 'time_based_features'\n",
      "    nw_attack: 'Reconnaissance'\n"
     ]
    },
    {
     "name": "stdout",
     "output_type": "stream",
     "text": [
      "PGD Evasion Rate on adversarial examples with 0.1 epsilon: 0.917578947368421%\n",
      "FGSM Evasion Rate on adversarial examples with 1e-05 epsilon: 0.0007031730684714776%\n"
     ]
    },
    {
     "name": "stderr",
     "output_type": "stream",
     "text": [
      "                                                                \r"
     ]
    },
    {
     "name": "stdout",
     "output_type": "stream",
     "text": [
      "PGD Evasion Rate on adversarial examples with 1e-05 epsilon: 0.0007031730684714776%\n",
      "FGSM Evasion Rate on adversarial examples with 0.0001 epsilon: 0.0007031730684714776%\n"
     ]
    },
    {
     "name": "stderr",
     "output_type": "stream",
     "text": [
      "                                                                \r"
     ]
    },
    {
     "name": "stdout",
     "output_type": "stream",
     "text": [
      "PGD Evasion Rate on adversarial examples with 0.0001 epsilon: 0.0007031730684714776%\n",
      "FGSM Evasion Rate on adversarial examples with 0.001 epsilon: 0.025226333831414257%\n"
     ]
    },
    {
     "name": "stderr",
     "output_type": "stream",
     "text": [
      "                                                                \r"
     ]
    },
    {
     "name": "stdout",
     "output_type": "stream",
     "text": [
      "PGD Evasion Rate on adversarial examples with 0.001 epsilon: 0.02338050452667663%\n",
      "FGSM Evasion Rate on adversarial examples with 0.005 epsilon: 0.5337962556034104%\n"
     ]
    },
    {
     "name": "stderr",
     "output_type": "stream",
     "text": [
      "                                                                \r"
     ]
    },
    {
     "name": "stdout",
     "output_type": "stream",
     "text": [
      "PGD Evasion Rate on adversarial examples with 0.005 epsilon: 0.6868242946295157%\n",
      "FGSM Evasion Rate on adversarial examples with 0.01 epsilon: 0.7049310011426563%\n"
     ]
    },
    {
     "name": "stderr",
     "output_type": "stream",
     "text": [
      "                                                                \r"
     ]
    },
    {
     "name": "stdout",
     "output_type": "stream",
     "text": [
      "PGD Evasion Rate on adversarial examples with 0.01 epsilon: 0.7662828513667926%\n",
      "FGSM Evasion Rate on adversarial examples with 0.02 epsilon: 0.8428408191966248%\n"
     ]
    },
    {
     "name": "stderr",
     "output_type": "stream",
     "text": [
      "                                                                \r"
     ]
    },
    {
     "name": "stdout",
     "output_type": "stream",
     "text": [
      "PGD Evasion Rate on adversarial examples with 0.02 epsilon: 0.869561395798541%\n",
      "FGSM Evasion Rate on adversarial examples with 0.03 epsilon: 0.8769447130174914%\n"
     ]
    },
    {
     "name": "stderr",
     "output_type": "stream",
     "text": [
      "                                                                \r"
     ]
    },
    {
     "name": "stdout",
     "output_type": "stream",
     "text": [
      "PGD Evasion Rate on adversarial examples with 0.03 epsilon: 0.9820690867539773%\n",
      "FGSM Evasion Rate on adversarial examples with 0.04 epsilon: 0.8769447130174914%\n"
     ]
    },
    {
     "name": "stderr",
     "output_type": "stream",
     "text": [
      "                                                                \r"
     ]
    },
    {
     "name": "stdout",
     "output_type": "stream",
     "text": [
      "PGD Evasion Rate on adversarial examples with 0.04 epsilon: 0.982508569921772%\n",
      "FGSM Evasion Rate on adversarial examples with 0.05 epsilon: 0.8770326096510503%\n"
     ]
    },
    {
     "name": "stderr",
     "output_type": "stream",
     "text": [
      "                                                                \r"
     ]
    },
    {
     "name": "stdout",
     "output_type": "stream",
     "text": [
      "PGD Evasion Rate on adversarial examples with 0.05 epsilon: 0.9998242067328821%\n",
      "FGSM Evasion Rate on adversarial examples with 0.06 epsilon: 0.8770326096510503%\n"
     ]
    },
    {
     "name": "stderr",
     "output_type": "stream",
     "text": [
      "                                                                \r"
     ]
    },
    {
     "name": "stdout",
     "output_type": "stream",
     "text": [
      "PGD Evasion Rate on adversarial examples with 0.06 epsilon: 0.9826843631888899%\n",
      "FGSM Evasion Rate on adversarial examples with 0.07 epsilon: 0.8772084029181683%\n"
     ]
    },
    {
     "name": "stderr",
     "output_type": "stream",
     "text": [
      "                                                                \r"
     ]
    },
    {
     "name": "stdout",
     "output_type": "stream",
     "text": [
      "PGD Evasion Rate on adversarial examples with 0.07 epsilon: 0.9826843631888899%\n",
      "FGSM Evasion Rate on adversarial examples with 0.08 epsilon: 0.8774720928188451%\n"
     ]
    },
    {
     "name": "stderr",
     "output_type": "stream",
     "text": [
      "                                                                \r"
     ]
    },
    {
     "name": "stdout",
     "output_type": "stream",
     "text": [
      "PGD Evasion Rate on adversarial examples with 0.08 epsilon: 0.9826843631888899%\n",
      "FGSM Evasion Rate on adversarial examples with 0.09 epsilon: 0.8777357827195218%\n"
     ]
    },
    {
     "name": "stderr",
     "output_type": "stream",
     "text": [
      "                                                                \r"
     ]
    },
    {
     "name": "stdout",
     "output_type": "stream",
     "text": [
      "PGD Evasion Rate on adversarial examples with 0.09 epsilon: 0.9826843631888899%\n",
      "FGSM Evasion Rate on adversarial examples with 0.1 epsilon: 0.8777357827195218%\n"
     ]
    },
    {
     "name": "stderr",
     "output_type": "stream",
     "text": [
      "ic                                                              | fastai_model: True\n",
      "    feature_set_name: 'time_based_features'\n",
      "    nw_attack: 'Generic'\n"
     ]
    },
    {
     "name": "stdout",
     "output_type": "stream",
     "text": [
      "PGD Evasion Rate on adversarial examples with 0.1 epsilon: 0.9826843631888899%\n",
      "FGSM Evasion Rate on adversarial examples with 1e-05 epsilon: 0.010821716801173881%\n"
     ]
    },
    {
     "name": "stderr",
     "output_type": "stream",
     "text": [
      "                                                                \r"
     ]
    },
    {
     "name": "stdout",
     "output_type": "stream",
     "text": [
      "PGD Evasion Rate on adversarial examples with 1e-05 epsilon: 0.010821716801173881%\n",
      "FGSM Evasion Rate on adversarial examples with 0.0001 epsilon: 0.01045487894350697%\n"
     ]
    },
    {
     "name": "stderr",
     "output_type": "stream",
     "text": [
      "                                                                \r"
     ]
    },
    {
     "name": "stdout",
     "output_type": "stream",
     "text": [
      "PGD Evasion Rate on adversarial examples with 0.0001 epsilon: 0.01045487894350697%\n",
      "FGSM Evasion Rate on adversarial examples with 0.001 epsilon: 0.0880410858400587%\n"
     ]
    },
    {
     "name": "stderr",
     "output_type": "stream",
     "text": [
      "                                                                \r"
     ]
    },
    {
     "name": "stdout",
     "output_type": "stream",
     "text": [
      "PGD Evasion Rate on adversarial examples with 0.001 epsilon: 0.09280997798972854%\n",
      "FGSM Evasion Rate on adversarial examples with 0.005 epsilon: 0.2731107850330154%\n"
     ]
    },
    {
     "name": "stderr",
     "output_type": "stream",
     "text": [
      "                                                                \r"
     ]
    },
    {
     "name": "stdout",
     "output_type": "stream",
     "text": [
      "PGD Evasion Rate on adversarial examples with 0.005 epsilon: 0.3473954512105649%\n",
      "FGSM Evasion Rate on adversarial examples with 0.01 epsilon: 0.460931768158474%\n"
     ]
    },
    {
     "name": "stderr",
     "output_type": "stream",
     "text": [
      "                                                                \r"
     ]
    },
    {
     "name": "stdout",
     "output_type": "stream",
     "text": [
      "PGD Evasion Rate on adversarial examples with 0.01 epsilon: 0.5398019075568599%\n",
      "FGSM Evasion Rate on adversarial examples with 0.02 epsilon: 0.5685986793837124%\n"
     ]
    },
    {
     "name": "stderr",
     "output_type": "stream",
     "text": [
      "                                                                \r"
     ]
    },
    {
     "name": "stdout",
     "output_type": "stream",
     "text": [
      "PGD Evasion Rate on adversarial examples with 0.02 epsilon: 0.582905355832722%\n",
      "FGSM Evasion Rate on adversarial examples with 0.03 epsilon: 0.5796038151137197%\n"
     ]
    },
    {
     "name": "stderr",
     "output_type": "stream",
     "text": [
      "                                                                \r"
     ]
    },
    {
     "name": "stdout",
     "output_type": "stream",
     "text": [
      "PGD Evasion Rate on adversarial examples with 0.03 epsilon: 0.8958180484225972%\n",
      "FGSM Evasion Rate on adversarial examples with 0.04 epsilon: 0.5851063829787234%\n"
     ]
    },
    {
     "name": "stderr",
     "output_type": "stream",
     "text": [
      "                                                                \r"
     ]
    },
    {
     "name": "stdout",
     "output_type": "stream",
     "text": [
      "PGD Evasion Rate on adversarial examples with 0.04 epsilon: 0.913059427732942%\n",
      "FGSM Evasion Rate on adversarial examples with 0.05 epsilon: 0.5948275862068966%\n"
     ]
    },
    {
     "name": "stderr",
     "output_type": "stream",
     "text": [
      "                                                                \r"
     ]
    },
    {
     "name": "stdout",
     "output_type": "stream",
     "text": [
      "PGD Evasion Rate on adversarial examples with 0.05 epsilon: 0.9205796038151137%\n",
      "FGSM Evasion Rate on adversarial examples with 0.06 epsilon: 0.5999633162142333%\n"
     ]
    },
    {
     "name": "stderr",
     "output_type": "stream",
     "text": [
      "                                                                \r"
     ]
    },
    {
     "name": "stdout",
     "output_type": "stream",
     "text": [
      "PGD Evasion Rate on adversarial examples with 0.06 epsilon: 0.9257153338224505%\n",
      "FGSM Evasion Rate on adversarial examples with 0.07 epsilon: 0.6043653705062363%\n"
     ]
    },
    {
     "name": "stderr",
     "output_type": "stream",
     "text": [
      "                                                                \r"
     ]
    },
    {
     "name": "stdout",
     "output_type": "stream",
     "text": [
      "PGD Evasion Rate on adversarial examples with 0.07 epsilon: 0.9277329420396185%\n",
      "FGSM Evasion Rate on adversarial examples with 0.08 epsilon: 0.6124358033749083%\n"
     ]
    },
    {
     "name": "stderr",
     "output_type": "stream",
     "text": [
      "                                                                \r"
     ]
    },
    {
     "name": "stdout",
     "output_type": "stream",
     "text": [
      "PGD Evasion Rate on adversarial examples with 0.08 epsilon: 0.9297505502567865%\n",
      "FGSM Evasion Rate on adversarial examples with 0.09 epsilon: 0.6177549523110785%\n"
     ]
    },
    {
     "name": "stderr",
     "output_type": "stream",
     "text": [
      "                                                                \r"
     ]
    },
    {
     "name": "stdout",
     "output_type": "stream",
     "text": [
      "PGD Evasion Rate on adversarial examples with 0.09 epsilon: 0.9312179016874541%\n",
      "FGSM Evasion Rate on adversarial examples with 0.1 epsilon: 0.619589141599413%\n"
     ]
    },
    {
     "name": "stderr",
     "output_type": "stream",
     "text": [
      "ic                                                              | fastai_model: True\n",
      "    feature_set_name: 'time_based_features'\n",
      "    nw_attack: 'Shellcode'\n"
     ]
    },
    {
     "name": "stdout",
     "output_type": "stream",
     "text": [
      "PGD Evasion Rate on adversarial examples with 0.1 epsilon: 0.9345194424064563%\n",
      "FGSM Evasion Rate on adversarial examples with 1e-05 epsilon: 0.0014005602240896359%\n"
     ]
    },
    {
     "name": "stderr",
     "output_type": "stream",
     "text": [
      "                                                              \r"
     ]
    },
    {
     "name": "stdout",
     "output_type": "stream",
     "text": [
      "PGD Evasion Rate on adversarial examples with 1e-05 epsilon: 0.0014005602240896359%\n",
      "FGSM Evasion Rate on adversarial examples with 0.0001 epsilon: 0.0014005602240896359%\n"
     ]
    },
    {
     "name": "stderr",
     "output_type": "stream",
     "text": [
      "                                                              \r"
     ]
    },
    {
     "name": "stdout",
     "output_type": "stream",
     "text": [
      "PGD Evasion Rate on adversarial examples with 0.0001 epsilon: 0.0014005602240896359%\n",
      "FGSM Evasion Rate on adversarial examples with 0.001 epsilon: 0.062324929971988796%\n"
     ]
    },
    {
     "name": "stderr",
     "output_type": "stream",
     "text": [
      "                                                              \r"
     ]
    },
    {
     "name": "stdout",
     "output_type": "stream",
     "text": [
      "PGD Evasion Rate on adversarial examples with 0.001 epsilon: 0.09873949579831932%\n",
      "FGSM Evasion Rate on adversarial examples with 0.005 epsilon: 0.4796918767507003%\n"
     ]
    },
    {
     "name": "stderr",
     "output_type": "stream",
     "text": [
      "                                                              \r"
     ]
    },
    {
     "name": "stdout",
     "output_type": "stream",
     "text": [
      "PGD Evasion Rate on adversarial examples with 0.005 epsilon: 0.5343137254901961%\n",
      "FGSM Evasion Rate on adversarial examples with 0.01 epsilon: 0.5868347338935574%\n"
     ]
    },
    {
     "name": "stderr",
     "output_type": "stream",
     "text": [
      "                                                              \r"
     ]
    },
    {
     "name": "stdout",
     "output_type": "stream",
     "text": [
      "PGD Evasion Rate on adversarial examples with 0.01 epsilon: 0.6400560224089635%\n",
      "FGSM Evasion Rate on adversarial examples with 0.02 epsilon: 0.6596638655462185%\n"
     ]
    },
    {
     "name": "stderr",
     "output_type": "stream",
     "text": [
      "                                                              \r"
     ]
    },
    {
     "name": "stdout",
     "output_type": "stream",
     "text": [
      "PGD Evasion Rate on adversarial examples with 0.02 epsilon: 0.7030812324929971%\n",
      "FGSM Evasion Rate on adversarial examples with 0.03 epsilon: 0.6778711484593838%\n"
     ]
    },
    {
     "name": "stderr",
     "output_type": "stream",
     "text": [
      "                                                              \r"
     ]
    },
    {
     "name": "stdout",
     "output_type": "stream",
     "text": [
      "PGD Evasion Rate on adversarial examples with 0.03 epsilon: 0.8403361344537815%\n",
      "FGSM Evasion Rate on adversarial examples with 0.04 epsilon: 0.7408963585434174%\n"
     ]
    },
    {
     "name": "stderr",
     "output_type": "stream",
     "text": [
      "                                                              \r"
     ]
    },
    {
     "name": "stdout",
     "output_type": "stream",
     "text": [
      "PGD Evasion Rate on adversarial examples with 0.04 epsilon: 0.8788515406162465%\n",
      "FGSM Evasion Rate on adversarial examples with 0.05 epsilon: 0.7871148459383753%\n"
     ]
    },
    {
     "name": "stderr",
     "output_type": "stream",
     "text": [
      "                                                              \r"
     ]
    },
    {
     "name": "stdout",
     "output_type": "stream",
     "text": [
      "PGD Evasion Rate on adversarial examples with 0.05 epsilon: 0.9138655462184874%\n",
      "FGSM Evasion Rate on adversarial examples with 0.06 epsilon: 0.8382352941176471%\n"
     ]
    },
    {
     "name": "stderr",
     "output_type": "stream",
     "text": [
      "                                                              \r"
     ]
    },
    {
     "name": "stdout",
     "output_type": "stream",
     "text": [
      "PGD Evasion Rate on adversarial examples with 0.06 epsilon: 0.9558823529411765%\n",
      "FGSM Evasion Rate on adversarial examples with 0.07 epsilon: 0.8529411764705882%\n"
     ]
    },
    {
     "name": "stderr",
     "output_type": "stream",
     "text": [
      "                                                              \r"
     ]
    },
    {
     "name": "stdout",
     "output_type": "stream",
     "text": [
      "PGD Evasion Rate on adversarial examples with 0.07 epsilon: 0.9628851540616247%\n",
      "FGSM Evasion Rate on adversarial examples with 0.08 epsilon: 0.8578431372549019%\n"
     ]
    },
    {
     "name": "stderr",
     "output_type": "stream",
     "text": [
      "                                                              \r"
     ]
    },
    {
     "name": "stdout",
     "output_type": "stream",
     "text": [
      "PGD Evasion Rate on adversarial examples with 0.08 epsilon: 0.9607843137254902%\n",
      "FGSM Evasion Rate on adversarial examples with 0.09 epsilon: 0.8641456582633054%\n"
     ]
    },
    {
     "name": "stderr",
     "output_type": "stream",
     "text": [
      "                                                              \r"
     ]
    },
    {
     "name": "stdout",
     "output_type": "stream",
     "text": [
      "PGD Evasion Rate on adversarial examples with 0.09 epsilon: 0.9635854341736695%\n",
      "FGSM Evasion Rate on adversarial examples with 0.1 epsilon: 0.8739495798319328%\n"
     ]
    },
    {
     "name": "stderr",
     "output_type": "stream",
     "text": [
      "ic                                                            | fastai_model: True\n",
      "    feature_set_name: 'time_based_features'\n",
      "    nw_attack: 'Analysis'\n"
     ]
    },
    {
     "name": "stdout",
     "output_type": "stream",
     "text": [
      "PGD Evasion Rate on adversarial examples with 0.1 epsilon: 0.9649859943977591%\n",
      "FGSM Evasion Rate on adversarial examples with 1e-05 epsilon: 0.019310344827586208%\n"
     ]
    },
    {
     "name": "stderr",
     "output_type": "stream",
     "text": [
      "                                                              \r"
     ]
    },
    {
     "name": "stdout",
     "output_type": "stream",
     "text": [
      "PGD Evasion Rate on adversarial examples with 1e-05 epsilon: 0.019310344827586208%\n",
      "FGSM Evasion Rate on adversarial examples with 0.0001 epsilon: 0.019310344827586208%\n"
     ]
    },
    {
     "name": "stderr",
     "output_type": "stream",
     "text": [
      "                                                              \r"
     ]
    },
    {
     "name": "stdout",
     "output_type": "stream",
     "text": [
      "PGD Evasion Rate on adversarial examples with 0.0001 epsilon: 0.019310344827586208%\n",
      "FGSM Evasion Rate on adversarial examples with 0.001 epsilon: 0.10620689655172413%\n"
     ]
    },
    {
     "name": "stderr",
     "output_type": "stream",
     "text": [
      "                                                              \r"
     ]
    },
    {
     "name": "stdout",
     "output_type": "stream",
     "text": [
      "PGD Evasion Rate on adversarial examples with 0.001 epsilon: 0.10620689655172413%\n",
      "FGSM Evasion Rate on adversarial examples with 0.005 epsilon: 0.2386206896551724%\n"
     ]
    },
    {
     "name": "stderr",
     "output_type": "stream",
     "text": [
      "                                                              \r"
     ]
    },
    {
     "name": "stdout",
     "output_type": "stream",
     "text": [
      "PGD Evasion Rate on adversarial examples with 0.005 epsilon: 0.2482758620689655%\n",
      "FGSM Evasion Rate on adversarial examples with 0.01 epsilon: 0.25103448275862067%\n"
     ]
    },
    {
     "name": "stderr",
     "output_type": "stream",
     "text": [
      "                                                              \r"
     ]
    },
    {
     "name": "stdout",
     "output_type": "stream",
     "text": [
      "PGD Evasion Rate on adversarial examples with 0.01 epsilon: 0.2482758620689655%\n",
      "FGSM Evasion Rate on adversarial examples with 0.02 epsilon: 0.25103448275862067%\n"
     ]
    },
    {
     "name": "stderr",
     "output_type": "stream",
     "text": [
      "                                                              \r"
     ]
    },
    {
     "name": "stdout",
     "output_type": "stream",
     "text": [
      "PGD Evasion Rate on adversarial examples with 0.02 epsilon: 0.31448275862068964%\n",
      "FGSM Evasion Rate on adversarial examples with 0.03 epsilon: 0.2675862068965517%\n"
     ]
    },
    {
     "name": "stderr",
     "output_type": "stream",
     "text": [
      "                                                              \r"
     ]
    },
    {
     "name": "stdout",
     "output_type": "stream",
     "text": [
      "PGD Evasion Rate on adversarial examples with 0.03 epsilon: 0.7241379310344828%\n",
      "FGSM Evasion Rate on adversarial examples with 0.04 epsilon: 0.29379310344827586%\n"
     ]
    },
    {
     "name": "stderr",
     "output_type": "stream",
     "text": [
      "                                                              \r"
     ]
    },
    {
     "name": "stdout",
     "output_type": "stream",
     "text": [
      "PGD Evasion Rate on adversarial examples with 0.04 epsilon: 0.9489655172413793%\n",
      "FGSM Evasion Rate on adversarial examples with 0.05 epsilon: 0.3213793103448276%\n"
     ]
    },
    {
     "name": "stderr",
     "output_type": "stream",
     "text": [
      "                                                              \r"
     ]
    },
    {
     "name": "stdout",
     "output_type": "stream",
     "text": [
      "PGD Evasion Rate on adversarial examples with 0.05 epsilon: 0.9751724137931035%\n",
      "FGSM Evasion Rate on adversarial examples with 0.06 epsilon: 0.33379310344827584%\n"
     ]
    },
    {
     "name": "stderr",
     "output_type": "stream",
     "text": [
      "                                                              \r"
     ]
    },
    {
     "name": "stdout",
     "output_type": "stream",
     "text": [
      "PGD Evasion Rate on adversarial examples with 0.06 epsilon: 0.9779310344827586%\n",
      "FGSM Evasion Rate on adversarial examples with 0.07 epsilon: 0.3406896551724138%\n"
     ]
    },
    {
     "name": "stderr",
     "output_type": "stream",
     "text": [
      "                                                              \r"
     ]
    },
    {
     "name": "stdout",
     "output_type": "stream",
     "text": [
      "PGD Evasion Rate on adversarial examples with 0.07 epsilon: 0.9793103448275862%\n",
      "FGSM Evasion Rate on adversarial examples with 0.08 epsilon: 0.35310344827586204%\n"
     ]
    },
    {
     "name": "stderr",
     "output_type": "stream",
     "text": [
      "                                                              \r"
     ]
    },
    {
     "name": "stdout",
     "output_type": "stream",
     "text": [
      "PGD Evasion Rate on adversarial examples with 0.08 epsilon: 0.976551724137931%\n",
      "FGSM Evasion Rate on adversarial examples with 0.09 epsilon: 0.3641379310344828%\n"
     ]
    },
    {
     "name": "stderr",
     "output_type": "stream",
     "text": [
      "                                                              \r"
     ]
    },
    {
     "name": "stdout",
     "output_type": "stream",
     "text": [
      "PGD Evasion Rate on adversarial examples with 0.09 epsilon: 0.976551724137931%\n",
      "FGSM Evasion Rate on adversarial examples with 0.1 epsilon: 0.3724137931034483%\n"
     ]
    },
    {
     "name": "stderr",
     "output_type": "stream",
     "text": [
      "ic                                                            | fastai_model: True\n",
      "    feature_set_name: 'time_based_features'\n",
      "    nw_attack: 'Backdoors'\n"
     ]
    },
    {
     "name": "stdout",
     "output_type": "stream",
     "text": [
      "PGD Evasion Rate on adversarial examples with 0.1 epsilon: 0.976551724137931%\n",
      "FGSM Evasion Rate on adversarial examples with 1e-05 epsilon: 0.0163265306122449%\n"
     ]
    },
    {
     "name": "stderr",
     "output_type": "stream",
     "text": [
      "                                                              \r"
     ]
    },
    {
     "name": "stdout",
     "output_type": "stream",
     "text": [
      "PGD Evasion Rate on adversarial examples with 1e-05 epsilon: 0.0163265306122449%\n",
      "FGSM Evasion Rate on adversarial examples with 0.0001 epsilon: 0.0163265306122449%\n"
     ]
    },
    {
     "name": "stderr",
     "output_type": "stream",
     "text": [
      "                                                              \r"
     ]
    },
    {
     "name": "stdout",
     "output_type": "stream",
     "text": [
      "PGD Evasion Rate on adversarial examples with 0.0001 epsilon: 0.0163265306122449%\n",
      "FGSM Evasion Rate on adversarial examples with 0.001 epsilon: 0.3448979591836735%\n"
     ]
    },
    {
     "name": "stderr",
     "output_type": "stream",
     "text": [
      "                                                              \r"
     ]
    },
    {
     "name": "stdout",
     "output_type": "stream",
     "text": [
      "PGD Evasion Rate on adversarial examples with 0.001 epsilon: 0.3673469387755102%\n",
      "FGSM Evasion Rate on adversarial examples with 0.005 epsilon: 0.6204081632653061%\n"
     ]
    },
    {
     "name": "stderr",
     "output_type": "stream",
     "text": [
      "                                                              \r"
     ]
    },
    {
     "name": "stdout",
     "output_type": "stream",
     "text": [
      "PGD Evasion Rate on adversarial examples with 0.005 epsilon: 0.6306122448979592%\n",
      "FGSM Evasion Rate on adversarial examples with 0.01 epsilon: 0.6510204081632653%\n"
     ]
    },
    {
     "name": "stderr",
     "output_type": "stream",
     "text": [
      "                                                              \r"
     ]
    },
    {
     "name": "stdout",
     "output_type": "stream",
     "text": [
      "PGD Evasion Rate on adversarial examples with 0.01 epsilon: 0.6612244897959184%\n",
      "FGSM Evasion Rate on adversarial examples with 0.02 epsilon: 0.6632653061224489%\n"
     ]
    },
    {
     "name": "stderr",
     "output_type": "stream",
     "text": [
      "                                                              \r"
     ]
    },
    {
     "name": "stdout",
     "output_type": "stream",
     "text": [
      "PGD Evasion Rate on adversarial examples with 0.02 epsilon: 0.673469387755102%\n",
      "FGSM Evasion Rate on adversarial examples with 0.03 epsilon: 0.6632653061224489%\n"
     ]
    },
    {
     "name": "stderr",
     "output_type": "stream",
     "text": [
      "                                                              \r"
     ]
    },
    {
     "name": "stdout",
     "output_type": "stream",
     "text": [
      "PGD Evasion Rate on adversarial examples with 0.03 epsilon: 0.9959183673469387%\n",
      "FGSM Evasion Rate on adversarial examples with 0.04 epsilon: 0.6632653061224489%\n"
     ]
    },
    {
     "name": "stderr",
     "output_type": "stream",
     "text": [
      "                                                              \r"
     ]
    },
    {
     "name": "stdout",
     "output_type": "stream",
     "text": [
      "PGD Evasion Rate on adversarial examples with 0.04 epsilon: 0.9979591836734694%\n",
      "FGSM Evasion Rate on adversarial examples with 0.05 epsilon: 0.6632653061224489%\n"
     ]
    },
    {
     "name": "stderr",
     "output_type": "stream",
     "text": [
      "                                                              \r"
     ]
    },
    {
     "name": "stdout",
     "output_type": "stream",
     "text": [
      "PGD Evasion Rate on adversarial examples with 0.05 epsilon: 0.9979591836734694%\n",
      "FGSM Evasion Rate on adversarial examples with 0.06 epsilon: 0.6653061224489796%\n"
     ]
    },
    {
     "name": "stderr",
     "output_type": "stream",
     "text": [
      "                                                              \r"
     ]
    },
    {
     "name": "stdout",
     "output_type": "stream",
     "text": [
      "PGD Evasion Rate on adversarial examples with 0.06 epsilon: 0.9979591836734694%\n",
      "FGSM Evasion Rate on adversarial examples with 0.07 epsilon: 0.6653061224489796%\n"
     ]
    },
    {
     "name": "stderr",
     "output_type": "stream",
     "text": [
      "                                                              \r"
     ]
    },
    {
     "name": "stdout",
     "output_type": "stream",
     "text": [
      "PGD Evasion Rate on adversarial examples with 0.07 epsilon: 0.9979591836734694%\n",
      "FGSM Evasion Rate on adversarial examples with 0.08 epsilon: 0.6653061224489796%\n"
     ]
    },
    {
     "name": "stderr",
     "output_type": "stream",
     "text": [
      "                                                              \r"
     ]
    },
    {
     "name": "stdout",
     "output_type": "stream",
     "text": [
      "PGD Evasion Rate on adversarial examples with 0.08 epsilon: 0.9979591836734694%\n",
      "FGSM Evasion Rate on adversarial examples with 0.09 epsilon: 0.6653061224489796%\n"
     ]
    },
    {
     "name": "stderr",
     "output_type": "stream",
     "text": [
      "                                                              \r"
     ]
    },
    {
     "name": "stdout",
     "output_type": "stream",
     "text": [
      "PGD Evasion Rate on adversarial examples with 0.09 epsilon: 0.9979591836734694%\n",
      "FGSM Evasion Rate on adversarial examples with 0.1 epsilon: 0.6693877551020408%\n"
     ]
    },
    {
     "name": "stderr",
     "output_type": "stream",
     "text": [
      "ic                                                            | fastai_model: True\n",
      "    feature_set_name: 'time_based_features'\n",
      "    nw_attack: 'Worms'\n"
     ]
    },
    {
     "name": "stdout",
     "output_type": "stream",
     "text": [
      "PGD Evasion Rate on adversarial examples with 0.1 epsilon: 1.0%\n",
      "FGSM Evasion Rate on adversarial examples with 1e-05 epsilon: 0.005263157894736842%\n"
     ]
    },
    {
     "name": "stderr",
     "output_type": "stream",
     "text": [
      "                                                            \r"
     ]
    },
    {
     "name": "stdout",
     "output_type": "stream",
     "text": [
      "PGD Evasion Rate on adversarial examples with 1e-05 epsilon: 0.005263157894736842%\n",
      "FGSM Evasion Rate on adversarial examples with 0.0001 epsilon: 0.005263157894736842%\n"
     ]
    },
    {
     "name": "stderr",
     "output_type": "stream",
     "text": [
      "                                                            \r"
     ]
    },
    {
     "name": "stdout",
     "output_type": "stream",
     "text": [
      "PGD Evasion Rate on adversarial examples with 0.0001 epsilon: 0.005263157894736842%\n",
      "FGSM Evasion Rate on adversarial examples with 0.001 epsilon: 0.06315789473684211%\n"
     ]
    },
    {
     "name": "stderr",
     "output_type": "stream",
     "text": [
      "                                                            \r"
     ]
    },
    {
     "name": "stdout",
     "output_type": "stream",
     "text": [
      "PGD Evasion Rate on adversarial examples with 0.001 epsilon: 0.06842105263157895%\n",
      "FGSM Evasion Rate on adversarial examples with 0.005 epsilon: 0.5736842105263158%\n"
     ]
    },
    {
     "name": "stderr",
     "output_type": "stream",
     "text": [
      "                                                            \r"
     ]
    },
    {
     "name": "stdout",
     "output_type": "stream",
     "text": [
      "PGD Evasion Rate on adversarial examples with 0.005 epsilon: 0.6%\n",
      "FGSM Evasion Rate on adversarial examples with 0.01 epsilon: 0.6157894736842106%\n"
     ]
    },
    {
     "name": "stderr",
     "output_type": "stream",
     "text": [
      "                                                            \r"
     ]
    },
    {
     "name": "stdout",
     "output_type": "stream",
     "text": [
      "PGD Evasion Rate on adversarial examples with 0.01 epsilon: 0.6421052631578947%\n",
      "FGSM Evasion Rate on adversarial examples with 0.02 epsilon: 0.6526315789473685%\n"
     ]
    },
    {
     "name": "stderr",
     "output_type": "stream",
     "text": [
      "                                                            \r"
     ]
    },
    {
     "name": "stdout",
     "output_type": "stream",
     "text": [
      "PGD Evasion Rate on adversarial examples with 0.02 epsilon: 0.7315789473684211%\n",
      "FGSM Evasion Rate on adversarial examples with 0.03 epsilon: 0.7105263157894737%\n"
     ]
    },
    {
     "name": "stderr",
     "output_type": "stream",
     "text": [
      "                                                            \r"
     ]
    },
    {
     "name": "stdout",
     "output_type": "stream",
     "text": [
      "PGD Evasion Rate on adversarial examples with 0.03 epsilon: 0.9105263157894737%\n",
      "FGSM Evasion Rate on adversarial examples with 0.04 epsilon: 0.7421052631578947%\n"
     ]
    },
    {
     "name": "stderr",
     "output_type": "stream",
     "text": [
      "                                                            \r"
     ]
    },
    {
     "name": "stdout",
     "output_type": "stream",
     "text": [
      "PGD Evasion Rate on adversarial examples with 0.04 epsilon: 0.9315789473684211%\n",
      "FGSM Evasion Rate on adversarial examples with 0.05 epsilon: 0.7421052631578947%\n"
     ]
    },
    {
     "name": "stderr",
     "output_type": "stream",
     "text": [
      "                                                            \r"
     ]
    },
    {
     "name": "stdout",
     "output_type": "stream",
     "text": [
      "PGD Evasion Rate on adversarial examples with 0.05 epsilon: 0.9368421052631579%\n",
      "FGSM Evasion Rate on adversarial examples with 0.06 epsilon: 0.7526315789473684%\n"
     ]
    },
    {
     "name": "stderr",
     "output_type": "stream",
     "text": [
      "                                                            \r"
     ]
    },
    {
     "name": "stdout",
     "output_type": "stream",
     "text": [
      "PGD Evasion Rate on adversarial examples with 0.06 epsilon: 0.9473684210526315%\n",
      "FGSM Evasion Rate on adversarial examples with 0.07 epsilon: 0.7684210526315789%\n"
     ]
    },
    {
     "name": "stderr",
     "output_type": "stream",
     "text": [
      "                                                            \r"
     ]
    },
    {
     "name": "stdout",
     "output_type": "stream",
     "text": [
      "PGD Evasion Rate on adversarial examples with 0.07 epsilon: 0.9631578947368421%\n",
      "FGSM Evasion Rate on adversarial examples with 0.08 epsilon: 0.7684210526315789%\n"
     ]
    },
    {
     "name": "stderr",
     "output_type": "stream",
     "text": [
      "                                                            \r"
     ]
    },
    {
     "name": "stdout",
     "output_type": "stream",
     "text": [
      "PGD Evasion Rate on adversarial examples with 0.08 epsilon: 0.9631578947368421%\n",
      "FGSM Evasion Rate on adversarial examples with 0.09 epsilon: 0.7684210526315789%\n"
     ]
    },
    {
     "name": "stderr",
     "output_type": "stream",
     "text": [
      "                                                            \r"
     ]
    },
    {
     "name": "stdout",
     "output_type": "stream",
     "text": [
      "PGD Evasion Rate on adversarial examples with 0.09 epsilon: 0.9526315789473684%\n",
      "FGSM Evasion Rate on adversarial examples with 0.1 epsilon: 0.7684210526315789%\n"
     ]
    },
    {
     "name": "stderr",
     "output_type": "stream",
     "text": [
      "ic                                                          | fastai_model: True\n",
      "    feature_set_name: 'volume_based_features'\n",
      "    nw_attack: 'Exploits'\n"
     ]
    },
    {
     "name": "stdout",
     "output_type": "stream",
     "text": [
      "PGD Evasion Rate on adversarial examples with 0.1 epsilon: 0.9526315789473684%\n",
      "FGSM Evasion Rate on adversarial examples with 1e-05 epsilon: 0.0034220229726503433%\n"
     ]
    },
    {
     "name": "stderr",
     "output_type": "stream",
     "text": [
      "                                                                  \r"
     ]
    },
    {
     "name": "stdout",
     "output_type": "stream",
     "text": [
      "PGD Evasion Rate on adversarial examples with 1e-05 epsilon: 0.0034220229726503433%\n",
      "FGSM Evasion Rate on adversarial examples with 0.0001 epsilon: 0.0033689683529193304%\n"
     ]
    },
    {
     "name": "stderr",
     "output_type": "stream",
     "text": [
      "                                                                  \r"
     ]
    },
    {
     "name": "stdout",
     "output_type": "stream",
     "text": [
      "PGD Evasion Rate on adversarial examples with 0.0001 epsilon: 0.0033689683529193304%\n",
      "FGSM Evasion Rate on adversarial examples with 0.001 epsilon: 0.003156749873995278%\n"
     ]
    },
    {
     "name": "stderr",
     "output_type": "stream",
     "text": [
      "                                                                  \r"
     ]
    },
    {
     "name": "stdout",
     "output_type": "stream",
     "text": [
      "PGD Evasion Rate on adversarial examples with 0.001 epsilon: 0.0031302225641297718%\n",
      "FGSM Evasion Rate on adversarial examples with 0.005 epsilon: 0.024537761625593547%\n"
     ]
    },
    {
     "name": "stderr",
     "output_type": "stream",
     "text": [
      "                                                                  \r"
     ]
    },
    {
     "name": "stdout",
     "output_type": "stream",
     "text": [
      "PGD Evasion Rate on adversarial examples with 0.005 epsilon: 0.22248454784200333%\n",
      "FGSM Evasion Rate on adversarial examples with 0.01 epsilon: 0.16242671830649655%\n"
     ]
    },
    {
     "name": "stderr",
     "output_type": "stream",
     "text": [
      "                                                                  \r"
     ]
    },
    {
     "name": "stdout",
     "output_type": "stream",
     "text": [
      "PGD Evasion Rate on adversarial examples with 0.01 epsilon: 0.537469825185028%\n",
      "FGSM Evasion Rate on adversarial examples with 0.02 epsilon: 0.30127065814255777%\n"
     ]
    },
    {
     "name": "stderr",
     "output_type": "stream",
     "text": [
      "                                                                  \r"
     ]
    },
    {
     "name": "stdout",
     "output_type": "stream",
     "text": [
      "PGD Evasion Rate on adversarial examples with 0.02 epsilon: 0.44446507679656205%\n",
      "FGSM Evasion Rate on adversarial examples with 0.03 epsilon: 0.3278510226277953%\n"
     ]
    },
    {
     "name": "stderr",
     "output_type": "stream",
     "text": [
      "                                                                  \r"
     ]
    },
    {
     "name": "stdout",
     "output_type": "stream",
     "text": [
      "PGD Evasion Rate on adversarial examples with 0.03 epsilon: 0.3918879486431281%\n",
      "FGSM Evasion Rate on adversarial examples with 0.04 epsilon: 0.34408573626548533%\n"
     ]
    },
    {
     "name": "stderr",
     "output_type": "stream",
     "text": [
      "                                                                  \r"
     ]
    },
    {
     "name": "stdout",
     "output_type": "stream",
     "text": [
      "PGD Evasion Rate on adversarial examples with 0.04 epsilon: 0.4084144626893387%\n",
      "FGSM Evasion Rate on adversarial examples with 0.05 epsilon: 0.34023927633498685%\n"
     ]
    },
    {
     "name": "stderr",
     "output_type": "stream",
     "text": [
      "                                                                  \r"
     ]
    },
    {
     "name": "stdout",
     "output_type": "stream",
     "text": [
      "PGD Evasion Rate on adversarial examples with 0.05 epsilon: 0.43069740297636416%\n",
      "FGSM Evasion Rate on adversarial examples with 0.06 epsilon: 0.3330238480515691%\n"
     ]
    },
    {
     "name": "stderr",
     "output_type": "stream",
     "text": [
      "                                                                  \r"
     ]
    },
    {
     "name": "stdout",
     "output_type": "stream",
     "text": [
      "PGD Evasion Rate on adversarial examples with 0.06 epsilon: 0.46799480064726634%\n",
      "FGSM Evasion Rate on adversarial examples with 0.07 epsilon: 0.3277979680080643%\n"
     ]
    },
    {
     "name": "stderr",
     "output_type": "stream",
     "text": [
      "                                                                  \r"
     ]
    },
    {
     "name": "stdout",
     "output_type": "stream",
     "text": [
      "PGD Evasion Rate on adversarial examples with 0.07 epsilon: 0.5253998991962225%\n",
      "FGSM Evasion Rate on adversarial examples with 0.08 epsilon: 0.31710746213226515%\n"
     ]
    },
    {
     "name": "stderr",
     "output_type": "stream",
     "text": [
      "                                                                  \r"
     ]
    },
    {
     "name": "stdout",
     "output_type": "stream",
     "text": [
      "PGD Evasion Rate on adversarial examples with 0.08 epsilon: 0.5908427726344272%\n",
      "FGSM Evasion Rate on adversarial examples with 0.09 epsilon: 0.30952065151073027%\n"
     ]
    },
    {
     "name": "stderr",
     "output_type": "stream",
     "text": [
      "                                                                  \r"
     ]
    },
    {
     "name": "stdout",
     "output_type": "stream",
     "text": [
      "PGD Evasion Rate on adversarial examples with 0.09 epsilon: 0.6236835822479242%\n",
      "FGSM Evasion Rate on adversarial examples with 0.1 epsilon: 0.3041356076080325%\n"
     ]
    },
    {
     "name": "stderr",
     "output_type": "stream",
     "text": [
      "                                                                  \r"
     ]
    },
    {
     "name": "stdout",
     "output_type": "stream",
     "text": [
      "PGD Evasion Rate on adversarial examples with 0.1 epsilon: 0.6254078573891821%\n"
     ]
    },
    {
     "name": "stderr",
     "output_type": "stream",
     "text": [
      "ic| fastai_model: True\n",
      "    feature_set_name: 'volume_based_features'\n",
      "    nw_attack: 'Fuzzers'\n"
     ]
    },
    {
     "name": "stdout",
     "output_type": "stream",
     "text": [
      "FGSM Evasion Rate on adversarial examples with 1e-05 epsilon: 0.031315789473684214%\n"
     ]
    },
    {
     "name": "stderr",
     "output_type": "stream",
     "text": [
      "                                                                \r"
     ]
    },
    {
     "name": "stdout",
     "output_type": "stream",
     "text": [
      "PGD Evasion Rate on adversarial examples with 1e-05 epsilon: 0.031315789473684214%\n",
      "FGSM Evasion Rate on adversarial examples with 0.0001 epsilon: 0.031315789473684214%\n"
     ]
    },
    {
     "name": "stderr",
     "output_type": "stream",
     "text": [
      "                                                                \r"
     ]
    },
    {
     "name": "stdout",
     "output_type": "stream",
     "text": [
      "PGD Evasion Rate on adversarial examples with 0.0001 epsilon: 0.031315789473684214%\n",
      "FGSM Evasion Rate on adversarial examples with 0.001 epsilon: 0.030473684210526316%\n"
     ]
    },
    {
     "name": "stderr",
     "output_type": "stream",
     "text": [
      "                                                                \r"
     ]
    },
    {
     "name": "stdout",
     "output_type": "stream",
     "text": [
      "PGD Evasion Rate on adversarial examples with 0.001 epsilon: 0.030473684210526316%\n",
      "FGSM Evasion Rate on adversarial examples with 0.005 epsilon: 0.02936842105263158%\n"
     ]
    },
    {
     "name": "stderr",
     "output_type": "stream",
     "text": [
      "                                                                \r"
     ]
    },
    {
     "name": "stdout",
     "output_type": "stream",
     "text": [
      "PGD Evasion Rate on adversarial examples with 0.005 epsilon: 0.359%\n",
      "FGSM Evasion Rate on adversarial examples with 0.01 epsilon: 0.07131578947368421%\n"
     ]
    },
    {
     "name": "stderr",
     "output_type": "stream",
     "text": [
      "                                                                \r"
     ]
    },
    {
     "name": "stdout",
     "output_type": "stream",
     "text": [
      "PGD Evasion Rate on adversarial examples with 0.01 epsilon: 0.43026315789473685%\n",
      "FGSM Evasion Rate on adversarial examples with 0.02 epsilon: 0.17705263157894738%\n"
     ]
    },
    {
     "name": "stderr",
     "output_type": "stream",
     "text": [
      "                                                                \r"
     ]
    },
    {
     "name": "stdout",
     "output_type": "stream",
     "text": [
      "PGD Evasion Rate on adversarial examples with 0.02 epsilon: 0.3991578947368421%\n",
      "FGSM Evasion Rate on adversarial examples with 0.03 epsilon: 0.19715789473684212%\n"
     ]
    },
    {
     "name": "stderr",
     "output_type": "stream",
     "text": [
      "                                                                \r"
     ]
    },
    {
     "name": "stdout",
     "output_type": "stream",
     "text": [
      "PGD Evasion Rate on adversarial examples with 0.03 epsilon: 0.375%\n",
      "FGSM Evasion Rate on adversarial examples with 0.04 epsilon: 0.2083684210526316%\n"
     ]
    },
    {
     "name": "stderr",
     "output_type": "stream",
     "text": [
      "                                                                \r"
     ]
    },
    {
     "name": "stdout",
     "output_type": "stream",
     "text": [
      "PGD Evasion Rate on adversarial examples with 0.04 epsilon: 0.40889473684210526%\n",
      "FGSM Evasion Rate on adversarial examples with 0.05 epsilon: 0.19389473684210526%\n"
     ]
    },
    {
     "name": "stderr",
     "output_type": "stream",
     "text": [
      "                                                                \r"
     ]
    },
    {
     "name": "stdout",
     "output_type": "stream",
     "text": [
      "PGD Evasion Rate on adversarial examples with 0.05 epsilon: 0.4079473684210526%\n",
      "FGSM Evasion Rate on adversarial examples with 0.06 epsilon: 0.1936842105263158%\n"
     ]
    },
    {
     "name": "stderr",
     "output_type": "stream",
     "text": [
      "                                                                \r"
     ]
    },
    {
     "name": "stdout",
     "output_type": "stream",
     "text": [
      "PGD Evasion Rate on adversarial examples with 0.06 epsilon: 0.4203157894736842%\n",
      "FGSM Evasion Rate on adversarial examples with 0.07 epsilon: 0.18347368421052632%\n"
     ]
    },
    {
     "name": "stderr",
     "output_type": "stream",
     "text": [
      "                                                                \r"
     ]
    },
    {
     "name": "stdout",
     "output_type": "stream",
     "text": [
      "PGD Evasion Rate on adversarial examples with 0.07 epsilon: 0.48736842105263156%\n",
      "FGSM Evasion Rate on adversarial examples with 0.08 epsilon: 0.18568421052631578%\n"
     ]
    },
    {
     "name": "stderr",
     "output_type": "stream",
     "text": [
      "                                                                \r"
     ]
    },
    {
     "name": "stdout",
     "output_type": "stream",
     "text": [
      "PGD Evasion Rate on adversarial examples with 0.08 epsilon: 0.5886842105263158%\n",
      "FGSM Evasion Rate on adversarial examples with 0.09 epsilon: 0.19142105263157894%\n"
     ]
    },
    {
     "name": "stderr",
     "output_type": "stream",
     "text": [
      "                                                                \r"
     ]
    },
    {
     "name": "stdout",
     "output_type": "stream",
     "text": [
      "PGD Evasion Rate on adversarial examples with 0.09 epsilon: 0.6170526315789474%\n",
      "FGSM Evasion Rate on adversarial examples with 0.1 epsilon: 0.19615789473684211%\n"
     ]
    },
    {
     "name": "stderr",
     "output_type": "stream",
     "text": [
      "ic                                                              | fastai_model: True\n",
      "    feature_set_name: 'volume_based_features'\n",
      "    nw_attack: 'Reconnaissance'\n"
     ]
    },
    {
     "name": "stdout",
     "output_type": "stream",
     "text": [
      "PGD Evasion Rate on adversarial examples with 0.1 epsilon: 0.618421052631579%\n",
      "FGSM Evasion Rate on adversarial examples with 1e-05 epsilon: 0.0007031730684714776%\n"
     ]
    },
    {
     "name": "stderr",
     "output_type": "stream",
     "text": [
      "                                                                \r"
     ]
    },
    {
     "name": "stdout",
     "output_type": "stream",
     "text": [
      "PGD Evasion Rate on adversarial examples with 1e-05 epsilon: 0.0007031730684714776%\n",
      "FGSM Evasion Rate on adversarial examples with 0.0001 epsilon: 0.0007031730684714776%\n"
     ]
    },
    {
     "name": "stderr",
     "output_type": "stream",
     "text": [
      "                                                                \r"
     ]
    },
    {
     "name": "stdout",
     "output_type": "stream",
     "text": [
      "PGD Evasion Rate on adversarial examples with 0.0001 epsilon: 0.0007031730684714776%\n",
      "FGSM Evasion Rate on adversarial examples with 0.001 epsilon: 0.0007031730684714776%\n"
     ]
    },
    {
     "name": "stderr",
     "output_type": "stream",
     "text": [
      "                                                                \r"
     ]
    },
    {
     "name": "stdout",
     "output_type": "stream",
     "text": [
      "PGD Evasion Rate on adversarial examples with 0.001 epsilon: 0.0007031730684714776%\n",
      "FGSM Evasion Rate on adversarial examples with 0.005 epsilon: 0.005449591280653951%\n"
     ]
    },
    {
     "name": "stderr",
     "output_type": "stream",
     "text": [
      "                                                                \r"
     ]
    },
    {
     "name": "stdout",
     "output_type": "stream",
     "text": [
      "PGD Evasion Rate on adversarial examples with 0.005 epsilon: 0.2666783862178079%\n",
      "FGSM Evasion Rate on adversarial examples with 0.01 epsilon: 0.06152764349125429%\n"
     ]
    },
    {
     "name": "stderr",
     "output_type": "stream",
     "text": [
      "                                                                \r"
     ]
    },
    {
     "name": "stdout",
     "output_type": "stream",
     "text": [
      "PGD Evasion Rate on adversarial examples with 0.01 epsilon: 0.17561747385075152%\n",
      "FGSM Evasion Rate on adversarial examples with 0.02 epsilon: 0.11303507075679002%\n"
     ]
    },
    {
     "name": "stderr",
     "output_type": "stream",
     "text": [
      "                                                                \r"
     ]
    },
    {
     "name": "stdout",
     "output_type": "stream",
     "text": [
      "PGD Evasion Rate on adversarial examples with 0.02 epsilon: 0.28100553748791424%\n",
      "FGSM Evasion Rate on adversarial examples with 0.03 epsilon: 0.13694295508482024%\n"
     ]
    },
    {
     "name": "stderr",
     "output_type": "stream",
     "text": [
      "                                                                \r"
     ]
    },
    {
     "name": "stdout",
     "output_type": "stream",
     "text": [
      "PGD Evasion Rate on adversarial examples with 0.03 epsilon: 0.2699305616594884%\n",
      "FGSM Evasion Rate on adversarial examples with 0.04 epsilon: 0.12991122440010547%\n"
     ]
    },
    {
     "name": "stderr",
     "output_type": "stream",
     "text": [
      "                                                                \r"
     ]
    },
    {
     "name": "stdout",
     "output_type": "stream",
     "text": [
      "PGD Evasion Rate on adversarial examples with 0.04 epsilon: 0.35211391403709236%\n",
      "FGSM Evasion Rate on adversarial examples with 0.05 epsilon: 0.12393425331809792%\n"
     ]
    },
    {
     "name": "stderr",
     "output_type": "stream",
     "text": [
      "                                                                \r"
     ]
    },
    {
     "name": "stdout",
     "output_type": "stream",
     "text": [
      "PGD Evasion Rate on adversarial examples with 0.05 epsilon: 0.36222202689636984%\n",
      "FGSM Evasion Rate on adversarial examples with 0.06 epsilon: 0.25604289355717674%\n"
     ]
    },
    {
     "name": "stderr",
     "output_type": "stream",
     "text": [
      "                                                                \r"
     ]
    },
    {
     "name": "stdout",
     "output_type": "stream",
     "text": [
      "PGD Evasion Rate on adversarial examples with 0.06 epsilon: 0.3665289619407577%\n",
      "FGSM Evasion Rate on adversarial examples with 0.07 epsilon: 0.3096598400281269%\n"
     ]
    },
    {
     "name": "stderr",
     "output_type": "stream",
     "text": [
      "                                                                \r"
     ]
    },
    {
     "name": "stdout",
     "output_type": "stream",
     "text": [
      "PGD Evasion Rate on adversarial examples with 0.07 epsilon: 0.3690779643139668%\n",
      "FGSM Evasion Rate on adversarial examples with 0.08 epsilon: 0.35044387799947263%\n"
     ]
    },
    {
     "name": "stderr",
     "output_type": "stream",
     "text": [
      "                                                                \r"
     ]
    },
    {
     "name": "stdout",
     "output_type": "stream",
     "text": [
      "PGD Evasion Rate on adversarial examples with 0.08 epsilon: 0.5047903665289619%\n",
      "FGSM Evasion Rate on adversarial examples with 0.09 epsilon: 0.4023028917992441%\n"
     ]
    },
    {
     "name": "stderr",
     "output_type": "stream",
     "text": [
      "                                                                \r"
     ]
    },
    {
     "name": "stdout",
     "output_type": "stream",
     "text": [
      "PGD Evasion Rate on adversarial examples with 0.09 epsilon: 0.5388942603498286%\n",
      "FGSM Evasion Rate on adversarial examples with 0.1 epsilon: 0.40731299991210335%\n"
     ]
    },
    {
     "name": "stderr",
     "output_type": "stream",
     "text": [
      "ic                                                              | fastai_model: True\n",
      "    feature_set_name: 'volume_based_features'\n",
      "    nw_attack: 'Generic'\n"
     ]
    },
    {
     "name": "stdout",
     "output_type": "stream",
     "text": [
      "PGD Evasion Rate on adversarial examples with 0.1 epsilon: 0.5388942603498286%\n",
      "FGSM Evasion Rate on adversarial examples with 1e-05 epsilon: 0.010821716801173881%\n"
     ]
    },
    {
     "name": "stderr",
     "output_type": "stream",
     "text": [
      "                                                                \r"
     ]
    },
    {
     "name": "stdout",
     "output_type": "stream",
     "text": [
      "PGD Evasion Rate on adversarial examples with 1e-05 epsilon: 0.010821716801173881%\n",
      "FGSM Evasion Rate on adversarial examples with 0.0001 epsilon: 0.010638297872340425%\n"
     ]
    },
    {
     "name": "stderr",
     "output_type": "stream",
     "text": [
      "                                                                \r"
     ]
    },
    {
     "name": "stdout",
     "output_type": "stream",
     "text": [
      "PGD Evasion Rate on adversarial examples with 0.0001 epsilon: 0.010638297872340425%\n",
      "FGSM Evasion Rate on adversarial examples with 0.001 epsilon: 0.009721203228173148%\n"
     ]
    },
    {
     "name": "stderr",
     "output_type": "stream",
     "text": [
      "                                                                \r"
     ]
    },
    {
     "name": "stdout",
     "output_type": "stream",
     "text": [
      "PGD Evasion Rate on adversarial examples with 0.001 epsilon: 0.009904622157006602%\n",
      "FGSM Evasion Rate on adversarial examples with 0.005 epsilon: 0.01925898752751284%\n"
     ]
    },
    {
     "name": "stderr",
     "output_type": "stream",
     "text": [
      "                                                                \r"
     ]
    },
    {
     "name": "stdout",
     "output_type": "stream",
     "text": [
      "PGD Evasion Rate on adversarial examples with 0.005 epsilon: 0.1814013206162876%\n",
      "FGSM Evasion Rate on adversarial examples with 0.01 epsilon: 0.07630227439471754%\n"
     ]
    },
    {
     "name": "stderr",
     "output_type": "stream",
     "text": [
      "                                                                \r"
     ]
    },
    {
     "name": "stdout",
     "output_type": "stream",
     "text": [
      "PGD Evasion Rate on adversarial examples with 0.01 epsilon: 0.45524578136463684%\n",
      "FGSM Evasion Rate on adversarial examples with 0.02 epsilon: 0.26357300073367573%\n"
     ]
    },
    {
     "name": "stderr",
     "output_type": "stream",
     "text": [
      "                                                                \r"
     ]
    },
    {
     "name": "stdout",
     "output_type": "stream",
     "text": [
      "PGD Evasion Rate on adversarial examples with 0.02 epsilon: 0.4101247248716067%\n",
      "FGSM Evasion Rate on adversarial examples with 0.03 epsilon: 0.3004402054292003%\n"
     ]
    },
    {
     "name": "stderr",
     "output_type": "stream",
     "text": [
      "                                                                \r"
     ]
    },
    {
     "name": "stdout",
     "output_type": "stream",
     "text": [
      "PGD Evasion Rate on adversarial examples with 0.03 epsilon: 0.3343727072633896%\n",
      "FGSM Evasion Rate on adversarial examples with 0.04 epsilon: 0.3219002201027146%\n"
     ]
    },
    {
     "name": "stderr",
     "output_type": "stream",
     "text": [
      "                                                                \r"
     ]
    },
    {
     "name": "stdout",
     "output_type": "stream",
     "text": [
      "PGD Evasion Rate on adversarial examples with 0.04 epsilon: 0.37123991195891415%\n",
      "FGSM Evasion Rate on adversarial examples with 0.05 epsilon: 0.3281364636830521%\n"
     ]
    },
    {
     "name": "stderr",
     "output_type": "stream",
     "text": [
      "                                                                \r"
     ]
    },
    {
     "name": "stdout",
     "output_type": "stream",
     "text": [
      "PGD Evasion Rate on adversarial examples with 0.05 epsilon: 0.3774761555392516%\n",
      "FGSM Evasion Rate on adversarial examples with 0.06 epsilon: 0.3338224504768892%\n"
     ]
    },
    {
     "name": "stderr",
     "output_type": "stream",
     "text": [
      "                                                                \r"
     ]
    },
    {
     "name": "stdout",
     "output_type": "stream",
     "text": [
      "PGD Evasion Rate on adversarial examples with 0.06 epsilon: 0.4253484959647836%\n",
      "FGSM Evasion Rate on adversarial examples with 0.07 epsilon: 0.33657373440939103%\n"
     ]
    },
    {
     "name": "stderr",
     "output_type": "stream",
     "text": [
      "                                                                \r"
     ]
    },
    {
     "name": "stdout",
     "output_type": "stream",
     "text": [
      "PGD Evasion Rate on adversarial examples with 0.07 epsilon: 0.4811078503301541%\n",
      "FGSM Evasion Rate on adversarial examples with 0.08 epsilon: 0.33033749082905356%\n"
     ]
    },
    {
     "name": "stderr",
     "output_type": "stream",
     "text": [
      "                                                                \r"
     ]
    },
    {
     "name": "stdout",
     "output_type": "stream",
     "text": [
      "PGD Evasion Rate on adversarial examples with 0.08 epsilon: 0.5297138664710198%\n",
      "FGSM Evasion Rate on adversarial examples with 0.09 epsilon: 0.3241012472487161%\n"
     ]
    },
    {
     "name": "stderr",
     "output_type": "stream",
     "text": [
      "                                                                \r"
     ]
    },
    {
     "name": "stdout",
     "output_type": "stream",
     "text": [
      "PGD Evasion Rate on adversarial examples with 0.09 epsilon: 0.5676815847395451%\n",
      "FGSM Evasion Rate on adversarial examples with 0.1 epsilon: 0.3211665443873808%\n"
     ]
    },
    {
     "name": "stderr",
     "output_type": "stream",
     "text": [
      "ic                                                              | fastai_model: True\n",
      "    feature_set_name: 'volume_based_features'\n",
      "    nw_attack: 'Shellcode'\n"
     ]
    },
    {
     "name": "stdout",
     "output_type": "stream",
     "text": [
      "PGD Evasion Rate on adversarial examples with 0.1 epsilon: 0.5733675715333822%\n",
      "FGSM Evasion Rate on adversarial examples with 1e-05 epsilon: 0.0014005602240896359%\n"
     ]
    },
    {
     "name": "stderr",
     "output_type": "stream",
     "text": [
      "                                                              \r"
     ]
    },
    {
     "name": "stdout",
     "output_type": "stream",
     "text": [
      "PGD Evasion Rate on adversarial examples with 1e-05 epsilon: 0.0014005602240896359%\n",
      "FGSM Evasion Rate on adversarial examples with 0.0001 epsilon: 0.0014005602240896359%\n"
     ]
    },
    {
     "name": "stderr",
     "output_type": "stream",
     "text": [
      "                                                              \r"
     ]
    },
    {
     "name": "stdout",
     "output_type": "stream",
     "text": [
      "PGD Evasion Rate on adversarial examples with 0.0001 epsilon: 0.0014005602240896359%\n",
      "FGSM Evasion Rate on adversarial examples with 0.001 epsilon: 0.0014005602240896359%\n"
     ]
    },
    {
     "name": "stderr",
     "output_type": "stream",
     "text": [
      "                                                              \r"
     ]
    },
    {
     "name": "stdout",
     "output_type": "stream",
     "text": [
      "PGD Evasion Rate on adversarial examples with 0.001 epsilon: 0.0014005602240896359%\n",
      "FGSM Evasion Rate on adversarial examples with 0.005 epsilon: 0.004201680672268907%\n"
     ]
    },
    {
     "name": "stderr",
     "output_type": "stream",
     "text": [
      "                                                              \r"
     ]
    },
    {
     "name": "stdout",
     "output_type": "stream",
     "text": [
      "PGD Evasion Rate on adversarial examples with 0.005 epsilon: 0.3011204481792717%\n",
      "FGSM Evasion Rate on adversarial examples with 0.01 epsilon: 0.04481792717086835%\n"
     ]
    },
    {
     "name": "stderr",
     "output_type": "stream",
     "text": [
      "                                                              \r"
     ]
    },
    {
     "name": "stdout",
     "output_type": "stream",
     "text": [
      "PGD Evasion Rate on adversarial examples with 0.01 epsilon: 0.33473389355742295%\n",
      "FGSM Evasion Rate on adversarial examples with 0.02 epsilon: 0.07563025210084033%\n"
     ]
    },
    {
     "name": "stderr",
     "output_type": "stream",
     "text": [
      "                                                              \r"
     ]
    },
    {
     "name": "stdout",
     "output_type": "stream",
     "text": [
      "PGD Evasion Rate on adversarial examples with 0.02 epsilon: 0.33123249299719887%\n",
      "FGSM Evasion Rate on adversarial examples with 0.03 epsilon: 0.14635854341736695%\n"
     ]
    },
    {
     "name": "stderr",
     "output_type": "stream",
     "text": [
      "                                                              \r"
     ]
    },
    {
     "name": "stdout",
     "output_type": "stream",
     "text": [
      "PGD Evasion Rate on adversarial examples with 0.03 epsilon: 0.3438375350140056%\n",
      "FGSM Evasion Rate on adversarial examples with 0.04 epsilon: 0.16736694677871147%\n"
     ]
    },
    {
     "name": "stderr",
     "output_type": "stream",
     "text": [
      "                                                              \r"
     ]
    },
    {
     "name": "stdout",
     "output_type": "stream",
     "text": [
      "PGD Evasion Rate on adversarial examples with 0.04 epsilon: 0.3851540616246499%\n",
      "FGSM Evasion Rate on adversarial examples with 0.05 epsilon: 0.17857142857142858%\n"
     ]
    },
    {
     "name": "stderr",
     "output_type": "stream",
     "text": [
      "                                                              \r"
     ]
    },
    {
     "name": "stdout",
     "output_type": "stream",
     "text": [
      "PGD Evasion Rate on adversarial examples with 0.05 epsilon: 0.40336134453781514%\n",
      "FGSM Evasion Rate on adversarial examples with 0.06 epsilon: 0.16666666666666666%\n"
     ]
    },
    {
     "name": "stderr",
     "output_type": "stream",
     "text": [
      "                                                              \r"
     ]
    },
    {
     "name": "stdout",
     "output_type": "stream",
     "text": [
      "PGD Evasion Rate on adversarial examples with 0.06 epsilon: 0.3760504201680672%\n",
      "FGSM Evasion Rate on adversarial examples with 0.07 epsilon: 0.1715686274509804%\n"
     ]
    },
    {
     "name": "stderr",
     "output_type": "stream",
     "text": [
      "                                                              \r"
     ]
    },
    {
     "name": "stdout",
     "output_type": "stream",
     "text": [
      "PGD Evasion Rate on adversarial examples with 0.07 epsilon: 0.4320728291316527%\n",
      "FGSM Evasion Rate on adversarial examples with 0.08 epsilon: 0.16876750700280113%\n"
     ]
    },
    {
     "name": "stderr",
     "output_type": "stream",
     "text": [
      "                                                              \r"
     ]
    },
    {
     "name": "stdout",
     "output_type": "stream",
     "text": [
      "PGD Evasion Rate on adversarial examples with 0.08 epsilon: 0.5217086834733894%\n",
      "FGSM Evasion Rate on adversarial examples with 0.09 epsilon: 0.16806722689075632%\n"
     ]
    },
    {
     "name": "stderr",
     "output_type": "stream",
     "text": [
      "                                                              \r"
     ]
    },
    {
     "name": "stdout",
     "output_type": "stream",
     "text": [
      "PGD Evasion Rate on adversarial examples with 0.09 epsilon: 0.5413165266106442%\n",
      "FGSM Evasion Rate on adversarial examples with 0.1 epsilon: 0.18207282913165265%\n"
     ]
    },
    {
     "name": "stderr",
     "output_type": "stream",
     "text": [
      "ic                                                            | fastai_model: True\n",
      "    feature_set_name: 'volume_based_features'\n",
      "    nw_attack: 'Analysis'\n"
     ]
    },
    {
     "name": "stdout",
     "output_type": "stream",
     "text": [
      "PGD Evasion Rate on adversarial examples with 0.1 epsilon: 0.542016806722689%\n",
      "FGSM Evasion Rate on adversarial examples with 1e-05 epsilon: 0.019310344827586208%\n"
     ]
    },
    {
     "name": "stderr",
     "output_type": "stream",
     "text": [
      "                                                              \r"
     ]
    },
    {
     "name": "stdout",
     "output_type": "stream",
     "text": [
      "PGD Evasion Rate on adversarial examples with 1e-05 epsilon: 0.019310344827586208%\n",
      "FGSM Evasion Rate on adversarial examples with 0.0001 epsilon: 0.019310344827586208%\n"
     ]
    },
    {
     "name": "stderr",
     "output_type": "stream",
     "text": [
      "                                                              \r"
     ]
    },
    {
     "name": "stdout",
     "output_type": "stream",
     "text": [
      "PGD Evasion Rate on adversarial examples with 0.0001 epsilon: 0.019310344827586208%\n",
      "FGSM Evasion Rate on adversarial examples with 0.001 epsilon: 0.019310344827586208%\n"
     ]
    },
    {
     "name": "stderr",
     "output_type": "stream",
     "text": [
      "                                                              \r"
     ]
    },
    {
     "name": "stdout",
     "output_type": "stream",
     "text": [
      "PGD Evasion Rate on adversarial examples with 0.001 epsilon: 0.019310344827586208%\n",
      "FGSM Evasion Rate on adversarial examples with 0.005 epsilon: 0.019310344827586208%\n"
     ]
    },
    {
     "name": "stderr",
     "output_type": "stream",
     "text": [
      "                                                              \r"
     ]
    },
    {
     "name": "stdout",
     "output_type": "stream",
     "text": [
      "PGD Evasion Rate on adversarial examples with 0.005 epsilon: 0.16689655172413792%\n",
      "FGSM Evasion Rate on adversarial examples with 0.01 epsilon: 0.02482758620689655%\n"
     ]
    },
    {
     "name": "stderr",
     "output_type": "stream",
     "text": [
      "                                                              \r"
     ]
    },
    {
     "name": "stdout",
     "output_type": "stream",
     "text": [
      "PGD Evasion Rate on adversarial examples with 0.01 epsilon: 0.2317241379310345%\n",
      "FGSM Evasion Rate on adversarial examples with 0.02 epsilon: 0.03310344827586207%\n"
     ]
    },
    {
     "name": "stderr",
     "output_type": "stream",
     "text": [
      "                                                              \r"
     ]
    },
    {
     "name": "stdout",
     "output_type": "stream",
     "text": [
      "PGD Evasion Rate on adversarial examples with 0.02 epsilon: 0.17793103448275863%\n",
      "FGSM Evasion Rate on adversarial examples with 0.03 epsilon: 0.037241379310344824%\n"
     ]
    },
    {
     "name": "stderr",
     "output_type": "stream",
     "text": [
      "                                                              \r"
     ]
    },
    {
     "name": "stdout",
     "output_type": "stream",
     "text": [
      "PGD Evasion Rate on adversarial examples with 0.03 epsilon: 0.16551724137931034%\n",
      "FGSM Evasion Rate on adversarial examples with 0.04 epsilon: 0.037241379310344824%\n"
     ]
    },
    {
     "name": "stderr",
     "output_type": "stream",
     "text": [
      "                                                              \r"
     ]
    },
    {
     "name": "stdout",
     "output_type": "stream",
     "text": [
      "PGD Evasion Rate on adversarial examples with 0.04 epsilon: 0.1793103448275862%\n",
      "FGSM Evasion Rate on adversarial examples with 0.05 epsilon: 0.03586206896551724%\n"
     ]
    },
    {
     "name": "stderr",
     "output_type": "stream",
     "text": [
      "                                                              \r"
     ]
    },
    {
     "name": "stdout",
     "output_type": "stream",
     "text": [
      "PGD Evasion Rate on adversarial examples with 0.05 epsilon: 0.19448275862068964%\n",
      "FGSM Evasion Rate on adversarial examples with 0.06 epsilon: 0.03586206896551724%\n"
     ]
    },
    {
     "name": "stderr",
     "output_type": "stream",
     "text": [
      "                                                              \r"
     ]
    },
    {
     "name": "stdout",
     "output_type": "stream",
     "text": [
      "PGD Evasion Rate on adversarial examples with 0.06 epsilon: 0.16689655172413792%\n",
      "FGSM Evasion Rate on adversarial examples with 0.07 epsilon: 0.03586206896551724%\n"
     ]
    },
    {
     "name": "stderr",
     "output_type": "stream",
     "text": [
      "                                                              \r"
     ]
    },
    {
     "name": "stdout",
     "output_type": "stream",
     "text": [
      "PGD Evasion Rate on adversarial examples with 0.07 epsilon: 0.21241379310344827%\n",
      "FGSM Evasion Rate on adversarial examples with 0.08 epsilon: 0.037241379310344824%\n"
     ]
    },
    {
     "name": "stderr",
     "output_type": "stream",
     "text": [
      "                                                              \r"
     ]
    },
    {
     "name": "stdout",
     "output_type": "stream",
     "text": [
      "PGD Evasion Rate on adversarial examples with 0.08 epsilon: 0.2482758620689655%\n",
      "FGSM Evasion Rate on adversarial examples with 0.09 epsilon: 0.03586206896551724%\n"
     ]
    },
    {
     "name": "stderr",
     "output_type": "stream",
     "text": [
      "                                                              \r"
     ]
    },
    {
     "name": "stdout",
     "output_type": "stream",
     "text": [
      "PGD Evasion Rate on adversarial examples with 0.09 epsilon: 0.25103448275862067%\n",
      "FGSM Evasion Rate on adversarial examples with 0.1 epsilon: 0.034482758620689655%\n"
     ]
    },
    {
     "name": "stderr",
     "output_type": "stream",
     "text": [
      "ic                                                            | fastai_model: True\n",
      "    feature_set_name: 'volume_based_features'\n",
      "    nw_attack: 'Backdoors'\n"
     ]
    },
    {
     "name": "stdout",
     "output_type": "stream",
     "text": [
      "PGD Evasion Rate on adversarial examples with 0.1 epsilon: 0.25103448275862067%\n",
      "FGSM Evasion Rate on adversarial examples with 1e-05 epsilon: 0.0163265306122449%\n"
     ]
    },
    {
     "name": "stderr",
     "output_type": "stream",
     "text": [
      "                                                              \r"
     ]
    },
    {
     "name": "stdout",
     "output_type": "stream",
     "text": [
      "PGD Evasion Rate on adversarial examples with 1e-05 epsilon: 0.0163265306122449%\n",
      "FGSM Evasion Rate on adversarial examples with 0.0001 epsilon: 0.0163265306122449%\n"
     ]
    },
    {
     "name": "stderr",
     "output_type": "stream",
     "text": [
      "                                                              \r"
     ]
    },
    {
     "name": "stdout",
     "output_type": "stream",
     "text": [
      "PGD Evasion Rate on adversarial examples with 0.0001 epsilon: 0.0163265306122449%\n",
      "FGSM Evasion Rate on adversarial examples with 0.001 epsilon: 0.014285714285714285%\n"
     ]
    },
    {
     "name": "stderr",
     "output_type": "stream",
     "text": [
      "                                                              \r"
     ]
    },
    {
     "name": "stdout",
     "output_type": "stream",
     "text": [
      "PGD Evasion Rate on adversarial examples with 0.001 epsilon: 0.014285714285714285%\n",
      "FGSM Evasion Rate on adversarial examples with 0.005 epsilon: 0.024489795918367346%\n"
     ]
    },
    {
     "name": "stderr",
     "output_type": "stream",
     "text": [
      "                                                              \r"
     ]
    },
    {
     "name": "stdout",
     "output_type": "stream",
     "text": [
      "PGD Evasion Rate on adversarial examples with 0.005 epsilon: 0.33877551020408164%\n",
      "FGSM Evasion Rate on adversarial examples with 0.01 epsilon: 0.05918367346938776%\n"
     ]
    },
    {
     "name": "stderr",
     "output_type": "stream",
     "text": [
      "                                                              \r"
     ]
    },
    {
     "name": "stdout",
     "output_type": "stream",
     "text": [
      "PGD Evasion Rate on adversarial examples with 0.01 epsilon: 0.37755102040816324%\n",
      "FGSM Evasion Rate on adversarial examples with 0.02 epsilon: 0.08979591836734693%\n"
     ]
    },
    {
     "name": "stderr",
     "output_type": "stream",
     "text": [
      "                                                              \r"
     ]
    },
    {
     "name": "stdout",
     "output_type": "stream",
     "text": [
      "PGD Evasion Rate on adversarial examples with 0.02 epsilon: 0.38571428571428573%\n",
      "FGSM Evasion Rate on adversarial examples with 0.03 epsilon: 0.10204081632653061%\n"
     ]
    },
    {
     "name": "stderr",
     "output_type": "stream",
     "text": [
      "                                                              \r"
     ]
    },
    {
     "name": "stdout",
     "output_type": "stream",
     "text": [
      "PGD Evasion Rate on adversarial examples with 0.03 epsilon: 0.33877551020408164%\n",
      "FGSM Evasion Rate on adversarial examples with 0.04 epsilon: 0.09591836734693877%\n"
     ]
    },
    {
     "name": "stderr",
     "output_type": "stream",
     "text": [
      "                                                              \r"
     ]
    },
    {
     "name": "stdout",
     "output_type": "stream",
     "text": [
      "PGD Evasion Rate on adversarial examples with 0.04 epsilon: 0.4020408163265306%\n",
      "FGSM Evasion Rate on adversarial examples with 0.05 epsilon: 0.08571428571428572%\n"
     ]
    },
    {
     "name": "stderr",
     "output_type": "stream",
     "text": [
      "                                                              \r"
     ]
    },
    {
     "name": "stdout",
     "output_type": "stream",
     "text": [
      "PGD Evasion Rate on adversarial examples with 0.05 epsilon: 0.44693877551020406%\n",
      "FGSM Evasion Rate on adversarial examples with 0.06 epsilon: 0.0836734693877551%\n"
     ]
    },
    {
     "name": "stderr",
     "output_type": "stream",
     "text": [
      "                                                              \r"
     ]
    },
    {
     "name": "stdout",
     "output_type": "stream",
     "text": [
      "PGD Evasion Rate on adversarial examples with 0.06 epsilon: 0.4163265306122449%\n",
      "FGSM Evasion Rate on adversarial examples with 0.07 epsilon: 0.07551020408163266%\n"
     ]
    },
    {
     "name": "stderr",
     "output_type": "stream",
     "text": [
      "                                                              \r"
     ]
    },
    {
     "name": "stdout",
     "output_type": "stream",
     "text": [
      "PGD Evasion Rate on adversarial examples with 0.07 epsilon: 0.5183673469387755%\n",
      "FGSM Evasion Rate on adversarial examples with 0.08 epsilon: 0.06938775510204082%\n"
     ]
    },
    {
     "name": "stderr",
     "output_type": "stream",
     "text": [
      "                                                              \r"
     ]
    },
    {
     "name": "stdout",
     "output_type": "stream",
     "text": [
      "PGD Evasion Rate on adversarial examples with 0.08 epsilon: 0.6428571428571429%\n",
      "FGSM Evasion Rate on adversarial examples with 0.09 epsilon: 0.07142857142857142%\n"
     ]
    },
    {
     "name": "stderr",
     "output_type": "stream",
     "text": [
      "                                                              \r"
     ]
    },
    {
     "name": "stdout",
     "output_type": "stream",
     "text": [
      "PGD Evasion Rate on adversarial examples with 0.09 epsilon: 0.6591836734693878%\n",
      "FGSM Evasion Rate on adversarial examples with 0.1 epsilon: 0.0673469387755102%\n"
     ]
    },
    {
     "name": "stderr",
     "output_type": "stream",
     "text": [
      "ic                                                            | fastai_model: True\n",
      "    feature_set_name: 'volume_based_features'\n",
      "    nw_attack: 'Worms'\n"
     ]
    },
    {
     "name": "stdout",
     "output_type": "stream",
     "text": [
      "PGD Evasion Rate on adversarial examples with 0.1 epsilon: 0.6591836734693878%\n",
      "FGSM Evasion Rate on adversarial examples with 1e-05 epsilon: 0.005263157894736842%\n"
     ]
    },
    {
     "name": "stderr",
     "output_type": "stream",
     "text": [
      "                                                            \r"
     ]
    },
    {
     "name": "stdout",
     "output_type": "stream",
     "text": [
      "PGD Evasion Rate on adversarial examples with 1e-05 epsilon: 0.005263157894736842%\n",
      "FGSM Evasion Rate on adversarial examples with 0.0001 epsilon: 0.005263157894736842%\n"
     ]
    },
    {
     "name": "stderr",
     "output_type": "stream",
     "text": [
      "                                                            \r"
     ]
    },
    {
     "name": "stdout",
     "output_type": "stream",
     "text": [
      "PGD Evasion Rate on adversarial examples with 0.0001 epsilon: 0.005263157894736842%\n",
      "FGSM Evasion Rate on adversarial examples with 0.001 epsilon: 0.005263157894736842%\n"
     ]
    },
    {
     "name": "stderr",
     "output_type": "stream",
     "text": [
      "                                                            \r"
     ]
    },
    {
     "name": "stdout",
     "output_type": "stream",
     "text": [
      "PGD Evasion Rate on adversarial examples with 0.001 epsilon: 0.005263157894736842%\n",
      "FGSM Evasion Rate on adversarial examples with 0.005 epsilon: 0.015789473684210527%\n"
     ]
    },
    {
     "name": "stderr",
     "output_type": "stream",
     "text": [
      "                                                            \r"
     ]
    },
    {
     "name": "stdout",
     "output_type": "stream",
     "text": [
      "PGD Evasion Rate on adversarial examples with 0.005 epsilon: 0.3736842105263158%\n",
      "FGSM Evasion Rate on adversarial examples with 0.01 epsilon: 0.13157894736842105%\n"
     ]
    },
    {
     "name": "stderr",
     "output_type": "stream",
     "text": [
      "                                                            \r"
     ]
    },
    {
     "name": "stdout",
     "output_type": "stream",
     "text": [
      "PGD Evasion Rate on adversarial examples with 0.01 epsilon: 0.5789473684210527%\n",
      "FGSM Evasion Rate on adversarial examples with 0.02 epsilon: 0.2631578947368421%\n"
     ]
    },
    {
     "name": "stderr",
     "output_type": "stream",
     "text": [
      "                                                            \r"
     ]
    },
    {
     "name": "stdout",
     "output_type": "stream",
     "text": [
      "PGD Evasion Rate on adversarial examples with 0.02 epsilon: 0.5%\n",
      "FGSM Evasion Rate on adversarial examples with 0.03 epsilon: 0.26842105263157895%\n"
     ]
    },
    {
     "name": "stderr",
     "output_type": "stream",
     "text": [
      "                                                            \r"
     ]
    },
    {
     "name": "stdout",
     "output_type": "stream",
     "text": [
      "PGD Evasion Rate on adversarial examples with 0.03 epsilon: 0.30526315789473685%\n",
      "FGSM Evasion Rate on adversarial examples with 0.04 epsilon: 0.23684210526315788%\n"
     ]
    },
    {
     "name": "stderr",
     "output_type": "stream",
     "text": [
      "                                                            \r"
     ]
    },
    {
     "name": "stdout",
     "output_type": "stream",
     "text": [
      "PGD Evasion Rate on adversarial examples with 0.04 epsilon: 0.6736842105263158%\n",
      "FGSM Evasion Rate on adversarial examples with 0.05 epsilon: 0.22105263157894736%\n"
     ]
    },
    {
     "name": "stderr",
     "output_type": "stream",
     "text": [
      "                                                            \r"
     ]
    },
    {
     "name": "stdout",
     "output_type": "stream",
     "text": [
      "PGD Evasion Rate on adversarial examples with 0.05 epsilon: 0.5105263157894737%\n",
      "FGSM Evasion Rate on adversarial examples with 0.06 epsilon: 0.19473684210526315%\n"
     ]
    },
    {
     "name": "stderr",
     "output_type": "stream",
     "text": [
      "                                                            \r"
     ]
    },
    {
     "name": "stdout",
     "output_type": "stream",
     "text": [
      "PGD Evasion Rate on adversarial examples with 0.06 epsilon: 0.5473684210526316%\n",
      "FGSM Evasion Rate on adversarial examples with 0.07 epsilon: 0.18947368421052632%\n"
     ]
    },
    {
     "name": "stderr",
     "output_type": "stream",
     "text": [
      "                                                            \r"
     ]
    },
    {
     "name": "stdout",
     "output_type": "stream",
     "text": [
      "PGD Evasion Rate on adversarial examples with 0.07 epsilon: 0.6%\n",
      "FGSM Evasion Rate on adversarial examples with 0.08 epsilon: 0.18421052631578946%\n"
     ]
    },
    {
     "name": "stderr",
     "output_type": "stream",
     "text": [
      "                                                            \r"
     ]
    },
    {
     "name": "stdout",
     "output_type": "stream",
     "text": [
      "PGD Evasion Rate on adversarial examples with 0.08 epsilon: 0.7210526315789474%\n",
      "FGSM Evasion Rate on adversarial examples with 0.09 epsilon: 0.1736842105263158%\n"
     ]
    },
    {
     "name": "stderr",
     "output_type": "stream",
     "text": [
      "                                                            \r"
     ]
    },
    {
     "name": "stdout",
     "output_type": "stream",
     "text": [
      "PGD Evasion Rate on adversarial examples with 0.09 epsilon: 0.7368421052631579%\n",
      "FGSM Evasion Rate on adversarial examples with 0.1 epsilon: 0.1736842105263158%\n"
     ]
    },
    {
     "name": "stderr",
     "output_type": "stream",
     "text": [
      "ic                                                          | fastai_model: True\n",
      "    feature_set_name: 'mixed_features'\n",
      "    nw_attack: 'Exploits'\n"
     ]
    },
    {
     "name": "stdout",
     "output_type": "stream",
     "text": [
      "PGD Evasion Rate on adversarial examples with 0.1 epsilon: 0.7368421052631579%\n",
      "FGSM Evasion Rate on adversarial examples with 1e-05 epsilon: 0.0034220229726503433%\n"
     ]
    },
    {
     "name": "stderr",
     "output_type": "stream",
     "text": [
      "                                                                  \r"
     ]
    },
    {
     "name": "stdout",
     "output_type": "stream",
     "text": [
      "PGD Evasion Rate on adversarial examples with 1e-05 epsilon: 0.0034220229726503433%\n",
      "FGSM Evasion Rate on adversarial examples with 0.0001 epsilon: 0.003289386423322811%\n"
     ]
    },
    {
     "name": "stderr",
     "output_type": "stream",
     "text": [
      "                                                                  \r"
     ]
    },
    {
     "name": "stdout",
     "output_type": "stream",
     "text": [
      "PGD Evasion Rate on adversarial examples with 0.0001 epsilon: 0.0033159137331883175%\n",
      "FGSM Evasion Rate on adversarial examples with 0.001 epsilon: 0.08287131601984243%\n"
     ]
    },
    {
     "name": "stderr",
     "output_type": "stream",
     "text": [
      "                                                                  \r"
     ]
    },
    {
     "name": "stdout",
     "output_type": "stream",
     "text": [
      "PGD Evasion Rate on adversarial examples with 0.001 epsilon: 0.08385282648486617%\n",
      "FGSM Evasion Rate on adversarial examples with 0.005 epsilon: 0.39159614823460753%\n"
     ]
    },
    {
     "name": "stderr",
     "output_type": "stream",
     "text": [
      "                                                                  \r"
     ]
    },
    {
     "name": "stdout",
     "output_type": "stream",
     "text": [
      "PGD Evasion Rate on adversarial examples with 0.005 epsilon: 0.49271825344191844%\n",
      "FGSM Evasion Rate on adversarial examples with 0.01 epsilon: 0.567843594981033%\n"
     ]
    },
    {
     "name": "stderr",
     "output_type": "stream",
     "text": [
      "                                                                  \r"
     ]
    },
    {
     "name": "stdout",
     "output_type": "stream",
     "text": [
      "PGD Evasion Rate on adversarial examples with 0.01 epsilon: 0.6191208849510571%\n",
      "FGSM Evasion Rate on adversarial examples with 0.02 epsilon: 0.626707695572592%\n"
     ]
    },
    {
     "name": "stderr",
     "output_type": "stream",
     "text": [
      "                                                                  \r"
     ]
    },
    {
     "name": "stdout",
     "output_type": "stream",
     "text": [
      "PGD Evasion Rate on adversarial examples with 0.02 epsilon: 0.6245855107833514%\n",
      "FGSM Evasion Rate on adversarial examples with 0.03 epsilon: 0.6285911345730429%\n"
     ]
    },
    {
     "name": "stderr",
     "output_type": "stream",
     "text": [
      "                                                                  \r"
     ]
    },
    {
     "name": "stdout",
     "output_type": "stream",
     "text": [
      "PGD Evasion Rate on adversarial examples with 0.03 epsilon: 0.9701567764013052%\n",
      "FGSM Evasion Rate on adversarial examples with 0.04 epsilon: 0.6306602647425524%\n"
     ]
    },
    {
     "name": "stderr",
     "output_type": "stream",
     "text": [
      "                                                                  \r"
     ]
    },
    {
     "name": "stdout",
     "output_type": "stream",
     "text": [
      "PGD Evasion Rate on adversarial examples with 0.04 epsilon: 0.9827572485874208%\n",
      "FGSM Evasion Rate on adversarial examples with 0.05 epsilon: 0.6326498129824655%\n"
     ]
    },
    {
     "name": "stderr",
     "output_type": "stream",
     "text": [
      "                                                                  \r"
     ]
    },
    {
     "name": "stdout",
     "output_type": "stream",
     "text": [
      "PGD Evasion Rate on adversarial examples with 0.05 epsilon: 0.9848263787569302%\n",
      "FGSM Evasion Rate on adversarial examples with 0.06 epsilon: 0.6349576889407645%\n"
     ]
    },
    {
     "name": "stderr",
     "output_type": "stream",
     "text": [
      "                                                                  \r"
     ]
    },
    {
     "name": "stdout",
     "output_type": "stream",
     "text": [
      "PGD Evasion Rate on adversarial examples with 0.06 epsilon: 0.9863384354192641%\n",
      "FGSM Evasion Rate on adversarial examples with 0.07 epsilon: 0.6367084913918879%\n"
     ]
    },
    {
     "name": "stderr",
     "output_type": "stream",
     "text": [
      "                                                                  \r"
     ]
    },
    {
     "name": "stdout",
     "output_type": "stream",
     "text": [
      "PGD Evasion Rate on adversarial examples with 0.07 epsilon: 0.9870812000954983%\n",
      "FGSM Evasion Rate on adversarial examples with 0.08 epsilon: 0.6378491657161047%\n"
     ]
    },
    {
     "name": "stderr",
     "output_type": "stream",
     "text": [
      "                                                                  \r"
     ]
    },
    {
     "name": "stdout",
     "output_type": "stream",
     "text": [
      "PGD Evasion Rate on adversarial examples with 0.08 epsilon: 0.9865241265883227%\n",
      "FGSM Evasion Rate on adversarial examples with 0.09 epsilon: 0.6384858211528769%\n"
     ]
    },
    {
     "name": "stderr",
     "output_type": "stream",
     "text": [
      "                                                                  \r"
     ]
    },
    {
     "name": "stdout",
     "output_type": "stream",
     "text": [
      "PGD Evasion Rate on adversarial examples with 0.09 epsilon: 0.9855160888134334%\n",
      "FGSM Evasion Rate on adversarial examples with 0.1 epsilon: 0.6392551131389765%\n"
     ]
    },
    {
     "name": "stderr",
     "output_type": "stream",
     "text": [
      "ic                                                                | fastai_model: True\n",
      "    feature_set_name: 'mixed_features'\n",
      "    nw_attack: 'Fuzzers'\n"
     ]
    },
    {
     "name": "stdout",
     "output_type": "stream",
     "text": [
      "PGD Evasion Rate on adversarial examples with 0.1 epsilon: 0.9843488871793511%\n",
      "FGSM Evasion Rate on adversarial examples with 1e-05 epsilon: 0.031315789473684214%\n"
     ]
    },
    {
     "name": "stderr",
     "output_type": "stream",
     "text": [
      "                                                                \r"
     ]
    },
    {
     "name": "stdout",
     "output_type": "stream",
     "text": [
      "PGD Evasion Rate on adversarial examples with 1e-05 epsilon: 0.031315789473684214%\n",
      "FGSM Evasion Rate on adversarial examples with 0.0001 epsilon: 0.031210526315789473%\n"
     ]
    },
    {
     "name": "stderr",
     "output_type": "stream",
     "text": [
      "                                                                \r"
     ]
    },
    {
     "name": "stdout",
     "output_type": "stream",
     "text": [
      "PGD Evasion Rate on adversarial examples with 0.0001 epsilon: 0.031210526315789473%\n",
      "FGSM Evasion Rate on adversarial examples with 0.001 epsilon: 0.08321052631578947%\n"
     ]
    },
    {
     "name": "stderr",
     "output_type": "stream",
     "text": [
      "                                                                \r"
     ]
    },
    {
     "name": "stdout",
     "output_type": "stream",
     "text": [
      "PGD Evasion Rate on adversarial examples with 0.001 epsilon: 0.10510526315789474%\n",
      "FGSM Evasion Rate on adversarial examples with 0.005 epsilon: 0.5752105263157895%\n"
     ]
    },
    {
     "name": "stderr",
     "output_type": "stream",
     "text": [
      "                                                                \r"
     ]
    },
    {
     "name": "stdout",
     "output_type": "stream",
     "text": [
      "PGD Evasion Rate on adversarial examples with 0.005 epsilon: 0.6356315789473684%\n",
      "FGSM Evasion Rate on adversarial examples with 0.01 epsilon: 0.6661578947368421%\n"
     ]
    },
    {
     "name": "stderr",
     "output_type": "stream",
     "text": [
      "                                                                \r"
     ]
    },
    {
     "name": "stdout",
     "output_type": "stream",
     "text": [
      "PGD Evasion Rate on adversarial examples with 0.01 epsilon: 0.6556315789473685%\n",
      "FGSM Evasion Rate on adversarial examples with 0.02 epsilon: 0.6894736842105263%\n"
     ]
    },
    {
     "name": "stderr",
     "output_type": "stream",
     "text": [
      "                                                                \r"
     ]
    },
    {
     "name": "stdout",
     "output_type": "stream",
     "text": [
      "PGD Evasion Rate on adversarial examples with 0.02 epsilon: 0.6504210526315789%\n",
      "FGSM Evasion Rate on adversarial examples with 0.03 epsilon: 0.696%\n"
     ]
    },
    {
     "name": "stderr",
     "output_type": "stream",
     "text": [
      "                                                                \r"
     ]
    },
    {
     "name": "stdout",
     "output_type": "stream",
     "text": [
      "PGD Evasion Rate on adversarial examples with 0.03 epsilon: 0.8143157894736842%\n",
      "FGSM Evasion Rate on adversarial examples with 0.04 epsilon: 0.6982631578947368%\n"
     ]
    },
    {
     "name": "stderr",
     "output_type": "stream",
     "text": [
      "                                                                \r"
     ]
    },
    {
     "name": "stdout",
     "output_type": "stream",
     "text": [
      "PGD Evasion Rate on adversarial examples with 0.04 epsilon: 0.8346315789473684%\n",
      "FGSM Evasion Rate on adversarial examples with 0.05 epsilon: 0.7007894736842105%\n"
     ]
    },
    {
     "name": "stderr",
     "output_type": "stream",
     "text": [
      "                                                                \r"
     ]
    },
    {
     "name": "stdout",
     "output_type": "stream",
     "text": [
      "PGD Evasion Rate on adversarial examples with 0.05 epsilon: 0.868578947368421%\n",
      "FGSM Evasion Rate on adversarial examples with 0.06 epsilon: 0.706421052631579%\n"
     ]
    },
    {
     "name": "stderr",
     "output_type": "stream",
     "text": [
      "                                                                \r"
     ]
    },
    {
     "name": "stdout",
     "output_type": "stream",
     "text": [
      "PGD Evasion Rate on adversarial examples with 0.06 epsilon: 0.8837368421052632%\n",
      "FGSM Evasion Rate on adversarial examples with 0.07 epsilon: 0.7124736842105264%\n"
     ]
    },
    {
     "name": "stderr",
     "output_type": "stream",
     "text": [
      "                                                                \r"
     ]
    },
    {
     "name": "stdout",
     "output_type": "stream",
     "text": [
      "PGD Evasion Rate on adversarial examples with 0.07 epsilon: 0.9038421052631579%\n",
      "FGSM Evasion Rate on adversarial examples with 0.08 epsilon: 0.716842105263158%\n"
     ]
    },
    {
     "name": "stderr",
     "output_type": "stream",
     "text": [
      "                                                                \r"
     ]
    },
    {
     "name": "stdout",
     "output_type": "stream",
     "text": [
      "PGD Evasion Rate on adversarial examples with 0.08 epsilon: 0.908157894736842%\n",
      "FGSM Evasion Rate on adversarial examples with 0.09 epsilon: 0.7250526315789474%\n"
     ]
    },
    {
     "name": "stderr",
     "output_type": "stream",
     "text": [
      "                                                                \r"
     ]
    },
    {
     "name": "stdout",
     "output_type": "stream",
     "text": [
      "PGD Evasion Rate on adversarial examples with 0.09 epsilon: 0.9073684210526316%\n",
      "FGSM Evasion Rate on adversarial examples with 0.1 epsilon: 0.7311578947368421%\n"
     ]
    },
    {
     "name": "stderr",
     "output_type": "stream",
     "text": [
      "ic                                                              | fastai_model: True\n",
      "    feature_set_name: 'mixed_features'\n",
      "    nw_attack: 'Reconnaissance'\n"
     ]
    },
    {
     "name": "stdout",
     "output_type": "stream",
     "text": [
      "PGD Evasion Rate on adversarial examples with 0.1 epsilon: 0.9084210526315789%\n",
      "FGSM Evasion Rate on adversarial examples with 1e-05 epsilon: 0.0007031730684714776%\n"
     ]
    },
    {
     "name": "stderr",
     "output_type": "stream",
     "text": [
      "                                                                \r"
     ]
    },
    {
     "name": "stdout",
     "output_type": "stream",
     "text": [
      "PGD Evasion Rate on adversarial examples with 1e-05 epsilon: 0.0007031730684714776%\n",
      "FGSM Evasion Rate on adversarial examples with 0.0001 epsilon: 0.0007031730684714776%\n"
     ]
    },
    {
     "name": "stderr",
     "output_type": "stream",
     "text": [
      "                                                                \r"
     ]
    },
    {
     "name": "stdout",
     "output_type": "stream",
     "text": [
      "PGD Evasion Rate on adversarial examples with 0.0001 epsilon: 0.0007031730684714776%\n",
      "FGSM Evasion Rate on adversarial examples with 0.001 epsilon: 0.024083677595148106%\n"
     ]
    },
    {
     "name": "stderr",
     "output_type": "stream",
     "text": [
      "                                                                \r"
     ]
    },
    {
     "name": "stdout",
     "output_type": "stream",
     "text": [
      "PGD Evasion Rate on adversarial examples with 0.001 epsilon: 0.023468401160235564%\n",
      "FGSM Evasion Rate on adversarial examples with 0.005 epsilon: 0.5332688758020567%\n"
     ]
    },
    {
     "name": "stderr",
     "output_type": "stream",
     "text": [
      "                                                                \r"
     ]
    },
    {
     "name": "stdout",
     "output_type": "stream",
     "text": [
      "PGD Evasion Rate on adversarial examples with 0.005 epsilon: 0.6892854003691659%\n",
      "FGSM Evasion Rate on adversarial examples with 0.01 epsilon: 0.7179397029093786%\n"
     ]
    },
    {
     "name": "stderr",
     "output_type": "stream",
     "text": [
      "                                                                \r"
     ]
    },
    {
     "name": "stdout",
     "output_type": "stream",
     "text": [
      "PGD Evasion Rate on adversarial examples with 0.01 epsilon: 0.7935308077700624%\n",
      "FGSM Evasion Rate on adversarial examples with 0.02 epsilon: 0.8691219126307462%\n"
     ]
    },
    {
     "name": "stderr",
     "output_type": "stream",
     "text": [
      "                                                                \r"
     ]
    },
    {
     "name": "stdout",
     "output_type": "stream",
     "text": [
      "PGD Evasion Rate on adversarial examples with 0.02 epsilon: 0.8212182473411268%\n",
      "FGSM Evasion Rate on adversarial examples with 0.03 epsilon: 0.8697371890656588%\n"
     ]
    },
    {
     "name": "stderr",
     "output_type": "stream",
     "text": [
      "                                                                \r"
     ]
    },
    {
     "name": "stdout",
     "output_type": "stream",
     "text": [
      "PGD Evasion Rate on adversarial examples with 0.03 epsilon: 0.9817175002197416%\n",
      "FGSM Evasion Rate on adversarial examples with 0.04 epsilon: 0.8793179221235826%\n"
     ]
    },
    {
     "name": "stderr",
     "output_type": "stream",
     "text": [
      "                                                                \r"
     ]
    },
    {
     "name": "stdout",
     "output_type": "stream",
     "text": [
      "PGD Evasion Rate on adversarial examples with 0.04 epsilon: 0.9821569833875362%\n",
      "FGSM Evasion Rate on adversarial examples with 0.05 epsilon: 0.8794058187571416%\n"
     ]
    },
    {
     "name": "stderr",
     "output_type": "stream",
     "text": [
      "                                                                \r"
     ]
    },
    {
     "name": "stdout",
     "output_type": "stream",
     "text": [
      "PGD Evasion Rate on adversarial examples with 0.05 epsilon: 0.9827722598224488%\n",
      "FGSM Evasion Rate on adversarial examples with 0.06 epsilon: 0.8794937153907005%\n"
     ]
    },
    {
     "name": "stderr",
     "output_type": "stream",
     "text": [
      "                                                                \r"
     ]
    },
    {
     "name": "stdout",
     "output_type": "stream",
     "text": [
      "PGD Evasion Rate on adversarial examples with 0.06 epsilon: 0.9826843631888899%\n",
      "FGSM Evasion Rate on adversarial examples with 0.07 epsilon: 0.8794937153907005%\n"
     ]
    },
    {
     "name": "stderr",
     "output_type": "stream",
     "text": [
      "                                                                \r"
     ]
    },
    {
     "name": "stdout",
     "output_type": "stream",
     "text": [
      "PGD Evasion Rate on adversarial examples with 0.07 epsilon: 0.9826843631888899%\n",
      "FGSM Evasion Rate on adversarial examples with 0.08 epsilon: 0.8794937153907005%\n"
     ]
    },
    {
     "name": "stderr",
     "output_type": "stream",
     "text": [
      "                                                                \r"
     ]
    },
    {
     "name": "stdout",
     "output_type": "stream",
     "text": [
      "PGD Evasion Rate on adversarial examples with 0.08 epsilon: 0.9826843631888899%\n",
      "FGSM Evasion Rate on adversarial examples with 0.09 epsilon: 0.8798453019249363%\n"
     ]
    },
    {
     "name": "stderr",
     "output_type": "stream",
     "text": [
      "                                                                \r"
     ]
    },
    {
     "name": "stdout",
     "output_type": "stream",
     "text": [
      "PGD Evasion Rate on adversarial examples with 0.09 epsilon: 0.9823327766546541%\n",
      "FGSM Evasion Rate on adversarial examples with 0.1 epsilon: 0.8798453019249363%\n"
     ]
    },
    {
     "name": "stderr",
     "output_type": "stream",
     "text": [
      "ic                                                              | fastai_model: True\n",
      "    feature_set_name: 'mixed_features'\n",
      "    nw_attack: 'Generic'\n"
     ]
    },
    {
     "name": "stdout",
     "output_type": "stream",
     "text": [
      "PGD Evasion Rate on adversarial examples with 0.1 epsilon: 0.9811901204183879%\n",
      "FGSM Evasion Rate on adversarial examples with 1e-05 epsilon: 0.010821716801173881%\n"
     ]
    },
    {
     "name": "stderr",
     "output_type": "stream",
     "text": [
      "                                                                \r"
     ]
    },
    {
     "name": "stdout",
     "output_type": "stream",
     "text": [
      "PGD Evasion Rate on adversarial examples with 1e-05 epsilon: 0.010821716801173881%\n",
      "FGSM Evasion Rate on adversarial examples with 0.0001 epsilon: 0.01045487894350697%\n"
     ]
    },
    {
     "name": "stderr",
     "output_type": "stream",
     "text": [
      "                                                                \r"
     ]
    },
    {
     "name": "stdout",
     "output_type": "stream",
     "text": [
      "PGD Evasion Rate on adversarial examples with 0.0001 epsilon: 0.01045487894350697%\n",
      "FGSM Evasion Rate on adversarial examples with 0.001 epsilon: 0.08785766691122524%\n"
     ]
    },
    {
     "name": "stderr",
     "output_type": "stream",
     "text": [
      "                                                                \r"
     ]
    },
    {
     "name": "stdout",
     "output_type": "stream",
     "text": [
      "PGD Evasion Rate on adversarial examples with 0.001 epsilon: 0.09372707263389582%\n",
      "FGSM Evasion Rate on adversarial examples with 0.005 epsilon: 0.2786133528980191%\n"
     ]
    },
    {
     "name": "stderr",
     "output_type": "stream",
     "text": [
      "                                                                \r"
     ]
    },
    {
     "name": "stdout",
     "output_type": "stream",
     "text": [
      "PGD Evasion Rate on adversarial examples with 0.005 epsilon: 0.3941672780630961%\n",
      "FGSM Evasion Rate on adversarial examples with 0.01 epsilon: 0.4807410124724872%\n"
     ]
    },
    {
     "name": "stderr",
     "output_type": "stream",
     "text": [
      "                                                                \r"
     ]
    },
    {
     "name": "stdout",
     "output_type": "stream",
     "text": [
      "PGD Evasion Rate on adversarial examples with 0.01 epsilon: 0.5577769625825385%\n",
      "FGSM Evasion Rate on adversarial examples with 0.02 epsilon: 0.5819882611885546%\n"
     ]
    },
    {
     "name": "stderr",
     "output_type": "stream",
     "text": [
      "                                                                \r"
     ]
    },
    {
     "name": "stdout",
     "output_type": "stream",
     "text": [
      "PGD Evasion Rate on adversarial examples with 0.02 epsilon: 0.5750183418928834%\n",
      "FGSM Evasion Rate on adversarial examples with 0.03 epsilon: 0.5847395451210565%\n"
     ]
    },
    {
     "name": "stderr",
     "output_type": "stream",
     "text": [
      "                                                                \r"
     ]
    },
    {
     "name": "stdout",
     "output_type": "stream",
     "text": [
      "PGD Evasion Rate on adversarial examples with 0.03 epsilon: 0.8915994130594277%\n",
      "FGSM Evasion Rate on adversarial examples with 0.04 epsilon: 0.5867571533382245%\n"
     ]
    },
    {
     "name": "stderr",
     "output_type": "stream",
     "text": [
      "                                                                \r"
     ]
    },
    {
     "name": "stdout",
     "output_type": "stream",
     "text": [
      "PGD Evasion Rate on adversarial examples with 0.04 epsilon: 0.9095744680851063%\n",
      "FGSM Evasion Rate on adversarial examples with 0.05 epsilon: 0.5884079236977257%\n"
     ]
    },
    {
     "name": "stderr",
     "output_type": "stream",
     "text": [
      "                                                                \r"
     ]
    },
    {
     "name": "stdout",
     "output_type": "stream",
     "text": [
      "PGD Evasion Rate on adversarial examples with 0.05 epsilon: 0.9145267791636097%\n",
      "FGSM Evasion Rate on adversarial examples with 0.06 epsilon: 0.5926265590608951%\n"
     ]
    },
    {
     "name": "stderr",
     "output_type": "stream",
     "text": [
      "                                                                \r"
     ]
    },
    {
     "name": "stdout",
     "output_type": "stream",
     "text": [
      "PGD Evasion Rate on adversarial examples with 0.06 epsilon: 0.9187454145267792%\n",
      "FGSM Evasion Rate on adversarial examples with 0.07 epsilon: 0.5997798972853998%\n"
     ]
    },
    {
     "name": "stderr",
     "output_type": "stream",
     "text": [
      "                                                                \r"
     ]
    },
    {
     "name": "stdout",
     "output_type": "stream",
     "text": [
      "PGD Evasion Rate on adversarial examples with 0.07 epsilon: 0.9227806309611152%\n",
      "FGSM Evasion Rate on adversarial examples with 0.08 epsilon: 0.6058327219369039%\n"
     ]
    },
    {
     "name": "stderr",
     "output_type": "stream",
     "text": [
      "                                                                \r"
     ]
    },
    {
     "name": "stdout",
     "output_type": "stream",
     "text": [
      "PGD Evasion Rate on adversarial examples with 0.08 epsilon: 0.9262655906089509%\n",
      "FGSM Evasion Rate on adversarial examples with 0.09 epsilon: 0.6080337490829053%\n"
     ]
    },
    {
     "name": "stderr",
     "output_type": "stream",
     "text": [
      "                                                                \r"
     ]
    },
    {
     "name": "stdout",
     "output_type": "stream",
     "text": [
      "PGD Evasion Rate on adversarial examples with 0.09 epsilon: 0.9264490095377843%\n",
      "FGSM Evasion Rate on adversarial examples with 0.1 epsilon: 0.6137197358767424%\n"
     ]
    },
    {
     "name": "stderr",
     "output_type": "stream",
     "text": [
      "ic                                                              | fastai_model: True\n",
      "    feature_set_name: 'mixed_features'\n",
      "    nw_attack: 'Shellcode'\n"
     ]
    },
    {
     "name": "stdout",
     "output_type": "stream",
     "text": [
      "PGD Evasion Rate on adversarial examples with 0.1 epsilon: 0.9266324284666178%\n",
      "FGSM Evasion Rate on adversarial examples with 1e-05 epsilon: 0.0014005602240896359%\n"
     ]
    },
    {
     "name": "stderr",
     "output_type": "stream",
     "text": [
      "                                                              \r"
     ]
    },
    {
     "name": "stdout",
     "output_type": "stream",
     "text": [
      "PGD Evasion Rate on adversarial examples with 1e-05 epsilon: 0.0014005602240896359%\n",
      "FGSM Evasion Rate on adversarial examples with 0.0001 epsilon: 0.0014005602240896359%\n"
     ]
    },
    {
     "name": "stderr",
     "output_type": "stream",
     "text": [
      "                                                              \r"
     ]
    },
    {
     "name": "stdout",
     "output_type": "stream",
     "text": [
      "PGD Evasion Rate on adversarial examples with 0.0001 epsilon: 0.0014005602240896359%\n",
      "FGSM Evasion Rate on adversarial examples with 0.001 epsilon: 0.062324929971988796%\n"
     ]
    },
    {
     "name": "stderr",
     "output_type": "stream",
     "text": [
      "                                                              \r"
     ]
    },
    {
     "name": "stdout",
     "output_type": "stream",
     "text": [
      "PGD Evasion Rate on adversarial examples with 0.001 epsilon: 0.09873949579831932%\n",
      "FGSM Evasion Rate on adversarial examples with 0.005 epsilon: 0.47619047619047616%\n"
     ]
    },
    {
     "name": "stderr",
     "output_type": "stream",
     "text": [
      "                                                              \r"
     ]
    },
    {
     "name": "stdout",
     "output_type": "stream",
     "text": [
      "PGD Evasion Rate on adversarial examples with 0.005 epsilon: 0.542016806722689%\n",
      "FGSM Evasion Rate on adversarial examples with 0.01 epsilon: 0.5644257703081232%\n"
     ]
    },
    {
     "name": "stderr",
     "output_type": "stream",
     "text": [
      "                                                              \r"
     ]
    },
    {
     "name": "stdout",
     "output_type": "stream",
     "text": [
      "PGD Evasion Rate on adversarial examples with 0.01 epsilon: 0.6498599439775911%\n",
      "FGSM Evasion Rate on adversarial examples with 0.02 epsilon: 0.6799719887955182%\n"
     ]
    },
    {
     "name": "stderr",
     "output_type": "stream",
     "text": [
      "                                                              \r"
     ]
    },
    {
     "name": "stdout",
     "output_type": "stream",
     "text": [
      "PGD Evasion Rate on adversarial examples with 0.02 epsilon: 0.7100840336134454%\n",
      "FGSM Evasion Rate on adversarial examples with 0.03 epsilon: 0.7521008403361344%\n"
     ]
    },
    {
     "name": "stderr",
     "output_type": "stream",
     "text": [
      "                                                              \r"
     ]
    },
    {
     "name": "stdout",
     "output_type": "stream",
     "text": [
      "PGD Evasion Rate on adversarial examples with 0.03 epsilon: 0.8396358543417367%\n",
      "FGSM Evasion Rate on adversarial examples with 0.04 epsilon: 0.7647058823529411%\n"
     ]
    },
    {
     "name": "stderr",
     "output_type": "stream",
     "text": [
      "                                                              \r"
     ]
    },
    {
     "name": "stdout",
     "output_type": "stream",
     "text": [
      "PGD Evasion Rate on adversarial examples with 0.04 epsilon: 0.8753501400560224%\n",
      "FGSM Evasion Rate on adversarial examples with 0.05 epsilon: 0.7752100840336135%\n"
     ]
    },
    {
     "name": "stderr",
     "output_type": "stream",
     "text": [
      "                                                              \r"
     ]
    },
    {
     "name": "stdout",
     "output_type": "stream",
     "text": [
      "PGD Evasion Rate on adversarial examples with 0.05 epsilon: 0.8914565826330533%\n",
      "FGSM Evasion Rate on adversarial examples with 0.06 epsilon: 0.803921568627451%\n"
     ]
    },
    {
     "name": "stderr",
     "output_type": "stream",
     "text": [
      "                                                              \r"
     ]
    },
    {
     "name": "stdout",
     "output_type": "stream",
     "text": [
      "PGD Evasion Rate on adversarial examples with 0.06 epsilon: 0.9068627450980392%\n",
      "FGSM Evasion Rate on adversarial examples with 0.07 epsilon: 0.8326330532212886%\n"
     ]
    },
    {
     "name": "stderr",
     "output_type": "stream",
     "text": [
      "                                                              \r"
     ]
    },
    {
     "name": "stdout",
     "output_type": "stream",
     "text": [
      "PGD Evasion Rate on adversarial examples with 0.07 epsilon: 0.9159663865546218%\n",
      "FGSM Evasion Rate on adversarial examples with 0.08 epsilon: 0.8543417366946778%\n"
     ]
    },
    {
     "name": "stderr",
     "output_type": "stream",
     "text": [
      "                                                              \r"
     ]
    },
    {
     "name": "stdout",
     "output_type": "stream",
     "text": [
      "PGD Evasion Rate on adversarial examples with 0.08 epsilon: 0.9278711484593838%\n",
      "FGSM Evasion Rate on adversarial examples with 0.09 epsilon: 0.873249299719888%\n"
     ]
    },
    {
     "name": "stderr",
     "output_type": "stream",
     "text": [
      "                                                              \r"
     ]
    },
    {
     "name": "stdout",
     "output_type": "stream",
     "text": [
      "PGD Evasion Rate on adversarial examples with 0.09 epsilon: 0.9502801120448179%\n",
      "FGSM Evasion Rate on adversarial examples with 0.1 epsilon: 0.8802521008403361%\n"
     ]
    },
    {
     "name": "stderr",
     "output_type": "stream",
     "text": [
      "ic                                                            | fastai_model: True\n",
      "    feature_set_name: 'mixed_features'\n",
      "    nw_attack: 'Analysis'\n"
     ]
    },
    {
     "name": "stdout",
     "output_type": "stream",
     "text": [
      "PGD Evasion Rate on adversarial examples with 0.1 epsilon: 0.9544817927170869%\n",
      "FGSM Evasion Rate on adversarial examples with 1e-05 epsilon: 0.019310344827586208%\n"
     ]
    },
    {
     "name": "stderr",
     "output_type": "stream",
     "text": [
      "                                                              \r"
     ]
    },
    {
     "name": "stdout",
     "output_type": "stream",
     "text": [
      "PGD Evasion Rate on adversarial examples with 1e-05 epsilon: 0.019310344827586208%\n",
      "FGSM Evasion Rate on adversarial examples with 0.0001 epsilon: 0.019310344827586208%\n"
     ]
    },
    {
     "name": "stderr",
     "output_type": "stream",
     "text": [
      "                                                              \r"
     ]
    },
    {
     "name": "stdout",
     "output_type": "stream",
     "text": [
      "PGD Evasion Rate on adversarial examples with 0.0001 epsilon: 0.019310344827586208%\n",
      "FGSM Evasion Rate on adversarial examples with 0.001 epsilon: 0.10620689655172413%\n"
     ]
    },
    {
     "name": "stderr",
     "output_type": "stream",
     "text": [
      "                                                              \r"
     ]
    },
    {
     "name": "stdout",
     "output_type": "stream",
     "text": [
      "PGD Evasion Rate on adversarial examples with 0.001 epsilon: 0.10620689655172413%\n",
      "FGSM Evasion Rate on adversarial examples with 0.005 epsilon: 0.24%\n"
     ]
    },
    {
     "name": "stderr",
     "output_type": "stream",
     "text": [
      "                                                              \r"
     ]
    },
    {
     "name": "stdout",
     "output_type": "stream",
     "text": [
      "PGD Evasion Rate on adversarial examples with 0.005 epsilon: 0.2496551724137931%\n",
      "FGSM Evasion Rate on adversarial examples with 0.01 epsilon: 0.2496551724137931%\n"
     ]
    },
    {
     "name": "stderr",
     "output_type": "stream",
     "text": [
      "                                                              \r"
     ]
    },
    {
     "name": "stdout",
     "output_type": "stream",
     "text": [
      "PGD Evasion Rate on adversarial examples with 0.01 epsilon: 0.25103448275862067%\n",
      "FGSM Evasion Rate on adversarial examples with 0.02 epsilon: 0.25103448275862067%\n"
     ]
    },
    {
     "name": "stderr",
     "output_type": "stream",
     "text": [
      "                                                              \r"
     ]
    },
    {
     "name": "stdout",
     "output_type": "stream",
     "text": [
      "PGD Evasion Rate on adversarial examples with 0.02 epsilon: 0.3062068965517241%\n",
      "FGSM Evasion Rate on adversarial examples with 0.03 epsilon: 0.26620689655172414%\n"
     ]
    },
    {
     "name": "stderr",
     "output_type": "stream",
     "text": [
      "                                                              \r"
     ]
    },
    {
     "name": "stdout",
     "output_type": "stream",
     "text": [
      "PGD Evasion Rate on adversarial examples with 0.03 epsilon: 0.7406896551724138%\n",
      "FGSM Evasion Rate on adversarial examples with 0.04 epsilon: 0.2924137931034483%\n"
     ]
    },
    {
     "name": "stderr",
     "output_type": "stream",
     "text": [
      "                                                              \r"
     ]
    },
    {
     "name": "stdout",
     "output_type": "stream",
     "text": [
      "PGD Evasion Rate on adversarial examples with 0.04 epsilon: 0.9434482758620689%\n",
      "FGSM Evasion Rate on adversarial examples with 0.05 epsilon: 0.31724137931034485%\n"
     ]
    },
    {
     "name": "stderr",
     "output_type": "stream",
     "text": [
      "                                                              \r"
     ]
    },
    {
     "name": "stdout",
     "output_type": "stream",
     "text": [
      "PGD Evasion Rate on adversarial examples with 0.05 epsilon: 0.9751724137931035%\n",
      "FGSM Evasion Rate on adversarial examples with 0.06 epsilon: 0.33241379310344826%\n"
     ]
    },
    {
     "name": "stderr",
     "output_type": "stream",
     "text": [
      "                                                              \r"
     ]
    },
    {
     "name": "stdout",
     "output_type": "stream",
     "text": [
      "PGD Evasion Rate on adversarial examples with 0.06 epsilon: 0.9737931034482759%\n",
      "FGSM Evasion Rate on adversarial examples with 0.07 epsilon: 0.3393103448275862%\n"
     ]
    },
    {
     "name": "stderr",
     "output_type": "stream",
     "text": [
      "                                                              \r"
     ]
    },
    {
     "name": "stdout",
     "output_type": "stream",
     "text": [
      "PGD Evasion Rate on adversarial examples with 0.07 epsilon: 0.9779310344827586%\n",
      "FGSM Evasion Rate on adversarial examples with 0.08 epsilon: 0.34758620689655173%\n"
     ]
    },
    {
     "name": "stderr",
     "output_type": "stream",
     "text": [
      "                                                              \r"
     ]
    },
    {
     "name": "stdout",
     "output_type": "stream",
     "text": [
      "PGD Evasion Rate on adversarial examples with 0.08 epsilon: 0.9737931034482759%\n",
      "FGSM Evasion Rate on adversarial examples with 0.09 epsilon: 0.35586206896551725%\n"
     ]
    },
    {
     "name": "stderr",
     "output_type": "stream",
     "text": [
      "                                                              \r"
     ]
    },
    {
     "name": "stdout",
     "output_type": "stream",
     "text": [
      "PGD Evasion Rate on adversarial examples with 0.09 epsilon: 0.9613793103448276%\n",
      "FGSM Evasion Rate on adversarial examples with 0.1 epsilon: 0.36551724137931035%\n"
     ]
    },
    {
     "name": "stderr",
     "output_type": "stream",
     "text": [
      "ic                                                            | fastai_model: True\n",
      "    feature_set_name: 'mixed_features'\n",
      "    nw_attack: 'Backdoors'\n"
     ]
    },
    {
     "name": "stdout",
     "output_type": "stream",
     "text": [
      "PGD Evasion Rate on adversarial examples with 0.1 epsilon: 0.9379310344827586%\n",
      "FGSM Evasion Rate on adversarial examples with 1e-05 epsilon: 0.0163265306122449%\n"
     ]
    },
    {
     "name": "stderr",
     "output_type": "stream",
     "text": [
      "                                                              \r"
     ]
    },
    {
     "name": "stdout",
     "output_type": "stream",
     "text": [
      "PGD Evasion Rate on adversarial examples with 1e-05 epsilon: 0.0163265306122449%\n",
      "FGSM Evasion Rate on adversarial examples with 0.0001 epsilon: 0.0163265306122449%\n"
     ]
    },
    {
     "name": "stderr",
     "output_type": "stream",
     "text": [
      "                                                              \r"
     ]
    },
    {
     "name": "stdout",
     "output_type": "stream",
     "text": [
      "PGD Evasion Rate on adversarial examples with 0.0001 epsilon: 0.0163265306122449%\n",
      "FGSM Evasion Rate on adversarial examples with 0.001 epsilon: 0.3448979591836735%\n"
     ]
    },
    {
     "name": "stderr",
     "output_type": "stream",
     "text": [
      "                                                              \r"
     ]
    },
    {
     "name": "stdout",
     "output_type": "stream",
     "text": [
      "PGD Evasion Rate on adversarial examples with 0.001 epsilon: 0.3673469387755102%\n",
      "FGSM Evasion Rate on adversarial examples with 0.005 epsilon: 0.6224489795918368%\n"
     ]
    },
    {
     "name": "stderr",
     "output_type": "stream",
     "text": [
      "                                                              \r"
     ]
    },
    {
     "name": "stdout",
     "output_type": "stream",
     "text": [
      "PGD Evasion Rate on adversarial examples with 0.005 epsilon: 0.636734693877551%\n",
      "FGSM Evasion Rate on adversarial examples with 0.01 epsilon: 0.6551020408163265%\n"
     ]
    },
    {
     "name": "stderr",
     "output_type": "stream",
     "text": [
      "                                                              \r"
     ]
    },
    {
     "name": "stdout",
     "output_type": "stream",
     "text": [
      "PGD Evasion Rate on adversarial examples with 0.01 epsilon: 0.6469387755102041%\n",
      "FGSM Evasion Rate on adversarial examples with 0.02 epsilon: 0.6632653061224489%\n"
     ]
    },
    {
     "name": "stderr",
     "output_type": "stream",
     "text": [
      "                                                              \r"
     ]
    },
    {
     "name": "stdout",
     "output_type": "stream",
     "text": [
      "PGD Evasion Rate on adversarial examples with 0.02 epsilon: 0.6653061224489796%\n",
      "FGSM Evasion Rate on adversarial examples with 0.03 epsilon: 0.6632653061224489%\n"
     ]
    },
    {
     "name": "stderr",
     "output_type": "stream",
     "text": [
      "                                                              \r"
     ]
    },
    {
     "name": "stdout",
     "output_type": "stream",
     "text": [
      "PGD Evasion Rate on adversarial examples with 0.03 epsilon: 0.9918367346938776%\n",
      "FGSM Evasion Rate on adversarial examples with 0.04 epsilon: 0.6632653061224489%\n"
     ]
    },
    {
     "name": "stderr",
     "output_type": "stream",
     "text": [
      "                                                              \r"
     ]
    },
    {
     "name": "stdout",
     "output_type": "stream",
     "text": [
      "PGD Evasion Rate on adversarial examples with 0.04 epsilon: 0.9938775510204082%\n",
      "FGSM Evasion Rate on adversarial examples with 0.05 epsilon: 0.6632653061224489%\n"
     ]
    },
    {
     "name": "stderr",
     "output_type": "stream",
     "text": [
      "                                                              \r"
     ]
    },
    {
     "name": "stdout",
     "output_type": "stream",
     "text": [
      "PGD Evasion Rate on adversarial examples with 0.05 epsilon: 0.9979591836734694%\n",
      "FGSM Evasion Rate on adversarial examples with 0.06 epsilon: 0.6632653061224489%\n"
     ]
    },
    {
     "name": "stderr",
     "output_type": "stream",
     "text": [
      "                                                              \r"
     ]
    },
    {
     "name": "stdout",
     "output_type": "stream",
     "text": [
      "PGD Evasion Rate on adversarial examples with 0.06 epsilon: 0.9979591836734694%\n",
      "FGSM Evasion Rate on adversarial examples with 0.07 epsilon: 0.6653061224489796%\n"
     ]
    },
    {
     "name": "stderr",
     "output_type": "stream",
     "text": [
      "                                                              \r"
     ]
    },
    {
     "name": "stdout",
     "output_type": "stream",
     "text": [
      "PGD Evasion Rate on adversarial examples with 0.07 epsilon: 0.9979591836734694%\n",
      "FGSM Evasion Rate on adversarial examples with 0.08 epsilon: 0.6653061224489796%\n"
     ]
    },
    {
     "name": "stderr",
     "output_type": "stream",
     "text": [
      "                                                              \r"
     ]
    },
    {
     "name": "stdout",
     "output_type": "stream",
     "text": [
      "PGD Evasion Rate on adversarial examples with 0.08 epsilon: 0.9979591836734694%\n",
      "FGSM Evasion Rate on adversarial examples with 0.09 epsilon: 0.6653061224489796%\n"
     ]
    },
    {
     "name": "stderr",
     "output_type": "stream",
     "text": [
      "                                                              \r"
     ]
    },
    {
     "name": "stdout",
     "output_type": "stream",
     "text": [
      "PGD Evasion Rate on adversarial examples with 0.09 epsilon: 0.9979591836734694%\n",
      "FGSM Evasion Rate on adversarial examples with 0.1 epsilon: 0.6653061224489796%\n"
     ]
    },
    {
     "name": "stderr",
     "output_type": "stream",
     "text": [
      "ic                                                            | fastai_model: True\n",
      "    feature_set_name: 'mixed_features'\n",
      "    nw_attack: 'Worms'\n"
     ]
    },
    {
     "name": "stdout",
     "output_type": "stream",
     "text": [
      "PGD Evasion Rate on adversarial examples with 0.1 epsilon: 0.9897959183673469%\n",
      "FGSM Evasion Rate on adversarial examples with 1e-05 epsilon: 0.005263157894736842%\n"
     ]
    },
    {
     "name": "stderr",
     "output_type": "stream",
     "text": [
      "                                                            \r"
     ]
    },
    {
     "name": "stdout",
     "output_type": "stream",
     "text": [
      "PGD Evasion Rate on adversarial examples with 1e-05 epsilon: 0.005263157894736842%\n",
      "FGSM Evasion Rate on adversarial examples with 0.0001 epsilon: 0.005263157894736842%\n"
     ]
    },
    {
     "name": "stderr",
     "output_type": "stream",
     "text": [
      "                                                            \r"
     ]
    },
    {
     "name": "stdout",
     "output_type": "stream",
     "text": [
      "PGD Evasion Rate on adversarial examples with 0.0001 epsilon: 0.005263157894736842%\n",
      "FGSM Evasion Rate on adversarial examples with 0.001 epsilon: 0.06315789473684211%\n"
     ]
    },
    {
     "name": "stderr",
     "output_type": "stream",
     "text": [
      "                                                            \r"
     ]
    },
    {
     "name": "stdout",
     "output_type": "stream",
     "text": [
      "PGD Evasion Rate on adversarial examples with 0.001 epsilon: 0.06842105263157895%\n",
      "FGSM Evasion Rate on adversarial examples with 0.005 epsilon: 0.5736842105263158%\n"
     ]
    },
    {
     "name": "stderr",
     "output_type": "stream",
     "text": [
      "                                                            \r"
     ]
    },
    {
     "name": "stdout",
     "output_type": "stream",
     "text": [
      "PGD Evasion Rate on adversarial examples with 0.005 epsilon: 0.6052631578947368%\n",
      "FGSM Evasion Rate on adversarial examples with 0.01 epsilon: 0.6421052631578947%\n"
     ]
    },
    {
     "name": "stderr",
     "output_type": "stream",
     "text": [
      "                                                            \r"
     ]
    },
    {
     "name": "stdout",
     "output_type": "stream",
     "text": [
      "PGD Evasion Rate on adversarial examples with 0.01 epsilon: 0.7%\n",
      "FGSM Evasion Rate on adversarial examples with 0.02 epsilon: 0.7421052631578947%\n"
     ]
    },
    {
     "name": "stderr",
     "output_type": "stream",
     "text": [
      "                                                            \r"
     ]
    },
    {
     "name": "stdout",
     "output_type": "stream",
     "text": [
      "PGD Evasion Rate on adversarial examples with 0.02 epsilon: 0.7052631578947368%\n",
      "FGSM Evasion Rate on adversarial examples with 0.03 epsilon: 0.7421052631578947%\n"
     ]
    },
    {
     "name": "stderr",
     "output_type": "stream",
     "text": [
      "                                                            \r"
     ]
    },
    {
     "name": "stdout",
     "output_type": "stream",
     "text": [
      "PGD Evasion Rate on adversarial examples with 0.03 epsilon: 0.9052631578947369%\n",
      "FGSM Evasion Rate on adversarial examples with 0.04 epsilon: 0.7421052631578947%\n"
     ]
    },
    {
     "name": "stderr",
     "output_type": "stream",
     "text": [
      "                                                            \r"
     ]
    },
    {
     "name": "stdout",
     "output_type": "stream",
     "text": [
      "PGD Evasion Rate on adversarial examples with 0.04 epsilon: 0.9315789473684211%\n",
      "FGSM Evasion Rate on adversarial examples with 0.05 epsilon: 0.7421052631578947%\n"
     ]
    },
    {
     "name": "stderr",
     "output_type": "stream",
     "text": [
      "                                                            \r"
     ]
    },
    {
     "name": "stdout",
     "output_type": "stream",
     "text": [
      "PGD Evasion Rate on adversarial examples with 0.05 epsilon: 0.9368421052631579%\n",
      "FGSM Evasion Rate on adversarial examples with 0.06 epsilon: 0.7421052631578947%\n"
     ]
    },
    {
     "name": "stderr",
     "output_type": "stream",
     "text": [
      "                                                            \r"
     ]
    },
    {
     "name": "stdout",
     "output_type": "stream",
     "text": [
      "PGD Evasion Rate on adversarial examples with 0.06 epsilon: 0.9368421052631579%\n",
      "FGSM Evasion Rate on adversarial examples with 0.07 epsilon: 0.7421052631578947%\n"
     ]
    },
    {
     "name": "stderr",
     "output_type": "stream",
     "text": [
      "                                                            \r"
     ]
    },
    {
     "name": "stdout",
     "output_type": "stream",
     "text": [
      "PGD Evasion Rate on adversarial examples with 0.07 epsilon: 0.9368421052631579%\n",
      "FGSM Evasion Rate on adversarial examples with 0.08 epsilon: 0.7578947368421053%\n"
     ]
    },
    {
     "name": "stderr",
     "output_type": "stream",
     "text": [
      "                                                            \r"
     ]
    },
    {
     "name": "stdout",
     "output_type": "stream",
     "text": [
      "PGD Evasion Rate on adversarial examples with 0.08 epsilon: 0.9421052631578948%\n",
      "FGSM Evasion Rate on adversarial examples with 0.09 epsilon: 0.7631578947368421%\n"
     ]
    },
    {
     "name": "stderr",
     "output_type": "stream",
     "text": [
      "                                                            \r"
     ]
    },
    {
     "name": "stdout",
     "output_type": "stream",
     "text": [
      "PGD Evasion Rate on adversarial examples with 0.09 epsilon: 0.9473684210526315%\n",
      "FGSM Evasion Rate on adversarial examples with 0.1 epsilon: 0.7736842105263158%\n"
     ]
    },
    {
     "name": "stderr",
     "output_type": "stream",
     "text": [
      "                                                            "
     ]
    },
    {
     "name": "stdout",
     "output_type": "stream",
     "text": [
      "PGD Evasion Rate on adversarial examples with 0.1 epsilon: 0.9631578947368421%\n"
     ]
    },
    {
     "name": "stderr",
     "output_type": "stream",
     "text": [
      "\r"
     ]
    }
   ],
   "source": [
    "# Tabular deep GA (with feature selection)\n",
    "run_evasion_attacks(model=wrapped_tabular_ga_model, nw_attacks=nw_attacks, eps=eps, fastai_model=True, ga=True) # 731 minutes"
   ]
  },
  {
   "cell_type": "code",
   "execution_count": null,
   "metadata": {},
   "outputs": [],
   "source": []
  }
 ],
 "metadata": {
  "kernelspec": {
   "display_name": "Python 3",
   "language": "python",
   "name": "python3"
  },
  "language_info": {
   "codemirror_mode": {
    "name": "ipython",
    "version": 3
   },
   "file_extension": ".py",
   "mimetype": "text/x-python",
   "name": "python",
   "nbconvert_exporter": "python",
   "pygments_lexer": "ipython3",
   "version": "3.11.0"
  }
 },
 "nbformat": 4,
 "nbformat_minor": 2
}
